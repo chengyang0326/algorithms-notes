{
 "cells": [
  {
   "cell_type": "markdown",
   "metadata": {},
   "source": [
    "# COMP 4030/6030 Assignment 5\n",
    "\n",
    "**Deadline**: Nov 8, 2022 at 9AM"
   ]
  },
  {
   "cell_type": "markdown",
   "metadata": {},
   "source": [
    "**NAME**:  Cheng Yang"
   ]
  },
  {
   "cell_type": "markdown",
   "metadata": {},
   "source": [
    "**Instructions:**\n",
    "\n",
    "* For each problem, create new cells/blocks and place your code/answers there.\n",
    "\n",
    "* You must submit functional code. Demonstrate your code works for each problem.\n",
    "\n",
    "* When you are done, export your notebook to an HTML file, and upload the file to Canvas.\n",
    "\n"
   ]
  },
  {
   "cell_type": "markdown",
   "metadata": {},
   "source": [
    "----\n",
    "**Problem 1 (10 points)**\n",
    "\n",
    "Use the Master's theorem to determine the complexity of the following running time equations:\n",
    "\n",
    "1. $T(n) = 5n^2 + 4 T({n \\over 2})$\n",
    "\n",
    "2. $T(n) = 5n^2 + 10n + 6T({n \\over 2})$\n",
    "\n",
    "3. $T(n) = 5 + 10n + 2T({n \\over 2})$\n",
    "\n",
    "4. $T(n) = 5 + T({n \\over 5})$"
   ]
  },
  {
   "cell_type": "markdown",
   "metadata": {},
   "source": [
    "1. $d=2, b=2, a=4$\n",
    "\n",
    "$\\log_b(a)= \\log_2(4)=2$\n",
    "\n",
    "$T(n) \\in \\Theta(n^2\\log n)$"
   ]
  },
  {
   "cell_type": "markdown",
   "metadata": {},
   "source": [
    "2. $d=2, b=2, a=6$\n",
    "\n",
    "$\\log_b(a)= \\log_2(6)=2.58$\n",
    "\n",
    "$T(n) \\in \\Theta(n^{\\log_2(6)})$"
   ]
  },
  {
   "cell_type": "markdown",
   "metadata": {},
   "source": [
    "3. $d=1, b=2, a=2$\n",
    "\n",
    "$\\log_b(a)= \\log_2(2)=1$\n",
    "\n",
    "$T(n) \\in \\Theta(n\\log n)$"
   ]
  },
  {
   "cell_type": "markdown",
   "metadata": {},
   "source": [
    "4. $d=0, b=5, a=1$\n",
    "\n",
    "$\\log_b(a)= \\log_5(1)=0$\n",
    "\n",
    "$T(n) \\in \\Theta(\\log n)$\n",
    "\n"
   ]
  },
  {
   "cell_type": "markdown",
   "metadata": {
    "tags": []
   },
   "source": [
    "----\n",
    "**Problem 2 (20 points)**\n",
    "\n",
    "In the program prob2 below, split_into_2_sublists takes as input a list with n items, returns 2 lists with n/2 items. Its running time is $\\Theta(n^2)$.\n",
    "\n",
    "The non-recursive calculations are on lines 5-10.  The recursive calculations are on line 11.\n",
    "\n",
    "Which calculations (recursive or non-recursive) dominate the running time of this program?  Explain your answer.\n"
   ]
  },
  {
   "cell_type": "code",
   "execution_count": 72,
   "metadata": {
    "tags": []
   },
   "outputs": [],
   "source": [
    "#\n",
    "# Input: L is a list with n numbers\n",
    "#\n",
    "def prob2(L):\n",
    "    if len(L) <= 1:\n",
    "        return 1\n",
    "    A, B = split_into_2_sublists(L)\n",
    "    total = 0\n",
    "    for x in A:\n",
    "        total += x\n",
    "    return prob2(A) + prob2(B)\n",
    "\n"
   ]
  },
  {
   "cell_type": "markdown",
   "metadata": {},
   "source": [
    "$T(n)=c_1+c_2n+c_3n^2+2T(n/2)$\n",
    "\n",
    "$T(n)=n+n^2+2T(n/2)$\n",
    "\n",
    "$d=2, b=2, a=2$\n",
    "\n",
    "$\\log_b(a)= \\log_2(2)=1$\n",
    "\n",
    "$T(n) \\in \\Theta(n^2)$\n",
    "\n",
    "the dominate term is n^2 which is non-recursive calcuations\n"
   ]
  },
  {
   "cell_type": "markdown",
   "metadata": {},
   "source": [
    "---\n",
    "**Problem 3 (20 points)**\n",
    "\n",
    "The make_change problem that we studied determines if it is possible to make change for an *amount* given *coins* values.\n",
    "\n",
    "It can be defined like this.  Explain the logic concisely in English.\n",
    "\n",
    "```\n",
    "#\n",
    "# Input: list of coin values, an amount\n",
    "# Output: boolean value,  True if we can make change for the amount.\n",
    "#\n",
    "def make_change(coins, amount):\n",
    "    if amount==0:\n",
    "        return True\n",
    "    return any([make_change(coins, amount-c) for c in coins if amount>=c])\n",
    "```\n"
   ]
  },
  {
   "cell_type": "markdown",
   "metadata": {},
   "source": [
    "Suppose that we have coin values, e.g. [5, 7]\n",
    "\n",
    "Question: can we make change for \\$19 using these coin values?\n",
    "\n",
    "\n",
    "Steps:\n",
    "\n",
    "1. Define the program/API.\n",
    "    + Original problem = make\\_change([5, 7], 19)\n",
    "2. Identify the first move. What can the first move be?\n",
    "    + Make change for the amount using either 5 coin or 7 coin.\n",
    "3. Consider all possible first moves.\n",
    "    + Only these two moves are possible.\n",
    "4. After the first move is made, the problem gets smaller.\n",
    "    + First move = 7, the smaller problem = make change for 12.\n",
    "        + How do we solve this smaller? Answer: use the same strategy/procedure/program.  This is a recursive call.\n",
    "        + This smaller problem is expressed as: make_change([5, 7], 12)\n",
    "    + The other possible first move = 5.\n",
    "5. How do we determine if we can make change for 19?\n",
    "    + In code, make\\_change([5, 7], 19) = ???\n",
    "    + English: It's possible to make change for 19, if it is possible to make change for either 12 (if first move is 7) or 14 (if first move is 5).\n",
    "    + Python: \n",
    "    ```\n",
    "make_change([5,7], 19) = make_change([5,7], 12) or make_change([5,7], 14)\n",
    "    ```"
   ]
  },
  {
   "cell_type": "markdown",
   "metadata": {},
   "source": [
    "---\n",
    "**Problem 4 (20 points)**\n",
    "\n",
    "Use the recursive techniques we've studied to define/implement a program that returns the number of ways to make change for an amount usings given coin values.\n",
    "\n",
    "Here's the API:\n",
    "```\n",
    "#\n",
    "# Input: a list of coin values, an amount to make change for\n",
    "# Output: the number of ways to make change for the amount given the coin values\n",
    "#\n",
    "def ways_to_make_change(coins, amount):\n",
    "    pass\n",
    "```\n",
    "\n",
    "Sample inputs and outputs:\n",
    "* Input: coins = [3, 6, 7], amount = 10. Output: 1\n",
    "* Input: coins = [3, 6, 7], amount = 12. Output: 3  (Explanation: 12=3+3+6, 12=6+6, 12=3+3+3+3)\n",
    "* Input: coins = [3, 6, 7], amount = 8. Output: 0\n"
   ]
  },
  {
   "cell_type": "code",
   "execution_count": 76,
   "metadata": {},
   "outputs": [
    {
     "name": "stdout",
     "output_type": "stream",
     "text": [
      "52\n"
     ]
    }
   ],
   "source": [
    "def ways_to_make_change(coins,amount):\n",
    "    Table={}\n",
    "    def count(coins, n, amount):\n",
    "        if amount in Table:\n",
    "            return Table[amount]\n",
    "        if (amount == 0):\n",
    "            Table[amount]=1\n",
    "            return 1\n",
    "        if (amount < 0):\n",
    "            Table[amount]=0\n",
    "            return 0\n",
    "        if (n <= 0):\n",
    "            Table[amount]=0\n",
    "            return 0\n",
    "        output=count(coins, n - 1, amount) + count(coins, n, amount-coins[n-1])\n",
    "        Table[amount]=output\n",
    "        return output\n",
    "    n= len(coins)\n",
    "    print(count(coins, n, amount))        \n",
    "coins = [2,5,3,6]\n",
    "ways_to_make_change(coins, 30)\n"
   ]
  },
  {
   "cell_type": "markdown",
   "metadata": {},
   "source": [
    "---\n",
    "\n",
    "**Problem 5 (20 points)**\n",
    "\n",
    "Reimplement the algorithm in the previous problem to store calculations so you don't have recompute them.   You should use the technique we learn, i.e. using a table (dictionary) to store each output before it's returned, and then look them up before any calculation is done to ensure that it wasn't calculated already.\n",
    "\n",
    "Note: if in the previous problem, you already did this, good.  Just copy and paste your solution here."
   ]
  },
  {
   "cell_type": "code",
   "execution_count": 75,
   "metadata": {},
   "outputs": [
    {
     "name": "stdout",
     "output_type": "stream",
     "text": [
      "5\n"
     ]
    }
   ],
   "source": [
    "def ways_to_make_change(coins,amount):\n",
    "    Table={}\n",
    "    def count(coins, n, amount):\n",
    "        if (amount == 0):\n",
    "            Table[amount]=1\n",
    "            return 1\n",
    "        if (amount < 0):\n",
    "            Table[amount]=0\n",
    "            return 0\n",
    "        if (n <= 0):\n",
    "            Table[amount]=0\n",
    "            return 0\n",
    "        output=count(coins, n - 1, amount) + count(coins, n, amount-coins[n-1])\n",
    "        Table[amount]=output\n",
    "        return output\n",
    "    n= len(coins)\n",
    "    print(count(coins, n, amount))        \n",
    "coins = [2,5,3,6]\n",
    "ways_to_make_change(coins, 10)\n",
    "\n"
   ]
  },
  {
   "cell_type": "markdown",
   "metadata": {},
   "source": [
    "---\n",
    "**Problem 6 (20 points)**\n",
    "\n",
    "The make_change program, which determines if it's possible to make change for an amount given coin values, in problem 4 can be defined like this.\n",
    "\n",
    "```\n",
    "def make_change(coins, amount):\n",
    "    if amount==0:\n",
    "        return True\n",
    "    for c in coins:\n",
    "        if amount >= c:\n",
    "            yes = make_change(coins, amount-c)\n",
    "            if yes:\n",
    "                return True\n",
    "    return False\n",
    "```\n",
    "\n",
    "Redefine/reimplement this program so that it returns an actual solution, in addition to True/False.\n",
    "\n",
    "Sample inputs and outputs:\n",
    "+ Input: coins=[3,7], amount=17.   Output: True, [3, 7, 7].\n",
    "+ Input: coins=[3,7,9], amount=9.   Output: True, [3, 3, 3].  Explanation: even if there's more than one ways to make change, you only need to return one of them.\n",
    "+ Input: coins=[3,7], amount=8.   Output: False, [].\n",
    "\n",
    "\n"
   ]
  },
  {
   "cell_type": "code",
   "execution_count": 71,
   "metadata": {},
   "outputs": [
    {
     "data": {
      "text/plain": [
       "(True, [3, 3, 3])"
      ]
     },
     "execution_count": 71,
     "metadata": {},
     "output_type": "execute_result"
    }
   ],
   "source": [
    "output=[]\n",
    "def make_change(coins, amount):\n",
    "    if amount<0:\n",
    "        if output !=[]:\n",
    "            output.pop()\n",
    "        return False,output\n",
    "    if amount==0:       \n",
    "        return True,output\n",
    "    for i in range(0,len(coins)):\n",
    "        remaining_amount = amount - coins[i]\n",
    "        if make_change(coins, remaining_amount)[0] == True:\n",
    "            output.append(coins[i])\n",
    "            output.sort()\n",
    "            return True,output       \n",
    "    return False,output\n",
    "make_change([3,7,9],9)"
   ]
  },
  {
   "cell_type": "code",
   "execution_count": null,
   "metadata": {},
   "outputs": [],
   "source": []
  },
  {
   "cell_type": "code",
   "execution_count": null,
   "metadata": {},
   "outputs": [],
   "source": []
  }
 ],
 "metadata": {
  "kernelspec": {
   "display_name": "Python 3",
   "language": "python",
   "name": "python3"
  },
  "language_info": {
   "codemirror_mode": {
    "name": "ipython",
    "version": 3
   },
   "file_extension": ".py",
   "mimetype": "text/x-python",
   "name": "python",
   "nbconvert_exporter": "python",
   "pygments_lexer": "ipython3",
   "version": "3.8.8"
  }
 },
 "nbformat": 4,
 "nbformat_minor": 4
}
