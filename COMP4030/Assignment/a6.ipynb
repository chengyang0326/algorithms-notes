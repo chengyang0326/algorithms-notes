{
 "cells": [
  {
   "cell_type": "markdown",
   "metadata": {},
   "source": [
    "# COMP 4030/6030 Assignment 6\n",
    "\n",
    "**Deadline**: Nov 17, 2022 at 9AM"
   ]
  },
  {
   "cell_type": "markdown",
   "metadata": {},
   "source": [
    "**NAME**:  Cheng Yang"
   ]
  },
  {
   "cell_type": "markdown",
   "metadata": {},
   "source": [
    "**Instructions:**\n",
    "\n",
    "* For each problem, create new cells/blocks and place your code/answers there.\n",
    "\n",
    "* You must submit functional code. Demonstrate your code works for each problem.\n",
    "\n",
    "* When you are done, export your notebook to an HTML file, and upload the file to Canvas.\n",
    "\n"
   ]
  },
  {
   "cell_type": "markdown",
   "metadata": {},
   "source": [
    "---\n",
    "**Problem 1 (25 points)**\n",
    "\n",
    "Given a list of actual coins (not coin values) and an amount, we want to find all possible ways to make change for the amount using the coins.\n",
    "\n",
    "Note: because we are given actual coins, each coin can be used at most once.  \n",
    "\n",
    "Sample inputs and outputs:\n",
    "* Input: coins = [3, 6, 2, 7], amount = 10. Output: {3, 7}\n",
    "* Input: coins = [3, 6, 2, 7], amount = 9. Output: {3, 6}, {2, 7}\n",
    "* Input: coins = [3, 6, 2, 7], amount = 11. Output: {3, 6, 2}\n",
    "\n",
    "Your solution will use the backtracking template we studied, but with an addition of a function **is_valid**.  This function decides if a complete solution satisfies the condition we look for.  For example, given coins [3, 6, 2, 7] and amount 10, a solution {3, 2, 7} is not valid because they don't add up to exactly 10.  A solution {3, 7} is a valid solution.\n",
    "\n",
    "\n",
    "Therefore, you must \"customize\" the backtrackingn template, by correctly defining **is_valid** to solve the coin changing problem.\n",
    "\n",
    "\n",
    "```\n",
    "def backtrack_template(solution, i):\n",
    "    def is_valid(complete_solution):\n",
    "        pass\n",
    "    \n",
    "    if i==len(solution):\n",
    "        if is_valid(solution):\n",
    "            print(solution)\n",
    "    else:\n",
    "        for p in possibilities:\n",
    "            solution[i] = p\n",
    "            backtrack_template(solution, i+1)\n",
    "```\n",
    "\n",
    "Each different problem has different \"possibilities\".  For this problem, \"solution\" is a list with the same length as coins, and solution[i] will indicate whether or not coins[i] is used in the solution.  Based on this hint, you should be able to figure out what the possibilities are.\n",
    "\n",
    "Additionally, for different problems, you might need additional parameters and logic. I think you will need two additional parameters \"coins\" and \"amount\".  You might need more, depending on your implementation.\n",
    "\n",
    "Use this new template, to customize the backtracking template with a correct definition of **is_valid** to solve the coin changing problem.\n",
    "\n",
    "Make sure to demonstrate that your code works."
   ]
  },
  {
   "cell_type": "code",
   "execution_count": 19,
   "metadata": {},
   "outputs": [
    {
     "name": "stdout",
     "output_type": "stream",
     "text": [
      "soution: [3, None], possibilities: [6, 2, 7], amount: 10\n",
      "soution: [3, 6], possibilities: [2, 7], amount: 10\n",
      "soution: [3, 2], possibilities: [6, 7], amount: 10\n",
      "soution: [3, 7], possibilities: [6, 2], amount: 10\n",
      "[3, 7]\n",
      "soution: [None, None], possibilities: [3, 6, 2, 7], amount: 10\n",
      "soution: [None, 3], possibilities: [6, 2, 7], amount: 10\n",
      "soution: [None, 6], possibilities: [3, 2, 7], amount: 10\n",
      "soution: [None, 2], possibilities: [3, 6, 7], amount: 10\n",
      "soution: [None, 7], possibilities: [3, 6, 2], amount: 10\n",
      "soution: [2, 7], possibilities: [3, 6, 7], amount: 10\n",
      "soution: [2, 3], possibilities: [6, 7], amount: 10\n",
      "soution: [2, 6], possibilities: [3, 7], amount: 10\n",
      "soution: [2, 7], possibilities: [3, 6], amount: 10\n",
      "soution: [None, None], possibilities: [3, 6, 2, 7], amount: 10\n",
      "soution: [None, 3], possibilities: [6, 2, 7], amount: 10\n",
      "soution: [None, 6], possibilities: [3, 2, 7], amount: 10\n",
      "soution: [None, 2], possibilities: [3, 6, 7], amount: 10\n",
      "soution: [None, 7], possibilities: [3, 6, 2], amount: 10\n"
     ]
    }
   ],
   "source": [
    "#\n",
    "# Customize the backtracking template for the coin changing problem\n",
    "#\n",
    "def make_change(solution, i, coins, amount):\n",
    "    def is_valid(complete_solution):\n",
    "        solution_sum=0\n",
    "        for element in complete_solution:\n",
    "            if element == None:\n",
    "                soulution_sum=solution_sum\n",
    "            else:\n",
    "                solution_sum+=element\n",
    "            \n",
    "        if solution_sum==amount:\n",
    "            return True\n",
    "        else:\n",
    "            return False\n",
    "        \n",
    "    \n",
    "    # other backtracking code goes here\n",
    "    if i == len(solution):\n",
    "        if is_valid(solution):\n",
    "            print(solution)\n",
    "    else:\n",
    "        possibilities=coins.copy()\n",
    "        for p in possibilities:\n",
    "            solution[i]=p\n",
    "            solution_sum=0\n",
    "            for element in solution:\n",
    "                if element == None:\n",
    "                    solution_sum=solution_sum\n",
    "                else:\n",
    "                    solution_sum+=element\n",
    "            possibilities=coins.copy()\n",
    "            possibilities.remove(p)\n",
    "            if solution_sum > amount:\n",
    "                possibilities=coins.copy()\n",
    "                \n",
    "                for element in range(len(solution)):\n",
    "                    solution[element]=None\n",
    "            print(f\"soution: {solution}, possibilities: {possibilities}, amount: {amount}\")\n",
    "            make_change(solution,i+1,possibilities,amount)\n",
    "coins = [3, 6, 2, 7]\n",
    "make_change([None]*2, 0, coins, 10)"
   ]
  },
  {
   "cell_type": "code",
   "execution_count": 52,
   "metadata": {},
   "outputs": [],
   "source": [
    "def make_change(solution,i,coins,amount):\n",
    "    def get_coins(s):\n",
    "        return [coins[i]for i in range(len(s)) if s[i]==True]\n",
    "    def is_valid(s):\n",
    "        return sum(get_coins(s))==amount\n",
    "        \n",
    "    if len(solution)==i:\n",
    "        if is_valid(solution):\n",
    "            print(solution,'->',get_coins(solution))\n",
    "    \n",
    "    else:\n",
    "        for p in [True,False]:\n",
    "            solution[i]=p\n",
    "            make_change(solution,i+1,coins,amount)\n",
    "\n",
    "            "
   ]
  },
  {
   "cell_type": "code",
   "execution_count": 57,
   "metadata": {},
   "outputs": [
    {
     "name": "stdout",
     "output_type": "stream",
     "text": [
      "[True, True, False, False] -> [3, 6]\n",
      "[False, False, True, True] -> [2, 7]\n"
     ]
    }
   ],
   "source": [
    "# Create more examples to test your code\n",
    "\n",
    "coins = [3, 6, 2, 7]\n",
    "make_change([None]*len(coins), 0, coins, 9)"
   ]
  },
  {
   "cell_type": "code",
   "execution_count": null,
   "metadata": {},
   "outputs": [],
   "source": []
  },
  {
   "cell_type": "code",
   "execution_count": 61,
   "metadata": {},
   "outputs": [
    {
     "name": "stdout",
     "output_type": "stream",
     "text": [
      "[True, False, False, True] -> [3, 7]\n"
     ]
    }
   ],
   "source": [
    "coins = [3, 6, 2, 7]\n",
    "make_change([None]*len(coins), 0, coins, 10)"
   ]
  },
  {
   "cell_type": "code",
   "execution_count": 59,
   "metadata": {},
   "outputs": [
    {
     "name": "stdout",
     "output_type": "stream",
     "text": [
      "[True, True, True, False] -> [3, 6, 2]\n"
     ]
    }
   ],
   "source": [
    "coins = [3, 6, 2, 7]\n",
    "make_change([None]*len(coins), 0, coins, 11)"
   ]
  },
  {
   "cell_type": "code",
   "execution_count": 62,
   "metadata": {},
   "outputs": [
    {
     "name": "stdout",
     "output_type": "stream",
     "text": [
      "[False, True, True, True] -> [6, 2, 7]\n"
     ]
    }
   ],
   "source": [
    "coins = [3, 6, 2, 7]\n",
    "make_change([None]*len(coins), 0, coins, 15)"
   ]
  },
  {
   "cell_type": "markdown",
   "metadata": {},
   "source": [
    "---\n",
    "**Problem 2 (25 points)**\n",
    "\n",
    "In this problem, we will add more to the backtracking template to make it more efficient.  Consider this example, coins = [3, 6, 2, 7], amount = 2, and the current solution at level 0 (i=0) consists of 3.  Then, we should not keep going to look at other levels beyond 0. The reason is that with 3, the sum already exceeds the amount 2, so the eventual solution will not be valid.\n",
    "\n",
    "So, we will add another function **is_promising** to the template to check if the current solution is still promising.  For example, in the coin changing problem, the current solution is not promising if the coins selected already exceed the given amount.\n",
    "\n",
    "```\n",
    "def backtrack_template(solution, i):\n",
    "    def is_valid(complete_solution):\n",
    "        pass\n",
    "    \n",
    "    def is_promising(current_solution):\n",
    "        pass\n",
    "        \n",
    "    if i==len(solution):\n",
    "        if is_valid(solution):\n",
    "            print(solution)\n",
    "    elif is_promising(solution[0:i]):\n",
    "        for p in possibilities:\n",
    "            solution[i] = p\n",
    "            backtrack_template(solution, i+1)\n",
    "```\n",
    "\n",
    "\n",
    "Use this new template, to customize the backtracking template with a correct definition of **is_promising** to solve the coin changing problem.\n",
    "\n",
    "Test your code."
   ]
  },
  {
   "cell_type": "code",
   "execution_count": 14,
   "metadata": {},
   "outputs": [],
   "source": [
    "#\n",
    "# Customize the backtracking template for the coin changing problem\n",
    "#\n",
    "def make_change(solution, i, coins, amount):\n",
    "    def is_valid(complete_solution):\n",
    "        solution_sum=0\n",
    "        for element in complete_solution:\n",
    "            if element == None:\n",
    "                soulution_sum=solution_sum\n",
    "            else:\n",
    "                solution_sum+=element\n",
    "            \n",
    "        if solution_sum==amount:\n",
    "            return True\n",
    "        else:\n",
    "            return False\n",
    "    \n",
    "    def is_promising(current_solution):\n",
    "        cur_sum=0\n",
    "        for element in current_solution:\n",
    "            if element == None:\n",
    "                cur_sum=cur_sum\n",
    "            else:\n",
    "                cur_sum+=element\n",
    "            \n",
    "        if cur_sum>amount:\n",
    "            return False\n",
    "        else:\n",
    "            return True\n",
    "        \n",
    "    \n",
    "    # other backtracking code goes here\n",
    "    if i == len(solution):\n",
    "        if is_valid(solution):\n",
    "            print(solution)\n",
    "    elif is_promising(solution[0:i]):\n",
    "        possibilities=coins.copy()\n",
    "        for p in possibilities:\n",
    "            solution[i]=p\n",
    "            solution_sum=0\n",
    "            for element in solution:\n",
    "                if element == None:\n",
    "                    solution_sum=solution_sum\n",
    "                else:\n",
    "                    solution_sum+=element\n",
    "            possibilities=coins.copy()\n",
    "            possibilities.remove(p)\n",
    "            if solution_sum > amount:\n",
    "                possibilities=coins.copy()\n",
    "                \n",
    "                for element in range(len(solution)):\n",
    "                    solution[element]=None\n",
    "            #print(f\"soution: {solution}, possibilities: {possibilities}, amount: {amount}\")\n",
    "            make_change(solution,i+1,possibilities,amount)"
   ]
  },
  {
   "cell_type": "code",
   "execution_count": 65,
   "metadata": {},
   "outputs": [],
   "source": [
    "def make_change(solution,i,coins,amount):\n",
    "    def get_coins(s):\n",
    "        return [coins[i]for i in range(len(s)) if s[i]==True]\n",
    "    def is_valid(s):\n",
    "        return sum(get_coins(s))==amount\n",
    "    def is_promising(current_solution):\n",
    "        cur_sum=0\n",
    "        for element in current_solution:\n",
    "            if element == None:\n",
    "                cur_sum=cur_sum\n",
    "            else:\n",
    "                cur_sum+=element\n",
    "            \n",
    "        if cur_sum>amount:\n",
    "            return False\n",
    "        else:\n",
    "            return True    \n",
    "    if len(solution)==i:\n",
    "        if is_valid(solution):\n",
    "            print(solution,'->',get_coins(solution))\n",
    "    \n",
    "    elif is_promising(solution[0:i]):\n",
    "        for p in [True,False]:\n",
    "            solution[i]=p\n",
    "            make_change(solution,i+1,coins,amount)\n",
    "\n",
    "            "
   ]
  },
  {
   "cell_type": "code",
   "execution_count": 66,
   "metadata": {},
   "outputs": [
    {
     "name": "stdout",
     "output_type": "stream",
     "text": [
      "[True, True, False, False] -> [3, 6]\n",
      "[False, False, True, True] -> [2, 7]\n"
     ]
    }
   ],
   "source": [
    "coins = [3, 6, 2, 7]\n",
    "make_change([None]*len(coins), 0, coins, 9)"
   ]
  },
  {
   "cell_type": "code",
   "execution_count": 67,
   "metadata": {},
   "outputs": [
    {
     "name": "stdout",
     "output_type": "stream",
     "text": [
      "[True, False, False, True] -> [3, 7]\n"
     ]
    }
   ],
   "source": [
    "coins = [3, 6, 2, 7]\n",
    "make_change([None]*len(coins), 0, coins, 10)"
   ]
  },
  {
   "cell_type": "code",
   "execution_count": 68,
   "metadata": {},
   "outputs": [
    {
     "name": "stdout",
     "output_type": "stream",
     "text": [
      "[True, True, True, False] -> [3, 6, 2]\n"
     ]
    }
   ],
   "source": [
    "coins = [3, 6, 2, 7]\n",
    "make_change([None]*len(coins), 0, coins, 11)"
   ]
  },
  {
   "cell_type": "code",
   "execution_count": 69,
   "metadata": {},
   "outputs": [
    {
     "name": "stdout",
     "output_type": "stream",
     "text": [
      "[True, True, True, True] -> [3, 6, 2, 7]\n"
     ]
    }
   ],
   "source": [
    "coins = [3, 6, 2, 7]\n",
    "make_change([None]*len(coins), 0, coins, 18)"
   ]
  },
  {
   "cell_type": "markdown",
   "metadata": {},
   "source": [
    "---\n",
    "\n",
    "**Problem 3 (25 points)**\n",
    "\n",
    "In this problem, we will add one more thing to the backtracking template so that it can keep track of the best solution.  \n",
    "\n",
    "For this problem, we want to find a solution with fewest amount of coins to make change for an amount.  For example, given coins = [3, 9, 3, 3, 6, 2, 7] and amount = 9, there are multiple solutions {3, 3, 3}, {3, 6}, {3, 6}, {2, 7}, {9}, etc.   But the eventual best solution should be {9} because it has the fewest number of coins.\n",
    "\n",
    "We will add a new function **is_better** to the backtracking template to determine if a complete solution is better than the currently best solution.\n",
    "\n",
    "```\n",
    "def backtrack_template(solution, i, best_solution):\n",
    "    def is_valid(complete_solution):\n",
    "        pass\n",
    "    \n",
    "    \n",
    "    def is_promising(current_solution):\n",
    "        pass\n",
    "     \n",
    "    \n",
    "    def is_better(complete_solution, best_solution):\n",
    "        pass\n",
    "    \n",
    "    \n",
    "    if i==len(solution):\n",
    "        if is_valid(solution):\n",
    "            print(solution)\n",
    "    elif is_promising(solution[0:i]):\n",
    "        for p in possibilities:\n",
    "            solution[i] = p\n",
    "            backtrack_template(solution, i+1, best_solution)\n",
    "```\n",
    "\n",
    "Use this new template, to customize the backtracking template with a correct definition of **is_better** to solve the problem of finding the fewest number coins to make change for an amount.\n",
    "\n",
    "Test your code."
   ]
  },
  {
   "cell_type": "code",
   "execution_count": null,
   "metadata": {},
   "outputs": [],
   "source": [
    "def make_change(solution,i,coins,amount,best_solution):\n",
    "    def get_coins(s):\n",
    "        return [coins[i]for i in range(len(s)) if s[i]==True and s[i!=None]]\n",
    "    def is_valid(s):\n",
    "        return sum(get_coins(s))==amount\n",
    "    def is_promising(current_solution):\n",
    "        cur_sum=0\n",
    "        for element in current_solution:\n",
    "            if element == None:\n",
    "                cur_sum=cur_sum\n",
    "            else:\n",
    "                cur_sum+=element\n",
    "            \n",
    "        if cur_sum>amount:\n",
    "            return False\n",
    "        else:\n",
    "            return True \n",
    "    def is_better(final_solution, best_solution):\n",
    "        if best_solution==[None]*len(best_solution):\n",
    "            return True\n",
    "        return get_coins(best_so;ution)==\n",
    "    if len(solution)==i:\n",
    "        if is_valid(solution):\n",
    "            print(solution,'->',get_coins(solution))\n",
    "    \n",
    "    elif is_promising(solution[0:i]):\n",
    "        for p in [True,False]:\n",
    "            solution[i]=p\n",
    "            make_change(solution,i+1,coins,amount)\n",
    "\n",
    "     "
   ]
  },
  {
   "cell_type": "code",
   "execution_count": 19,
   "metadata": {},
   "outputs": [],
   "source": [
    "#\n",
    "# Customize the backtracking template for the coin changing problem\n",
    "#\n",
    "\n",
    "def make_change(solution, i, coins, amount):\n",
    "    def is_valid(complete_solution):\n",
    "        solution_sum=0\n",
    "        for element in complete_solution:\n",
    "            if element == None:\n",
    "                soulution_sum=solution_sum\n",
    "            else:\n",
    "                solution_sum+=element\n",
    "            \n",
    "        if solution_sum==amount:\n",
    "            return True\n",
    "        else:\n",
    "            return False\n",
    "    \n",
    "    \n",
    "    def is_promising(current_solution):\n",
    "        cur_sum=0\n",
    "        for element in current_solution:\n",
    "            if element == None:\n",
    "                cur_sum=cur_sum\n",
    "            else:\n",
    "                cur_sum+=element\n",
    "            \n",
    "        if cur_sum>amount:\n",
    "            return False\n",
    "        else:\n",
    "            return True\n",
    "    \n",
    "    \n",
    "    # determine if the final_solution is better than the currently best_solution\n",
    "    def is_better(final_solution, best_solution):\n",
    "        final_len=len(final_solution)\n",
    "        best_len=len(best_solution)\n",
    "        if final_len<best_len:\n",
    "            return final_len\n",
    "        else:\n",
    "            return best_len\n",
    "    \n",
    "    \n",
    "    # other backtracking code goes here\n",
    "    if i == len(solution):\n",
    "        if is_valid(solution):\n",
    "            print(solution)\n",
    "    elif is_promising(solution[0:i]):\n",
    "        possibilities=coins.copy()\n",
    "        for p in possibilities:\n",
    "            solution[i]=p\n",
    "            solution_sum=0\n",
    "            for element in solution:\n",
    "                if element == None:\n",
    "                    solution_sum=solution_sum\n",
    "                else:\n",
    "                    solution_sum+=element\n",
    "            possibilities=coins.copy()\n",
    "            possibilities.remove(p)\n",
    "            if solution_sum > amount:\n",
    "                possibilities=coins.copy()\n",
    "                \n",
    "                for element in range(len(solution)):\n",
    "                    solution[element]=None\n",
    "            #print(f\"soution: {solution}, possibilities: {possibilities}, amount: {amount}\")\n",
    "            make_change(solution,i+1,possibilities,amount)"
   ]
  },
  {
   "cell_type": "code",
   "execution_count": 20,
   "metadata": {},
   "outputs": [
    {
     "name": "stdout",
     "output_type": "stream",
     "text": [
      "[3, 6]\n",
      "[6, 3]\n",
      "[2, 7]\n"
     ]
    }
   ],
   "source": [
    "coins = [3, 6, 2, 7]\n",
    "make_change([None]*2, 0, coins, 9)"
   ]
  },
  {
   "cell_type": "code",
   "execution_count": 21,
   "metadata": {},
   "outputs": [
    {
     "name": "stdout",
     "output_type": "stream",
     "text": [
      "[3, 7]\n"
     ]
    }
   ],
   "source": [
    "coins = [3, 6, 2, 7]\n",
    "make_change([None]*2, 0, coins, 10)"
   ]
  },
  {
   "cell_type": "code",
   "execution_count": 22,
   "metadata": {},
   "outputs": [
    {
     "name": "stdout",
     "output_type": "stream",
     "text": [
      "[3, 6, 2]\n"
     ]
    }
   ],
   "source": [
    "coins = [3, 6, 2, 7]\n",
    "make_change([None]*3, 0, coins, 11)"
   ]
  },
  {
   "cell_type": "code",
   "execution_count": 23,
   "metadata": {},
   "outputs": [
    {
     "name": "stdout",
     "output_type": "stream",
     "text": [
      "[3, 6, 2, 7]\n",
      "[6, 3, 2, 7]\n",
      "[2, 3, 6, 7]\n"
     ]
    }
   ],
   "source": [
    "coins = [3, 6, 2, 7]\n",
    "make_change([None]*len(coins), 0, coins, 18)"
   ]
  },
  {
   "cell_type": "markdown",
   "metadata": {},
   "source": [
    "---\n",
    "\n",
    "**Problem 4 (25 points)**\n",
    "\n",
    "For this problem, we have the same goal as Problem 3. We want to find a solution with fewest amount of coins to make change for an amount. But we want to make backtracking even more efficient.\n",
    "\n",
    "You will make a final modification to the **is_promising** function that was introduced in Problem 2.\n",
    "\n",
    "Note that in this reversion **is_promising** has an additional parameter (**best_solution**).  You can make backtracking more efficient by abandoning solutions that are no longer promising.  For example, if the best solution has 1 coin, and the current solution has 2 coins, then it is no longer promising.\n",
    "\n",
    "```\n",
    "def backtrack_template(solution, i, best_solution):\n",
    "    def is_valid(complete_solution):\n",
    "        pass\n",
    "    \n",
    "    \n",
    "    def is_promising(current_solution, best_solution):\n",
    "        pass\n",
    "     \n",
    "    \n",
    "    def is_better(complete_solution, best_solution):\n",
    "        pass\n",
    "    \n",
    "    \n",
    "    if i==len(solution):\n",
    "        if is_valid(solution):\n",
    "            print(solution)\n",
    "    elif is_promising(solution[0:i]):\n",
    "        for p in possibilities:\n",
    "            solution[i] = p\n",
    "            backtrack_template(solution, i+1, best_solution)\n",
    "```\n",
    "\n",
    "Use this new template, to customize the backtracking template with a correct definition of **is_better** to solve the problem of finding the fewest number coins to make change for an amount.\n",
    "\n",
    "Test your code."
   ]
  },
  {
   "cell_type": "code",
   "execution_count": 24,
   "metadata": {},
   "outputs": [],
   "source": [
    "#\n",
    "# Customize the backtracking template for the coin changing problem\n",
    "#\n",
    "\n",
    "def make_change(solution, i, coins, amount):\n",
    "    def is_valid(complete_solution):\n",
    "        solution_sum=0\n",
    "        for element in complete_solution:\n",
    "            if element == None:\n",
    "                soulution_sum=solution_sum\n",
    "            else:\n",
    "                solution_sum+=element\n",
    "            \n",
    "        if solution_sum==amount:\n",
    "            return True\n",
    "        else:\n",
    "            return False\n",
    "    \n",
    "    \n",
    "    # revise/redefine this function to make backtracking more efficient\n",
    "    def is_promising(current_solution,best_solution):\n",
    "        cur_sum=0\n",
    "        for element in current_solution:\n",
    "            if element == None:\n",
    "                cur_sum=cur_sum\n",
    "            else:\n",
    "                cur_sum+=element\n",
    "        cur_len=len(current_solution)\n",
    "        best_len=len(best_solution)    \n",
    "        if cur_sum>amount:\n",
    "            return False\n",
    "        elif best_len<cur_len:\n",
    "            return False\n",
    "        else:\n",
    "            return True\n",
    "    \n",
    "    \n",
    "    def is_better(final_solution, best_solution):\n",
    "        final_len=len(final_solution)\n",
    "        best_len=len(best_solution)\n",
    "        if final_len<best_len:\n",
    "            return final_len\n",
    "        else:\n",
    "            return best_len\n",
    "    \n",
    "    \n",
    "    # other backtracking code goes here\n",
    "    if i == len(solution):\n",
    "        if is_valid(solution):\n",
    "            print(solution)\n",
    "    elif is_promising(solution[0:i],solution):\n",
    "        possibilities=coins.copy()\n",
    "        for p in possibilities:\n",
    "            solution[i]=p\n",
    "            solution_sum=0\n",
    "            for element in solution:\n",
    "                if element == None:\n",
    "                    solution_sum=solution_sum\n",
    "                else:\n",
    "                    solution_sum+=element\n",
    "            possibilities=coins.copy()\n",
    "            possibilities.remove(p)\n",
    "            if solution_sum > amount:\n",
    "                possibilities=coins.copy()\n",
    "                \n",
    "                for element in range(len(solution)):\n",
    "                    solution[element]=None\n",
    "            #print(f\"soution: {solution}, possibilities: {possibilities}, amount: {amount}\")\n",
    "            make_change(solution,i+1,possibilities,amount)    "
   ]
  },
  {
   "cell_type": "code",
   "execution_count": 25,
   "metadata": {},
   "outputs": [
    {
     "name": "stdout",
     "output_type": "stream",
     "text": [
      "[3, 6]\n",
      "[6, 3]\n",
      "[2, 7]\n"
     ]
    }
   ],
   "source": [
    "coins = [3, 6, 2, 7]\n",
    "make_change([None]*2, 0, coins, 9)"
   ]
  },
  {
   "cell_type": "code",
   "execution_count": 26,
   "metadata": {},
   "outputs": [
    {
     "name": "stdout",
     "output_type": "stream",
     "text": [
      "[3, 7]\n"
     ]
    }
   ],
   "source": [
    "coins = [3, 6, 2, 7]\n",
    "make_change([None]*2, 0, coins, 10)"
   ]
  },
  {
   "cell_type": "code",
   "execution_count": 27,
   "metadata": {},
   "outputs": [
    {
     "name": "stdout",
     "output_type": "stream",
     "text": [
      "[3, 6, 2]\n"
     ]
    }
   ],
   "source": [
    "coins = [3, 6, 2, 7]\n",
    "make_change([None]*3, 0, coins, 11)"
   ]
  },
  {
   "cell_type": "code",
   "execution_count": 28,
   "metadata": {},
   "outputs": [
    {
     "name": "stdout",
     "output_type": "stream",
     "text": [
      "[3, 6, 2, 7]\n",
      "[6, 3, 2, 7]\n",
      "[2, 3, 6, 7]\n"
     ]
    }
   ],
   "source": [
    "coins = [3, 6, 2, 7]\n",
    "make_change([None]*len(coins), 0, coins, 18)"
   ]
  },
  {
   "cell_type": "code",
   "execution_count": null,
   "metadata": {},
   "outputs": [],
   "source": []
  }
 ],
 "metadata": {
  "kernelspec": {
   "display_name": "Python 3",
   "language": "python",
   "name": "python3"
  },
  "language_info": {
   "codemirror_mode": {
    "name": "ipython",
    "version": 3
   },
   "file_extension": ".py",
   "mimetype": "text/x-python",
   "name": "python",
   "nbconvert_exporter": "python",
   "pygments_lexer": "ipython3",
   "version": "3.8.8"
  }
 },
 "nbformat": 4,
 "nbformat_minor": 4
}
