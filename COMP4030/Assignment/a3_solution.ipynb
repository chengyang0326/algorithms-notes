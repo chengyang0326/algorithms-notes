{
 "cells": [
  {
   "cell_type": "markdown",
   "metadata": {},
   "source": [
    "# COMP 4030/6030 Assignment 3 SOLUTION\n",
    "\n",
    "**Deadline**: September 29, 2022 at 9AM"
   ]
  },
  {
   "cell_type": "markdown",
   "metadata": {},
   "source": [
    "---\n",
    "**Problem 1**\n",
    "\n",
    "Use the definition of $\\Theta$ to show that $5n + n^2 \\in \\Theta(n^2)$.\n",
    "\n",
    "Note: Use the same mathematical techniques we learned to find lower bound and upper bound constants so that the definition of $\\Theta$ can be satisfied.\n",
    "\n"
   ]
  },
  {
   "cell_type": "markdown",
   "metadata": {},
   "source": [
    "Being in Theta means that the function is in both O and Omega.\n",
    "\n",
    "To show an equation being in Theta, we have to show it is in both O and Omega.\n",
    "\n",
    "I will show that 5n + n^2 is in O(n^2) and in Omega(n^2).\n",
    "\n",
    "I will upper bound this function to show that it is in O(n^2)\n",
    "\n",
    "I will lower bound this function to show that it is in Omega(n^2)\n",
    "\n",
    "\n",
    "$5n+n^2 \\le 5n^2 + n^2 = 6n^2$.   So this function is less than 6n^2 for all n>1.  With c=6, we show that $5n+n^2 \\in O(n^2)$.\n",
    "\n",
    "$5n+n^2 \\ge n^2$ for all $n>1$.  With c=1, we show that $5n+n^2 \\in \\Omega(n^2)$.\n",
    "\n",
    "Therefore, $5n+n^2 \\in \\Theta(n^2)$."
   ]
  },
  {
   "cell_type": "markdown",
   "metadata": {},
   "source": [
    "----\n",
    "**Problem 2**\n",
    "\n",
    "Use the substitution method to determine the complexity of the following running time equation:  T(n) = 10 + T(n/4).\n",
    "\n",
    "Assuming that T(1) = 10.\n"
   ]
  },
  {
   "cell_type": "markdown",
   "metadata": {},
   "source": [
    "We have a recursive running time equation (which describes the running time of a recursive program).\n",
    "\n",
    "T(n) = 10 + T(n/4)\n",
    "\n",
    "On the RHS, T(n/4) is a recursive running time function.\n",
    "\n",
    "Concept: to figure out what T(n/4) is, we use the same function T, by replacing n with n/4\n",
    "\n",
    "n is a variable, conceptually, we can replace n with anything.\n",
    "\n",
    "T(apple) = 10 + T(apple/4)\n",
    "\n",
    "T(n/4) = 10 + T(n/4^2)\n",
    "\n",
    "Now we know what T(n/4) is, we can replace it (in the original equation) with what we know.\n",
    "\n",
    "T(n) = 10 + T(n/4) = 10 + 10 + T(n/4^2)\n",
    "\n",
    "We don't know what T(n/4^2) is, but we can use T to figure what it is.\n",
    "\n",
    "T(n/4^2) = 10 + T(n/4^3)\n",
    "\n",
    "T(n) =  10 + 10 + T(n/4^2) = 10 + 10 +  10 + T(n/4^3)\n",
    "\n",
    "T(n) = 3*10 + T(n/4^3)\n",
    "\n",
    "T(n) = 4*10 + T(n/4^4)\n",
    "\n",
    "After k steps: T(n) = k*10 + T(n/4^k)\n",
    "\n",
    "We are not done yet, because on the RHS, we still have T.\n",
    "\n",
    "We need to figure out \"when to stop\" or which value of k that allows us to stop this process.\n",
    "\n",
    "We stop when n/4^k = 1.  This means n=4^k. Taking log_4 on both sides, k = log_4(n)\n",
    "\n",
    "T(1) = a constant.\n",
    "\n",
    "So, T(n) = log_4(n) * 10 + T(1)\n",
    "\n",
    "$T(n) \\in \\Theta(\\log n)$\n",
    "\n"
   ]
  },
  {
   "cell_type": "markdown",
   "metadata": {},
   "source": [
    "We can use the Master's theorem to verify this.\n",
    "\n",
    "$T(n) = 10 + T({n \\over 4})$\n",
    "\n",
    "We compare 0 versus $\\log_4 1 = 0$.\n",
    "\n",
    "$T(n) \\in \\Theta(n^0 \\log n)$"
   ]
  },
  {
   "cell_type": "markdown",
   "metadata": {},
   "source": [
    "$\\log_4 n = {\\log n \\over \\log 4}$\n",
    "\n",
    "$\\log_4 n = c * \\log n$"
   ]
  },
  {
   "cell_type": "markdown",
   "metadata": {
    "tags": []
   },
   "source": [
    "----\n",
    "**Problem 3**\n",
    "\n",
    "Specify the running time equation, T(n), of prob1.  Note that list slicing in Python takes linear time."
   ]
  },
  {
   "cell_type": "code",
   "execution_count": 4,
   "metadata": {
    "tags": []
   },
   "outputs": [],
   "source": [
    "#\n",
    "# Input: L is a list of numbers\n",
    "#\n",
    "def prob3(L):\n",
    "    if len(L) <= 3:\n",
    "        return 5\n",
    "    A = L[0 : len(L)//3]\n",
    "    return 5 + prob3(A)\n",
    "\n"
   ]
  },
  {
   "cell_type": "markdown",
   "metadata": {},
   "source": [
    "T(n) is the running time of prob3 when L has n items.\n",
    "\n",
    "We need to understand this in order to figure out the running time of the recursive call on line 8.\n",
    "\n",
    "The running time of prob3(A) is T(the number of items in A).\n",
    "\n",
    "T(n) = c1 + c2 + c_3*n + c_4 + T(n/3)\n",
    "\n",
    "T(n) = a + b*n + T(n/3)\n"
   ]
  },
  {
   "cell_type": "markdown",
   "metadata": {},
   "source": [
    "Extta: \n",
    "* Let's use the Master's theorem to determine the complexity of this equation.\n",
    "\n",
    "T(n) = a + b*n + T(n/3)\n",
    "\n",
    "First, we'll simplify to put it in the form where we can apply the Master's theorem.\n",
    "\n",
    "T(n) = c*n + T(n/3)\n",
    "\n",
    "Compare 1 versus \\log_3 1 = 0\n",
    "\n",
    "$T(n) \\in \\Theta(n)$\n"
   ]
  },
  {
   "cell_type": "markdown",
   "metadata": {},
   "source": [
    "---\n",
    "**Problem 4**\n",
    "\n",
    "Use the substitution method to determine the complexity of the running time of prob3 (in the previous problem)."
   ]
  },
  {
   "cell_type": "markdown",
   "metadata": {},
   "source": [
    "T(n) = n + T(n/3)\n",
    "\n",
    "T(n) = n + n/3 + T(n/3^2)\n",
    "\n",
    "T(n) = n + n/3 + n/3^2 + T(n/3^3)\n",
    "\n",
    "T(n) = n + n/3 + n/3^2 + n^/3^3 + T(n/3^4)\n",
    "\n",
    "T(n) = n*(1 + 1/3 + 1/3^2 + 1/3^3) + T(n/3^4)\n",
    "\n",
    "After k steps, T(n) = n*(1 + 1/3 + 1/3^2 + ... + 1/3^{k-1}) + T(n/3^k)\n",
    "\n",
    "\n",
    "We stop when n/3^k = 1 or k = log_3(n)\n",
    "\n",
    "T(n) = n*(1 + 1/3 + 1/3^2 + ... + 1/3^{log_3(n)-1}) + T(1)\n",
    "\n",
    "Geometric sum: 1 + r + r^2 + r^3 + ... = 1/(1-r) = constant if r is less than 1.\n",
    "\n",
    "T(n) = n*constant + constant\n",
    "\n",
    "$T(n) \\in \\Theta(n)$\n",
    "\n",
    "\n",
    "Scratch space (don't skip any step)\n",
    "\n",
    "T(n/3) = n/3 + T(n/3^2)\n",
    "\n",
    "T(n/3^2) = n/3^2 + T(n/3^3)\n",
    "\n",
    "T(n/3^3) = n^/3^3 + T(n/3^4)\n",
    "\n"
   ]
  },
  {
   "cell_type": "code",
   "execution_count": 8,
   "metadata": {},
   "outputs": [
    {
     "data": {
      "text/plain": [
       "(1.4997713763145861, 1.4999999999999998)"
      ]
     },
     "execution_count": 8,
     "metadata": {},
     "output_type": "execute_result"
    }
   ],
   "source": [
    "1 + 1/3 + 1/3**2 + 1/3**3 + 1/3**4 + 1/3**5 + 1/3**6 + 1/3**7,  1/(1-1/3)"
   ]
  },
  {
   "cell_type": "markdown",
   "metadata": {},
   "source": [
    "---\n",
    "\n",
    "**Problem 5**\n",
    "\n",
    "Use the Master's theorem to determine the running time complexity of the following running time equations:\n",
    "\n",
    "1. $T(n) = 4n^2 + T({n \\over 4})$\n",
    "2. $T(n) = 10n + 4 \\cdot T({n \\over 4})$\n",
    "3. $T(n) = 2 + T({n \\over 4})$"
   ]
  },
  {
   "cell_type": "markdown",
   "metadata": {},
   "source": [
    "1. Compare 2 and \\log_4(1), $T(n) \\in \\Theta(n^2)$\n",
    "\n",
    "2. Compare 1 and \\log_4(4)=1, $T(n) \\in \\Theta(n \\log n)$\n",
    "\n",
    "3. Compare 0 and \\log_4(1)=0, $T(n) \\in \\Theta(\\log n)$\n",
    "\n"
   ]
  },
  {
   "cell_type": "code",
   "execution_count": null,
   "metadata": {},
   "outputs": [],
   "source": []
  },
  {
   "cell_type": "markdown",
   "metadata": {},
   "source": [
    "---\n",
    "**Question 6**\n",
    "\n",
    "In the two algorithms below,\n",
    "\n",
    "+ *probA* calls *split5*, which takes as input a list of length $n$ and returns 5 lists, each of length ${n \\over 2}$. Its complexity is $\\Theta(n)$.\n",
    "\n",
    "+ *probB* calls *split3*, which takes as input a list of length $n$ and returns 3 lists, each of length ${n \\over 2}$. Its complexity is $\\Theta(n^2)$.\n",
    "\n",
    "Use the Master's theorem to determine which one the following programs has better complexity (i.e. more efficient).\n",
    "\n",
    "```\n",
    "def probA(L):\n",
    "    if len(L) <= 5:\n",
    "        return 0\n",
    "    L1, L2, L3, L4, L5 = split5(L)\n",
    "    return probA(L1) + probA(L2) + probA(L3) + probA(L4) + probA(L5)\n",
    "\n",
    "\n",
    "\n",
    "def probB(L):\n",
    "    if len(L) <= 3:\n",
    "        return 1\n",
    "    s = 0\n",
    "    for x in L:\n",
    "        for y in L:\n",
    "            s += x*y\n",
    "    L1, L2, L3 = split3(L)\n",
    "    return s + probB(L1) + probB(L2) + probB(L3)\n",
    "\n",
    "```"
   ]
  },
  {
   "cell_type": "markdown",
   "metadata": {},
   "source": [
    "A(n) is the running time equation of probA.\n",
    "\n",
    "B(n) is the running time equation of probB.\n",
    "\n",
    "$A(n) = c_1 + c_2*n + 5*T(n/2) \\in \\Theta(n^{\\log_2 5})$\n",
    "\n",
    "$B(n) = c_1 + c_2*n^2 + c_3*n^2 + 3*T(n/2) \\in \\Theta(n^2)$\n",
    "\n"
   ]
  },
  {
   "cell_type": "markdown",
   "metadata": {},
   "source": [
    "B is faster than A."
   ]
  },
  {
   "cell_type": "markdown",
   "metadata": {},
   "source": [
    "$2 = \\log_2 4 < \\log_2 5$"
   ]
  },
  {
   "cell_type": "markdown",
   "metadata": {},
   "source": [
    "---\n",
    "\n",
    "**Problem 7**\n",
    "\n",
    "Count the number of blue nodes in a randomly generated binary tree.\n",
    "\n",
    "Given a binary tree t, you have access to the following attributes:\n",
    "+ color -- the color of the node, which is either Red or Blue.\n",
    "+ left -- the left subtree, which is also a randomly generated binary tree.\n",
    "+ right -- the right subtree, which is also a randomly generated binary tree.\n",
    "\n",
    "Use the code below for testing."
   ]
  },
  {
   "cell_type": "code",
   "execution_count": 17,
   "metadata": {},
   "outputs": [
    {
     "name": "stdout",
     "output_type": "stream",
     "text": [
      "B\n",
      "\tB\n",
      "\t\tR\n",
      "\t\t\tB\n",
      "\t\t\t\tR\n",
      "\t\t\t\t\tB\n",
      "\t\t\tB\n",
      "\t\t\t\tR\n",
      "\t\t\t\t\tB\n",
      "\tR\n",
      "\t\tR\n",
      "\t\tB\n",
      "\t\t\tB\n",
      "\t\t\t\tR\n",
      "\t\t\tR\n",
      "\t\t\t\tB\n",
      "\t\t\t\t\tB\n",
      "\t\t\t\tB\n"
     ]
    }
   ],
   "source": [
    "import random\n",
    "\n",
    "class BTree:\n",
    "    def __init__(self, m=None):\n",
    "        if m is None:\n",
    "            m = random.randint(2, 7)\n",
    "        self.left = None\n",
    "        self.right = None\n",
    "        if random.randint(0, 1) == 0:\n",
    "            self.color = 'Blue'\n",
    "        else:\n",
    "            self.color = 'Red'\n",
    "        if random.randint(0, m) > 0:\n",
    "            self.left = BTree(m-1)\n",
    "        if random.randint(0, m) > 0:\n",
    "            self.right = BTree(m-1)\n",
    "\n",
    "    def print(self, indents=0):\n",
    "        print('\\t'*indents + self.color[0])\n",
    "        if self.left is not None:\n",
    "            self.left.print(indents+1)\n",
    "        if self.right is not None:\n",
    "            self.right.print(indents+1)\n",
    "            \n",
    "a_tree = BTree(5)\n",
    "a_tree.print()\n",
    "            "
   ]
  },
  {
   "cell_type": "code",
   "execution_count": 14,
   "metadata": {},
   "outputs": [],
   "source": [
    "def count_blues(t):\n",
    "    if t is None:\n",
    "        return 0\n",
    "    count = 0\n",
    "    if t.color == 'Blue':\n",
    "        count = 1\n",
    "    return count + count_blues(t.left) + count_blues(t.right)\n"
   ]
  },
  {
   "cell_type": "markdown",
   "metadata": {},
   "source": [
    "the number of blue nodes in t = (0 or 1) + the number of blue nodes in the left + the number of blue nodes in the right\n",
    "\n",
    "How do we find the number of blue nodes in the left?  We already know how to do this:  we use the same procedure.  This is count_blues(t.left)\n",
    "\n"
   ]
  },
  {
   "cell_type": "code",
   "execution_count": 18,
   "metadata": {},
   "outputs": [
    {
     "data": {
      "text/plain": [
       "11"
      ]
     },
     "execution_count": 18,
     "metadata": {},
     "output_type": "execute_result"
    }
   ],
   "source": [
    "count_blues(a_tree)"
   ]
  },
  {
   "cell_type": "markdown",
   "metadata": {},
   "source": [
    "---\n",
    "\n",
    "**Problem 8**\n",
    "\n",
    "\n",
    "Given a list of votes, the winner is the one that has more than 50\\% of the votes. \n",
    "\n",
    "For example, given the list ['John','Mary','John'], the winner is 'John' because 'John' has more than 50\\% of the votes.\n",
    "\n",
    "Another example, ['John','Mary','John', 'Mary'], there is no winner.\n",
    "\n",
    "In this problem, votes are not hashable;  you cannot use a dictionary to \"hash\" votes. \n",
    "\n",
    "**Implement the following recursive design to determine the winner in a given list of votes:**\n",
    "\n",
    "**Strategy for finding the winner in a list of votes**:\n",
    "+ Consider two halves of the list votes: Left and Right.\n",
    "+ **Use the same** strategy to find the winner in the Left.\n",
    "+ **Do the same thing** to find the winner in the Right.\n",
    "+ If the winner is the same in both, that's the overall winner.\n",
    "+ If they are not the same, either one of them has to be the winner. In this case, just do a simple count to determine which one is the winner.\n",
    "\n",
    "\n",
    "Notes:\n",
    "+ You must implement this strategy; i.e. you must solve this problem this way.\n",
    "+ Make sure that in all cases the output is a winner or None.\n",
    "+ Make sure to solve the \"smallest\" input, where you cannnot divide the list into two halves.\n",
    "\n"
   ]
  },
  {
   "cell_type": "code",
   "execution_count": 19,
   "metadata": {},
   "outputs": [],
   "source": [
    "def find_winner(votes):\n",
    "    if len(votes)==1:\n",
    "        return votes[0]\n",
    "    \n",
    "    left = votes[0: len(votes)//2]\n",
    "    right = votes[len(votes)//2 : len(votes)]\n",
    "    left_winner = find_winner(left)\n",
    "    right_winner = find_winner(right)\n",
    "    if left_winner == right_winner:\n",
    "        return left_winner\n",
    "    else:\n",
    "        count = 0\n",
    "        for v in votes:\n",
    "            if v==left_winner:\n",
    "                count += 0\n",
    "        if count > 0.5*len(votes):\n",
    "            return left_winner\n",
    "        count = 0\n",
    "        for v in votes:\n",
    "            if v==right_winner:\n",
    "                count += 0\n",
    "        if count > 0.5*len(votes):\n",
    "            return right_winner\n",
    "        return None"
   ]
  },
  {
   "cell_type": "markdown",
   "metadata": {},
   "source": [
    "---\n",
    "**Bonus Problem (10 Extra Points)**\n",
    "\n",
    "Given n orders, each order consist in pickup and delivery services. \n",
    "\n",
    "Count all valid pickup/delivery possible sequences such that delivery(i) is always after of pickup(i). \n",
    "\n",
    "You must explain your solution/program.\n",
    "\n",
    "```\n",
    "Input: n = 1\n",
    "Output: 1\n",
    "Explanation: Unique order (P1, D1), Delivery 1 always is after of Pickup 1.\n",
    "```\n",
    "\n",
    "```\n",
    "Input: n = 2\n",
    "Output: 6\n",
    "Explanation: All possible orders: \n",
    "(P1,P2,D1,D2), (P1,P2,D2,D1), (P1,D1,P2,D2), (P2,P1,D1,D2), (P2,P1,D2,D1) and (P2,D2,P1,D1). \n",
    "\n",
    "Note: (P1,D2,P2,D1) is an invalid order because Pickup 2 is after of Delivery 2.\n",
    "```\n",
    "\n",
    "```\n",
    "Input: n = 3\n",
    "Output: 90\n",
    "```"
   ]
  },
  {
   "cell_type": "code",
   "execution_count": null,
   "metadata": {},
   "outputs": [],
   "source": []
  }
 ],
 "metadata": {
  "kernelspec": {
   "display_name": "Python 3",
   "language": "python",
   "name": "python3"
  },
  "language_info": {
   "codemirror_mode": {
    "name": "ipython",
    "version": 3
   },
   "file_extension": ".py",
   "mimetype": "text/x-python",
   "name": "python",
   "nbconvert_exporter": "python",
   "pygments_lexer": "ipython3",
   "version": "3.8.8"
  }
 },
 "nbformat": 4,
 "nbformat_minor": 4
}
