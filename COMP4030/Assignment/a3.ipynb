{
 "cells": [
  {
   "cell_type": "markdown",
   "metadata": {},
   "source": [
    "# COMP 4030/6030 Assignment 3\n",
    "\n",
    "**Deadline**: September 29, 2022 at 9AM"
   ]
  },
  {
   "cell_type": "markdown",
   "metadata": {},
   "source": [
    "**NAME**:  Cheng Yang"
   ]
  },
  {
   "cell_type": "markdown",
   "metadata": {},
   "source": [
    "**Instructions:**\n",
    "\n",
    "* For each problem, create new cells/blocks and place your code/answers there.\n",
    "\n",
    "* You must submit functional code. Demonstrate your code works for each problem.\n",
    "\n",
    "* When you are done, export your notebook to an HTML file, and upload the file to Canvas.\n",
    "\n"
   ]
  },
  {
   "cell_type": "markdown",
   "metadata": {},
   "source": [
    "---\n",
    "**Problem 1**\n",
    "\n",
    "Use the definition of $\\Theta$ to show that $5n + n^2 \\in \\Theta(n^2)$.\n",
    "\n",
    "Note: Use the same mathematical techniques we learned to find lower bound and upper bound constants so that the definition of $\\Theta$ can be satisfied.\n",
    "\n"
   ]
  },
  {
   "cell_type": "markdown",
   "metadata": {},
   "source": [
    "upper bound: $5n +n^2 \\le 5n^2 +n^2 = 6n^2$"
   ]
  },
  {
   "cell_type": "markdown",
   "metadata": {},
   "source": [
    "c=6"
   ]
  },
  {
   "cell_type": "markdown",
   "metadata": {},
   "source": [
    "$5n +n^2 \\in O(n^2)$"
   ]
  },
  {
   "cell_type": "markdown",
   "metadata": {},
   "source": [
    "lower bound: $5n +n^2 \\ge n^2$"
   ]
  },
  {
   "cell_type": "markdown",
   "metadata": {},
   "source": [
    "c=1"
   ]
  },
  {
   "cell_type": "markdown",
   "metadata": {},
   "source": [
    "$5n +n^2 \\in \\Omega(n^2)$"
   ]
  },
  {
   "cell_type": "markdown",
   "metadata": {},
   "source": [
    "So, $5n +n^2 \\in \\Theta(n^2)$"
   ]
  },
  {
   "cell_type": "markdown",
   "metadata": {},
   "source": [
    "----\n",
    "**Problem 2**\n",
    "\n",
    "Use the substitution method to determine the complexity of the following running time equation:  T(n) = 10 + T(n/4).\n",
    "\n",
    "Assuming that T(1) = 10.\n"
   ]
  },
  {
   "cell_type": "markdown",
   "metadata": {},
   "source": [
    "$T(n)=10 +T(n/4^1)=10 +T(n/4^1)$"
   ]
  },
  {
   "cell_type": "markdown",
   "metadata": {},
   "source": [
    "$T(n)=10+10+T(n/16)=20+T(n/4^2)$"
   ]
  },
  {
   "cell_type": "markdown",
   "metadata": {},
   "source": [
    "$T(n)=20+10+T(n/64)=30 +T(n/4^3)$"
   ]
  },
  {
   "cell_type": "markdown",
   "metadata": {},
   "source": [
    "$T(n)=30+10+T(n/256)=40+T(n/4^4)$"
   ]
  },
  {
   "cell_type": "markdown",
   "metadata": {},
   "source": [
    "After k steps, $T(n)= k*10+T(n/4^k)$ "
   ]
  },
  {
   "cell_type": "markdown",
   "metadata": {},
   "source": [
    "replace n with n/4:$T(n/4)=10+T(n/16)$"
   ]
  },
  {
   "cell_type": "markdown",
   "metadata": {},
   "source": [
    "replace n with n/16:$T(n/16)=10+T(n/64)$"
   ]
  },
  {
   "cell_type": "markdown",
   "metadata": {},
   "source": [
    "replace n with n/64:$T(n/64)=10+T(n/256)$"
   ]
  },
  {
   "cell_type": "markdown",
   "metadata": {},
   "source": [
    "It will stop $n/4^k$ = 1"
   ]
  },
  {
   "cell_type": "markdown",
   "metadata": {},
   "source": [
    "\n",
    "\n",
    "$n/4^k = 1$ means $ n = 4^k$.\n",
    "\n",
    "Take $log_4$ on both sides, we get $log_4(n) = k$\n",
    "\n",
    "After $k$ steps, $T(n) = k*10 + T(n/4^k)$\n",
    "\n",
    "\n"
   ]
  },
  {
   "cell_type": "markdown",
   "metadata": {},
   "source": [
    "After $log_2(n)$, $T(n) = 10*log_4(n) + T(1) = 10*log_4(n) + 10$"
   ]
  },
  {
   "cell_type": "markdown",
   "metadata": {},
   "source": [
    "$T(n) \\in \\Theta(\\log n)$"
   ]
  },
  {
   "cell_type": "markdown",
   "metadata": {
    "tags": []
   },
   "source": [
    "----\n",
    "**Problem 3**\n",
    "\n",
    "Specify the running time equation, T(n), of prob1.  Note that list slicing in Python takes linear time."
   ]
  },
  {
   "cell_type": "code",
   "execution_count": 4,
   "metadata": {
    "tags": []
   },
   "outputs": [],
   "source": [
    "#\n",
    "# Input: L is a list of numbers\n",
    "#\n",
    "def prob3(L):\n",
    "    if len(L) <= 3:                 #constant step\n",
    "        return 5                    #constant step\n",
    "    A = L[0 : len(L)//3]            #n/3 step\n",
    "    return 5 + prob3(A)             #T(n/3)\n",
    "\n"
   ]
  },
  {
   "cell_type": "markdown",
   "metadata": {},
   "source": [
    "$T(n)=a + b*n +T(n/3)$"
   ]
  },
  {
   "cell_type": "markdown",
   "metadata": {},
   "source": [
    "---\n",
    "**Problem 4**\n",
    "\n",
    "Use the substitution method to determine the complexity of the running time of prob3 (in the previous problem)."
   ]
  },
  {
   "cell_type": "markdown",
   "metadata": {},
   "source": [
    "$T(n)= a +n/3+T(n/3)$"
   ]
  },
  {
   "cell_type": "markdown",
   "metadata": {},
   "source": [
    "$T(n)=a+n/3+a+n/9+T(n/9)=2a+n/3^1+n/3^2+T(n/3^2)$"
   ]
  },
  {
   "cell_type": "markdown",
   "metadata": {},
   "source": [
    "$T(n)=2a+n/3+n/9+a+n/27+T(n/27)=3a+n/3^1+n/3^2+n/3^3+T(n/3^3)$"
   ]
  },
  {
   "cell_type": "markdown",
   "metadata": {},
   "source": [
    "after k step, $T(n)=a*k+n/3+n/3^2+...+T(n/3^k)$"
   ]
  },
  {
   "cell_type": "markdown",
   "metadata": {},
   "source": [
    "repalce n with $n/3$: $T(n)=a+n/9+T(n/9)$"
   ]
  },
  {
   "cell_type": "markdown",
   "metadata": {},
   "source": [
    "repalce n with $n/9$: $T(n)=a+n/27+T(n/27)$"
   ]
  },
  {
   "cell_type": "markdown",
   "metadata": {},
   "source": [
    "It will stop $n/3^k = 1$"
   ]
  },
  {
   "cell_type": "markdown",
   "metadata": {},
   "source": [
    "$n/3^k = 1$ means n=3^k"
   ]
  },
  {
   "cell_type": "markdown",
   "metadata": {},
   "source": [
    "take $log_3$ for both side, we get $ log_3(n)=k$"
   ]
  },
  {
   "cell_type": "markdown",
   "metadata": {},
   "source": [
    "after k step, $T(n)=a*k+n/3+n/3^2+...+T(n/3^k)$"
   ]
  },
  {
   "cell_type": "markdown",
   "metadata": {},
   "source": [
    "after $log_3$, $T(n)=a*log_3(n)+n/3+n/3^2+...n/3^{log_3(n)-1}+T(1)$"
   ]
  },
  {
   "cell_type": "markdown",
   "metadata": {},
   "source": [
    "$T(n) \\in \\Theta(\\log n)$"
   ]
  },
  {
   "cell_type": "markdown",
   "metadata": {},
   "source": [
    "---\n",
    "\n",
    "**Problem 5**\n",
    "\n",
    "Use the Master's theorem to determine the running time complexity of the following running time equations:\n",
    "\n",
    "1. $T(n) = 4n^2 + T({n \\over 4})$\n",
    "2. $T(n) = 10n + 4 \\cdot T({n \\over 4})$\n",
    "3. $T(n) = 2 + T({n \\over 4})$"
   ]
  },
  {
   "cell_type": "markdown",
   "metadata": {},
   "source": [
    "1.  c=4, d=2, a=1, b=4"
   ]
  },
  {
   "cell_type": "markdown",
   "metadata": {},
   "source": [
    "$log_4(1)=0 \\ne 2(d)$"
   ]
  },
  {
   "cell_type": "markdown",
   "metadata": {},
   "source": [
    "$T(n) \\in \\Theta(n^2)$"
   ]
  },
  {
   "cell_type": "markdown",
   "metadata": {},
   "source": [
    "2. c=10, d=1, a=4, b=4"
   ]
  },
  {
   "cell_type": "markdown",
   "metadata": {},
   "source": [
    "$log_4(4)=1 =d$"
   ]
  },
  {
   "cell_type": "markdown",
   "metadata": {},
   "source": [
    "$T(n)\\in \\Theta(n \\log n  )$"
   ]
  },
  {
   "cell_type": "markdown",
   "metadata": {},
   "source": [
    "3. c=2, d=0,a=1,b=4"
   ]
  },
  {
   "cell_type": "markdown",
   "metadata": {},
   "source": [
    "$log_4(1) = 0 =d$"
   ]
  },
  {
   "cell_type": "markdown",
   "metadata": {},
   "source": [
    "$T(n)\\in \\Theta(\\log n)$"
   ]
  },
  {
   "cell_type": "markdown",
   "metadata": {},
   "source": [
    "---\n",
    "**Question 6**\n",
    "\n",
    "In the two algorithms below,\n",
    "\n",
    "+ *probA* calls *split5*, which takes as input a list of length $n$ and returns 5 lists, each of length ${n \\over 2}$. Its complexity is $\\Theta(n)$.\n",
    "\n",
    "+ *probB* calls *split3*, which takes as input a list of length $n$ and returns 3 lists, each of length ${n \\over 2}$. Its complexity is $\\Theta(n^2)$.\n",
    "\n",
    "Use the Master's theorem to determine which one the following programs has better complexity (i.e. more efficient).\n",
    "\n",
    "```\n",
    "def probA(L):\n",
    "    if len(L) <= 5:\n",
    "        return 0\n",
    "    L1, L2, L3, L4, L5 = split5(L)\n",
    "    return probA(L1) + probA(L2) + probA(L3) + probA(L4) + probA(L5)\n",
    "\n",
    "\n",
    "\n",
    "def probB(L):\n",
    "    if len(L) <= 3:\n",
    "        return 1\n",
    "    s = 0\n",
    "    for x in L:\n",
    "        for y in L:\n",
    "            s += x*y\n",
    "    L1, L2, L3 = split3(L)\n",
    "    return s + probB(L1) + probB(L2) + probB(L3)\n",
    "\n",
    "```"
   ]
  },
  {
   "cell_type": "markdown",
   "metadata": {},
   "source": [
    "probA: $T(n) =a+n+5*T(n/2)$"
   ]
  },
  {
   "cell_type": "markdown",
   "metadata": {},
   "source": [
    "c=1, d=1,a=5,b=2"
   ]
  },
  {
   "cell_type": "markdown",
   "metadata": {},
   "source": [
    "$log_2(5)=2.32 \\ne 1(d)$"
   ]
  },
  {
   "cell_type": "markdown",
   "metadata": {},
   "source": [
    "$T(n) \\in  \\Omega(n^{2.32})$"
   ]
  },
  {
   "cell_type": "markdown",
   "metadata": {},
   "source": [
    "probB: $T(n) =i+j*n^2+3T(n/2)$"
   ]
  },
  {
   "cell_type": "markdown",
   "metadata": {},
   "source": [
    "c=j, d=2,a=3,b=2"
   ]
  },
  {
   "cell_type": "markdown",
   "metadata": {},
   "source": [
    "$log_2(3)=1.59 \\ne 2$"
   ]
  },
  {
   "cell_type": "markdown",
   "metadata": {},
   "source": [
    "$T(n) \\in \\Theta(n^2)$"
   ]
  },
  {
   "cell_type": "markdown",
   "metadata": {},
   "source": [
    "$n^2 < n^{2.32}$"
   ]
  },
  {
   "cell_type": "markdown",
   "metadata": {},
   "source": [
    "probB has better complexity"
   ]
  },
  {
   "cell_type": "markdown",
   "metadata": {},
   "source": [
    "---\n",
    "\n",
    "**Problem 7**\n",
    "\n",
    "Count the number of blue nodes in a randomly generated binary tree.\n",
    "\n",
    "Given a binary tree t, you have access to the following attributes:\n",
    "+ color -- the color of the node, which is either Red or Blue.\n",
    "+ left -- the left subtree, which is also a randomly generated binary tree.\n",
    "+ right -- the right subtree, which is also a randomly generated binary tree.\n",
    "\n",
    "Use the code below for testing."
   ]
  },
  {
   "cell_type": "code",
   "execution_count": 4,
   "metadata": {},
   "outputs": [
    {
     "name": "stdout",
     "output_type": "stream",
     "text": [
      "R\n",
      "\tB\n",
      "\t\tB\n",
      "\t\tB\n",
      "\t\t\tR\n",
      "\t\t\tB\n",
      "\tB\n",
      "\t\tR\n",
      "\t\tR\n"
     ]
    }
   ],
   "source": [
    "import random\n",
    "\n",
    "class BTree:\n",
    "    def __init__(self, m=None):\n",
    "        if m is None:\n",
    "            m = random.randint(2, 7)\n",
    "        self.left = None\n",
    "        self.right = None\n",
    "        if random.randint(0, 1) == 0:\n",
    "            self.color = 'Blue'\n",
    "        else:\n",
    "            self.color = 'Red'\n",
    "        if random.randint(0, m) > 0:\n",
    "            self.left = BTree(m-1)\n",
    "        if random.randint(0, m) > 0:\n",
    "            self.right = BTree(m-1)\n",
    "\n",
    "    def print(self, indents=0):\n",
    "        print('\\t'*indents + self.color[0])\n",
    "        if self.left is not None:\n",
    "            self.left.print(indents+1)\n",
    "        if self.right is not None:\n",
    "            self.right.print(indents+1)\n",
    "            \n",
    "a_tree = BTree(3)\n",
    "a_tree.print()\n",
    "            "
   ]
  },
  {
   "cell_type": "code",
   "execution_count": 5,
   "metadata": {},
   "outputs": [],
   "source": [
    "def count_blue(some_tree):\n",
    "    if some_tree is None:\n",
    "        return 0\n",
    "    else:\n",
    "        if some_tree.color=='Blue':\n",
    "            print(some_tree.color)\n",
    "            return 1+ count_blue(some_tree.left)+count_blue(some_tree.right)\n",
    "        else:\n",
    "            print(some_tree.color)\n",
    "            return count_blue(some_tree.left)+count_blue(some_tree.right)\n",
    "    "
   ]
  },
  {
   "cell_type": "code",
   "execution_count": 6,
   "metadata": {},
   "outputs": [
    {
     "name": "stdout",
     "output_type": "stream",
     "text": [
      "B\n",
      "\tR\n",
      "\t\tB\n",
      "\t\t\tR\n",
      "\t\t\tB\n",
      "\tR\n",
      "\t\tB\n",
      "\t\t\tR\n",
      "\t\t\tB\n",
      "Blue\n",
      "Red\n",
      "Blue\n",
      "Red\n",
      "Blue\n",
      "Red\n",
      "Blue\n",
      "Red\n",
      "Blue\n"
     ]
    },
    {
     "data": {
      "text/plain": [
       "5"
      ]
     },
     "execution_count": 6,
     "metadata": {},
     "output_type": "execute_result"
    }
   ],
   "source": [
    "a_tree = BTree(3)\n",
    "a_tree.print()\n",
    "count_blue(a_tree)"
   ]
  },
  {
   "cell_type": "markdown",
   "metadata": {},
   "source": [
    "---\n",
    "\n",
    "**Problem 8**\n",
    "\n",
    "\n",
    "Given a list of votes, the winner is the one that has more than 50\\% of the votes. \n",
    "\n",
    "For example, given the list ['John','Mary','John'], the winner is 'John' because 'John' has more than 50\\% of the votes.\n",
    "\n",
    "Another example, ['John','Mary','John', 'Mary'], there is no winner.\n",
    "\n",
    "In this problem, votes are not hashable;  you cannot use a dictionary to \"hash\" votes. \n",
    "\n",
    "**Implement the following recursive design to determine the winner in a given list of votes:**\n",
    "\n",
    "**Strategy for finding the winner in a list of votes**:\n",
    "+ Consider two halves of the list votes: Left and Right.\n",
    "+ **Use the same** strategy to find the winner in the Left.\n",
    "+ **Do the same thing** to find the winner in the Right.\n",
    "+ If the winner is the same in both, that's the overall winner.\n",
    "+ If they are not the same, either one of them has to be the winner. In this case, just do a simple count to determine which one is the winner.\n",
    "\n",
    "\n",
    "Notes:\n",
    "+ You must implement this strategy; i.e. you must solve this problem this way.\n",
    "+ Make sure that in all cases the output is a winner or None.\n",
    "+ Make sure to solve the \"smallest\" input, where you cannnot divide the list into two halves.\n",
    "\n"
   ]
  },
  {
   "cell_type": "code",
   "execution_count": 40,
   "metadata": {},
   "outputs": [],
   "source": [
    "def vote(L):\n",
    "    \n",
    "    left=L[0:len(L)//2]\n",
    "    right=L[len(L)//2:len(L)]\n",
    "    \n",
    "    \n",
    "    if len(left)==1 and len(right)==1:\n",
    "        if left[0] != right[0]:\n",
    "            return None\n",
    "        else:\n",
    "            return left   \n",
    "    if len(left)==1:\n",
    "        return left\n",
    "    elif len(right)==1:\n",
    "        return right\n",
    "    return vote(left) or vote(right)"
   ]
  },
  {
   "cell_type": "code",
   "execution_count": 41,
   "metadata": {},
   "outputs": [],
   "source": [
    "vote( ['John','Mary','John', 'Mary'])"
   ]
  },
  {
   "cell_type": "markdown",
   "metadata": {},
   "source": [
    "---\n",
    "**Bonus Problem (10 Extra Points)**\n",
    "\n",
    "Given n orders, each order consist in pickup and delivery services. \n",
    "\n",
    "Count all valid pickup/delivery possible sequences such that delivery(i) is always after of pickup(i). \n",
    "\n",
    "You must explain your solution/program.\n",
    "\n",
    "```\n",
    "Input: n = 1\n",
    "Output: 1\n",
    "Explanation: Unique order (P1, D1), Delivery 1 always is after of Pickup 1.\n",
    "```\n",
    "\n",
    "```\n",
    "Input: n = 2\n",
    "Output: 6\n",
    "Explanation: All possible orders: \n",
    "(P1,P2,D1,D2), (P1,P2,D2,D1), (P1,D1,P2,D2), (P2,P1,D1,D2), (P2,P1,D2,D1) and (P2,D2,P1,D1). \n",
    "\n",
    "Note: (P1,D2,P2,D1) is an invalid order because Pickup 2 is after of Delivery 2.\n",
    "```\n",
    "\n",
    "```\n",
    "Input: n = 3\n",
    "Output: 90\n",
    "```"
   ]
  },
  {
   "cell_type": "code",
   "execution_count": 42,
   "metadata": {},
   "outputs": [],
   "source": [
    "def countOrders(n):\n",
    "    #edge case\n",
    "    if n==1:\n",
    "        return 1\n",
    "    else:\n",
    "        return (n*(2*n-1)*countOrders(n-1))"
   ]
  },
  {
   "cell_type": "code",
   "execution_count": 43,
   "metadata": {},
   "outputs": [
    {
     "data": {
      "text/plain": [
       "90"
      ]
     },
     "execution_count": 43,
     "metadata": {},
     "output_type": "execute_result"
    }
   ],
   "source": [
    "countOrders(3)"
   ]
  },
  {
   "cell_type": "markdown",
   "metadata": {},
   "source": [
    "We first observe that for all valid pickup delivery series, we always need to choose one of the n orders and pick it up first.For example, if n = 3, the series is always going to be one of (P1,X,X,X,X,X), (P2,X,X,X,X,X), or (P3,X,X,X,X,X).\n",
    "This gives us n options."
   ]
  },
  {
   "cell_type": "markdown",
   "metadata": {},
   "source": [
    "After picking which one of the orders as the first to pickup, we have 2*n-1 positions left to put the corresponding delivery.\n",
    "For example in the above n=3 case and we pick (P1,X,X,X,X,X), we can choose one of the 5 X's to put D1.\n",
    "This gives us 2*n-1 options."
   ]
  },
  {
   "cell_type": "markdown",
   "metadata": {},
   "source": [
    "Now what we are left with is a problem of n-1 orders."
   ]
  },
  {
   "cell_type": "code",
   "execution_count": null,
   "metadata": {},
   "outputs": [],
   "source": []
  }
 ],
 "metadata": {
  "kernelspec": {
   "display_name": "Python 3",
   "language": "python",
   "name": "python3"
  },
  "language_info": {
   "codemirror_mode": {
    "name": "ipython",
    "version": 3
   },
   "file_extension": ".py",
   "mimetype": "text/x-python",
   "name": "python",
   "nbconvert_exporter": "python",
   "pygments_lexer": "ipython3",
   "version": "3.8.8"
  }
 },
 "nbformat": 4,
 "nbformat_minor": 4
}
