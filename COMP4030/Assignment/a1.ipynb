{
 "cells": [
  {
   "cell_type": "markdown",
   "metadata": {},
   "source": [
    "# COMP 4030/6030 Assignment 1\n",
    "\n",
    "### Deadline: September 8 at 9:30AM"
   ]
  },
  {
   "cell_type": "markdown",
   "metadata": {},
   "source": [
    "**NAME**:  Cheng Yang"
   ]
  },
  {
   "cell_type": "markdown",
   "metadata": {},
   "source": [
    "**When you are done, export your notebook to an HTML file, and upload the file to Canvas.**"
   ]
  },
  {
   "cell_type": "markdown",
   "metadata": {
    "tags": []
   },
   "source": [
    "----\n",
    "**Problem 1**\n",
    "\n",
    "Given a string S, design an **iterative** program to count the number of vowels in S.  \n",
    "\n",
    "Vowels are \"a\", \"e\", \"i\", \"o\", \"u\".  Note that both \"a\" and \"A\" are vowels.\n"
   ]
  },
  {
   "cell_type": "code",
   "execution_count": 4,
   "metadata": {
    "tags": []
   },
   "outputs": [],
   "source": [
    "#\n",
    "# Your code goes here\n",
    "#\n",
    "def count_vowels(S):\n",
    "    counter=0\n",
    "    vowels=['a','e','i','o','u','A','E','I','O','U']\n",
    "    for i in S:\n",
    "        if i in vowels:\n",
    "            counter+=1\n",
    "    return counter\n",
    "\n"
   ]
  },
  {
   "cell_type": "code",
   "execution_count": 5,
   "metadata": {},
   "outputs": [
    {
     "data": {
      "text/plain": [
       "4"
      ]
     },
     "execution_count": 5,
     "metadata": {},
     "output_type": "execute_result"
    }
   ],
   "source": [
    "count_vowels('asiAde')"
   ]
  },
  {
   "cell_type": "markdown",
   "metadata": {},
   "source": [
    "----\n",
    "**Problem 2**\n",
    "\n",
    "Write a program that takes as input a list of integers (L) and an integer (A).  The program returns True if two numbers in L whose sum is equal to A.  Return False if there are no two numbers in L that sum up to A.\n",
    "\n",
    "Additionally, explain your solution in English.\n",
    "\n",
    "Examples:\n",
    "+ L=[10,5,20,8], A = 18.  Output: True\n",
    "+ L=[10, 5, 20, 8], A = 40. Output: False\n",
    "+ L=[2,2], A=4. Output: True\n",
    "\n"
   ]
  },
  {
   "cell_type": "code",
   "execution_count": 6,
   "metadata": {},
   "outputs": [],
   "source": [
    "#\n",
    "# Your code goes here\n",
    "#\n",
    "def sum_of_two(L, A):\n",
    "    \n",
    "    i = 0\n",
    "    j=len(L)-1\n",
    "    L.sort()\n",
    "    while i<j:\n",
    "        if L[i] + L[j] == A:\n",
    "            return True\n",
    "        elif L[i] + L[j] >A:\n",
    "            j-=1\n",
    "        else:\n",
    "            i+=1\n",
    "    return False\n",
    "        \n"
   ]
  },
  {
   "cell_type": "code",
   "execution_count": 7,
   "metadata": {},
   "outputs": [
    {
     "data": {
      "text/plain": [
       "True"
      ]
     },
     "execution_count": 7,
     "metadata": {},
     "output_type": "execute_result"
    }
   ],
   "source": [
    "sum_of_two([2,3,1],4)"
   ]
  },
  {
   "cell_type": "markdown",
   "metadata": {},
   "source": [
    "\n",
    "I am using 2 pointer algorithm:\n",
    "+ I sort the list first\n",
    "+ take 2 pointer i(point to the first item on the list), j(point to the last item in the list) \n",
    "+ if the item at index i and item at index j add up equal to the target number than return true(taht is what we want)\n",
    "+ if the item at index i and item at index j add up greater than the target number, than move j to the provious item (because j is point to the end of the sorted list, it will be the largest number on the list initally, and i point to the first item in the sorted list, it should be the smallest item in the list, if the sum is too large, decrement j will get a smaller number)\n",
    "+ if the item at index i and item at index j add up less than the target number, than move i to the next item because j is point to the end of the sorted list, it will be the largest number on the list initally, and i point to the first item in the sorted list, it should be the smallest item in the list, if the sum is too small, increment i will get a larger number)\n",
    "+ if i not less than j and haven't return any, than all the possibility have been check so we can return False\n"
   ]
  },
  {
   "cell_type": "markdown",
   "metadata": {},
   "source": [
    "----\n",
    "**Problem 3**\n",
    "\n",
    "Given a list of integers L and a number A, find a contiguous sublist which sums up to exactly A.\n",
    "\n",
    "Additionally, explain your solution in English.\n",
    "\n",
    "Examples:\n",
    "+ L=[10,5,20,8], A = 5.  Output: [5]\n",
    "+ L=[10,5,20,8], A = 35.  Output: [10,5,20]\n",
    "+ L=[10,5,20,8], A = 43.  Output: [10,5,20,8]\n",
    "+ L=[10,5,20,8], A = 30.  Output: None\n"
   ]
  },
  {
   "cell_type": "code",
   "execution_count": 8,
   "metadata": {},
   "outputs": [],
   "source": [
    "#\n",
    "# Your code goes here\n",
    "#\n",
    "def sublist_sum(L, A):\n",
    "    output=[]\n",
    "    total_sum=0\n",
    "    i=0\n",
    "    j=i\n",
    "    if A== sum(L):\n",
    "        return L\n",
    "    while i< len(L) :\n",
    "        if total_sum== A:\n",
    "            return output\n",
    "        elif total_sum > A:\n",
    "            i+=1\n",
    "            j=i\n",
    "            output=[]\n",
    "            output.append(L[j])\n",
    "            total_sum=L[j]\n",
    "            j+=1\n",
    "        else:\n",
    "            if j ==len(L):\n",
    "                break\n",
    "            output.append(L[j])\n",
    "            total_sum+=L[j]\n",
    "            \n",
    "           \n",
    "            j+=1\n",
    "    return None\n"
   ]
  },
  {
   "cell_type": "code",
   "execution_count": 9,
   "metadata": {},
   "outputs": [
    {
     "name": "stdout",
     "output_type": "stream",
     "text": [
      "[10, 5]\n"
     ]
    }
   ],
   "source": [
    "print(sublist_sum([10,5,20,8],15))"
   ]
  },
  {
   "cell_type": "markdown",
   "metadata": {},
   "source": [
    "I am using brute force to check every possible solution.\n",
    "+ if target number equal to the sum of the whole list, than return the whole list\n",
    "+ set a pointer i point to the first item in the list\n",
    "+ if there is a contiguous sum eaqual to the target number start with item at index i, then return the sublist\n",
    "+ if there is no a contiguous sum eaqual to the target number start with item at index i, then increment i by 1 to go to the next item in the list\n",
    "+ if i reach the end of the list and haven't return anything, then return false\n"
   ]
  },
  {
   "cell_type": "markdown",
   "metadata": {},
   "source": [
    "---\n",
    "**Problem 4**\n",
    "\n",
    "Given a non-empty array of integers nums, every element appears twice except for one. Find that single one.\n",
    "\n",
    "You must implement a solution with a linear runtime complexity and use only constant extra space. Below are some sample inputs/outputs:\n",
    "\n",
    "```\n",
    "Input: nums = [2,2,1]\n",
    "Output: 1\n",
    "\n",
    "Input: nums = [4,1,2,1,2]\n",
    "Output: 4\n",
    "\n",
    "Input: nums = [1]\n",
    "Output: 1\n",
    "\n",
    "Input: nums = [1, 0, 1]\n",
    "Output: 0\n",
    "```"
   ]
  },
  {
   "cell_type": "code",
   "execution_count": 10,
   "metadata": {},
   "outputs": [],
   "source": [
    "#\n",
    "# Your code goes here\n",
    "#\n",
    "\n",
    "def find_single_appearance(nums):\n",
    "    \n",
    "    output=set()\n",
    "    for num in nums:\n",
    "        if num in output:\n",
    "            output.remove(num)\n",
    "        else:\n",
    "            output.add(num)\n",
    "    return output.pop()\n",
    "\n"
   ]
  },
  {
   "cell_type": "code",
   "execution_count": 11,
   "metadata": {},
   "outputs": [
    {
     "data": {
      "text/plain": [
       "5"
      ]
     },
     "execution_count": 11,
     "metadata": {},
     "output_type": "execute_result"
    }
   ],
   "source": [
    "find_single_appearance([5,1,2,1,2])"
   ]
  }
 ],
 "metadata": {
  "kernelspec": {
   "display_name": "Python 3",
   "language": "python",
   "name": "python3"
  },
  "language_info": {
   "codemirror_mode": {
    "name": "ipython",
    "version": 3
   },
   "file_extension": ".py",
   "mimetype": "text/x-python",
   "name": "python",
   "nbconvert_exporter": "python",
   "pygments_lexer": "ipython3",
   "version": "3.8.8"
  }
 },
 "nbformat": 4,
 "nbformat_minor": 4
}
