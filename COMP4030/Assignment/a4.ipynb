{
 "cells": [
  {
   "cell_type": "markdown",
   "metadata": {},
   "source": [
    "# COMP 4030/6030 Assignment 4\n",
    "\n",
    "**Deadline**: Oct 27, 2022 at 9AM"
   ]
  },
  {
   "cell_type": "markdown",
   "metadata": {},
   "source": [
    "**NAME**:  Cheng Yang"
   ]
  },
  {
   "cell_type": "markdown",
   "metadata": {},
   "source": [
    "**Instructions:**\n",
    "\n",
    "* For each problem, create new cells/blocks and place your code/answers there.\n",
    "\n",
    "* You must submit functional code. Demonstrate your code works for each problem.\n",
    "\n",
    "* When you are done, export your notebook to an HTML file, and upload the file to Canvas.\n",
    "\n"
   ]
  },
  {
   "cell_type": "markdown",
   "metadata": {},
   "source": [
    "----\n",
    "**Problem 1 (20 points)**\n",
    "\n",
    "Use the master's theoremto determine the complexity of the following running time equations:\n",
    "\n",
    "1. $T(n) = n^3 + 9 T({n \\over 2})$\n",
    "\n",
    "2. $T(n) = n^3 + 8 T({n \\over 2})$\n",
    "\n"
   ]
  },
  {
   "cell_type": "markdown",
   "metadata": {},
   "source": [
    "1. $T(n)=n^3+9T(n/2)$\n",
    "\n",
    "$T(n)=n^3+9((n/2)^3+9T(n/2^2))=n^3+9(n/2)^3+9^2T(n/2^2)$\n",
    "\n",
    "$T(n)=n^3+9((n/2)^3+9((n/2^2)^3+9T(n/2^3)))=n^3+9(n/2)^3+9^2(n/2^2)^3+9^3T(n/2^3)$\n",
    "\n",
    "$T(n)=n^3+9((n/2)^3+9((n/2^2)^3+9((n/2^3)^3+9T(n/2^4)=n^3+9(n/2)^3+9^2(n/2^2)+9^3((n/8)^3+9T(n/2^4))=n^3+9(n/2)^3+9^2(n/2^2)^3+9^3(n/2^3)^3+9^4T(n/2^4)$\n",
    "\n",
    "after k step, we get $T(n)=n^3+(9(n/2)^3)+(9^2(n/2^2)^3)+...+(9^k(n/2^k)+T(n/2^k)$\n",
    "\n",
    "it will stop at n/2^k =1, which means $k=log_2(n)$\n",
    "$T(n)=n^3+(9(n/2)^3)+(9^2(n/2^2)^3)+...+(9^log_2(n)(n/n)+T(n/n)=n^3+(9(n/2)^3)+(9^2(n/2^2)^3)+...+(9^{log_2(n)}+T(1)$\n",
    "\n",
    "\n",
    "$T(n)\\in \\Theta(n^{\\log_2(9)})$\n",
    "\n",
    "replace n by n/2, we get $T(n/2)=(n/2)^3+9T(n/2^2)$\n",
    "\n",
    "replace n by n/4, we get $T(n/4)=(n/4)^3+9T(n/2^3)$\n",
    "\n",
    "replace n by n/8, we get $T(n/8)=(n/8)^3+9T(n/2^4)$"
   ]
  },
  {
   "cell_type": "markdown",
   "metadata": {},
   "source": [
    "2. $T(n)=n^3+8T(n/2)$\n",
    "\n",
    "$T(n)=n^3+8((n/2)^3+8T(n/2^2))=n^3+8(n/2)^3+8^2T(n/2^2)$\n",
    "\n",
    "$T(n)=n^3+8((n/2)^3+8((n/2^2)^3+8T(n/2^3)))=n^3+8(n/2)^3+8^2(n/2^2)^3+8^3T(n/2^3)$\n",
    "\n",
    "$T(n)=n^3+8((n/2)^3+8((n/2^2)^3+8((n/2^3)^3+8T(n/2^4)=n^3+8(n/2)^3+8^2(n/2^2)+8^3((n/8)^3+8T(n/2^4))=n^3+8(n/2)^3+8^2(n/2^2)^3+8^3(n/2^3)^3+8^4T(n/2^4)$\n",
    "\n",
    "after k step, we get $T(n)=n^3+(8(n/2)^3)+(8^2(n/2^2)^3)+...+(8^k(n/2^k)+T(n/2^k)$\n",
    "\n",
    "it will stop at n/2^k =1, which means $k=log_2(n)$\n",
    "$T(n)=n^3+(8(n/2)^3)+(8^2(n/2^2)^3)+...+(8^log_2(n)(n/n)+T(n/n)=n^3+(8(n/2)^3)+(8^2(n/2^2)^3)+...+(8^log_2(n)+T(1)$\n",
    "\n",
    "\n",
    "$T(n)\\in \\Theta(n^3 \\log n)$\n",
    "\n",
    "replace n by n/2, we get $T(n/2)=(n/2)^3+8T(n/2^2)$\n",
    "\n",
    "replace n by n/4, we get $T(n/4)=(n/4)^3+8T(n/2^3)$\n",
    "\n",
    "replace n by n/8, we get $T(n/8)=(n/8)^3+8T(n/2^4)$"
   ]
  },
  {
   "cell_type": "markdown",
   "metadata": {
    "tags": []
   },
   "source": [
    "----\n",
    "**Problem 2 (20 points)**\n",
    "\n",
    "In the program prob2 below, split_into_3_sublists takes as input a list with n items, returns 3 lists with n/2 items. Its running time is $\\Theta(n^2)$.\n",
    "\n",
    "Specify the running time equation of prob2, simplify it, and determine its complexity (using the Master's theorem).\n"
   ]
  },
  {
   "cell_type": "code",
   "execution_count": 29,
   "metadata": {
    "tags": []
   },
   "outputs": [],
   "source": [
    "#\n",
    "# Input: L is a list with n numbers\n",
    "#\n",
    "def prob2(L):\n",
    "    if len(L) <= 1:\n",
    "        return 1\n",
    "    A, B, C = split_into_3_sublists(L)\n",
    "    total = 0\n",
    "    for x in A:\n",
    "        total += x\n",
    "    return total + prob2(A) + prob2(B) + prob2(C)\n",
    "\n"
   ]
  },
  {
   "cell_type": "markdown",
   "metadata": {},
   "source": [
    "$T(n)=c_1+c_2n+c_3n^2+3T(n/2)$\n",
    "\n",
    "$d=2, b=2, a=3$\n",
    "\n",
    "$\\log_b(a)=\\log_2(3)=1.58 < 2$\n",
    "\n",
    "$T(n)\\in \\Theta(n^2)$"
   ]
  },
  {
   "cell_type": "markdown",
   "metadata": {},
   "source": [
    "---\n",
    "**Problem 3 (20 points)**\n",
    "\n",
    "Design and implement a program call **climb3**, which takes as input a non-negative integer $n$ and returns the number of ways you can climb a stair with $n$ steps.   The constraint is that each time you can either clim 1 step, 2 steps, or 3 steps.\n",
    "\n",
    "Make sure you test your program for n from 0 to 10.\n",
    "\n"
   ]
  },
  {
   "cell_type": "code",
   "execution_count": 30,
   "metadata": {},
   "outputs": [],
   "source": [
    "Table=dict()\n",
    "def climb3(n):\n",
    "    if n in Table:\n",
    "        return Table[n]\n",
    "    if n==0:\n",
    "        Table[n]=0\n",
    "        return 0\n",
    "    if n==1:\n",
    "        Table[n]=1\n",
    "        return 1\n",
    "    if n==2:\n",
    "        Table[n]=2\n",
    "        return 2\n",
    "    if n==3:\n",
    "        Table[n]=4\n",
    "        return 4\n",
    "    output=climb3(n-1)+climb3(n-2)+climb3(n-3)\n",
    "    Table[n]=output\n",
    "    return output"
   ]
  },
  {
   "cell_type": "code",
   "execution_count": 31,
   "metadata": {},
   "outputs": [
    {
     "data": {
      "text/plain": [
       "274"
      ]
     },
     "execution_count": 31,
     "metadata": {},
     "output_type": "execute_result"
    }
   ],
   "source": [
    "climb3(10)"
   ]
  },
  {
   "cell_type": "markdown",
   "metadata": {},
   "source": [
    "---\n",
    "**Problem 4 (20 points)**\n",
    "\n",
    "If your program, climb3, does not store outputs of repeated computation, it is very slow.  For example, with n=50, it might take a long long time to run.\n",
    "\n",
    "Reimplement climb3 and use a table to store outputs and show that your program runs much faster."
   ]
  },
  {
   "cell_type": "code",
   "execution_count": 32,
   "metadata": {},
   "outputs": [],
   "source": [
    "Table=dict()\n",
    "def climb3(n):\n",
    "    if n in Table:\n",
    "        return Table[n]\n",
    "    if n==0:\n",
    "        Table[n]=0\n",
    "        return 0\n",
    "    if n==1:\n",
    "        Table[n]=1\n",
    "        return 1\n",
    "    if n==2:\n",
    "        Table[n]=2\n",
    "        return 2\n",
    "    if n==3:\n",
    "        Table[n]=4\n",
    "        return 4\n",
    "    output=climb3(n-1)+climb3(n-2)+climb3(n-3)\n",
    "    Table[n]=output\n",
    "    return output"
   ]
  },
  {
   "cell_type": "code",
   "execution_count": 33,
   "metadata": {},
   "outputs": [
    {
     "data": {
      "text/plain": [
       "10562230626642"
      ]
     },
     "execution_count": 33,
     "metadata": {},
     "output_type": "execute_result"
    }
   ],
   "source": [
    "climb3(50)"
   ]
  },
  {
   "cell_type": "markdown",
   "metadata": {},
   "source": [
    "---\n",
    "\n",
    "**Problem 5 (20 points)**\n",
    "\n",
    "You are given an integer array nums. You are initially positioned at the array's first index, and each element in the array represents your maximum jump length at that position.\n",
    "\n",
    "Return true if you can reach the last index, or false otherwise.\n",
    "\n",
    "Examples:\n",
    "```\n",
    "Input: nums = [2,3,1,1,4]\n",
    "Output: true\n",
    "Explanation: Jump 1 step from index 0 to 1, then 3 steps to the last index.\n",
    "\n",
    "Input: nums = [3,2,1,0,4]\n",
    "Output: false\n",
    "Explanation: You will always arrive at index 3 no matter what. Its maximum jump length is 0, which makes it impossible to reach the last index.\n",
    "```\n",
    "\n",
    "To solve this problem, you must indirectly implement the following function **canJumpStartingFrom** based on these requirements:\n",
    "\n",
    "1. It uses a recursive strategy.\n",
    "2. Its inputs are: \n",
    "    * the starting index -- i -- from which to jump. Note that in the original description, you must start from 0. But in this function, you can start anywhere. Therefore, if you successfully implement canJumpStartingFrom, you can solve the original problem by calling canJumpStartingFrom(0, nums).\n",
    "    * a list of numbers -- nums -- as explained above.\n",
    "3. Its output is True if you can reach the last index starting from index i; and False if you cannot."
   ]
  },
  {
   "cell_type": "code",
   "execution_count": 34,
   "metadata": {},
   "outputs": [
    {
     "data": {
      "text/plain": [
       "False"
      ]
     },
     "execution_count": 34,
     "metadata": {},
     "output_type": "execute_result"
    }
   ],
   "source": [
    "#\n",
    "# Note: see the requirements above\n",
    "#\n",
    "Table=dict()\n",
    "def canJumpStartingFrom(i, nums):\n",
    "    if i in Table:\n",
    "        return Table[i]\n",
    "    if len(nums[i:]) > 1 and nums[i] == 0:\n",
    "        return False\n",
    "    if len(nums[i:]) == 1:\n",
    "            return True\n",
    "        \n",
    "    for j in range(1, nums[i]+1):\n",
    "        if i+ j >= len(nums):\n",
    "            continue\n",
    "        result = canJumpStartingFrom(i+j,nums)\n",
    "        if result:\n",
    "            Table[i + j] = True\n",
    "            return True\n",
    "    Table[i + j] = False\n",
    "    return False\n",
    "nums=[3,2,1,0,4]    \n",
    "canJumpStartingFrom(0,nums)"
   ]
  },
  {
   "cell_type": "markdown",
   "metadata": {},
   "source": [
    "---\n",
    "**Bonus Problem (10 points)**\n",
    "\n",
    "If your program, canJumpStartingFrom, does not store outputs of repeated computation, it is very slow.  \n",
    "\n",
    "Reimplement it and use a table to store outputs and show that your program runs much faster."
   ]
  },
  {
   "cell_type": "code",
   "execution_count": 35,
   "metadata": {},
   "outputs": [
    {
     "data": {
      "text/plain": [
       "False"
      ]
     },
     "execution_count": 35,
     "metadata": {},
     "output_type": "execute_result"
    }
   ],
   "source": [
    "Table=dict()\n",
    "def canJumpStartingFrom(i, nums):\n",
    "    if i in Table:\n",
    "        return Table[i]\n",
    "    if len(nums[i:]) > 1 and nums[i] == 0:\n",
    "        return False\n",
    "    if len(nums[i:]) == 1:\n",
    "            return True\n",
    "        \n",
    "    for j in range(1, nums[i]+1):\n",
    "        if i+ j >= len(nums):\n",
    "            continue\n",
    "        result = canJumpStartingFrom(i+j,nums)\n",
    "        if result:\n",
    "            Table[i + j] = True\n",
    "            return True\n",
    "    Table[i + j] = False\n",
    "    return False\n",
    "nums=[3,2,1,0,4]    \n",
    "canJumpStartingFrom(0,nums)"
   ]
  },
  {
   "cell_type": "code",
   "execution_count": null,
   "metadata": {},
   "outputs": [],
   "source": []
  },
  {
   "cell_type": "code",
   "execution_count": null,
   "metadata": {},
   "outputs": [],
   "source": []
  }
 ],
 "metadata": {
  "kernelspec": {
   "display_name": "Python 3",
   "language": "python",
   "name": "python3"
  },
  "language_info": {
   "codemirror_mode": {
    "name": "ipython",
    "version": 3
   },
   "file_extension": ".py",
   "mimetype": "text/x-python",
   "name": "python",
   "nbconvert_exporter": "python",
   "pygments_lexer": "ipython3",
   "version": "3.8.8"
  },
  "toc-showmarkdowntxt": false
 },
 "nbformat": 4,
 "nbformat_minor": 4
}
