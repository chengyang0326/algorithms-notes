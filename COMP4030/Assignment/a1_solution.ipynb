{
 "cells": [
  {
   "cell_type": "markdown",
   "metadata": {},
   "source": [
    "# COMP 4030/6030 Assignment 1 SOLUTION\n",
    "\n",
    "### Deadline: September 8 at 9:30AM"
   ]
  },
  {
   "cell_type": "markdown",
   "metadata": {
    "tags": []
   },
   "source": [
    "----\n",
    "**Problem 1**\n",
    "\n",
    "Given a string S, design an **iterative** program to count the number of vowels in S.  \n",
    "\n",
    "Vowels are \"a\", \"e\", \"i\", \"o\", \"u\".  Note that both \"a\" and \"A\" are vowels.\n"
   ]
  },
  {
   "cell_type": "code",
   "execution_count": 1,
   "metadata": {
    "tags": []
   },
   "outputs": [],
   "source": [
    "#\n",
    "# Your code goes here\n",
    "#\n",
    "def count_vowels(S):\n",
    "    count = 0\n",
    "    for c in S:\n",
    "        if c in 'aAeEiIoOuU':\n",
    "            count += 1\n",
    "    return count\n",
    "\n",
    "def count_vowels(S):\n",
    "    return sum([1 for c in S if c in 'aAeEiIoOuU'])"
   ]
  },
  {
   "cell_type": "code",
   "execution_count": 2,
   "metadata": {},
   "outputs": [
    {
     "data": {
      "text/plain": [
       "4"
      ]
     },
     "execution_count": 2,
     "metadata": {},
     "output_type": "execute_result"
    }
   ],
   "source": [
    "count_vowels('This is a test.')"
   ]
  },
  {
   "cell_type": "markdown",
   "metadata": {},
   "source": [
    "----\n",
    "**Problem 2**\n",
    "\n",
    "Write a program that takes as input a list of integers (L) and an integer (A).  The program returns True if two numbers in L whose sum is equal to A.  Return False if there are no two numbers in L that sum up to A.\n",
    "\n",
    "Additionally, explain your solution in English.\n",
    "\n",
    "Examples:\n",
    "+ L=[10,5,20,8], A = 18.  Output: True\n",
    "+ L=[10, 5, 20, 8], A = 40. Output: False\n",
    "+ L=[2,2], A=4. Output: True\n",
    "\n"
   ]
  },
  {
   "cell_type": "code",
   "execution_count": 6,
   "metadata": {},
   "outputs": [],
   "source": [
    "#\n",
    "# Your code goes here\n",
    "#\n",
    "def sum_of_two(L, A):\n",
    "    for i in range(len(L)):\n",
    "        for j in range(i+1, len(L)):\n",
    "            if L[i]+L[j] == A:\n",
    "                return True\n",
    "    return False\n"
   ]
  },
  {
   "cell_type": "code",
   "execution_count": 8,
   "metadata": {},
   "outputs": [
    {
     "data": {
      "text/plain": [
       "True"
      ]
     },
     "execution_count": 8,
     "metadata": {},
     "output_type": "execute_result"
    }
   ],
   "source": [
    "sum_of_two([3, 4, 1, 5], 6)"
   ]
  },
  {
   "cell_type": "markdown",
   "metadata": {},
   "source": [
    "----\n",
    "**Problem 3**\n",
    "\n",
    "Given a list of integers L and a number A, find a contiguous sublist which sums up to exactly A.\n",
    "\n",
    "Additionally, explain your solution in English.\n",
    "\n",
    "Examples:\n",
    "+ L=[10,5,20,8], A = 5.  Output: [5]\n",
    "+ L=[10,5,20,8], A = 35.  Output: [10,5,20]\n",
    "+ L=[10,5,20,8], A = 43.  Output: [10,5,20,8]\n",
    "+ L=[10,5,20,8], A = 30.  Output: None\n"
   ]
  },
  {
   "cell_type": "code",
   "execution_count": 16,
   "metadata": {},
   "outputs": [],
   "source": [
    "#\n",
    "# A contiguous sublist begins at some index i and ends at some index j (i<=j)\n",
    "#\n",
    "def sublist_sum(L, A):\n",
    "    for i in range(len(L)):\n",
    "        for j in range(i, len(L)):\n",
    "            tmp = []\n",
    "            s = 0\n",
    "            for k in range(i, j+1):\n",
    "                tmp.append(L[k])\n",
    "                s += L[k]\n",
    "            if s==A:\n",
    "                return tmp\n",
    "\n",
    "def sublist_sum(L, A):\n",
    "    for i in range(len(L)):\n",
    "        for j in range(i, len(L)):\n",
    "            tmp = [L[k] for k in range(i,j+1)]\n",
    "            if sum(tmp)==A:\n",
    "                return tmp"
   ]
  },
  {
   "cell_type": "code",
   "execution_count": 19,
   "metadata": {},
   "outputs": [
    {
     "data": {
      "text/plain": [
       "[10, 5, 20]"
      ]
     },
     "execution_count": 19,
     "metadata": {},
     "output_type": "execute_result"
    }
   ],
   "source": [
    "sublist_sum([10,5,20,8],35)"
   ]
  },
  {
   "cell_type": "markdown",
   "metadata": {},
   "source": [
    "---\n",
    "**Problem 4**\n",
    "\n",
    "Given a non-empty array of integers nums, every element appears twice except for one. Find that single one.\n",
    "\n",
    "You must implement a solution with a linear runtime complexity and use only constant extra space. Below are some sample inputs/outputs:\n",
    "\n",
    "```\n",
    "Input: nums = [2,2,1]\n",
    "Output: 1\n",
    "\n",
    "Input: nums = [4,1,2,1,2]\n",
    "Output: 4\n",
    "\n",
    "Input: nums = [1]\n",
    "Output: 1\n",
    "\n",
    "Input: nums = [1, 0, 1]\n",
    "Output: 0\n",
    "```"
   ]
  },
  {
   "cell_type": "markdown",
   "metadata": {},
   "source": [
    "Linear time means: running time is $\\Theta(n)$.\n",
    "\n",
    "Constant space means: RAM is $\\Theta(1)$."
   ]
  },
  {
   "cell_type": "code",
   "execution_count": 10,
   "metadata": {},
   "outputs": [],
   "source": [
    "#\n",
    "# Linear space\n",
    "#\n",
    "def find_single_appearance(nums):\n",
    "    tmp = set()\n",
    "    for x in nums:\n",
    "        if x in tmp:\n",
    "            tmp.remove(x)\n",
    "        else: \n",
    "            tmp.add(x)\n",
    "    return tmp\n",
    "\n"
   ]
  },
  {
   "cell_type": "code",
   "execution_count": 12,
   "metadata": {},
   "outputs": [
    {
     "data": {
      "text/plain": [
       "{3}"
      ]
     },
     "execution_count": 12,
     "metadata": {},
     "output_type": "execute_result"
    }
   ],
   "source": [
    "find_single_appearance([4,1,2,1,3,4,2])"
   ]
  },
  {
   "cell_type": "code",
   "execution_count": 18,
   "metadata": {},
   "outputs": [
    {
     "data": {
      "text/plain": [
       "(1, 1, 1, 0)"
      ]
     },
     "execution_count": 18,
     "metadata": {},
     "output_type": "execute_result"
    }
   ],
   "source": [
    "1|1, 1|0, 0|1, 0|0"
   ]
  },
  {
   "cell_type": "code",
   "execution_count": 19,
   "metadata": {},
   "outputs": [
    {
     "data": {
      "text/plain": [
       "(0, 1, 1, 0)"
      ]
     },
     "execution_count": 19,
     "metadata": {},
     "output_type": "execute_result"
    }
   ],
   "source": [
    "1^1, 1^0, 0^1, 0^0"
   ]
  },
  {
   "cell_type": "code",
   "execution_count": 20,
   "metadata": {},
   "outputs": [],
   "source": [
    "def find_single_appearance(nums):\n",
    "    output = 0\n",
    "    for x in nums:\n",
    "        output = output ^ x\n",
    "    return output"
   ]
  },
  {
   "cell_type": "code",
   "execution_count": 21,
   "metadata": {},
   "outputs": [
    {
     "data": {
      "text/plain": [
       "3"
      ]
     },
     "execution_count": 21,
     "metadata": {},
     "output_type": "execute_result"
    }
   ],
   "source": [
    "find_single_appearance([4,1,2,1,3,4,2])"
   ]
  },
  {
   "cell_type": "code",
   "execution_count": null,
   "metadata": {},
   "outputs": [],
   "source": []
  }
 ],
 "metadata": {
  "kernelspec": {
   "display_name": "Python 3 (ipykernel)",
   "language": "python",
   "name": "python3"
  },
  "language_info": {
   "codemirror_mode": {
    "name": "ipython",
    "version": 3
   },
   "file_extension": ".py",
   "mimetype": "text/x-python",
   "name": "python",
   "nbconvert_exporter": "python",
   "pygments_lexer": "ipython3",
   "version": "3.9.12"
  }
 },
 "nbformat": 4,
 "nbformat_minor": 4
}
