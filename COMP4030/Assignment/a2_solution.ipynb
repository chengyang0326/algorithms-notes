{
 "cells": [
  {
   "cell_type": "markdown",
   "metadata": {},
   "source": [
    "## COMP 4030/6030 Assignment 2 SOLUTION\n",
    "\n",
    "**Deadline**: September 20, 2022 at 9AM"
   ]
  },
  {
   "cell_type": "markdown",
   "metadata": {
    "tags": []
   },
   "source": [
    "----\n",
    "**Problem 1**\n",
    "\n",
    "Specify the running time equation, $T(n)$, of this program:"
   ]
  },
  {
   "cell_type": "code",
   "execution_count": 1,
   "metadata": {
    "tags": []
   },
   "outputs": [],
   "source": [
    "#\n",
    "# Input: L is a list of numbers\n",
    "#\n",
    "def prob1(L):\n",
    "    s = 0\n",
    "    for x in L:\n",
    "        s += x\n",
    "    for i in range(len(L)):\n",
    "        for j in range(len(L)):\n",
    "            s += L[i] * L[j]\n",
    "    return s"
   ]
  },
  {
   "cell_type": "markdown",
   "metadata": {},
   "source": [
    "$T(n) = a + b*n + c*n^2$\n"
   ]
  },
  {
   "cell_type": "markdown",
   "metadata": {},
   "source": [
    "----\n",
    "**Problem 2**\n",
    "\n",
    "Determine the lower bound complexity and upper bound complexity of the following program.\n"
   ]
  },
  {
   "cell_type": "code",
   "execution_count": 2,
   "metadata": {},
   "outputs": [],
   "source": [
    "def prob1(L):\n",
    "    s = 0\n",
    "    for x in L:\n",
    "        s += x\n",
    "    for i in range(len(L)):                   # n steps\n",
    "        for j in range(i+1, len(L)):          # at most n, at least 1 step\n",
    "            s += L[i] * L[j]                  # constant step (c)\n",
    "    return s"
   ]
  },
  {
   "cell_type": "markdown",
   "metadata": {},
   "source": [
    "\n",
    "a + b*n + c*n*1 <= T(n) <= a + b*n + c*n*n\n",
    "\n",
    "a + (b+c)*n <= T(n) <= a + b*n + c*n^2\n",
    "\n",
    "Upper bound: $O(n^2)$\n",
    "\n",
    "Lower bound: $\\Omega(n)$"
   ]
  },
  {
   "cell_type": "markdown",
   "metadata": {},
   "source": [
    "---\n",
    "**Problem 3**\n",
    "\n",
    "Use the definition of $O$ to show that $10n^3 + 5n^2 + 1 \\in O(n^3)$"
   ]
  },
  {
   "cell_type": "markdown",
   "metadata": {},
   "source": [
    "$10n^3 + 5n^2 + 1 \\le 10n^3 + 5n^3 + 1n^3$ for all $n>1$\n",
    "\n",
    "$10n^3 + 5n^2 + 1 \\le 16n^3$, $c = 16$.  So this function is in $O(n^3)$.\n"
   ]
  },
  {
   "cell_type": "markdown",
   "metadata": {},
   "source": [
    "---\n",
    "**Problem 4**\n",
    "\n",
    "Use the definition of $\\Omega$ to show that $10n^3 + 5n^2 + 1 \\in \\Omega(n^2)$"
   ]
  },
  {
   "cell_type": "markdown",
   "metadata": {},
   "source": [
    "$10n^3 + 5n^2 + 1 \\ge 5n^2$ for all $n>1$.\n",
    "\n",
    "With $c=5$, this function is in $\\Omega(n^2)$."
   ]
  },
  {
   "cell_type": "markdown",
   "metadata": {},
   "source": [
    "---\n",
    "**Problem 5**\n",
    "\n",
    "Use the definition of $\\Theta$ to show that $2n^2 + 3n + 5 \\in \\Theta(n^2)$"
   ]
  },
  {
   "cell_type": "markdown",
   "metadata": {},
   "source": [
    "$2n^2 \\le 2n^2 + 3n + 5 \\le 2n^2 + 3n^2 + 5n^2 = 10n^2$, for all $n>1$.\n",
    "\n",
    "Lower bound constant is 2.\n",
    "\n",
    "Upper bound constant is 10.\n",
    "\n",
    "$2n^2 + 3n + 5 \\in \\Theta(n^2)$"
   ]
  },
  {
   "cell_type": "markdown",
   "metadata": {},
   "source": [
    "---\n",
    "**Problem 6**\n",
    "\n",
    "Is this true or false: $2n + 10 \\in O(n^2)$?  Explain your answer both intuitively and mathematically (based on the definition of $O$).\n"
   ]
  },
  {
   "cell_type": "markdown",
   "metadata": {},
   "source": [
    "The answer is true.\n",
    "\n",
    "$2n + 10 \\le 2n^2 + 10n^2 = 12n^2$, for all $n>1$.\n",
    "\n",
    "$c=12$ is an uppper bound constant.  This function is in $O(n^2)$."
   ]
  },
  {
   "cell_type": "markdown",
   "metadata": {},
   "source": [
    "---\n",
    "\n",
    "**Problem 7**\n",
    "\n",
    "Specify the running time time, T(n), of the following program."
   ]
  },
  {
   "cell_type": "code",
   "execution_count": 1,
   "metadata": {},
   "outputs": [],
   "source": [
    "#\n",
    "# Input: L, a list of numbers\n",
    "#\n",
    "def prob7(L):\n",
    "    if len(L) < 2:\n",
    "        return 1\n",
    "    total = 0\n",
    "    for x in L:\n",
    "        total += x\n",
    "    first = L.pop(0)\n",
    "    last = L.pop(-1)\n",
    "    if first==last:\n",
    "        return total + prob7(L)\n",
    "    else: \n",
    "        return 2*total + prob7(L)"
   ]
  },
  {
   "cell_type": "markdown",
   "metadata": {},
   "source": [
    "\n",
    "T(n) = a + b*n + T(n-2)\n",
    "\n",
    "Note: \"a\" captures all of the constant-time calculations.\n"
   ]
  },
  {
   "cell_type": "code",
   "execution_count": null,
   "metadata": {},
   "outputs": [],
   "source": []
  }
 ],
 "metadata": {
  "kernelspec": {
   "display_name": "Python 3",
   "language": "python",
   "name": "python3"
  },
  "language_info": {
   "codemirror_mode": {
    "name": "ipython",
    "version": 3
   },
   "file_extension": ".py",
   "mimetype": "text/x-python",
   "name": "python",
   "nbconvert_exporter": "python",
   "pygments_lexer": "ipython3",
   "version": "3.8.8"
  }
 },
 "nbformat": 4,
 "nbformat_minor": 4
}
