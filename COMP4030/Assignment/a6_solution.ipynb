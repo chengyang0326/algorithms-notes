{
 "cells": [
  {
   "cell_type": "markdown",
   "metadata": {},
   "source": [
    "# COMP 4030/6030 Assignment 6 SOLUTION"
   ]
  },
  {
   "cell_type": "markdown",
   "metadata": {},
   "source": [
    "Difficulties:\n",
    "+ How to represent, interpret solutions.\n",
    "+ How to apply the template to a specific problem\n",
    "\n",
    "Key ideas:\n",
    "+ Backtracking is about generating all solutions systematically.\n",
    "+ Backtracking is a template that can be applied to many problems.\n",
    "+ Different problems might require different ways of representing solutions.\n",
    "+ Sets is a very popular solution representation.  For many problems, a solution is a set of things.\n"
   ]
  },
  {
   "cell_type": "markdown",
   "metadata": {},
   "source": [
    "#### Solution representation\n",
    "\n",
    "\n",
    "Example: a solution for the coin exchange problem in this assignment is \"a set of coins\".\n",
    "\n",
    "For complex problems, a solution may or may be valid. So there has to be a way to check for validity.\n",
    "\n",
    "+ How do we represent solutions that are sets?  We can use a list of boolean values.\n",
    "\n",
    "For example, if a set can have up to 4 items, then we can represent these sets using a list of 4 boolean values.\n",
    "\n",
    "\n",
    "Example: items = [3, 6, 2, 7].  The the set {3 ,7} corresponds to [True, False, False, True].\n",
    "\n",
    "Question: how do we translate [True, False, False, True] to {3, 7}?\n",
    "```\n",
    "def get_set( solution ):\n",
    "    return [ i for i in range(len(solution) if solution[i]==True ]\n",
    "\n",
    "def get_set( solution ):\n",
    "    items = []\n",
    "    for i in range(len(solution)):\n",
    "        if solution[i]:\n",
    "            items.append(i)\n",
    "    return items\n",
    "```\n"
   ]
  },
  {
   "cell_type": "markdown",
   "metadata": {},
   "source": [
    "#### Understanding the backtracking template\n",
    "\n",
    "```\n",
    "def backtrack_template(solution, i):\n",
    "    if i==len(solution):       # we have a complete solution\n",
    "        print(solution)\n",
    "    else:                      # solution is not completely constructed yet.\n",
    "        for p in possibilities:\n",
    "            solution[i] = p\n",
    "            backtrack_template(solution, i+1)\n",
    "```\n",
    "\n",
    "If solutions are sets, what are the possibilities for solution[i]?  True and False.\n",
    "```\n",
    "def backtrack_template(solution, i):\n",
    "    if i==len(solution):       # we have a complete solution\n",
    "        print(solution)\n",
    "    else:                      # solution is not completely constructed yet.\n",
    "        for p in [True, False]:\n",
    "            solution[i] = p\n",
    "            backtrack_template(solution, i+1)\n",
    "```\n",
    "Backtracking starts constructing solutions from level 0.\n"
   ]
  },
  {
   "cell_type": "code",
   "execution_count": 12,
   "metadata": {},
   "outputs": [],
   "source": [
    "def backtrack_template(solution, i, coins):\n",
    "    def get_set(s):\n",
    "        return [ coins[i] for i in range(len(s)) if s[i]==True]\n",
    "    \n",
    "    if i==len(solution):       # we have a complete solution\n",
    "        print(solution, '-->', get_set(solution))\n",
    "    else:                      # solution is not completely constructed yet.\n",
    "        for p in [True, False]:\n",
    "            solution[i] = p\n",
    "            backtrack_template(solution, i+1, coins)"
   ]
  },
  {
   "cell_type": "code",
   "execution_count": 13,
   "metadata": {},
   "outputs": [
    {
     "name": "stdout",
     "output_type": "stream",
     "text": [
      "[True, True, True, True] --> [3, 6, 2, 7]\n",
      "[True, True, True, False] --> [3, 6, 2]\n",
      "[True, True, False, True] --> [3, 6, 7]\n",
      "[True, True, False, False] --> [3, 6]\n",
      "[True, False, True, True] --> [3, 2, 7]\n",
      "[True, False, True, False] --> [3, 2]\n",
      "[True, False, False, True] --> [3, 7]\n",
      "[True, False, False, False] --> [3]\n",
      "[False, True, True, True] --> [6, 2, 7]\n",
      "[False, True, True, False] --> [6, 2]\n",
      "[False, True, False, True] --> [6, 7]\n",
      "[False, True, False, False] --> [6]\n",
      "[False, False, True, True] --> [2, 7]\n",
      "[False, False, True, False] --> [2]\n",
      "[False, False, False, True] --> [7]\n",
      "[False, False, False, False] --> []\n"
     ]
    }
   ],
   "source": [
    "backtrack_template([None, None, None, None], 0, [3,6,2,7])"
   ]
  },
  {
   "cell_type": "markdown",
   "metadata": {},
   "source": [
    "---\n",
    "**Problem 1 (25 points)**\n",
    "\n",
    "Given a list of actual coins (not coin values) and an amount, we want to find all possible ways to make change for the amount using the coins.\n",
    "\n",
    "Note: because we are given actual coins, each coin can be used at most once.  \n",
    "\n",
    "Sample inputs and outputs:\n",
    "* Input: coins = [3, 6, 2, 7], amount = 10. Output: {3, 7}\n",
    "* Input: coins = [3, 6, 2, 7], amount = 9. Output: {3, 6}, {2, 7}\n",
    "* Input: coins = [3, 6, 2, 7], amount = 11. Output: {3, 6, 2}\n",
    "\n",
    "Your solution will use the backtracking template we studied, but with an addition of a function **is_valid**.  This function decides if a complete solution satisfies the condition we look for.  For example, given coins [3, 6, 2, 7] and amount 10, a solution {3, 2, 7} is not valid because they don't add up to exactly 10.  A solution {3, 7} is a valid solution.\n",
    "\n",
    "\n",
    "Therefore, you must \"customize\" the backtrackingn template, by correctly defining **is_valid** to solve the coin changing problem.\n",
    "\n",
    "\n",
    "```\n",
    "def backtrack_template(solution, i):\n",
    "    def is_valid(complete_solution):\n",
    "        pass\n",
    "    \n",
    "    if i==len(solution):\n",
    "        if is_valid(solution):\n",
    "            print(solution)\n",
    "    else:\n",
    "        for p in possibilities:\n",
    "            solution[i] = p\n",
    "            backtrack_template(solution, i+1)\n",
    "```\n",
    "\n",
    "Each different problem has different \"possibilities\".  For this problem, \"solution\" is a list with the same length as coins, and solution[i] will indicate whether or not coins[i] is used in the solution.  Based on this hint, you should be able to figure out what the possibilities are.\n",
    "\n",
    "Additionally, for different problems, you might need additional parameters and logic. I think you will need two additional parameters \"coins\" and \"amount\".  You might need more, depending on your implementation.\n",
    "\n",
    "Use this new template, to customize the backtracking template with a correct definition of **is_valid** to solve the coin changing problem.\n",
    "\n",
    "Make sure to demonstrate that your code works."
   ]
  },
  {
   "cell_type": "code",
   "execution_count": 17,
   "metadata": {},
   "outputs": [],
   "source": [
    "def make_change(solution, i, coins, amount):\n",
    "    def get_coins(s):\n",
    "        return [coins[i] for i in range(len(s)) if s[i]==True]\n",
    "        \n",
    "    def is_valid(s):\n",
    "        return sum(get_coins(s))==amount\n",
    "    \n",
    "    if len(solution) == i:     # making sure that this complete solution is a valid exchange.\n",
    "        if is_valid(solution):\n",
    "            print(solution, '-->', get_coins(solution))\n",
    "    else:\n",
    "        for p in [True, False]:\n",
    "            solution[i] = p\n",
    "            make_change(solution, i+1, coins, amount)"
   ]
  },
  {
   "cell_type": "code",
   "execution_count": 47,
   "metadata": {},
   "outputs": [],
   "source": [
    "def make_change(solution, i, coins, amount):\n",
    "    def get_coins(s):\n",
    "        return [coins[i] for i in range(len(s)) if s[i]==True]\n",
    "\n",
    "    def is_valid(s):\n",
    "        return sum(get_coins(s))==amount\n",
    "\n",
    "    if len(solution) == i:     # making sure that this complete solution is a valid exchange.\n",
    "        print('precheck:', solution, get_coins(solution))\n",
    "        if is_valid(solution):\n",
    "            print(solution, '-->', get_coins(solution))\n",
    "    else:\n",
    "        for p in [True, False]:\n",
    "            solution[i] = p\n",
    "            make_change(solution, i+1, coins, amount)\n",
    "\n"
   ]
  },
  {
   "cell_type": "code",
   "execution_count": 48,
   "metadata": {},
   "outputs": [
    {
     "name": "stdout",
     "output_type": "stream",
     "text": [
      "precheck: [True, True, True, True] [3, 6, 2, 7]\n",
      "precheck: [True, True, True, False] [3, 6, 2]\n",
      "precheck: [True, True, False, True] [3, 6, 7]\n",
      "precheck: [True, True, False, False] [3, 6]\n",
      "precheck: [True, False, True, True] [3, 2, 7]\n",
      "precheck: [True, False, True, False] [3, 2]\n",
      "precheck: [True, False, False, True] [3, 7]\n",
      "precheck: [True, False, False, False] [3]\n",
      "[True, False, False, False] --> [3]\n",
      "precheck: [False, True, True, True] [6, 2, 7]\n",
      "precheck: [False, True, True, False] [6, 2]\n",
      "precheck: [False, True, False, True] [6, 7]\n",
      "precheck: [False, True, False, False] [6]\n",
      "precheck: [False, False, True, True] [2, 7]\n",
      "precheck: [False, False, True, False] [2]\n",
      "precheck: [False, False, False, True] [7]\n",
      "precheck: [False, False, False, False] []\n"
     ]
    }
   ],
   "source": [
    "coins = [3, 6, 2, 7]\n",
    "make_change([None]*len(coins), 0, coins, 3)"
   ]
  },
  {
   "cell_type": "markdown",
   "metadata": {},
   "source": [
    "---\n",
    "**Problem 2 (25 points)**\n",
    "\n",
    "In this problem, we will add more to the backtracking template to make it more efficient.  Consider this example, coins = [3, 6, 2, 7], amount = 2, and the current solution at level 0 (i=0) consists of 3.  Then, we should not keep going to look at other levels beyond 0. The reason is that with 3, the sum already exceeds the amount 2, so the eventual solution will not be valid.\n",
    "\n",
    "So, we will add another function **is_promising** to the template to check if the current solution is still promising.  For example, in the coin changing problem, the current solution is not promising if the coins selected already exceed the given amount.\n",
    "\n",
    "```\n",
    "def backtrack_template(solution, i):\n",
    "    def is_valid(complete_solution):\n",
    "        pass\n",
    "    \n",
    "    def is_promising(current_solution):\n",
    "        pass\n",
    "        \n",
    "    if i==len(solution):\n",
    "        if is_valid(solution):\n",
    "            print(solution)\n",
    "    elif is_promising(solution[0:i]):\n",
    "        for p in possibilities:\n",
    "            solution[i] = p\n",
    "            backtrack_template(solution, i+1)\n",
    "```\n",
    "\n",
    "\n",
    "Use this new template, to customize the backtracking template with a correct definition of **is_promising** to solve the coin changing problem."
   ]
  },
  {
   "cell_type": "code",
   "execution_count": 51,
   "metadata": {},
   "outputs": [],
   "source": [
    "def make_change(solution, i, coins, amount):\n",
    "    def get_coins(s):\n",
    "        return [coins[i] for i in range(len(s)) if s[i]==True]\n",
    "\n",
    "    def is_valid(s):\n",
    "        return sum(get_coins(s))==amount\n",
    "    \n",
    "    def is_promising(s):\n",
    "        return sum(get_coins(s)) <= amount\n",
    "    \n",
    "    if len(solution) == i:\n",
    "        # print('precheck:', solution, get_coins(solution))\n",
    "        if is_valid(solution):\n",
    "            print(solution, 'coins =', get_coins(solution))\n",
    "    elif is_promising(solution[0:i]):\n",
    "        for p in [True, False]:\n",
    "            solution[i] = p\n",
    "            make_change(solution, i+1, coins, amount)"
   ]
  },
  {
   "cell_type": "code",
   "execution_count": 52,
   "metadata": {},
   "outputs": [
    {
     "name": "stdout",
     "output_type": "stream",
     "text": [
      "[True, False, False, False] coins = [3]\n"
     ]
    }
   ],
   "source": [
    "coins = [3, 6, 2, 7]\n",
    "make_change([None]*len(coins), 0, coins, 3)"
   ]
  },
  {
   "cell_type": "code",
   "execution_count": 11,
   "metadata": {},
   "outputs": [
    {
     "name": "stdout",
     "output_type": "stream",
     "text": [
      "[True, True, False, False]\n",
      "[False, False, True, True]\n"
     ]
    }
   ],
   "source": [
    "make_change([None]*len(coins), 0, coins, 9)"
   ]
  },
  {
   "cell_type": "code",
   "execution_count": 12,
   "metadata": {},
   "outputs": [
    {
     "name": "stdout",
     "output_type": "stream",
     "text": [
      "[False, False, True, False]\n"
     ]
    }
   ],
   "source": [
    "make_change([None]*len(coins), 0, coins, 2)"
   ]
  },
  {
   "cell_type": "markdown",
   "metadata": {},
   "source": [
    "---\n",
    "\n",
    "**Problem 3 (25 points)**\n",
    "\n",
    "In this problem, we will add one more thing to the backtracking template so that it can keep track of the best solution.  \n",
    "\n",
    "For this problem, we want to find a solution with fewest amount of coins to make change for an amount.  For example, given coins = [3, 9, 3, 3, 6, 2, 7] and amount = 9, there are multiple solutions {3, 3, 3}, {3, 6}, {3, 6}, {2, 7}, {9}, etc.   But the eventual best solution should be {9} because it has the fewest number of coins.\n",
    "\n",
    "We will add a new function **is_better** to the backtracking template to determine if a complete solution is better than the currently best solution.\n",
    "\n",
    "```\n",
    "def backtrack_template(solution, i, best_solution):\n",
    "    def is_valid(complete_solution):\n",
    "        pass\n",
    "    \n",
    "    \n",
    "    def is_promising(current_solution):\n",
    "        pass\n",
    "     \n",
    "    \n",
    "    def is_better(complete_solution, best_solution):\n",
    "        pass\n",
    "    \n",
    "    \n",
    "    if i==len(solution):\n",
    "        if is_valid(solution):\n",
    "            print(solution)\n",
    "    elif is_promising(solution[0:i]):\n",
    "        for p in possibilities:\n",
    "            solution[i] = p\n",
    "            backtrack_template(solution, i+1, best_solution)\n",
    "```\n",
    "\n",
    "Use this new template, to customize the backtracking template with a correct definition of **is_better** to solve the problem of finding the fewest number coins to make change for an amount."
   ]
  },
  {
   "cell_type": "code",
   "execution_count": 107,
   "metadata": {},
   "outputs": [],
   "source": [
    "def make_change(solution, i, coins, amount, best_solution):\n",
    "    def get_coins(s):\n",
    "        return [coins[i] for i in range(len(s)) if s[i]==True]\n",
    "\n",
    "    def is_valid(s):\n",
    "        return sum(get_coins(s))==amount\n",
    "    \n",
    "    def is_promising(s):\n",
    "        return sum(get_coins(s)) <= amount\n",
    "    \n",
    "    def is_better(a_solution, best_solution):\n",
    "        if get_coins(best_solution)==[]:\n",
    "            return True\n",
    "        return len(get_coins(a_solution)) < len(get_coins(best_solution))\n",
    "    \n",
    "    if len(solution) == i:\n",
    "        if is_valid(solution):\n",
    "            print(solution, 'coins =', get_coins(solution), 'current best:', get_coins(best_solution))\n",
    "            if is_better(solution, best_solution):\n",
    "                for i in range(len(solution)):\n",
    "                    best_solution[i] = solution[i]\n",
    "                print('update best:', get_coins(best_solution))\n",
    "    elif is_promising(solution[0:i]):\n",
    "        for p in [True, False]:\n",
    "            solution[i] = p\n",
    "            make_change(solution, i+1, coins, amount, best_solution)"
   ]
  },
  {
   "cell_type": "code",
   "execution_count": 109,
   "metadata": {},
   "outputs": [
    {
     "name": "stdout",
     "output_type": "stream",
     "text": [
      "[True, False, False, False, False, False, False] coins = [9] current best: []\n",
      "update best: [9]\n",
      "[False, True, True, False, True, False, False] coins = [3, 3, 3] current best: [9]\n",
      "[False, True, False, True, False, False, False] coins = [3, 6] current best: [9]\n",
      "[False, False, True, True, False, False, False] coins = [3, 6] current best: [9]\n",
      "[False, False, False, True, True, False, False] coins = [6, 3] current best: [9]\n",
      "[False, False, False, False, False, True, True] coins = [2, 7] current best: [9]\n",
      "best solution [True, False, False, False, False, False, False]\n"
     ]
    }
   ],
   "source": [
    "coins = [9, 3, 3, 6, 3, 2, 7]\n",
    "best = [None]*len(coins)\n",
    "make_change([None]*len(coins), 0, coins, 9, best)\n",
    "print('best solution', best)"
   ]
  },
  {
   "cell_type": "markdown",
   "metadata": {},
   "source": [
    "\n",
    "**Problem 4 (25 points)**\n",
    "\n",
    "For this problem, we have the same goal as Problem 3. We want to find a solution with fewest amount of coins to make change for an amount. But we want to make backtracking even more efficient.\n",
    "\n",
    "You will make a final modification to the **is_promising** function that was introduced in Problem 2.\n",
    "\n",
    "Note that in this reversion **is_promising** has an additional parameter (**best_solution**).  You can make backtracking more efficient by abandoning solutions that are no longer promising.  For example, if the best solution has 1 coin, and the current solution has 2 coins, then it is no longer promising.\n",
    "\n",
    "```\n",
    "def backtrack_template(solution, i, best_solution):\n",
    "    def is_valid(complete_solution):\n",
    "        pass\n",
    "    \n",
    "    \n",
    "    def is_promising(current_solution, best_solution):\n",
    "        pass\n",
    "     \n",
    "    \n",
    "    def is_better(complete_solution, best_solution):\n",
    "        pass\n",
    "    \n",
    "    \n",
    "    if i==len(solution):\n",
    "        if is_valid(solution):\n",
    "            print(solution)\n",
    "    elif is_promising(solution[0:i]):\n",
    "        for p in possibilities:\n",
    "            solution[i] = p\n",
    "            backtrack_template(solution, i+1, best_solution)\n",
    "```\n",
    "\n",
    "Use this new template, to customize the backtracking template with a correct definition of **is_better** to solve the problem of finding the fewest number coins to make change for an amount."
   ]
  },
  {
   "cell_type": "code",
   "execution_count": 105,
   "metadata": {},
   "outputs": [],
   "source": [
    "def make_change(solution, i, coins, amount, best_solution):\n",
    "    def get_coins(s):\n",
    "        return [coins[i] for i in range(len(s)) if s[i]==True]\n",
    "\n",
    "    def is_valid(s):\n",
    "        return sum(get_coins(s))==amount\n",
    "    \n",
    "    def is_promising(s, best_solution):\n",
    "        if sum(get_coins(s)) > amount:\n",
    "            return False\n",
    "        if get_coins(best_solution) != [] and len(get_coins(s)) >= len(get_coins(best_solution)):\n",
    "            return False\n",
    "        return True\n",
    "    \n",
    "    def is_better(a_solution, best_solution):\n",
    "        if get_coins(best_solution)==[]:\n",
    "            return True\n",
    "        return len(get_coins(a_solution)) < len(get_coins(best_solution))\n",
    "    \n",
    "    if len(solution) == i:\n",
    "        if is_valid(solution):\n",
    "            print(solution, 'coins =', get_coins(solution), 'current best:', get_coins(best_solution))\n",
    "            if is_better(solution, best_solution):\n",
    "                for i in range(len(solution)):\n",
    "                    best_solution[i] = solution[i]\n",
    "                print('update best:', get_coins(best_solution))\n",
    "    elif is_promising(solution[0:i], best_solution):\n",
    "        for p in [True, False]:\n",
    "            solution[i] = p\n",
    "            make_change(solution, i+1, coins, amount, best_solution)\n",
    "            "
   ]
  },
  {
   "cell_type": "code",
   "execution_count": 111,
   "metadata": {},
   "outputs": [
    {
     "name": "stdout",
     "output_type": "stream",
     "text": [
      "[True, False, False, False, False, False, False, False] coins = [3] current best: []\n",
      "update best: [3]\n",
      "[False, True, False, False, False, False, False, False] coins = [3] current best: [3]\n",
      "[False, False, True, False, False, False, False, False] coins = [3] current best: [3]\n",
      "[False, False, False, False, True, False, False, False] coins = [3] current best: [3]\n",
      "best solution [True, False, False, False, False, False, False, False]\n"
     ]
    }
   ],
   "source": [
    "coins = [3, 3, 3, 6, 3, 2, 9, 7]\n",
    "best = [None]*len(coins)\n",
    "make_change([None]*len(coins), 0, coins, 3, best)\n",
    "print('best solution', best)"
   ]
  },
  {
   "cell_type": "code",
   "execution_count": null,
   "metadata": {},
   "outputs": [],
   "source": []
  }
 ],
 "metadata": {
  "kernelspec": {
   "display_name": "Python 3",
   "language": "python",
   "name": "python3"
  },
  "language_info": {
   "codemirror_mode": {
    "name": "ipython",
    "version": 3
   },
   "file_extension": ".py",
   "mimetype": "text/x-python",
   "name": "python",
   "nbconvert_exporter": "python",
   "pygments_lexer": "ipython3",
   "version": "3.8.8"
  }
 },
 "nbformat": 4,
 "nbformat_minor": 4
}
