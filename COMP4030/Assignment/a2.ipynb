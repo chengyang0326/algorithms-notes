{
 "cells": [
  {
   "cell_type": "markdown",
   "metadata": {},
   "source": [
    "# COMP 4030/6030 Assignment 2\n",
    "\n",
    "**Deadline**: September 20, 2022 at 9AM"
   ]
  },
  {
   "cell_type": "markdown",
   "metadata": {},
   "source": [
    "**NAME**:  Cheng Yang"
   ]
  },
  {
   "cell_type": "markdown",
   "metadata": {},
   "source": [
    "**Instructions:**\n",
    "\n",
    "* For each problem, create new cells/blocks and place your code/answers there.\n",
    "\n",
    "* You must submit functional code. Demonstrate your code works for each problem.\n",
    "\n",
    "* When you are done, export your notebook to an HTML file, and upload the file to Canvas.**\n",
    "\n"
   ]
  },
  {
   "cell_type": "markdown",
   "metadata": {
    "tags": []
   },
   "source": [
    "----\n",
    "**Problem 1**\n",
    "\n",
    "Specify the running time equation, $T(n)$, of this program:"
   ]
  },
  {
   "cell_type": "code",
   "execution_count": 1,
   "metadata": {
    "tags": []
   },
   "outputs": [],
   "source": [
    "#\n",
    "# Input: L is a list of numbers\n",
    "#\n",
    "def prob1(L):\n",
    "    s = 0                              #constant\n",
    "    for x in L:                        #n step\n",
    "        s += x                         #b step\n",
    "    for i in range(len(L)):            #n step\n",
    "        for j in range(len(L)):        #n step\n",
    "            s += L[i] * L[j]           #c step\n",
    "    return s                           #constant\n",
    "\n"
   ]
  },
  {
   "cell_type": "markdown",
   "metadata": {},
   "source": [
    "$ T(n) = a+b*n+c*n*n= a+b*n+c*n^2 $"
   ]
  },
  {
   "cell_type": "markdown",
   "metadata": {},
   "source": [
    "----\n",
    "**Problem 2**\n",
    "\n",
    "Determine the lower bound complexity and upper bound complexity of the following program.\n"
   ]
  },
  {
   "cell_type": "code",
   "execution_count": 2,
   "metadata": {},
   "outputs": [],
   "source": [
    "def prob1(L):\n",
    "    s = 0                                # constant step\n",
    "    for x in L:                          # n step\n",
    "        s += x                           # b step\n",
    "    for i in range(len(L)):              # n step\n",
    "        for j in range(i+1, len(L)):     # at most n step, at least 1 step\n",
    "            s += L[i] * L[j]             # c step\n",
    "    return s                             # constant step\n"
   ]
  },
  {
   "cell_type": "markdown",
   "metadata": {},
   "source": [
    "Because line6 take at most n step so the upper bound  of the time complexity $T(n) \\le a +b*n+c*n*n = a+b*n+c*n^2$"
   ]
  },
  {
   "cell_type": "markdown",
   "metadata": {},
   "source": [
    "So $T(n) \\in O(n^2) $"
   ]
  },
  {
   "cell_type": "markdown",
   "metadata": {},
   "source": [
    "Because line6 take at least 1 step, so the lower bound of the tiem comepexity $T(n) \\ge a+b*n+c*n*1= a+b*n+c*n=a+(b+c)*n$ "
   ]
  },
  {
   "cell_type": "markdown",
   "metadata": {},
   "source": [
    "So $T(n) \\in \\Omega(n) $"
   ]
  },
  {
   "cell_type": "markdown",
   "metadata": {},
   "source": [
    "---\n",
    "**Problem 3**\n",
    "\n",
    "Use the definition of $O$ to show that $10n^3 + 5n^2 + 1 \\in O(n^3)$"
   ]
  },
  {
   "cell_type": "markdown",
   "metadata": {},
   "source": [
    "by the Big-O definition, $T(n) \\in O(n^3)$ if $ T(n) \\le c·n^3$ for some $n \\ge n_0$ "
   ]
  },
  {
   "cell_type": "markdown",
   "metadata": {},
   "source": [
    "If $10n^3+ 5n^2 + 1 \\le c* n^3$ then $10+5/n +1/n^2 \\le c$ \n"
   ]
  },
  {
   "cell_type": "markdown",
   "metadata": {},
   "source": [
    "Therefore,the Big-O condition holds for n ≥ n0 = 1 and c ≥ 16 (= 10 + 5 + 1). Larger\n",
    "values of $n_0$ result in smaller factors $c$ but in\n",
    "any case the above statement is valid. "
   ]
  },
  {
   "cell_type": "markdown",
   "metadata": {},
   "source": [
    "---\n",
    "**Problem 4**\n",
    "\n",
    "Use the definition of $\\Omega$ to show that $10n^3 + 5n^2 + 1 \\in \\Omega(n^2)$"
   ]
  },
  {
   "cell_type": "markdown",
   "metadata": {},
   "source": [
    "By the Big-Omega definition, $T(n) \\in \\Omega(n^2)$ if $T(n) \\ge c·n^2$ or some $n >n_0 $  "
   ]
  },
  {
   "cell_type": "markdown",
   "metadata": {},
   "source": [
    "if $10n^3 +5n^2 +1 \\ge c*n^2 $ then $10n +5+1/n^2 \\ge c$"
   ]
  },
  {
   "cell_type": "markdown",
   "metadata": {},
   "source": [
    "the left side of this Inequality has a minimum value $13.772$ for $n = 0.5848$"
   ]
  },
  {
   "cell_type": "markdown",
   "metadata": {},
   "source": [
    "therefore the expression holds for $ n \\ge n_0 = 1 $ and $ c\\le 13$"
   ]
  },
  {
   "cell_type": "markdown",
   "metadata": {},
   "source": [
    "larger value $n_0 $ result in larger c, but in any case the statement is valid"
   ]
  },
  {
   "cell_type": "markdown",
   "metadata": {},
   "source": [
    "---\n",
    "**Problem 5**\n",
    "\n",
    "Use the definition of $\\Theta$ to show that $2n^2 + 3n + 5 \\in \\Theta(n^2)$"
   ]
  },
  {
   "cell_type": "markdown",
   "metadata": {},
   "source": [
    "$2n^2+3n+5 \\le 2n^2+3n^2+5n^2$ for all $n >1 $"
   ]
  },
  {
   "cell_type": "markdown",
   "metadata": {},
   "source": [
    "$2n^2+3n+5 \\le 10n^2$ for all $n >1 $ "
   ]
  },
  {
   "cell_type": "markdown",
   "metadata": {},
   "source": [
    "$c =10 $"
   ]
  },
  {
   "cell_type": "markdown",
   "metadata": {},
   "source": [
    "$ 2n^2 +3n +5 \\in O(n^2)$"
   ]
  },
  {
   "cell_type": "markdown",
   "metadata": {},
   "source": [
    "$2n^2+3n+5 \\ge 2n^2$ for all n >1"
   ]
  },
  {
   "cell_type": "markdown",
   "metadata": {},
   "source": [
    "$c = 2 $"
   ]
  },
  {
   "cell_type": "markdown",
   "metadata": {},
   "source": [
    "$2n^2 +3n +5 \\in \\Omega(n^2)$"
   ]
  },
  {
   "cell_type": "markdown",
   "metadata": {},
   "source": [
    "By the defintion of the big Theta, $T(n) \\in \\Theta(f(n))$ if $T(n) \\in O(f(n))$ and $T(n) \\in \\Omega(f(n))$"
   ]
  },
  {
   "cell_type": "markdown",
   "metadata": {},
   "source": [
    "so $2n^2 +3n+5 \\in \\Theta(n^2)$"
   ]
  },
  {
   "cell_type": "markdown",
   "metadata": {},
   "source": [
    "---\n",
    "**Problem 6**\n",
    "\n",
    "Is this true or false: $2n + 10 \\in O(n^2)$?  Explain your answer both intuitively and mathematically (based on the definition of $O$).\n"
   ]
  },
  {
   "cell_type": "markdown",
   "metadata": {},
   "source": [
    "Intuitively,  $n \\le n^2 $ since $ 2n +10 \\in O(n)$ then $ n^2 $ also the upperbound of this function"
   ]
  },
  {
   "cell_type": "markdown",
   "metadata": {},
   "source": [
    "Mathematical, $2n+10 \\le 2n+10n  = 12n$ for all n > 1"
   ]
  },
  {
   "cell_type": "markdown",
   "metadata": {},
   "source": [
    "with c =12, we show that $2n+10 \\in O(n^2) $"
   ]
  },
  {
   "cell_type": "markdown",
   "metadata": {},
   "source": [
    "---\n",
    "\n",
    "**Problem 7**\n",
    "\n",
    "Specify the running time time, T(n), of the following program."
   ]
  },
  {
   "cell_type": "code",
   "execution_count": 7,
   "metadata": {},
   "outputs": [],
   "source": [
    "#\n",
    "# Input: L, a list of numbers\n",
    "#\n",
    "def prob7(L):\n",
    "    if len(L) < 2:                         #constant step\n",
    "        return 1                           #constant step\n",
    "    total = 0                              #constant step\n",
    "    for x in L:                            #n step\n",
    "        total += x                         #b step\n",
    "    first = L.pop(0)                       #constant step\n",
    "    last = L.pop(-1)                       #constant step\n",
    "    if first==last:                        #constant step\n",
    "        return total + prob7(L)            # T(n-2)\n",
    "    else: \n",
    "        return 2*total + prob7(L)          # T(n-2)"
   ]
  },
  {
   "cell_type": "markdown",
   "metadata": {},
   "source": [
    "$T(n)=a+b*n+T(n-2)$\n"
   ]
  },
  {
   "cell_type": "code",
   "execution_count": null,
   "metadata": {},
   "outputs": [],
   "source": []
  }
 ],
 "metadata": {
  "kernelspec": {
   "display_name": "Python 3",
   "language": "python",
   "name": "python3"
  },
  "language_info": {
   "codemirror_mode": {
    "name": "ipython",
    "version": 3
   },
   "file_extension": ".py",
   "mimetype": "text/x-python",
   "name": "python",
   "nbconvert_exporter": "python",
   "pygments_lexer": "ipython3",
   "version": "3.8.8"
  }
 },
 "nbformat": 4,
 "nbformat_minor": 4
}
