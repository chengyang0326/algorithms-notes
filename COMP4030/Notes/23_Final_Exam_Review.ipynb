{
 "cells": [
  {
   "cell_type": "markdown",
   "id": "799e6719-40c9-46af-b6b4-9615f88e8ee7",
   "metadata": {},
   "source": [
    "# Final exam review\n",
    "\n",
    "Date: Tuesday, December 6, at 10:30AM.\n",
    "\n",
    "Format: \n",
    "+ Same as midterm.\n",
    "+ Charge your laptop.\n",
    "+ Do not upload an empty file.\n",
    "+ Do it yourself. \n",
    "\n"
   ]
  },
  {
   "cell_type": "markdown",
   "id": "e648ce7e-fb98-43fb-a05b-f90ddca4f774",
   "metadata": {},
   "source": [
    "Topics:\n",
    "* Running time analysis [~30 points]\n",
    "    + Tools: Big-O, Omega, Theta  [Assignment 2]\n",
    "    + Estimation and bounding [Assignment 2]\n",
    "    + Iterative programs\n",
    "    + Recursive programs  [Assignments 3, 4, 5]\n",
    "    + Master's theorem  [Assignment 4]\n",
    "* Iterative designs (nested loops) [Assignment 1]\n",
    "* Recursive designs\n",
    "    +  [Assignments 2, 3, 4, 5]\n",
    "* Memoization (dynamic programming)\n",
    "* Backtracking \n",
    "    + Solutions represented as sets\n",
    "    + Solutions represented as orderings (e.g. n-queens problem)\n",
    "    + Backtracking on graphs\n",
    "    + [Assignments 6, 7]\n"
   ]
  },
  {
   "cell_type": "markdown",
   "id": "b18e82bd-5b38-4aa8-bd93-bb669b1c34c4",
   "metadata": {},
   "source": [
    "### Running time analysis\n",
    "\n",
    "Key idea: estimation and bounding.\n",
    "\n",
    "$T(n) \\in O( n^2 )$ if $T(n) \\le c * n^2$ for some specific number $c$ and for large values of $n$."
   ]
  },
  {
   "cell_type": "markdown",
   "id": "34a85e31-1bed-4fd4-b5dd-b6a250be17bd",
   "metadata": {},
   "source": [
    "Example:\n",
    "\n",
    "Program A has this running time function: $T(n) = 100n^2 + n^3 + 5n + g(n)$\n",
    "\n",
    "g(n) is the running time of a function call inside A.  Suppose g(n) takes at most $10*n$ steps.\n",
    "\n",
    "Then, $T(n) \\le 116 * n^3$"
   ]
  },
  {
   "cell_type": "markdown",
   "id": "e62b118c-788d-40c8-b21a-43db82567961",
   "metadata": {},
   "source": [
    "Additionally, $T(n) \\ge n^3$.\n",
    "\n",
    "Putting these together, $T(n) \\in \\Theta(n^3)$"
   ]
  },
  {
   "cell_type": "markdown",
   "id": "8f98e51c-6a69-420a-a464-ffa07b67c78f",
   "metadata": {},
   "source": [
    "### Recursive Designs\n",
    "\n",
    "Use **the same procedure** to solve a subproblem.\n",
    "\n",
    "A subproblem is the same problem, but \"smaller\".\n",
    "\n",
    "Using the same procedure to solve a subproblem means \"making a recursive call\"."
   ]
  },
  {
   "cell_type": "markdown",
   "id": "bb8f5219-b8eb-4b28-86f0-9b75cec11841",
   "metadata": {},
   "source": [
    "Example: given a number X, and a sorted lists of numbers that are uniformly distributed from 0 to 1e9.\n",
    "\n",
    "Goal: determine if X is in the sorted list.  (output: True/False)"
   ]
  },
  {
   "cell_type": "markdown",
   "id": "6256164c-fada-44bf-8045-654291f0ffc2",
   "metadata": {},
   "source": [
    "Idea: \n",
    "+ Identify a midpoint that is proportional to X.\n",
    "+ Compare X to the number at the midpoint.\n",
    "+ If X is equal to the number, we found X!!!\n",
    "+ If X is smaller, use the same procedure to find X on the left side.\n",
    "+ If X is larger, use the same procedure to find X on the right side.\n",
    "\n",
    "Note: \"using the same procedure\" is not about digging into the details of that procedure."
   ]
  },
  {
   "cell_type": "markdown",
   "id": "635d1a0d-10b4-49f9-be9a-7243f3192ae5",
   "metadata": {},
   "source": [
    "### Backtracking\n",
    "\n",
    "Use one variable \"solution\" to generate all solutions one by one.  How do we represent solutions of a problem using a list?\n",
    "\n",
    "**backtrack(i, solution)**\n",
    "\n",
    "Suppose that \"solution\" is already configured at indexes 0, 1, ..., i-1, \"use the same procedure\" to generate all solutions with that configurations starting from index i.\n",
    "\n",
    "solution[i] is configured with all possibilities, one by one.\n",
    "\n",
    "If solution is **a set** of things:\n",
    "```\n",
    "for possibility in [True, False]:\n",
    "    solution[i] = possibility\n",
    "    backtrack(i+1, solution)\n",
    "```\n",
    "\n",
    "\n"
   ]
  },
  {
   "cell_type": "code",
   "execution_count": null,
   "id": "53e96c6d-74a6-4480-b62c-aebef92cac67",
   "metadata": {},
   "outputs": [],
   "source": []
  }
 ],
 "metadata": {
  "kernelspec": {
   "display_name": "Python 3",
   "language": "python",
   "name": "python3"
  },
  "language_info": {
   "codemirror_mode": {
    "name": "ipython",
    "version": 3
   },
   "file_extension": ".py",
   "mimetype": "text/x-python",
   "name": "python",
   "nbconvert_exporter": "python",
   "pygments_lexer": "ipython3",
   "version": "3.8.8"
  }
 },
 "nbformat": 4,
 "nbformat_minor": 5
}
