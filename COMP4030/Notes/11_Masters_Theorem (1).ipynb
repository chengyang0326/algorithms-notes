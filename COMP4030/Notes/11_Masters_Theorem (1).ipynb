{
 "cells": [
  {
   "cell_type": "markdown",
   "id": "fb82b546-5c32-4e81-ac68-e41c7ae3a685",
   "metadata": {},
   "source": [
    "# Master's Theorem\n",
    "\n",
    "$T(n) = c \\cdot n^d + a \\cdot T({n \\over b})$\n",
    "\n",
    "$c$ is insequential in determining the complexity of $T$.\n",
    "\n",
    "Problems:\n",
    "* Merging sorted lists\n",
    "* Merge sort\n",
    "* Find max sublist"
   ]
  },
  {
   "cell_type": "markdown",
   "id": "c985da94",
   "metadata": {},
   "source": [
    "### Overview of what we're doing today\n",
    "\n",
    "1. Top-level recursive design of merge_sort\n",
    "2. Delegate a task to merging\n",
    "3. Recursive design of merging\n",
    "4. Analysis of running time of merging, merge_sort\n",
    "5. Derive the General Running Time Equation for recursive designs.\n",
    "5. Complexity analysis of the General Equation\n",
    "6. The Master's Theorem"
   ]
  },
  {
   "cell_type": "markdown",
   "id": "430350ab",
   "metadata": {},
   "source": [
    "### Top-level design of merge sort"
   ]
  },
  {
   "cell_type": "markdown",
   "id": "10c63157",
   "metadata": {},
   "source": [
    "Input: L, e.g. [10, 5, 20, 1, 2, 38, 2, 7]\n",
    "\n",
    "Output: sorted L, [1, 2, 2, 5, 7, 10, 20, 38]\n",
    "\n",
    "Two popular recursive designs:\n",
    "\n",
    "+ Decrease by 1: input size n --> input size n-1.\n",
    "+ Divide in half: input size n --> input size n//2\n",
    "\n",
    "\n",
    "Strategy:\n",
    "\n",
    "+ break it down in halves and use the same procedure to sort the halves.\n",
    "\n",
    "L = [10, 5, 20, 1, 2, 38, 2, 7]\n",
    "\n",
    "left = [10, 5, 20, 1]\n",
    "\n",
    "right = [2, 38, 2, 7]\n",
    "\n",
    "Use **the same procedure** to sort left and right\n",
    "\n",
    "sorted_left = [1, 5, 10, 20]\n",
    "\n",
    "sorted_right = [2, 2, 7, 38]\n",
    "\n",
    "Note: do not go into \"the same procedure\" to figure out how that works. Focuse on the output.\n",
    "\n",
    "If we can merge these two sorted lists correctly to produce this: [1, 2, 2, 5, 7, 10, 20, 38], then we are done."
   ]
  },
  {
   "cell_type": "code",
   "execution_count": null,
   "id": "6865ec87",
   "metadata": {},
   "outputs": [],
   "source": []
  },
  {
   "cell_type": "code",
   "execution_count": 1,
   "id": "48ecf626",
   "metadata": {},
   "outputs": [],
   "source": [
    "def merge_sort(L):\n",
    "    if len(L) <= 1:\n",
    "        return L\n",
    "    left = L[0: len(L)//2]\n",
    "    right = L[len(L)//2 : len(L)]\n",
    "    sorted_left = merge_sort(left)\n",
    "    sorted_right = merge_sort(right)\n",
    "    return merge(sorted_left, sorted_right)\n",
    "\n",
    "def merge(A, B):\n",
    "    # will implement later\n",
    "    pass"
   ]
  },
  {
   "cell_type": "markdown",
   "id": "2b5f1eef",
   "metadata": {},
   "source": [
    "Determine the running time equation of merge_sort\n",
    "\n",
    "T(n) = c*n + M(n) + 2*T(n/2)\n",
    "\n",
    "Line 4: c1*n/2 steps\n",
    "\n",
    "Line 5: c2*n/2 steps\n",
    "\n",
    "T(n) is the running time of merge_sort for lists with n numbers.\n",
    "\n",
    "If lists have n/2 numbers, the running time is T(n/2).\n",
    "\n",
    "M(n) is the running time of *merge* (line 8)\n"
   ]
  },
  {
   "cell_type": "code",
   "execution_count": 6,
   "id": "757209c3",
   "metadata": {},
   "outputs": [],
   "source": [
    "#\n",
    "# Input: 2 sorted lists A and B\n",
    "# Output: a sorted list of numbers in A and B\n",
    "#\n",
    "def merge(A, B):\n",
    "    # in case A or B does not have any item\n",
    "    if A==[]:\n",
    "        return B\n",
    "    if B==[]:\n",
    "        return A\n",
    "    \n",
    "    # this assumes that A and B have at least 1 item.\n",
    "    if A[0] < B[0]:\n",
    "        return [A[0]] + merge(A[1:], B)\n",
    "    else:\n",
    "        return [B[0]] + merge(A, B[1: ])\n",
    "\n",
    "def merge_sort(L):\n",
    "    if len(L) <= 1:\n",
    "        return L\n",
    "    left = L[0: len(L)//2]\n",
    "    right = L[len(L)//2 : len(L)]\n",
    "    sorted_left = merge_sort(left)\n",
    "    sorted_right = merge_sort(right)\n",
    "    return merge(sorted_left, sorted_right)\n"
   ]
  },
  {
   "cell_type": "code",
   "execution_count": 5,
   "id": "73c91328",
   "metadata": {},
   "outputs": [
    {
     "data": {
      "text/plain": [
       "[1, 2, 2, 5, 7, 10, 20, 38]"
      ]
     },
     "execution_count": 5,
     "metadata": {},
     "output_type": "execute_result"
    }
   ],
   "source": [
    "A = [1, 5, 10, 20]\n",
    "B = [2, 2, 7, 38]\n",
    "merge(A,B)"
   ]
  },
  {
   "cell_type": "code",
   "execution_count": 7,
   "id": "7fa30d8b",
   "metadata": {},
   "outputs": [
    {
     "data": {
      "text/plain": [
       "[1, 2, 2, 5, 7, 10, 20, 38]"
      ]
     },
     "execution_count": 7,
     "metadata": {},
     "output_type": "execute_result"
    }
   ],
   "source": [
    "L = [10, 5, 20, 1, 2, 38, 2, 7]\n",
    "merge_sort(L)"
   ]
  },
  {
   "cell_type": "markdown",
   "id": "f951d2ee",
   "metadata": {},
   "source": [
    "```\n",
    "A = [1, 5, 10, 20]\n",
    "B = [2, 2, 7, 38]\n",
    "\n",
    "This is a reduce by 1 recursive strategy.\n",
    "\n",
    "Create a new sorted list by going through the two sorted lists.\n",
    "\n",
    "If A[0] < B[0]:\n",
    "    first = A[0]\n",
    "    # now A = [5, 10, 20] and B = [2, 2, 7, 38]\n",
    "    # If we can merge these two sorted lists, then we're good.\n",
    "   \n",
    "    # Why? the merge will be [2, 2, 5, 7, 10, 20, 38]\n",
    "    # The output is [A[0]] + [2, 2, 5, 7, 10, 20, 38]\n",
    "    \n",
    "    # How do we merge  [5, 10, 20] and [2, 2, 7, 38]?\n",
    "    # by \"doing the same thing\" or \"using the same procedure\" \n",
    "    # in Python, this means making a recursive call.\n",
    "\n",
    "Else:\n",
    "\n",
    "```"
   ]
  },
  {
   "cell_type": "markdown",
   "id": "700c8a37",
   "metadata": {},
   "source": [
    "For merge_sort:\n",
    "\n",
    "T(n) = cn + M(n) + 2T(n/2)\n",
    "\n",
    "For merge:\n",
    "\n",
    "n - the numbers of items in A and B\n",
    "\n",
    "M(n) = a + M(n-1)\n",
    "\n",
    "M(n) = a + a + M(n-2) = 2a + M(n-2)\n",
    "\n",
    "M(n) = 2a + a + M(n-3) = 3a + M(n-3)\n",
    "\n",
    "After doing this k times: M(n) = k*a - M(n-k)\n",
    "\n",
    "After doing this n times: M(n) = n*a - M(0)\n",
    "\n",
    "\n",
    "Substitutions:\n",
    "\n",
    "M(n-1) = c + M(n-2)\n",
    "\n",
    "M(n-2) = c + M(n-3)"
   ]
  },
  {
   "cell_type": "code",
   "execution_count": 8,
   "id": "edd8b4e2",
   "metadata": {},
   "outputs": [],
   "source": [
    "def merge(A, B):\n",
    "    if A==[]:\n",
    "        return B\n",
    "    if B==[]:\n",
    "        return A\n",
    "    if A[0] < B[0]:\n",
    "        return [A[0]] + merge(A[1:], B)\n",
    "    else:\n",
    "        return [B[0]] + merge(A, B[1: ])"
   ]
  },
  {
   "cell_type": "markdown",
   "id": "5caa274f",
   "metadata": {},
   "source": [
    "For merge_sort:   T(n) = cn + M(n) + 2T(n/2)\n",
    "\n",
    "M(n) = a*n + M(0) = a*n + b\n",
    "\n",
    "T(n) = c*n + a*n + b + 2T(n/2)\n",
    "\n",
    "T(n) = (a+c)*n + b + 2T(n/2)"
   ]
  },
  {
   "cell_type": "markdown",
   "id": "c3904933",
   "metadata": {},
   "source": [
    "Simplify T(n):\n",
    "\n",
    "1. Drop b\n",
    "2. Sum up a+c=e\n",
    "\n",
    "T(n) = e*n + 2T(n/2)"
   ]
  },
  {
   "cell_type": "markdown",
   "id": "209a8a39",
   "metadata": {},
   "source": [
    "```\n",
    "T(n) = e*n + 2T(n/2)\n",
    "\n",
    "T(n) = e*n + 2*( en/2 + 2T(n/4) ) = e*n + e*n + 2^2 * T(n/2^2)\n",
    "\n",
    "T(n) = 2*e*n + 2^2 * T(n/2^2) = 2en + 2^2 * ( e*n/2^2 + 2*T(n/2^3) )\n",
    "\n",
    "T(n) = 2en + en + 2^3 * T(n/2^3) = 3en + 2^3 * T(n/2^3)\n",
    "\n",
    "After k steps:\n",
    "\n",
    "T(n) = k*e*n + 2^k * T(n/2^k)\n",
    "\n",
    "When n/2^k = 1, we stop.\n",
    "\n",
    "When n/2^k = 1, k=log_2(n)  or 2^k = n\n",
    "\n",
    "T(n) = e*n*log(n) + n * T(1) .  THIS IS IN THETA(n log n)\n",
    "\n",
    "\n",
    "\n",
    "Scratch space:\n",
    "\n",
    "T(n/2) = en/2 + 2T(n/4)\n",
    "\n",
    "T(n/2^2) = e*n/2^2 + 2T(n/2^3)\n",
    "```"
   ]
  },
  {
   "cell_type": "markdown",
   "id": "440d1a4c",
   "metadata": {},
   "source": [
    "If $T(n) = e*n + 2T(n/2), T(n) \\in \\Theta(n \\log n)$"
   ]
  },
  {
   "cell_type": "markdown",
   "id": "d020a6fb",
   "metadata": {},
   "source": [
    "log2 n = (1/log10 2) * log(n) "
   ]
  },
  {
   "cell_type": "markdown",
   "id": "4630ddc3",
   "metadata": {},
   "source": [
    "### The General Equation\n",
    "\n",
    "For many recursive designs, the running time equation has this form:\n",
    "\n",
    "$$T(n) = c*n^d + a \\cdot T({n \\over b})$$\n",
    "\n",
    "We can drop $c$ because it is inconsequential to the complexity ($\\Theta$).\n",
    "\n",
    "In slightly more concise form:\n",
    "\n",
    "$$T(n) = n^d + a \\cdot T({n \\over b})$$"
   ]
  },
  {
   "cell_type": "markdown",
   "id": "3deeb7ae",
   "metadata": {},
   "source": [
    "### Master's Theorem\n",
    "\n",
    "$$T(n) = n^d + a \\cdot T({n \\over b})$$\n",
    "\n",
    "The complexity of $T(n)$ depends on the values of $a, b$, and $d$.\n"
   ]
  },
  {
   "cell_type": "markdown",
   "id": "0d11ba9a",
   "metadata": {},
   "source": [
    "$$T(n) = n^d + a \\cdot T({n \\over b})$$\n",
    "\n",
    "There are 2 cases to consider:\n",
    "\n",
    "1. If $d \\neq \\log_b a$, then $T(n) \\in \\Theta(n^{\\max(d, \\log_b a)}) $\n",
    "\n",
    "2. If $d = \\log_b a$, then $T(n) \\in \\Theta(n^d \\log n)$"
   ]
  },
  {
   "cell_type": "markdown",
   "id": "b026abf6",
   "metadata": {},
   "source": [
    "### Examples"
   ]
  },
  {
   "cell_type": "markdown",
   "id": "e2da234f",
   "metadata": {},
   "source": [
    "T(n) = n + 2T(n/2)      \n",
    "\n",
    "d = 1, a = 2, b = 2. We compare d=1 and log2(2) = 1\n",
    "\n",
    "$T(n) \\in \\Theta(n \\log n)$\n"
   ]
  },
  {
   "cell_type": "markdown",
   "id": "d8f926cf",
   "metadata": {},
   "source": [
    "---\n",
    "\n",
    "T(n) = n^2 + 2T(n/2)\n",
    "\n",
    "We compare d=2 and log2(2) = 1\n",
    "\n",
    "$T(n) \\in \\Theta(n^2)$"
   ]
  },
  {
   "cell_type": "markdown",
   "id": "5899fd63",
   "metadata": {},
   "source": [
    "---\n",
    "\n",
    "T(n) = n^3 + 10T(n/2)\n",
    "\n",
    "We compare d=3 and log2(10).  d=3 < log2(10)\n",
    "\n",
    "log2(8)\n",
    "\n",
    "$T(n) \\in \\Theta(n^{\\log_2 10}) = \\Theta(n^{3.32})$"
   ]
  },
  {
   "cell_type": "code",
   "execution_count": 13,
   "id": "74f1aa90",
   "metadata": {},
   "outputs": [
    {
     "data": {
      "text/plain": [
       "3.321928094887362"
      ]
     },
     "execution_count": 13,
     "metadata": {},
     "output_type": "execute_result"
    }
   ],
   "source": [
    "import math\n",
    "math.log2(10)"
   ]
  },
  {
   "cell_type": "markdown",
   "id": "ee5df540",
   "metadata": {},
   "source": [
    "----\n",
    "\n",
    "T(n) = n^4 + 30*T(n/3)\n",
    "\n",
    "We compare d=4 > log3(30)\n",
    "\n",
    "d = 4 = log3(3^4) = log3(81) > log3(30)\n",
    "\n",
    "$T(n) \\in \\Theta(n^4)$"
   ]
  },
  {
   "cell_type": "code",
   "execution_count": 14,
   "id": "b40382c6",
   "metadata": {},
   "outputs": [
    {
     "data": {
      "text/plain": [
       "81"
      ]
     },
     "execution_count": 14,
     "metadata": {},
     "output_type": "execute_result"
    }
   ],
   "source": [
    "3**4"
   ]
  },
  {
   "cell_type": "markdown",
   "id": "fbbdb42c",
   "metadata": {},
   "source": [
    "In summary,\n",
    "\n",
    "$$T(n) = n^d + a \\cdot T({n \\over b})$$\n",
    "\n",
    "There are 2 cases to consider:\n",
    "\n",
    "1. If $d \\neq \\log_b a$, then $T(n) \\in \\Theta(n^{\\max(d, \\log_b a)}) $\n",
    "\n",
    "2. If $d = \\log_b a$, then $T(n) \\in \\Theta(n^d \\log n)$"
   ]
  },
  {
   "cell_type": "markdown",
   "id": "4089599e-419d-41ab-bf7e-db9f4bbb266d",
   "metadata": {},
   "source": [
    "### Examples\n",
    "\n",
    "+ Derive the Master's theorem\n",
    "\n",
    "+ Determine running time complexity of recursive running time equations.\n",
    "\n",
    "+ Compare running time complexity of recursive programs."
   ]
  },
  {
   "cell_type": "markdown",
   "id": "329e7d92",
   "metadata": {},
   "source": [
    "#### Derive the Master's theorem"
   ]
  },
  {
   "cell_type": "markdown",
   "id": "2526d2eb",
   "metadata": {},
   "source": [
    "We'll use repeated substitutions to derive the Master's theorem.\n",
    "\n",
    "T(n) = n^d + a*T(n/b)\n",
    "\n",
    "T(n) = n^d + a * ((n/b)^d + a*T(n/b^2))\n",
    "\n",
    "T(n) = n^d + a*(n/b)^d + a^2 * T(n/b^2)\n",
    "\n",
    "T(n) = n^d + a*(n/b)^d + a^2 * ( (n/b^2)^d + a * T(n/b^3) ) \n",
    "\n",
    "T(n) = n^d + a*(n/b)^d + a^2*(n/b^2)^d + a^3 * T(n/b^3)\n",
    "\n",
    "T(n) = n^d + a*(n/b)^d + a^2*(n/b^2)^d + a^3 * ( (n/b^3)^d + a * T(n/b^4) )\n",
    "\n",
    "T(n) = n^d + a*(n/b)^d + a^2*(n/b^2)^d + a^3*(n/b^3)^d + a^4 * T(n/b^4)\n",
    "\n",
    "T(n) = n^d * (1 + a/b^d + (a/b^d)^2 + (a/b^d)^3) + a^4*T(n/b^4)\n",
    "\n",
    "\n",
    "Scratch space:\n",
    "\n",
    "T(n/b) = (n/b)^d + a*T(n/b^2)\n",
    "\n",
    "T(n/b^2) = (n/b^2)^d + a * T(n/b^3)\n",
    "\n",
    "T(n/b^3) = (n/b^3)^d + a * T(n/b^4)\n"
   ]
  },
  {
   "cell_type": "markdown",
   "id": "238f0eab",
   "metadata": {},
   "source": [
    "$T(n) = n^d * (1 + {a \\over b^d} + ({a \\over b^d})^2 + ({a \\over b^d})^3) + a^4*T({n \\over b^4})$"
   ]
  },
  {
   "cell_type": "markdown",
   "id": "70e25843",
   "metadata": {},
   "source": [
    "After $k$ steps, we get this:\n",
    "\n",
    "$T(n) = n^d * (1 + {a \\over b^d} + ({a \\over b^d})^2 + \\cdots + ({a \\over b^d})^{k-1}) + a^k*T({n \\over b^k})$"
   ]
  },
  {
   "cell_type": "markdown",
   "id": "41fc5974",
   "metadata": {},
   "source": [
    "If ${n \\over b^k} = 1$, $n = b^k$.  Taking $log_b$ on both sides, we get $\\log_b n = \\log_b b^k = k$."
   ]
  },
  {
   "cell_type": "markdown",
   "id": "ba93c4b9",
   "metadata": {},
   "source": [
    "$T(n) = n^d * (1 + {a \\over b^d} + ({a \\over b^d})^2 + \\cdots + ({a \\over b^d})^{(\\log_b n) -1}) + a^{\\log_b n}*T(1)$"
   ]
  },
  {
   "cell_type": "markdown",
   "id": "33174958",
   "metadata": {},
   "source": [
    "A few things:\n",
    "1. $a^{\\log_b n} = n^{\\log_b a}$"
   ]
  },
  {
   "cell_type": "markdown",
   "id": "355c860c",
   "metadata": {},
   "source": [
    "$T(n) = n^d * (1 + {a \\over b^d} + ({a \\over b^d})^2 + \\cdots + ({a \\over b^d})^{(\\log_b n) -1}) + n^{\\log_b a}$"
   ]
  },
  {
   "cell_type": "markdown",
   "id": "ed1aba23",
   "metadata": {},
   "source": [
    "Case 2: If $d = \\log_b a$, then $b^d = a$ or ${a \\over b^d} = 1$."
   ]
  },
  {
   "cell_type": "markdown",
   "id": "508269c9",
   "metadata": {},
   "source": [
    "$T(n) = n^d * (1 + 1 + 1 + \\cdots + 1) + n^d = n^d * (\\log_b n) + n^d \\in \\Theta(n^d \\log n)$"
   ]
  },
  {
   "cell_type": "markdown",
   "id": "aebd76b9",
   "metadata": {},
   "source": [
    "Case 1: \n",
    "\n",
    "If $d > \\log_b a$, then the first term dominates the second term.\n",
    "\n",
    "If $d < \\log_b a$, then the second term dominates the first term.\n"
   ]
  },
  {
   "cell_type": "markdown",
   "id": "33b4e47c",
   "metadata": {},
   "source": [
    "The Master's Theorem: $T(n) = n^d + a \\cdot T({n \\over b})$\n",
    "\n",
    "There are 2 cases to consider:\n",
    "\n",
    "1. If $d \\neq \\log_b a$, then $T(n) \\in \\Theta(n^{\\max(d, \\log_b a)}) $\n",
    "\n",
    "2. If $d = \\log_b a$, then $T(n) \\in \\Theta(n^d \\log n)$"
   ]
  },
  {
   "cell_type": "markdown",
   "id": "6596efc5",
   "metadata": {},
   "source": [
    "#### Examples"
   ]
  },
  {
   "cell_type": "markdown",
   "id": "c5ef4bc7",
   "metadata": {},
   "source": [
    "$T(n) = 10*n^4 + 16 * T(n/2)$"
   ]
  },
  {
   "cell_type": "markdown",
   "id": "6a4c1566",
   "metadata": {},
   "source": [
    "We can ignore 10 and simplify this as: $T(n) = n^4 + 16 * T({n \\over 2})$"
   ]
  },
  {
   "cell_type": "markdown",
   "id": "dc8b555a",
   "metadata": {},
   "source": [
    "What do we compare?  d and log_b a\n",
    "\n",
    "d=4 versus log_2 16=4\n",
    "\n",
    "$T(n) \\in \\Theta(n^4 \\log n)$"
   ]
  },
  {
   "cell_type": "markdown",
   "id": "1a063374",
   "metadata": {},
   "source": [
    "---\n",
    "\n",
    "$T(n) = n^3 + 4 * T({n \\over 2})$"
   ]
  },
  {
   "cell_type": "markdown",
   "id": "0fc19083",
   "metadata": {},
   "source": [
    "We compare 3 versus $\\log_2 4 = 2$.\n",
    "\n",
    "$T(n) \\in \\Theta(n^3)$."
   ]
  },
  {
   "cell_type": "markdown",
   "id": "484060b4",
   "metadata": {},
   "source": [
    "----\n",
    "\n",
    "$T(n) = n + T({n \\over 5})$"
   ]
  },
  {
   "cell_type": "markdown",
   "id": "91219ee1",
   "metadata": {},
   "source": [
    "We compare 1 versus $\\log_5 1 = 0$."
   ]
  },
  {
   "cell_type": "markdown",
   "id": "ad4a5552",
   "metadata": {},
   "source": [
    "$T(n) \\in \\Theta(n)$"
   ]
  },
  {
   "cell_type": "markdown",
   "id": "3e342eb1",
   "metadata": {},
   "source": [
    "----\n",
    "\n",
    "$T(n) = 2 + T({n \\over 2})$"
   ]
  },
  {
   "cell_type": "markdown",
   "id": "8d8cce7d",
   "metadata": {},
   "source": [
    "We compare 0 versus $\\log_2 1 = 0$"
   ]
  },
  {
   "cell_type": "markdown",
   "id": "1e76c123",
   "metadata": {},
   "source": [
    "$T(n) \\in \\Theta(n^0 \\log n)$\n",
    "\n",
    "This is $\\Theta(\\log n)$"
   ]
  },
  {
   "cell_type": "markdown",
   "id": "e1f2287f",
   "metadata": {},
   "source": [
    "### Actual programs"
   ]
  },
  {
   "cell_type": "code",
   "execution_count": 1,
   "id": "d191ef4a",
   "metadata": {},
   "outputs": [],
   "source": [
    "#\n",
    "# Output: True or False\n",
    "#\n",
    "def search(L, x):\n",
    "    if L==[]:\n",
    "        return False\n",
    "    middle_index = len(L)//2\n",
    "    if x == L[middle_index]:\n",
    "        return True\n",
    "    if x < L[middle_index]:\n",
    "        return search(L[0: middle_index], x)\n",
    "    else:\n",
    "        return search(L[middle_index+1 : ], x)"
   ]
  },
  {
   "cell_type": "markdown",
   "id": "74bfce89",
   "metadata": {},
   "source": [
    "$T(n) = a + T({n \\over 2}) \\in \\Theta(\\log n)$"
   ]
  },
  {
   "cell_type": "code",
   "execution_count": 2,
   "id": "b1197b4b",
   "metadata": {},
   "outputs": [],
   "source": [
    "#\n",
    "# Input: 2 sorted lists A and B\n",
    "# Output: a sorted list of numbers in A and B\n",
    "#\n",
    "# a*n\n",
    "def merge(A, B):\n",
    "    # in case A or B does not have any item\n",
    "    if A==[]:\n",
    "        return B\n",
    "    if B==[]:\n",
    "        return A\n",
    "    \n",
    "    # this assumes that A and B have at least 1 item.\n",
    "    if A[0] < B[0]:\n",
    "        return [A[0]] + merge(A[1:], B)\n",
    "    else:\n",
    "        return [B[0]] + merge(A, B[1: ])\n",
    "\n",
    "def merge_sort(L):\n",
    "    if len(L) <= 1:\n",
    "        return L\n",
    "    left = L[0: len(L)//2]                     # c1*n\n",
    "    right = L[len(L)//2 : len(L)]              # c2*n\n",
    "    sorted_left = merge_sort(left)\n",
    "    sorted_right = merge_sort(right)\n",
    "    return merge(sorted_left, sorted_right)    # c3*n\n"
   ]
  },
  {
   "cell_type": "markdown",
   "id": "1b6556db",
   "metadata": {},
   "source": [
    "$T(n) = c*n + 2 * T({n \\over 2})$\n"
   ]
  },
  {
   "cell_type": "markdown",
   "id": "94b7e2a8",
   "metadata": {},
   "source": [
    "We compare 1 verus $\\log_2 2 = 1$"
   ]
  },
  {
   "cell_type": "markdown",
   "id": "dc950702",
   "metadata": {},
   "source": [
    "$T(n) \\in \\Theta(n \\log n)$"
   ]
  },
  {
   "cell_type": "markdown",
   "id": "26b3556f",
   "metadata": {},
   "source": [
    "----\n",
    "```\n",
    "def my_prob(L):\n",
    "    if len(L) <= 1:\n",
    "        return 1\n",
    "    x = some_procedure(L)        # some_procedure takes c_1 * n^2 steps\n",
    "    L1, L2, L3, L4 = split(L)    # split takes c_2 * n steps, and L1 has n/4 items\n",
    "    return my_prob(L1) + my_prob(L2) + my_prob(L3)\n",
    "```"
   ]
  },
  {
   "cell_type": "markdown",
   "id": "287b3b02",
   "metadata": {},
   "source": [
    "$T(n) = c1 * n^2 + c2 * n + 3 * T({n \\over 4})$\n"
   ]
  },
  {
   "cell_type": "markdown",
   "id": "c04ba24d",
   "metadata": {},
   "source": [
    "Simplify to remove nonconsequential terms:\n",
    "\n",
    "$T(n) = n^2 + 3 T({n \\over 4})$"
   ]
  },
  {
   "cell_type": "markdown",
   "id": "c9b2b3ef",
   "metadata": {},
   "source": [
    "The complexity is: $T(n) \\in \\Theta(n^2)$\n",
    "\n",
    "We compare 2 versus $\\log_4 3$"
   ]
  },
  {
   "cell_type": "markdown",
   "id": "d84ce910",
   "metadata": {},
   "source": [
    "#### Exercises"
   ]
  },
  {
   "cell_type": "code",
   "execution_count": 3,
   "id": "11eded35",
   "metadata": {},
   "outputs": [],
   "source": [
    "def prob2(L):\n",
    "    if len(L)<=1:\n",
    "        return 1\n",
    "    total = 0\n",
    "    for x in L:\n",
    "        for y in L:\n",
    "            total += x*y\n",
    "    left =  L[0         : len(L)//2]\n",
    "    right = L[len(L)//2 : len(L)]\n",
    "    return prob2(left) + total + prob2(right)"
   ]
  },
  {
   "cell_type": "code",
   "execution_count": 4,
   "id": "5860ca9c",
   "metadata": {},
   "outputs": [
    {
     "data": {
      "text/plain": [
       "162"
      ]
     },
     "execution_count": 4,
     "metadata": {},
     "output_type": "execute_result"
    }
   ],
   "source": [
    "prob2([1,2,3,4])"
   ]
  },
  {
   "cell_type": "markdown",
   "id": "241a5fe8",
   "metadata": {},
   "source": [
    "1. Determine the running time equation of prob2.\n",
    "\n",
    "2. Determine the running time complexity of prob2."
   ]
  },
  {
   "cell_type": "markdown",
   "id": "efcc1fd3",
   "metadata": {},
   "source": [
    "With input size $n$, the running time of prob2 is $T(n)$.\n",
    "\n",
    "1. $T(n) = c1*n^2 + c2*n + c3 + 2*T({n \\over 2})$"
   ]
  },
  {
   "cell_type": "markdown",
   "id": "283e7e06",
   "metadata": {},
   "source": [
    "Before we determine the running time complexity, simplify this.\n",
    "\n",
    "$T(n) = n^2 + 2*T({n \\over 2})$"
   ]
  },
  {
   "cell_type": "markdown",
   "id": "dfe9d1f4",
   "metadata": {},
   "source": [
    "We compare 2 versus $\\log_2 2 = 1$.\n",
    "\n",
    "$T(n) \\in \\Theta(n^2)$"
   ]
  },
  {
   "cell_type": "code",
   "execution_count": null,
   "id": "d22b2177",
   "metadata": {},
   "outputs": [],
   "source": []
  }
 ],
 "metadata": {
  "kernelspec": {
   "display_name": "Python 3",
   "language": "python",
   "name": "python3"
  },
  "language_info": {
   "codemirror_mode": {
    "name": "ipython",
    "version": 3
   },
   "file_extension": ".py",
   "mimetype": "text/x-python",
   "name": "python",
   "nbconvert_exporter": "python",
   "pygments_lexer": "ipython3",
   "version": "3.8.8"
  }
 },
 "nbformat": 4,
 "nbformat_minor": 5
}
