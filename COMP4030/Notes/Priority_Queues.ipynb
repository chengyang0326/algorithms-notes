{
 "cells": [
  {
   "cell_type": "markdown",
   "id": "47d13e22-e037-4fea-8095-00055f468ea0",
   "metadata": {},
   "source": [
    "# Priority Queues"
   ]
  },
  {
   "cell_type": "markdown",
   "id": "48c52145-cb2e-4932-acbc-27aa1d8ec772",
   "metadata": {},
   "source": [
    "A priority queue stores data with prioritities.  There're 3 main methods/operations:\n",
    "\n",
    "1. Insert(data, priority) or put(data, priority)\n",
    "2. Delete() or get() -- removes the data point with maximum priority in the queue.\n",
    "3. Update(data, priority) -- updates the data with new priority.\n",
    "\n",
    "We can use an unsorted list to store data and their priorities.  \n",
    "\n",
    "1. Insert - $\\Theta(1)$\n",
    "2. Delete - $\\Theta(n)$\n",
    "3. Update - $\\Theta(1)$\n",
    "\n",
    "We can use an sorted list to store data and their priorities.  \n",
    "\n",
    "1. Insert - $\\Theta(n)$\n",
    "2. Delete - $\\Theta(1)$\n",
    "3. Update - $\\Theta(n)$\n",
    "\n",
    "For priority queue:\n",
    "\n",
    "1. Insert - $\\Theta(\\log(n))$\n",
    "2. Delete - $\\Theta(\\log(n))$\n",
    "3. Update - $\\Theta(\\log(n))$\n"
   ]
  },
  {
   "cell_type": "code",
   "execution_count": 1,
   "id": "a6253812-c56d-4726-8c75-a814acedc730",
   "metadata": {},
   "outputs": [
    {
     "name": "stdout",
     "output_type": "stream",
     "text": [
      "insert a with priority 84\n",
      "insert b with priority 77\n",
      "insert c with priority 37\n",
      "insert d with priority 37\n",
      "insert e with priority 38\n",
      "insert f with priority 70\n",
      "insert g with priority 92\n",
      "insert h with priority 7\n",
      "\n"
     ]
    }
   ],
   "source": [
    "from priority_queue import PriorityQueue\n",
    "import random\n",
    "\n",
    "Q = PriorityQueue('min')\n",
    "\n",
    "for data in 'abcdefgh':\n",
    "    priority = random.randint(1,100)\n",
    "    Q.put(data, priority)  ### or Q[data] = priority\n",
    "    print('insert', data, 'with priority', priority)\n",
    "print()\n",
    "\n",
    "# for data in 'abcdefgh':\n",
    "#     priority = random.randint(1,100)\n",
    "#     Q.adjust(data, priority)   ### or Q[data] = priority\n",
    "#     print('adjust', data, 'with priority', priority)\n",
    "# print()\n",
    "\n",
    "# while len(Q) > 0:\n",
    "#     data, priority = Q.get()\n",
    "#     print('removed', data, 'with priority', priority)"
   ]
  },
  {
   "cell_type": "code",
   "execution_count": 12,
   "id": "a58f91ad-6007-4a8a-b858-140d45d5f8ac",
   "metadata": {},
   "outputs": [
    {
     "data": {
      "text/plain": [
       "{'a': 84, 'b': 77, 'f': 70, 'g': 92}"
      ]
     },
     "execution_count": 12,
     "metadata": {},
     "output_type": "execute_result"
    }
   ],
   "source": [
    "Q.priority"
   ]
  },
  {
   "cell_type": "code",
   "execution_count": 13,
   "id": "673c5d03-69a7-4915-82d4-520aa3fe741b",
   "metadata": {},
   "outputs": [
    {
     "data": {
      "text/plain": [
       "{'a': 50, 'b': 77, 'f': 70, 'g': 92}"
      ]
     },
     "execution_count": 13,
     "metadata": {},
     "output_type": "execute_result"
    }
   ],
   "source": [
    "Q.adjust('a', 50)\n",
    "Q.priority"
   ]
  },
  {
   "cell_type": "code",
   "execution_count": 14,
   "id": "80e99159-3337-4bb9-981b-31a4d5f41a03",
   "metadata": {},
   "outputs": [
    {
     "data": {
      "text/plain": [
       "('a', 50)"
      ]
     },
     "execution_count": 14,
     "metadata": {},
     "output_type": "execute_result"
    }
   ],
   "source": [
    "Q.get()"
   ]
  },
  {
   "cell_type": "markdown",
   "id": "aff1094a-12d0-4abe-8128-dd3fb1fb275f",
   "metadata": {},
   "source": [
    "Conceptually, a priority queue can be represented as a tree.  A priority queue is, conceptually, a binary tree, in which, the priority of a node is larger than the priorities of all of its descendant.\n",
    "\n",
    "<img src=\"https://cdn.programiz.com/sites/tutorial2program/files/delete-4.png\">"
   ]
  },
  {
   "cell_type": "markdown",
   "id": "82917148-e2ac-4fe6-84d8-935a9ebf6aec",
   "metadata": {},
   "source": [
    "#### How to insert a new item into a priority queue\n",
    "```\n",
    ".put(data, priority)\n",
    "```\n",
    "\n",
    "- Put the item at the end of the tree.\n",
    "- Perculate it up.\n",
    "\n",
    "### HOw to delete the maximum-priority item\n",
    "\n",
    "```\n",
    ".get()\n",
    "```\n",
    "\n",
    "* Remove the first item.\n",
    "* Place the last item as root.\n",
    "* Perculate down."
   ]
  },
  {
   "cell_type": "code",
   "execution_count": null,
   "id": "d08b3da3-f75f-4dc9-acbe-78b8323df56a",
   "metadata": {},
   "outputs": [],
   "source": []
  }
 ],
 "metadata": {
  "kernelspec": {
   "display_name": "Python 3 (ipykernel)",
   "language": "python",
   "name": "python3"
  },
  "language_info": {
   "codemirror_mode": {
    "name": "ipython",
    "version": 3
   },
   "file_extension": ".py",
   "mimetype": "text/x-python",
   "name": "python",
   "nbconvert_exporter": "python",
   "pygments_lexer": "ipython3",
   "version": "3.9.12"
  }
 },
 "nbformat": 4,
 "nbformat_minor": 5
}
