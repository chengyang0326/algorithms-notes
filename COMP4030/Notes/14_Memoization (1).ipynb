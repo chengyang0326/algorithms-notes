{
 "cells": [
  {
   "cell_type": "markdown",
   "id": "6c78c9dc-05bb-4303-ac57-a81f30193daa",
   "metadata": {},
   "source": [
    "# Memoization\n",
    "\n",
    "Concepts:\n",
    "+ Understanding the semantics of the API\n",
    "+ Seeing the subproblem: where and when to use the same procedure to solve a subproblem.\n",
    "+ Handling the base case.\n",
    "+ Storing solutions\n",
    "\n",
    "Problems:\n",
    "+ Climbing stairs\n",
    "+ Making change (e.g [5, 7, 13])\n"
   ]
  },
  {
   "cell_type": "markdown",
   "id": "2f58eb84-6c54-4d53-90bc-e8d9fffae1d0",
   "metadata": {},
   "source": [
    "### Overview\n",
    "\n",
    "We've learned two recursive design strategies: (1) decrease and conquer, and (2) divide and conquer.\n",
    "\n",
    "The main idea of recursive designs is that you decompose a problem into subproblems.  Solve the subproblems and use solutions of subproblems to solve the original problem.\n",
    "\n",
    "Examples: \n",
    "1. merge sort (divide and conquer).  Divide the list in two halves sort the two halves \"using the same procedure/strategy\" and merge the two sorted halves.\n",
    "2. bubble sort (decrease and conquer).  Find/remove the smallest number; sort the remaining numbers using the same strategy/procedure; and prepend the smallest number to the sorted remaining numbers.\n",
    "\n",
    "Recursion - using the same procedure to solve a subproblem (same problem but smaller in size).\n",
    "\n",
    "\n"
   ]
  },
  {
   "cell_type": "markdown",
   "id": "2bf2ce17-eb75-4c67-b611-6657a7ae9832",
   "metadata": {},
   "source": [
    "An important ability in all these is the ability to understand the semantics of a function definition.\n",
    "\n",
    "```\n",
    "def merge_sort(L):\n",
    "    pass\n",
    "```"
   ]
  },
  {
   "cell_type": "markdown",
   "id": "c53b4354-c16f-4e61-b56c-e8ccd8ce7665",
   "metadata": {},
   "source": [
    "merge_sort takes as input a list of numbers and returns (output) a sorted list of these numbers.\n",
    "\n",
    "We have to understand the input and output.\n",
    "\n",
    "A similar concept is that we need to understand that T(n) is the running time of a recursive program when the input size is n.   Understanding this helps us determine the recursive running time equation, e.g. T(n) = n + 2T(n/2)."
   ]
  },
  {
   "cell_type": "markdown",
   "id": "807bdae2-46c9-4778-96c8-4859a071082c",
   "metadata": {},
   "source": [
    "Notes:\n",
    "1. It's not as easy as it seems if you didn't learn this in previous COMP courses.  Many us had/have problems determining the (recursive) running time function of a recursive program. The main challenge is not being able to determine the running time of a recursive call.\n",
    "\n",
    "2. As we learn more advanced recursive techniques, it's important to understand these concepts very very well.\n"
   ]
  },
  {
   "cell_type": "markdown",
   "id": "6c2d4849-62b0-44d9-b2c4-7cbda26999f4",
   "metadata": {},
   "source": [
    "---\n",
    "\n",
    "In the second half of the semester, we'll learn two more recursive designs: (1) dynamic programming, and (2) backtracking."
   ]
  },
  {
   "cell_type": "markdown",
   "id": "210432e0-3a44-400b-b0af-219d6fa85302",
   "metadata": {},
   "source": [
    "### An example: climbing stairs."
   ]
  },
  {
   "cell_type": "markdown",
   "id": "6af90979-204f-41a9-9d07-95ef9c301877",
   "metadata": {},
   "source": [
    "In this problem, we walk up a stair, and we want to count the number of ways to go n steps.\n",
    "\n",
    "To walk up a stair, we need to make a sequence of moves. In each move, we can only go up 1 step or 2 steps.\n",
    "\n",
    "Question: how many ways can we go up a stair with n steps?"
   ]
  },
  {
   "cell_type": "markdown",
   "id": "0512e381-93fc-4ae2-ad55-992ac4742731",
   "metadata": {},
   "source": [
    "n = 1, output/answer: 1.\n",
    "\n",
    "n = 2, output: 2\n",
    "+ 1, 1\n",
    "+ 2\n",
    "\n",
    "n = 3, output: 3\n",
    "+ 1, 1, 1\n",
    "+ 1, 2\n",
    "+ 2, 1\n",
    "\n",
    "n = 4, output: 5\n",
    "+ 1, 1, 1, 1\n",
    "+ 1, 2, 1\n",
    "+ 1, 1, 2\n",
    "+ 2, 1, 1\n",
    "+ 2, 2\n",
    "\n"
   ]
  },
  {
   "cell_type": "code",
   "execution_count": 1,
   "id": "81ace672-d794-49cf-aadb-bef1ea5305e9",
   "metadata": {},
   "outputs": [],
   "source": [
    "def climb(n):\n",
    "    pass"
   ]
  },
  {
   "cell_type": "markdown",
   "id": "03a960e6-dacb-4334-bff6-961935fb12b8",
   "metadata": {},
   "source": [
    "Understanding the semantics of a program (API) means you have to understand the input and output of the program.\n",
    "\n",
    "Input: n (the number of steps in a stair)\n",
    "\n",
    "Output: the number of ways to walk up n steps."
   ]
  },
  {
   "cell_type": "markdown",
   "id": "5fe9ed89-4577-4183-b3b4-bb18b9f1734c",
   "metadata": {},
   "source": [
    "In a recursive design, we have to \"see\" subproblems."
   ]
  },
  {
   "cell_type": "markdown",
   "id": "8eda06c1-fe7f-4ccc-a091-1769aeecfd65",
   "metadata": {},
   "source": [
    "The first move must be either 1 step or 2 steps.\n",
    "\n",
    "After we make the first move, do we see a subproblem?\n",
    "\n",
    "(A) Suppose we walk up 1 step in the first move.  There are n-1 remaing steps.  \n",
    "\n",
    "How do we calculate the number of ways to walk up these n-1 steps?  We use the same strategy.\n",
    "\n",
    "How many ways can we walk up these n-1 remaining steps? Answer: climb(n-1).\n",
    "\n",
    "(B) If I make 2 steps in the first move, there're n-2 remaining steps.  The number of ways to walk up n-2 remaining steps is climb(n-2).\n"
   ]
  },
  {
   "cell_type": "markdown",
   "id": "f9dbc977-0c57-4822-99c2-7348a65ccc79",
   "metadata": {},
   "source": [
    "climb(n) = climb(n-1) + climb(n-2)"
   ]
  },
  {
   "cell_type": "code",
   "execution_count": 2,
   "id": "f346d9f5-e3cc-43a6-bcae-6fce137f265b",
   "metadata": {},
   "outputs": [],
   "source": [
    "# Output: the number of ways to climb up n steps\n",
    "def climb(n):\n",
    "    if n==1:\n",
    "        return 1\n",
    "    if n==2:\n",
    "        return 2\n",
    "    return climb(n-1) + climb(n-2)"
   ]
  },
  {
   "cell_type": "code",
   "execution_count": 13,
   "id": "ddcdf916-cdc2-4bf3-a862-562e84b213d6",
   "metadata": {
    "collapsed": true,
    "jupyter": {
     "outputs_hidden": true
    },
    "tags": []
   },
   "outputs": [
    {
     "name": "stdout",
     "output_type": "stream",
     "text": [
      "1 1\n",
      "2 2\n",
      "3 3\n",
      "4 5\n",
      "5 8\n",
      "6 13\n",
      "7 21\n",
      "8 34\n",
      "9 55\n",
      "10 89\n",
      "11 144\n",
      "12 233\n",
      "13 377\n",
      "14 610\n",
      "15 987\n",
      "16 1597\n",
      "17 2584\n",
      "18 4181\n",
      "19 6765\n",
      "20 10946\n",
      "21 17711\n",
      "22 28657\n",
      "23 46368\n",
      "24 75025\n",
      "25 121393\n",
      "26 196418\n",
      "27 317811\n",
      "28 514229\n",
      "29 832040\n",
      "30 1346269\n",
      "31 2178309\n",
      "32 3524578\n",
      "33 5702887\n",
      "34 9227465\n",
      "35 14930352\n",
      "36 24157817\n",
      "37 39088169\n",
      "38 63245986\n",
      "39 102334155\n",
      "40 165580141\n",
      "41 267914296\n"
     ]
    },
    {
     "ename": "KeyboardInterrupt",
     "evalue": "",
     "output_type": "error",
     "traceback": [
      "\u001b[0;31m---------------------------------------------------------------------------\u001b[0m",
      "\u001b[0;31mKeyboardInterrupt\u001b[0m                         Traceback (most recent call last)",
      "Input \u001b[0;32mIn [13]\u001b[0m, in \u001b[0;36m<cell line: 1>\u001b[0;34m()\u001b[0m\n\u001b[1;32m      1\u001b[0m \u001b[38;5;28;01mfor\u001b[39;00m n \u001b[38;5;129;01min\u001b[39;00m \u001b[38;5;28mrange\u001b[39m(\u001b[38;5;241m1\u001b[39m, \u001b[38;5;241m50\u001b[39m):\n\u001b[0;32m----> 2\u001b[0m     \u001b[38;5;28mprint\u001b[39m(n, \u001b[43mclimb\u001b[49m\u001b[43m(\u001b[49m\u001b[43mn\u001b[49m\u001b[43m)\u001b[49m)\n",
      "Input \u001b[0;32mIn [2]\u001b[0m, in \u001b[0;36mclimb\u001b[0;34m(n)\u001b[0m\n\u001b[1;32m      4\u001b[0m \u001b[38;5;28;01mif\u001b[39;00m n\u001b[38;5;241m==\u001b[39m\u001b[38;5;241m2\u001b[39m:\n\u001b[1;32m      5\u001b[0m     \u001b[38;5;28;01mreturn\u001b[39;00m \u001b[38;5;241m2\u001b[39m\n\u001b[0;32m----> 6\u001b[0m \u001b[38;5;28;01mreturn\u001b[39;00m \u001b[43mclimb\u001b[49m\u001b[43m(\u001b[49m\u001b[43mn\u001b[49m\u001b[38;5;241;43m-\u001b[39;49m\u001b[38;5;241;43m1\u001b[39;49m\u001b[43m)\u001b[49m \u001b[38;5;241m+\u001b[39m climb(n\u001b[38;5;241m-\u001b[39m\u001b[38;5;241m2\u001b[39m)\n",
      "Input \u001b[0;32mIn [2]\u001b[0m, in \u001b[0;36mclimb\u001b[0;34m(n)\u001b[0m\n\u001b[1;32m      4\u001b[0m \u001b[38;5;28;01mif\u001b[39;00m n\u001b[38;5;241m==\u001b[39m\u001b[38;5;241m2\u001b[39m:\n\u001b[1;32m      5\u001b[0m     \u001b[38;5;28;01mreturn\u001b[39;00m \u001b[38;5;241m2\u001b[39m\n\u001b[0;32m----> 6\u001b[0m \u001b[38;5;28;01mreturn\u001b[39;00m \u001b[43mclimb\u001b[49m\u001b[43m(\u001b[49m\u001b[43mn\u001b[49m\u001b[38;5;241;43m-\u001b[39;49m\u001b[38;5;241;43m1\u001b[39;49m\u001b[43m)\u001b[49m \u001b[38;5;241m+\u001b[39m climb(n\u001b[38;5;241m-\u001b[39m\u001b[38;5;241m2\u001b[39m)\n",
      "    \u001b[0;31m[... skipping similar frames: climb at line 6 (22 times)]\u001b[0m\n",
      "Input \u001b[0;32mIn [2]\u001b[0m, in \u001b[0;36mclimb\u001b[0;34m(n)\u001b[0m\n\u001b[1;32m      4\u001b[0m \u001b[38;5;28;01mif\u001b[39;00m n\u001b[38;5;241m==\u001b[39m\u001b[38;5;241m2\u001b[39m:\n\u001b[1;32m      5\u001b[0m     \u001b[38;5;28;01mreturn\u001b[39;00m \u001b[38;5;241m2\u001b[39m\n\u001b[0;32m----> 6\u001b[0m \u001b[38;5;28;01mreturn\u001b[39;00m climb(n\u001b[38;5;241m-\u001b[39m\u001b[38;5;241m1\u001b[39m) \u001b[38;5;241m+\u001b[39m \u001b[43mclimb\u001b[49m\u001b[43m(\u001b[49m\u001b[43mn\u001b[49m\u001b[38;5;241;43m-\u001b[39;49m\u001b[38;5;241;43m2\u001b[39;49m\u001b[43m)\u001b[49m\n",
      "\u001b[0;31mKeyboardInterrupt\u001b[0m: "
     ]
    }
   ],
   "source": [
    "for n in range(1, 50):\n",
    "    print(n, climb(n))"
   ]
  },
  {
   "cell_type": "markdown",
   "id": "3fe89177-2d24-4740-ac31-e91d9a48d3ec",
   "metadata": {},
   "source": [
    "This is slow.  Can we make it faster? Yes.  Why is it slow?"
   ]
  },
  {
   "cell_type": "markdown",
   "id": "7d27475d-56d5-4d1b-9121-308c4faa61dc",
   "metadata": {},
   "source": [
    "To see why it's slow, let's plug in some numbers.\n",
    "\n",
    "To solve climb(100), we make 2 recursive calls: climb(99) and climb(98).\n",
    "\n",
    "To solve climb(99), we call: climb(98) and climb(97).\n",
    "\n",
    "To solve climb(98), we call: climb(97) and climb(96).\n",
    "\n",
    "...\n",
    "\n",
    "Many calculations are calculated twice.  This is inefficient. But how inefficient is it?"
   ]
  },
  {
   "cell_type": "markdown",
   "id": "b93c3eeb-2bd2-4228-a259-8fecd3929b04",
   "metadata": {},
   "source": [
    "We need to look at the running time equation to see how inefficient this can be."
   ]
  },
  {
   "cell_type": "markdown",
   "id": "3ae623b5-e55a-4bdb-91f7-adbc988e0992",
   "metadata": {},
   "source": [
    "T(n) is the running time of climb with n steps.\n",
    "\n",
    "T(n) = c + T(n-1) + T(n-2)"
   ]
  },
  {
   "cell_type": "code",
   "execution_count": 23,
   "id": "00e87c15-91c1-4238-89a6-944e9d35502c",
   "metadata": {},
   "outputs": [],
   "source": [
    "def climb(n):\n",
    "    if n==1:\n",
    "        return 1\n",
    "    if n==2:\n",
    "        return 2\n",
    "    return climb(n-1) + climb(n-2)"
   ]
  },
  {
   "cell_type": "markdown",
   "id": "fa0716ca-7d58-45fb-9c78-22d8383ff1c5",
   "metadata": {},
   "source": [
    "I will lower bound this running time equation."
   ]
  },
  {
   "cell_type": "markdown",
   "id": "77c60443-55d0-4195-b18f-f4b585304a24",
   "metadata": {},
   "source": [
    "T(n) > T(n-2) + T(n-2)\n",
    "\n",
    "T(n) > 2T(n-2)\n",
    "\n",
    "T(n) > 2T(n-2) > 2^2 T(n-4) > 2^3 T(n-6)\n",
    "\n",
    "$T(n) > 2^{n/2} T(1)$\n",
    "\n",
    "Scratch space:\n",
    "\n",
    "T(n-2) > 2T(n-4)\n",
    "\n",
    "T(n-4) > 2T(n-6)"
   ]
  },
  {
   "cell_type": "markdown",
   "id": "ba5bdf00-1872-4394-8117-b7d016120d14",
   "metadata": {},
   "source": [
    "2^{n/2} = (2^{1/2})^n"
   ]
  },
  {
   "cell_type": "code",
   "execution_count": 16,
   "id": "1a6ece4f-ed93-4243-86f7-ea6cca503682",
   "metadata": {},
   "outputs": [
    {
     "data": {
      "text/plain": [
       "1.4142135623730951"
      ]
     },
     "execution_count": 16,
     "metadata": {},
     "output_type": "execute_result"
    }
   ],
   "source": [
    "2**0.5"
   ]
  },
  {
   "cell_type": "markdown",
   "id": "f0f6c212-0e3e-4f7a-aa39-10edd92c2bc6",
   "metadata": {},
   "source": [
    "$T(n) \\in \\Omega(1.4^n)$"
   ]
  },
  {
   "cell_type": "code",
   "execution_count": 22,
   "id": "809b6494-95b9-4deb-b563-c94566063057",
   "metadata": {},
   "outputs": [
    {
     "data": {
      "text/plain": [
       "16.0"
      ]
     },
     "execution_count": 22,
     "metadata": {},
     "output_type": "execute_result"
    }
   ],
   "source": [
    "n = 70\n",
    "(1.4**n)//1e9"
   ]
  },
  {
   "cell_type": "code",
   "execution_count": 24,
   "id": "3d261eac-4060-427a-bdf1-6e21551ae6d5",
   "metadata": {},
   "outputs": [],
   "source": [
    "def climb(n):\n",
    "    if n==1:\n",
    "        return 1\n",
    "    if n==2:\n",
    "        return 2\n",
    "    return climb(n-1) + climb(n-2)"
   ]
  },
  {
   "cell_type": "markdown",
   "id": "5f2d0cc5-9a37-47b5-bb40-2abdf7ae8538",
   "metadata": {},
   "source": [
    "Summary: the reason that this implementation is very slow (lower bound of running time is 1.4^n) is because the calculations are done twice."
   ]
  },
  {
   "cell_type": "markdown",
   "id": "763780c2-723f-498c-928d-c4a5cb690c70",
   "metadata": {},
   "source": [
    "How do we fix this?  to not calculate something twice, we calculate it once and store the answer.  The next, we'll look it up.\n",
    "\n",
    "We will use a table to store the output of climb(n), using the key n.\n",
    "\n",
    "Table[n] stores the output of climb(n).\n",
    "\n"
   ]
  },
  {
   "cell_type": "code",
   "execution_count": 25,
   "id": "2132974f-ed05-4e57-80a5-4d3fafbe1af9",
   "metadata": {},
   "outputs": [],
   "source": [
    "Table = dict()\n",
    "\n",
    "def climb(n):\n",
    "    if n in Table:\n",
    "        return Table[n]\n",
    "    \n",
    "    if n==1:\n",
    "        return 1\n",
    "    if n==2:\n",
    "        return 2\n",
    "    return climb(n-1) + climb(n-2)"
   ]
  },
  {
   "cell_type": "markdown",
   "id": "0626a716-cdd5-4151-96e6-1791e344d770",
   "metadata": {},
   "source": [
    "Lines 4-5 avoid recalculation.  If the key n is in Table, climb(n) is already calculated, we don't want to recalculate it. Instead, the simply return the value that was previously calculated.\n",
    "\n",
    "We also need to store calculations into Table.  Before an output is returned, we store it in Table.\n",
    "\n",
    "There are 3 places where outputs are returned.\n"
   ]
  },
  {
   "cell_type": "code",
   "execution_count": 26,
   "id": "6b8b54dd-0481-4516-8310-dcc9859afcc6",
   "metadata": {},
   "outputs": [],
   "source": [
    "Table = dict()\n",
    "\n",
    "def climb(n):\n",
    "    if n in Table:\n",
    "        return Table[n]\n",
    "    \n",
    "    if n==1:\n",
    "        Table[n] = 1\n",
    "        return 1\n",
    "    if n==2:\n",
    "        Table[n] = 2\n",
    "        return 2\n",
    "    output = climb(n-1) + climb(n-2)\n",
    "    Table[n] = output\n",
    "    return output"
   ]
  },
  {
   "cell_type": "code",
   "execution_count": 31,
   "id": "a93fc57d-fa2a-4f06-a891-0904d0b72590",
   "metadata": {},
   "outputs": [
    {
     "name": "stdout",
     "output_type": "stream",
     "text": [
      "1 1\n",
      "2 2\n",
      "3 3\n",
      "4 5\n",
      "5 8\n",
      "6 13\n",
      "7 21\n",
      "8 34\n",
      "9 55\n",
      "10 89\n",
      "11 144\n",
      "12 233\n",
      "13 377\n",
      "14 610\n",
      "15 987\n",
      "16 1597\n",
      "17 2584\n",
      "18 4181\n",
      "19 6765\n"
     ]
    }
   ],
   "source": [
    "for n in range(1, 20):\n",
    "    print(n, climb(n))"
   ]
  },
  {
   "cell_type": "markdown",
   "id": "181058a3-06f4-4039-98c5-70a9ed6bed16",
   "metadata": {},
   "source": [
    "The difference between divide and conquer solutions and these dynamic programming solutions is that in divide and conquer, subproblems do not overlap."
   ]
  },
  {
   "cell_type": "markdown",
   "id": "aebaaf8a-5275-499e-99c0-6a749736f84c",
   "metadata": {},
   "source": [
    "### Making change\n",
    "\n",
    "+ Figuring out if it's possible to make change for $X using certain coin values."
   ]
  },
  {
   "cell_type": "markdown",
   "id": "5b76665e-8642-444c-af2e-ae5301e51667",
   "metadata": {},
   "source": [
    "Key ideas:\n",
    "* Analyze the first move.\n",
    "    + How many ways can we make the first move?\n",
    "* After the first move is make, the problem gets smaller.  How do you solve the smaller problem?\n",
    "* The answer should consider all possible first moves.\n",
    "* Translate ideas to code"
   ]
  },
  {
   "cell_type": "markdown",
   "id": "635aeaaa",
   "metadata": {},
   "source": [
    "Suppose that we have coin values, e.g. [5, 7]\n",
    "\n",
    "Question: can we make change for \\$19 using these coin values?\n",
    "\n",
    "\n",
    "Steps:\n",
    "\n",
    "1. Define the program/API.\n",
    "    + Original problem = make\\_change([5, 7], 19)\n",
    "2. Identify the first move. What can the first move be?\n",
    "    + Make change for the amount using either 5 coin or 7 coin.\n",
    "3. Consider all possible first moves.\n",
    "    + Only these two moves are possible.\n",
    "4. After the first move is made, the problem gets smaller.\n",
    "    + First move = 7, the smaller problem = make change for 12.\n",
    "        + How do we solve this smaller? Answer: use the same strategy/procedure/program.  This is a recursive call.\n",
    "        + This smaller problem is expressed as: make_change([5, 7], 12)\n",
    "    + The other possible first move = 5.\n",
    "5. How do we determine if we can make change for 19?\n",
    "    + In code, make\\_change([5, 7], 19) = ???\n",
    "    + English: It's possible to make change for 19, if it is possible to make change for either 12 (if first move is 7) or 14 (if first move is 5).\n",
    "    + Python: \n",
    "    ```\n",
    "make_change([5,7], 19) = make_change([5,7], 12) or make_change([5,7], 14)\n",
    "    ```\n",
    "6. Now, translate this to code.\n",
    "    + You might not have a complete solution yet.\n"
   ]
  },
  {
   "cell_type": "code",
   "execution_count": 29,
   "id": "f1e1e8a9",
   "metadata": {},
   "outputs": [],
   "source": [
    "#\n",
    "# Input: list of coin values, an amount\n",
    "# Output: boolean value,  True if we can make change for the amount.\n",
    "#\n",
    "def make_change(coins, amount):\n",
    "    if amount<0:\n",
    "        return False\n",
    "    if amount==0:\n",
    "        return True\n",
    "    \n",
    "    # for each coin value, check if it's possible to make change for an amount\n",
    "    # that results from using this coin value as the first move.\n",
    "    # If it's possible, then we can make change for the amount.\n",
    "    for c in coins:\n",
    "        # if we use this coin as the first move, then the remaining amount is\n",
    "        remaining_amount = amount - c\n",
    "        \n",
    "        # how do we determine if it's possible to make change for this remaining amount?\n",
    "        if make_change(coins, remaining_amount) == True:\n",
    "            return True\n",
    "        \n",
    "    return False\n"
   ]
  },
  {
   "cell_type": "code",
   "execution_count": 32,
   "id": "edd941ce",
   "metadata": {},
   "outputs": [
    {
     "data": {
      "text/plain": [
       "True"
      ]
     },
     "execution_count": 32,
     "metadata": {},
     "output_type": "execute_result"
    }
   ],
   "source": [
    "make_change([3, 7], 17)"
   ]
  },
  {
   "cell_type": "code",
   "execution_count": 31,
   "id": "111d4a82",
   "metadata": {},
   "outputs": [
    {
     "data": {
      "text/plain": [
       "False"
      ]
     },
     "execution_count": 31,
     "metadata": {},
     "output_type": "execute_result"
    }
   ],
   "source": [
    "make_change([5, 7], 16)"
   ]
  },
  {
   "cell_type": "markdown",
   "id": "38bf6761",
   "metadata": {},
   "source": [
    "Next step, make this faster by storing computations.\n",
    "\n",
    "1. Need a \"global\" table (hash table/dictionary). Call it Table.\n",
    "2. Key of Table is input\n",
    "3. Value that is stored is output.\n",
    "4. Before an output is returned, store it in the table.\n",
    "5. Before any calculation is done, check the table."
   ]
  },
  {
   "cell_type": "code",
   "execution_count": 19,
   "id": "08f189f8",
   "metadata": {},
   "outputs": [],
   "source": [
    "Table = {}\n",
    "\n",
    "def make_change(coins, amount):\n",
    "    # check to see if this function was previously calculated for this input\n",
    "    if amount in Table:\n",
    "        return Table[amount]\n",
    "        # Note: coins don't change, don't need to have it as part of key\n",
    "    \n",
    "    \n",
    "    if amount<0:\n",
    "        Table[amount] = False\n",
    "        return False\n",
    "    if amount==0:\n",
    "        Table[amount] = True\n",
    "        return True\n",
    "    \n",
    "    for c in coins:\n",
    "        remaining_amount = amount - c\n",
    "        if make_change(coins, remaining_amount) == True:\n",
    "            Table[amount] = True\n",
    "            return True\n",
    "        \n",
    "    Table[amount] = False\n",
    "    return False\n"
   ]
  },
  {
   "cell_type": "code",
   "execution_count": 20,
   "id": "258ecfb9",
   "metadata": {},
   "outputs": [
    {
     "data": {
      "text/plain": [
       "False"
      ]
     },
     "execution_count": 20,
     "metadata": {},
     "output_type": "execute_result"
    }
   ],
   "source": [
    "make_change([5, 7], 11)"
   ]
  },
  {
   "cell_type": "code",
   "execution_count": 23,
   "id": "b9e8cd7b",
   "metadata": {},
   "outputs": [
    {
     "data": {
      "text/plain": [
       "False"
      ]
     },
     "execution_count": 23,
     "metadata": {},
     "output_type": "execute_result"
    }
   ],
   "source": [
    "make_change([5, 6], 11)"
   ]
  },
  {
   "cell_type": "code",
   "execution_count": 24,
   "id": "0cea55e2",
   "metadata": {},
   "outputs": [
    {
     "data": {
      "text/plain": [
       "{-4: False,\n",
       " -6: False,\n",
       " 1: False,\n",
       " -1: False,\n",
       " 6: False,\n",
       " -3: False,\n",
       " 4: False,\n",
       " 11: False,\n",
       " 0: True,\n",
       " 5: True,\n",
       " 10: True,\n",
       " 15: True,\n",
       " 20: True}"
      ]
     },
     "execution_count": 24,
     "metadata": {},
     "output_type": "execute_result"
    }
   ],
   "source": [
    "Table"
   ]
  },
  {
   "cell_type": "markdown",
   "id": "69196f93",
   "metadata": {},
   "source": [
    "Table is global.  It remembers things.\n",
    "\n",
    "Inputs are coins and amount, but we use only \"amount\" as key. Our reason was that coins do not change.\n",
    "\n",
    "Coins do not change for each input instance. But another input instance, coins might be different."
   ]
  },
  {
   "cell_type": "markdown",
   "id": "c97de8e1",
   "metadata": {},
   "source": [
    "Two ways to fix this."
   ]
  },
  {
   "cell_type": "markdown",
   "id": "8fa0359e",
   "metadata": {},
   "source": [
    "### 1. Make all inputs as key\n",
    "\n",
    "Lists are mutable. They cannot be directly used as keys of dictionaries. The fix: convert them to tuples."
   ]
  },
  {
   "cell_type": "code",
   "execution_count": 25,
   "id": "dc960869",
   "metadata": {},
   "outputs": [],
   "source": [
    "Table = {}\n",
    "\n",
    "def make_change(coins, amount):\n",
    "    immutable_coins = tuple(coins)\n",
    "    if (immutable_coins, amount) in Table:\n",
    "        return Table[(immutable_coins, amount)]\n",
    "    \n",
    "    if amount<0:\n",
    "        Table[(immutable_coins, amount)] = False\n",
    "        return False\n",
    "    if amount==0:\n",
    "        Table[(immutable_coins, amount)] = True\n",
    "        return True\n",
    "    \n",
    "    for c in coins:\n",
    "        remaining_amount = amount - c\n",
    "        if make_change(coins, remaining_amount) == True:\n",
    "            Table[(immutable_coins, amount)] = True\n",
    "            return True\n",
    "        \n",
    "    Table[(immutable_coins, amount)] = False\n",
    "    return False\n"
   ]
  },
  {
   "cell_type": "code",
   "execution_count": 31,
   "id": "a1126dfe",
   "metadata": {},
   "outputs": [
    {
     "data": {
      "text/plain": [
       "False"
      ]
     },
     "execution_count": 31,
     "metadata": {},
     "output_type": "execute_result"
    }
   ],
   "source": [
    "make_change([5, 7], 11)"
   ]
  },
  {
   "cell_type": "code",
   "execution_count": 32,
   "id": "0a129fe2",
   "metadata": {},
   "outputs": [
    {
     "data": {
      "text/plain": [
       "True"
      ]
     },
     "execution_count": 32,
     "metadata": {},
     "output_type": "execute_result"
    }
   ],
   "source": [
    "make_change([5, 6], 11)"
   ]
  },
  {
   "cell_type": "code",
   "execution_count": 33,
   "id": "edbc6cd9",
   "metadata": {},
   "outputs": [
    {
     "data": {
      "text/plain": [
       "{((5, 7), -4): False,\n",
       " ((5, 7), -6): False,\n",
       " ((5, 7), 1): False,\n",
       " ((5, 7), -1): False,\n",
       " ((5, 7), 6): False,\n",
       " ((5, 7), -3): False,\n",
       " ((5, 7), 4): False,\n",
       " ((5, 7), 11): False,\n",
       " ((5, 6), -4): False,\n",
       " ((5, 6), -5): False,\n",
       " ((5, 6), 1): False,\n",
       " ((5, 6), 0): True,\n",
       " ((5, 6), 6): True,\n",
       " ((5, 6), 11): True}"
      ]
     },
     "execution_count": 33,
     "metadata": {},
     "output_type": "execute_result"
    }
   ],
   "source": [
    "Table"
   ]
  },
  {
   "cell_type": "markdown",
   "id": "55871db2",
   "metadata": {},
   "source": [
    "This fix is not good because lists can be huge."
   ]
  },
  {
   "cell_type": "markdown",
   "id": "fc978888",
   "metadata": {},
   "source": [
    "### Encapsulate the global table\n",
    "\n",
    "1. coins do not change for each input instance.\n",
    "2. we'll make Table global but only for each input instance."
   ]
  },
  {
   "cell_type": "code",
   "execution_count": 34,
   "id": "efed5232",
   "metadata": {},
   "outputs": [],
   "source": [
    "def make_change(coins, amount):\n",
    "    def make_change2(coins, amount):\n",
    "        if amount in Table:\n",
    "            return Table[amount]\n",
    "        if amount<0:\n",
    "            Table[amount] = False\n",
    "            return False\n",
    "        if amount==0:\n",
    "            Table[amount] = True\n",
    "            return True\n",
    "        for c in coins:\n",
    "            remaining_amount = amount - c\n",
    "            if make_change(coins, remaining_amount) == True:\n",
    "                Table[amount] = True\n",
    "                return True\n",
    "        Table[amount] = False\n",
    "        return False\n",
    "\n",
    "    Table = {}\n",
    "    return make_change2(coins, amount)\n",
    "    "
   ]
  },
  {
   "cell_type": "code",
   "execution_count": 36,
   "id": "4a92a1ab",
   "metadata": {},
   "outputs": [
    {
     "data": {
      "text/plain": [
       "True"
      ]
     },
     "execution_count": 36,
     "metadata": {},
     "output_type": "execute_result"
    }
   ],
   "source": [
    "make_change([5, 7], 19)"
   ]
  },
  {
   "cell_type": "code",
   "execution_count": 37,
   "id": "7461f46d",
   "metadata": {},
   "outputs": [
    {
     "data": {
      "text/plain": [
       "True"
      ]
     },
     "execution_count": 37,
     "metadata": {},
     "output_type": "execute_result"
    }
   ],
   "source": [
    "make_change([5, 7], 14)"
   ]
  },
  {
   "cell_type": "code",
   "execution_count": 38,
   "id": "03dcd7db",
   "metadata": {},
   "outputs": [
    {
     "data": {
      "text/plain": [
       "False"
      ]
     },
     "execution_count": 38,
     "metadata": {},
     "output_type": "execute_result"
    }
   ],
   "source": [
    "make_change([5, 7], 11)"
   ]
  },
  {
   "cell_type": "code",
   "execution_count": 39,
   "id": "365a9acb",
   "metadata": {},
   "outputs": [
    {
     "data": {
      "text/plain": [
       "True"
      ]
     },
     "execution_count": 39,
     "metadata": {},
     "output_type": "execute_result"
    }
   ],
   "source": [
    "make_change([5, 6], 11)"
   ]
  },
  {
   "cell_type": "code",
   "execution_count": null,
   "id": "6a0a9cba",
   "metadata": {},
   "outputs": [],
   "source": []
  }
 ],
 "metadata": {
  "kernelspec": {
   "display_name": "Python 3",
   "language": "python",
   "name": "python3"
  },
  "language_info": {
   "codemirror_mode": {
    "name": "ipython",
    "version": 3
   },
   "file_extension": ".py",
   "mimetype": "text/x-python",
   "name": "python",
   "nbconvert_exporter": "python",
   "pygments_lexer": "ipython3",
   "version": "3.8.8"
  }
 },
 "nbformat": 4,
 "nbformat_minor": 5
}
