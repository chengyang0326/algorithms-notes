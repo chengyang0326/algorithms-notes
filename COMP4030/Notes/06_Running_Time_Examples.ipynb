{
 "cells": [
  {
   "cell_type": "markdown",
   "id": "f2cedf49-5725-40d4-8534-7613910d8b9e",
   "metadata": {},
   "source": [
    "# Running Time Analysis"
   ]
  },
  {
   "cell_type": "markdown",
   "id": "3e37fbd5-708e-4043-bd04-1b3f08892877",
   "metadata": {},
   "source": [
    "Agenda:\n",
    "* Find running time equations of iterative programs.\n",
    "\n",
    "* Find $O, \\Omega, \\Theta$ of running time functions.    "
   ]
  },
  {
   "cell_type": "markdown",
   "id": "cc977d25-4ce2-48ab-a9dd-a437ff24de94",
   "metadata": {},
   "source": [
    "Basic skills:\n",
    "* Given a program, determine its running time function.\n",
    "\n",
    "* Determine the complexity of the running time function.\n",
    "\n"
   ]
  },
  {
   "cell_type": "code",
   "execution_count": 1,
   "id": "4bc3ac05-a76b-4be6-95b2-7ea0714b2a76",
   "metadata": {},
   "outputs": [],
   "source": [
    "def prog1(L):\n",
    "    print(len(L))\n",
    "    print(L[0])"
   ]
  },
  {
   "cell_type": "markdown",
   "id": "f141422c-caef-4abb-80a3-f799b8d6f4d8",
   "metadata": {},
   "source": [
    "$T(n) = a$, for some (constant) number $a$.\n",
    "\n"
   ]
  },
  {
   "cell_type": "markdown",
   "id": "abfad906-1bdc-4953-b0b1-0712f9689acf",
   "metadata": {},
   "source": [
    "$T(n) \\in O(1)$.  (i.e. $T(n) \\le c * 1$)"
   ]
  },
  {
   "cell_type": "markdown",
   "id": "58a2ca21-23c4-4576-a672-e1fef8e76e5c",
   "metadata": {},
   "source": [
    "$T(n) \\in \\Omega(1)$. (i.e. $T(n) \\ge c * 1$)"
   ]
  },
  {
   "cell_type": "markdown",
   "id": "15ee95c0-bcd6-448e-9ad6-d3ce841be96e",
   "metadata": {},
   "source": [
    "$T(n) \\in \\Theta(1)$"
   ]
  },
  {
   "cell_type": "code",
   "execution_count": 3,
   "id": "8a15eab2-24a6-408a-9102-ad13bd36fefe",
   "metadata": {},
   "outputs": [],
   "source": [
    "def prob2(L):\n",
    "    s = 0                      # b steps\n",
    "    for x in L:                # n steps\n",
    "        s += x                       # d steps\n",
    "    return s*s + 10            # c steps"
   ]
  },
  {
   "cell_type": "markdown",
   "id": "818d5a62-0084-464d-9c54-1436201fd9a9",
   "metadata": {},
   "source": [
    "$T(n) = a + d*n$"
   ]
  },
  {
   "cell_type": "markdown",
   "id": "960824ff-ffe5-4b39-b2a8-b2be3a82e0d1",
   "metadata": {},
   "source": [
    "$d*n \\le T(n) \\le (a+d)*n$, for all $n>1$."
   ]
  },
  {
   "cell_type": "markdown",
   "id": "da2bd271-ce25-43ca-be92-2e6c6a64936d",
   "metadata": {},
   "source": [
    "With the constant $d$, we show that $T(n) \\in \\Omega(n)$"
   ]
  },
  {
   "cell_type": "markdown",
   "id": "148fb141-f380-47c6-bc91-1ef9d1745ca9",
   "metadata": {},
   "source": [
    "With the constant $(a+d)$, we show that $T(n) \\in O(n)$."
   ]
  },
  {
   "cell_type": "markdown",
   "id": "89a52b32-2523-4748-85c9-5ca5b952ad61",
   "metadata": {},
   "source": [
    "This means $T(n) \\in \\Theta(n)$."
   ]
  },
  {
   "cell_type": "markdown",
   "id": "db3da0bc-9399-48b6-a276-7c41075b269a",
   "metadata": {},
   "source": [
    "### Quick Review\n",
    "\n",
    "$T(n) \\in O(f(n))$ if there is a number (constant) $c$, such that $T(n) \\le c * f(n)$, for all large values of $n$."
   ]
  },
  {
   "cell_type": "markdown",
   "id": "94c1d37a-2fa9-4925-a984-acc1c6edba92",
   "metadata": {},
   "source": [
    "$T(n) \\in \\Omega(f(n))$ if there is a number (constant) $c$, such that $T(n) \\ge c * f(n)$, for all large values of $n$."
   ]
  },
  {
   "cell_type": "markdown",
   "id": "5cca1bda-15d1-4fdc-bc17-9c31424b3a27",
   "metadata": {},
   "source": [
    "$T(n) \\in \\Theta(f(n))$ if there are numbers (constants) $c_1$ and $c_2$, such that $c_1*f(n) \\le T(n) \\le c_2 * f(n)$, for all large values of $n$."
   ]
  },
  {
   "cell_type": "code",
   "execution_count": 4,
   "id": "91bd9f84-e571-4f04-a49d-3aea38998f5d",
   "metadata": {},
   "outputs": [],
   "source": [
    "def prog3(L):\n",
    "    s = 0\n",
    "    for x in L:\n",
    "        for i in range(len(L)):\n",
    "            for j in range(i+1, len(L)):\n",
    "                s += x*L[i] + L[j]            # b steps\n",
    "    return s"
   ]
  },
  {
   "cell_type": "markdown",
   "id": "f5cec222-52de-44ff-82de-3ea87f903e89",
   "metadata": {},
   "source": [
    "$T(n) \\le a + b*n*n*n = a + b*n^3$\n"
   ]
  },
  {
   "cell_type": "markdown",
   "id": "f5f05a49-dd7d-46b9-9f96-35370cd703a2",
   "metadata": {},
   "source": [
    "$T(n) \\le (a+b)*n^3$, for all $n>1$."
   ]
  },
  {
   "cell_type": "markdown",
   "id": "01a9d93d-fcc7-4b58-a902-09a9ea9c7000",
   "metadata": {},
   "source": [
    "$T(n) \\in O(n^3)$."
   ]
  },
  {
   "cell_type": "markdown",
   "id": "e7d49f85-dbd3-48be-a934-55ae4d8d9088",
   "metadata": {},
   "source": [
    "$T(n) \\ge a + b*n*n*1 = a + b*n^2 \\ge b*n^2$"
   ]
  },
  {
   "cell_type": "markdown",
   "id": "03542bd4-dae6-42df-918e-545cac5d5352",
   "metadata": {},
   "source": [
    "$T(n) \\in \\Omega(n^2)$"
   ]
  },
  {
   "cell_type": "markdown",
   "id": "f52a2b3c-c11b-4dbd-b9f9-eb1bc8adf323",
   "metadata": {},
   "source": [
    "To determine the tight bound, we will have to count the steps on lines 5-6 more explicitly."
   ]
  },
  {
   "cell_type": "markdown",
   "id": "cc330bda-cb2b-48f1-be56-f3c5549b18a5",
   "metadata": {},
   "source": [
    "Lines 3-4: $n^2$ steps."
   ]
  },
  {
   "cell_type": "markdown",
   "id": "5cf10a16-6bd4-40ba-9bc9-ec8471950d4b",
   "metadata": {},
   "source": [
    "Line 5 depends on $i$, and $i$ runs from 0 to n-1.\n",
    "\n",
    "i=0, lines 5-6 take: n-1 steps.\n",
    "\n",
    "i=1, lines 5-6 take: n-2 steps.\n",
    "\n",
    "i=2, lines 5-6 take: n-3 steps.\n",
    "\n",
    "...\n",
    "\n",
    "i=n-4, , lines 5-6 take: 3 steps.\n",
    "\n",
    "i=n-3, , lines 5-6 take: 2 steps.\n",
    "\n",
    "i=n-2, , lines 5-6 take: 1 step.\n",
    "\n",
    "i=n-1, , lines 5-6 take: 0 step."
   ]
  },
  {
   "cell_type": "code",
   "execution_count": 5,
   "id": "c8fc350b-a383-44f3-900b-114d35a7cd6c",
   "metadata": {},
   "outputs": [],
   "source": [
    "def prog3(L):\n",
    "    s = 0\n",
    "    for x in L:\n",
    "        for i in range(len(L)):\n",
    "            for j in range(i+1, len(L)):\n",
    "                s += x*L[i] + L[j]            # b steps\n",
    "    return s"
   ]
  },
  {
   "cell_type": "markdown",
   "id": "a14237fa-7ca8-4cc5-beaf-54c611471a77",
   "metadata": {},
   "source": [
    "$1 + 2 + 3 + \\cdots + (n-2) + (n-1) = (n-1)*n/2$"
   ]
  },
  {
   "cell_type": "markdown",
   "id": "62034c5c-1bfa-40d1-8283-3a49c09a76e1",
   "metadata": {},
   "source": [
    "So, lines 4-6 take: $b*(n-1)*n/2 = b*n^2/2 - b*n/2$"
   ]
  },
  {
   "cell_type": "markdown",
   "id": "3398d76a-007d-4f5f-b92e-3d19274f23b8",
   "metadata": {},
   "source": [
    "$T(n) = a + b*n*n*(n-1)/2  = a + b*n^3/2 - b*n^2/2$"
   ]
  },
  {
   "cell_type": "markdown",
   "id": "d309e258-41ff-4d05-813f-419489eb5172",
   "metadata": {},
   "source": [
    "We already establish that $T(n) \\in O(n^3)$ and $T(n) \\in \\Omega(n^2)$."
   ]
  },
  {
   "cell_type": "markdown",
   "id": "2b156771-46b8-4554-88d9-a058539e6e7d",
   "metadata": {},
   "source": [
    "$T(n) \\ge b * n^3 / 4$.  This means $T(n) \\in \\Omega(n^3)$."
   ]
  },
  {
   "cell_type": "markdown",
   "id": "362b57f1-7622-4d84-bf53-927df10f4474",
   "metadata": {},
   "source": [
    "This means $T(n) \\in \\Theta(n^3)$."
   ]
  },
  {
   "cell_type": "markdown",
   "id": "77626aed-0c45-46dd-a5b9-d313e4560aa0",
   "metadata": {},
   "source": [
    "### How about this?"
   ]
  },
  {
   "cell_type": "code",
   "execution_count": 16,
   "id": "f61ec2fa-079c-4f69-a3a3-d6e86891d778",
   "metadata": {},
   "outputs": [],
   "source": [
    "#\n",
    "# Input: list of numbers L, and a number, x\n",
    "# Input size: n, the number of items in L\n",
    "#\n",
    "# Output: ???\n",
    "# Output type: a number (int)\n",
    "#\n",
    "def prog4(L, x):                    # T(n) -- the running time of prog4 with input size n\n",
    "    if len(L) == 0:                 # a steps (constant)\n",
    "        return 0\n",
    "    first = L.pop(0)                # b steps (constant)\n",
    "    if x==first:                    # c steps (constant)\n",
    "        return 1 + prog4(L, x)      # ???\n",
    "    else:\n",
    "        return prog4(L, x)          # ???\n",
    "\n",
    "# T(n) = sum of all steps in lines 9-15.\n",
    "# T(n) = d + T(n-1)\n",
    "# The input size for the function calls on line 13 and 15 is n-1."
   ]
  },
  {
   "cell_type": "code",
   "execution_count": 12,
   "id": "d3fb0e74-dec8-40ad-9049-a3a26adafdd3",
   "metadata": {},
   "outputs": [
    {
     "data": {
      "text/plain": [
       "0"
      ]
     },
     "execution_count": 12,
     "metadata": {},
     "output_type": "execute_result"
    }
   ],
   "source": [
    "a = [5, 5, 10, 2, 1, 5]\n",
    "prog4(a, 3)"
   ]
  },
  {
   "cell_type": "markdown",
   "id": "ac21e3f2-4d54-49de-9e40-a87320597d55",
   "metadata": {},
   "source": [
    "What does line 4 do?  remove and return the first item of the list.\n",
    "\n",
    "What does this program do?\n",
    "\n",
    "What is the running time equation?  T(n) = ???"
   ]
  },
  {
   "cell_type": "markdown",
   "id": "06112d8e-4c3f-4f12-8881-ab6da5206bb4",
   "metadata": {},
   "source": [
    "$T(n) = d + T(n-1)$"
   ]
  },
  {
   "cell_type": "markdown",
   "id": "b3cc64b9-bb24-4983-b843-6896d360cfa5",
   "metadata": {},
   "source": [
    "At this point, we don't know how to establish the complexity of $T(n)$.\n",
    "\n",
    "We'll need a new technique to do this.\n",
    "\n",
    "We can guess at this time.  Because prog4 counts the occurences of x by essentially going through the input list, it should run in linear time.  In other words, $T(n) \\in \\Theta(n)$.  But this is a guess."
   ]
  },
  {
   "cell_type": "markdown",
   "id": "e4cf5a42-e07e-456a-8539-d25b546c9c2c",
   "metadata": {},
   "source": [
    "This is a simple running time equation.\n",
    "\n",
    "Other equations might look like this:\n",
    "\n",
    "* $T(n) = n + 2 * T({n \\over 2})$.\n",
    "\n",
    "* $T(n) = n^2 + T({n \\over 3})$."
   ]
  },
  {
   "cell_type": "code",
   "execution_count": null,
   "id": "f05ee545-e2e7-4683-b75b-8409a70e37a3",
   "metadata": {},
   "outputs": [],
   "source": []
  }
 ],
 "metadata": {
  "kernelspec": {
   "display_name": "Python 3",
   "language": "python",
   "name": "python3"
  },
  "language_info": {
   "codemirror_mode": {
    "name": "ipython",
    "version": 3
   },
   "file_extension": ".py",
   "mimetype": "text/x-python",
   "name": "python",
   "nbconvert_exporter": "python",
   "pygments_lexer": "ipython3",
   "version": "3.8.8"
  }
 },
 "nbformat": 4,
 "nbformat_minor": 5
}
