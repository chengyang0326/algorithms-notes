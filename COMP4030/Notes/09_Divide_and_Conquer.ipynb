{
 "cells": [
  {
   "cell_type": "markdown",
   "id": "0ae178a5-0ba7-41b4-8220-3ba5f750f517",
   "metadata": {
    "tags": []
   },
   "source": [
    "# Divide and Conquer\n",
    "\n",
    "Agenda:\n",
    "* Recursive design and analyze running time of recursive programs\n",
    "    * Analysis of running time of recursive designs, there're 2 techniques:\n",
    "        1. Repeated substitution (we've learned about this)\n",
    "        2. Master's theorem\n",
    "* Problems:\n",
    "    * Collect even numbers in a list\n",
    "    * Binary search\n",
    "    * Merge sort\n",
    "    * Quick sort\n",
    "    * Depth of tree"
   ]
  },
  {
   "cell_type": "markdown",
   "id": "2ece29e6-2ba3-48e7-a819-0e97469f0d24",
   "metadata": {},
   "source": [
    "### Decrease and Conquer"
   ]
  },
  {
   "cell_type": "markdown",
   "id": "d6083f20-f2d1-49f9-8ecf-cb3394ae38d0",
   "metadata": {},
   "source": [
    "Decrease and conquer is a recursive design. It's about reducing the problem by a constant amount.\n",
    "\n",
    "Example: in is_palindrome, we reduce a problem of size n to a subproblem of size n-2.\n",
    "\n",
    "```\n",
    "def is_palindrome(L):\n",
    "    if len(L)<=1:\n",
    "        return True\n",
    "    return L[0]==L[-1] and is_palindrome(L[1:-1])\n",
    "```\n"
   ]
  },
  {
   "cell_type": "markdown",
   "id": "bcc3a7ac-7259-42ad-8458-040ca35f6679",
   "metadata": {},
   "source": [
    "Another example: collecting even numbers from a list of numbers.\n",
    "\n",
    "This can be solved easily with an iterative desing.  Iterate through the list and collect (append to a solution) even numbers.\n",
    "\n",
    "+ Original Problem: \n",
    "    + English: finding even numbers in L\n",
    "    + Code: collect_even_numbers(L) \n",
    "    \n",
    "+ What does a subproblem look like?\n",
    "    * English: finding even numbers in L starting from the second item\n",
    "    * Code: collect_even_numbers(L[1: ])\n",
    "    \n",
    "A recursive strategy looks like this:\n",
    "* if first element is odd,\n",
    "    * Skip it\n",
    "    * Do the same thing; find even numbers from the rest of the list.\n",
    "    * In code, \"return collect_even_numbers(L[1: ])\"\n",
    "* else (if it's even),\n",
    "    * Add it to the list of all the even numbers from the rest of the list.\n",
    "    * In code, \"return [L[0]] + collect_even_numbers(L[1: ])\"\n",
    "\n",
    "Input size n reduced to size n-1."
   ]
  },
  {
   "cell_type": "code",
   "execution_count": 1,
   "id": "2f313c54-7f48-47f0-a6a9-0db1fcd047d6",
   "metadata": {},
   "outputs": [],
   "source": [
    "#\n",
    "# Input: a list of numbers, L\n",
    "# Output: a list of even numbers from L\n",
    "#\n",
    "def collect_even_numbers(L):\n",
    "    if L==[]:\n",
    "        return []\n",
    "    if L[0]%2 != 0:\n",
    "        return collect_even_numbers(L[1: ])\n",
    "    else:\n",
    "        return [L[0]] + collect_even_numbers(L[1: ])\n"
   ]
  },
  {
   "cell_type": "code",
   "execution_count": 2,
   "id": "7fd178db-07b7-47d4-92f4-04be71ea14e2",
   "metadata": {},
   "outputs": [
    {
     "data": {
      "text/plain": [
       "[2, 4, 6]"
      ]
     },
     "execution_count": 2,
     "metadata": {},
     "output_type": "execute_result"
    }
   ],
   "source": [
    "collect_even_numbers([1,2,3,4,5,6,7])"
   ]
  },
  {
   "cell_type": "markdown",
   "id": "959a35a7-8c27-4ccb-846f-774b3d384ebe",
   "metadata": {},
   "source": [
    "Running time equation, T(n) = a + T(n-1)\n",
    "\n",
    "This is in Theta(n)."
   ]
  },
  {
   "cell_type": "markdown",
   "id": "10478344-a3e2-4a68-a61c-6e4b9c4586ea",
   "metadata": {},
   "source": [
    "### Divide and Conquer\n",
    "\n",
    "In this recursive design, we reduce problem size n to a fraction of n."
   ]
  },
  {
   "cell_type": "markdown",
   "id": "721fc5bd-c96a-4269-8dad-1003a16393a2",
   "metadata": {},
   "source": [
    "Binary search:\n",
    "+ Input is a sorted list, L, and a number x.\n",
    "+ Output: True if x is in L; False if not."
   ]
  },
  {
   "cell_type": "markdown",
   "id": "c52a0dc1-6d56-4d06-a874-14f478daf24f",
   "metadata": {},
   "source": [
    "Strategy:\n",
    "\n",
    "Let's say we want to find \"John Smith Car Services\" in a YellowPage book.\n",
    "\n",
    "We open the book right in the middle, and see what's there.\n",
    "\n",
    "Suppose we see that the businesses in the middle start with \"M\". Then, we know that \"John Smith Car Services\" has to be in the first half of the book (if it's in the book at all).\n",
    "\n",
    "What do we do next?\n",
    "\n",
    "(1)\n",
    "* Discard/ignore the second part\n",
    "* Make the first part a new book and do the same thing.\n",
    "\n",
    "or\n",
    "\n",
    "(2)\n",
    "* Discard/ignore the second part\n",
    "* Open up the first half right in the middle, and see what's there\n",
    "* If the middle is larger than \"J\", then ignore that half, \n",
    "* And so on.\n",
    "\n",
    "--\n",
    "\n",
    "The first descrition is much better, more succint, more precise, and easier to describe in both English and code.\n",
    "\n",
    "The key phrase is: \"do the same thing\".\n",
    "\n",
    "\"do the same thing\" can be expressed in code as a recursive call.\n"
   ]
  },
  {
   "cell_type": "code",
   "execution_count": 40,
   "id": "35891c1b-7cfb-4f50-9e1f-e6f1d9c3347b",
   "metadata": {},
   "outputs": [],
   "source": [
    "#\n",
    "# Output: True or False\n",
    "#\n",
    "def search(L, x):\n",
    "    if L==[]:\n",
    "        return False\n",
    "    middle_index = len(L)//2\n",
    "    if x == L[middle_index]:\n",
    "        return True\n",
    "    if x < L[middle_index]:\n",
    "        return search(L[0: middle_index], x)\n",
    "    else:\n",
    "        return search(L[middle_index+1 : ], x)"
   ]
  },
  {
   "cell_type": "code",
   "execution_count": 41,
   "id": "b417193e-c945-4f4f-8e26-22b419e1e5ee",
   "metadata": {},
   "outputs": [
    {
     "data": {
      "text/plain": [
       "True"
      ]
     },
     "execution_count": 41,
     "metadata": {},
     "output_type": "execute_result"
    }
   ],
   "source": [
    "search([1,5,7,10,20,35,54], 1)"
   ]
  },
  {
   "cell_type": "code",
   "execution_count": 42,
   "id": "788b3e20-3a49-4b60-b4e8-35748d321ee6",
   "metadata": {},
   "outputs": [
    {
     "data": {
      "text/plain": [
       "False"
      ]
     },
     "execution_count": 42,
     "metadata": {},
     "output_type": "execute_result"
    }
   ],
   "source": [
    "search([1], 3)"
   ]
  },
  {
   "cell_type": "markdown",
   "id": "cc77258e-6302-47a3-9785-a57b5111a08a",
   "metadata": {},
   "source": [
    "### Another example: Quick Sort"
   ]
  },
  {
   "cell_type": "markdown",
   "id": "3d7127a7-2c06-4604-98d9-ed633c9714a2",
   "metadata": {},
   "source": [
    "Input: a list of numbers, unsorted, L.\n",
    "\n",
    "Output: a list of sorted numbers from L."
   ]
  },
  {
   "cell_type": "code",
   "execution_count": 53,
   "id": "c2a06c51-b37c-4dce-808e-1c048ab15daa",
   "metadata": {},
   "outputs": [],
   "source": [
    "#\n",
    "# Output: two lists B and C\n",
    "#  B -- all numbers in A that are less than or equal to A[0]\n",
    "#  C -- all numbers in A that are greater than A[0]\n",
    "#\n",
    "def split(A):\n",
    "    B = [ A[i] for i in range(1, len(A)) if A[i] <= A[0] ]\n",
    "    C = [ A[i] for i in range(1, len(A)) if A[i] > A[0] ]\n",
    "    return B, C\n",
    "\n",
    "def qsort(L):\n",
    "    if len(L)<=1:\n",
    "        return L\n",
    "    B, C = split(L)\n",
    "    return qsort(B) + [L[0]] + qsort(C)\n"
   ]
  },
  {
   "cell_type": "markdown",
   "id": "e3b0ebe8-b368-49c4-ab9f-90f6c7c83461",
   "metadata": {},
   "source": [
    "* After splitting L into B, C, we have\n",
    "    * L[0]\n",
    "    * B\n",
    "    * C\n",
    "* How do we put these together to sort L?\n",
    "    * do the same thing to sort B\n",
    "    * do the same thing to sort C\n",
    "    * concat sorted_B, L[0], sorted_C\n"
   ]
  },
  {
   "cell_type": "code",
   "execution_count": 52,
   "id": "14a769e8-48d4-494c-acbb-e7666b584284",
   "metadata": {},
   "outputs": [
    {
     "data": {
      "text/plain": [
       "(10, [5, 7, 1], [20, 30, 11])"
      ]
     },
     "execution_count": 52,
     "metadata": {},
     "output_type": "execute_result"
    }
   ],
   "source": [
    "L = [10, 5, 20, 7, 1, 30, 11]\n",
    "B, C = split(L)\n",
    "\n",
    "L[0], B, C"
   ]
  },
  {
   "cell_type": "code",
   "execution_count": 54,
   "id": "a1f114d7-4df4-4c4c-bbb6-4f342bea6c6e",
   "metadata": {},
   "outputs": [
    {
     "data": {
      "text/plain": [
       "[1, 5, 7, 10, 11, 20, 30]"
      ]
     },
     "execution_count": 54,
     "metadata": {},
     "output_type": "execute_result"
    }
   ],
   "source": [
    "qsort(L)"
   ]
  },
  {
   "cell_type": "markdown",
   "id": "3285db80-b243-405e-92a3-d86f2d9741b6",
   "metadata": {
    "jp-MarkdownHeadingCollapsed": true,
    "tags": []
   },
   "source": [
    "### Binary trees"
   ]
  },
  {
   "cell_type": "code",
   "execution_count": 41,
   "id": "36450c73-69d7-4b03-b312-92239ec9a0ef",
   "metadata": {},
   "outputs": [
    {
     "name": "stdout",
     "output_type": "stream",
     "text": [
      "*\n",
      "\t*\n",
      "\t\t*\n",
      "\t\t\t*\n",
      "\t\t\t\t*\n",
      "\t\t\t\t\t*\n",
      "\t\t\t\t*\n",
      "\t\t\t*\n",
      "\t\t\t\t*\n",
      "\t\t\t\t\t*\n",
      "\t*\n",
      "\t\t*\n",
      "\t\t\t*\n",
      "\t\t\t\t*\n",
      "\t\t\t\t\t*\n",
      "\t\t\t*\n",
      "\t\t\t\t*\n",
      "\t\t\t\t\t*\n",
      "\t\t\t\t\t*\n",
      "\t\t*\n",
      "\t\t\t*\n",
      "\t\t\t\t*\n"
     ]
    }
   ],
   "source": [
    "import random\n",
    "\n",
    "class BTree:\n",
    "    def __init__(self, m=None):\n",
    "        if m is None:\n",
    "            m = random.randint(2, 7)\n",
    "        self.left = None\n",
    "        self.right = None\n",
    "        if random.randint(0, m) > 0:\n",
    "            self.left = BTree(m-1)\n",
    "        if random.randint(0, m) > 0:\n",
    "            self.right = BTree(m-1)\n",
    "\n",
    "    def print(self, indents=0):\n",
    "        print('\\t'*indents + '*')\n",
    "        if self.left is not None:\n",
    "            self.left.print(indents+1)\n",
    "        if self.right is not None:\n",
    "            self.right.print(indents+1)\n",
    "\n",
    "a_tree = BTree()\n",
    "a_tree.print()"
   ]
  },
  {
   "cell_type": "code",
   "execution_count": null,
   "id": "1ee121a4-6592-48a4-ac1b-71e81e9f8724",
   "metadata": {},
   "outputs": [],
   "source": []
  },
  {
   "cell_type": "code",
   "execution_count": null,
   "id": "51da52cd-5ddb-46c1-87e9-dba306a46afe",
   "metadata": {},
   "outputs": [],
   "source": []
  }
 ],
 "metadata": {
  "kernelspec": {
   "display_name": "Python 3",
   "language": "python",
   "name": "python3"
  },
  "language_info": {
   "codemirror_mode": {
    "name": "ipython",
    "version": 3
   },
   "file_extension": ".py",
   "mimetype": "text/x-python",
   "name": "python",
   "nbconvert_exporter": "python",
   "pygments_lexer": "ipython3",
   "version": "3.8.8"
  }
 },
 "nbformat": 4,
 "nbformat_minor": 5
}
