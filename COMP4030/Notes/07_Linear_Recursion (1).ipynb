{
 "cells": [
  {
   "cell_type": "markdown",
   "id": "89fe33f4-4f5d-487f-91bb-3c9171e8e10a",
   "metadata": {},
   "source": [
    "# Linear Recursion\n",
    "\n",
    "Recursion is an effective way to solve problems."
   ]
  },
  {
   "cell_type": "markdown",
   "id": "17cb22a8-7031-407c-a670-4d97b22089c1",
   "metadata": {},
   "source": [
    "Skills and concepts to master\n",
    "+ Understand input size\n",
    "+ Explain recursive recursive strategies in English.\n",
    "+ Design recursive programs, given a strategy (described in English)\n",
    "+ Handle the case when input is not decreased and must be solved directly.\n",
    "+ Find running time equations using repeated substitutions.\n",
    "+ Iterative versus linear recursive\n",
    "    * Generating tuples is easier with loops.\n",
    "\n",
    "Problems\n",
    "+ Counting from a list\n",
    "+ Selecting from a list\n",
    "+ Reversing a list\n",
    "+ Bubble sort"
   ]
  },
  {
   "cell_type": "markdown",
   "id": "1a22cbab-3336-4c97-9d8f-f96579dc97dc",
   "metadata": {},
   "source": [
    "In COMP 4030, we need to master recursive designs.  There're two things:\n",
    "\n",
    "(1) Design our strategies correctly.\n",
    "\n",
    "(2) Design our strategies efficiently."
   ]
  },
  {
   "cell_type": "markdown",
   "id": "78b6745e-0109-4bb8-83a7-1f9daf95a5db",
   "metadata": {},
   "source": [
    "In this new conceptual language/framework, we'll need to learn to read things, write things and communicate things properly."
   ]
  },
  {
   "cell_type": "code",
   "execution_count": 3,
   "id": "2b235456-40fd-4b6d-bd21-253999d244f6",
   "metadata": {},
   "outputs": [],
   "source": [
    "def prog1(L, x):                  # returns the number of times x occurs in L.  \n",
    "    if len(L) == 0:               # returns 0 (because x occurs 0 time in an empty list)\n",
    "        return 0\n",
    "    first = L.pop(0)               \n",
    "    if x==first:                   \n",
    "        return 1 + prog1(L, x)   # returns 1 plus the number of times x occurs in the rest of L.\n",
    "    else:\n",
    "        return prog1(L, x)       # returns the number of times x occurs in the rest of L."
   ]
  },
  {
   "cell_type": "markdown",
   "id": "17b5812b-9c72-484c-980b-a84d3cc7ac43",
   "metadata": {},
   "source": [
    "prog1(L,x) returns the number of times x occurs in L."
   ]
  },
  {
   "cell_type": "markdown",
   "id": "a45a5a92-54ea-4980-bd69-fe7d10232a18",
   "metadata": {},
   "source": [
    "Here's a simple example that shows that if we can express our thinking/explanation clearly in English, we can understand the logic of a program much better."
   ]
  },
  {
   "cell_type": "markdown",
   "id": "869bb5c3-cf09-424a-90ef-98a04fa1a8f3",
   "metadata": {},
   "source": [
    "Recursive programs are annoying.\n",
    "\n",
    "But they can be very useful in some cases."
   ]
  },
  {
   "cell_type": "markdown",
   "id": "a74655fd-1480-45ce-b518-d15a4b1fc460",
   "metadata": {},
   "source": [
    "# Examples"
   ]
  },
  {
   "cell_type": "markdown",
   "id": "85d8b7ce-86ba-4588-85cb-fead26935147",
   "metadata": {},
   "source": [
    "Problem: count the number of times x occurs in a list.\n"
   ]
  },
  {
   "cell_type": "code",
   "execution_count": 2,
   "id": "008ba883-884b-4fcd-ba87-beb2ce6b2d76",
   "metadata": {},
   "outputs": [],
   "source": [
    "# \n",
    "# Input: L a list, x a number\n",
    "# Output: the number of times x occurs in a list.\n",
    "#\n",
    "def count(L, x):\n",
    "    pass\n"
   ]
  },
  {
   "cell_type": "markdown",
   "id": "6fdba5a8-87c6-464e-8256-bbe74714364c",
   "metadata": {},
   "source": [
    "The number of times x occurs in L =\n",
    "\n",
    "* 0 + the of times x occurs in the rest of L (w.o. the first item != x)\n",
    "* 1 + the of times x occurs in the rest of L (w.o. the first item == x)\n",
    "\n"
   ]
  },
  {
   "cell_type": "markdown",
   "id": "3f365575-7f1d-4ef6-bd96-e6086ed1d395",
   "metadata": {},
   "source": [
    "L = [1,2,3,4,1,5,32,230,32]\n",
    "\n",
    "x = 1\n",
    "\n"
   ]
  },
  {
   "cell_type": "code",
   "execution_count": 3,
   "id": "8a30a1f2-d7bd-41a3-b663-9c6abe221993",
   "metadata": {},
   "outputs": [],
   "source": [
    "# \n",
    "# Input: L a list, x a number\n",
    "# Output: the number of times x occurs in a list.\n",
    "#\n",
    "def count(L, x):\n",
    "    first = L.pop(0)\n",
    "    if x == first:\n",
    "        return 1 + the_number_of_times_x_occurs_in_the_rest_of_L\n",
    "    else:\n",
    "        return the_number_of_times_x_occurs_in_the_rest_of_L\n",
    "\n"
   ]
  },
  {
   "cell_type": "markdown",
   "id": "475dcc57-5943-4f87-bbcc-2f083ad4fa25",
   "metadata": {},
   "source": [
    "Some keys ideas in recursive designs:\n",
    "\n",
    "* Don't think recursively.  Why? when you think recursively, you tend to think about *how* the function calls are executed.  In this way, we trace function calls.  And this is annoying for recursive calls.\n",
    "\n",
    "* Instead, think about \"smaller problems\". Here, we think about *what* a function call should return, not *how* it is executed.\n",
    "\n",
    "\n"
   ]
  },
  {
   "cell_type": "code",
   "execution_count": 4,
   "id": "55ebe8c9-4993-4210-a8b3-e6170c7b849f",
   "metadata": {},
   "outputs": [],
   "source": [
    "# \n",
    "# Input: L a list, x a number\n",
    "# Output: the number of times x occurs in a list.\n",
    "#\n",
    "def count(L, x):\n",
    "    first = L.pop(0)\n",
    "    if x == first:\n",
    "        return 1 + count(L, x)\n",
    "    else:\n",
    "        return count(L, x)\n",
    "\n",
    "\n"
   ]
  },
  {
   "cell_type": "markdown",
   "id": "0f02776a-41d0-47a3-b899-c8462a729799",
   "metadata": {},
   "source": [
    "Lines 8-10, we use solutions of the same problem, but smaller.\n",
    "\n",
    "Eventually, it cannot get smaller.\n",
    "\n",
    "A key step in recursive designs is to solve the base case(s). These are the cases when the input cannot get smaller."
   ]
  },
  {
   "cell_type": "code",
   "execution_count": 5,
   "id": "6aa9becc-5321-4b82-ac3b-5c1c979593e6",
   "metadata": {},
   "outputs": [],
   "source": [
    "# \n",
    "# Input: L a list, x a number\n",
    "# Output: the number of times x occurs in a list.\n",
    "#\n",
    "def count(L, x):\n",
    "    if L==[]:\n",
    "        return 0        \n",
    "    first = L.pop(0)\n",
    "    if x == first:\n",
    "        return 1 + count(L, x)\n",
    "    else:\n",
    "        return count(L, x)\n",
    "\n"
   ]
  },
  {
   "cell_type": "code",
   "execution_count": 8,
   "id": "910350f2-5813-4ef2-b504-bf987d29b578",
   "metadata": {},
   "outputs": [
    {
     "data": {
      "text/plain": [
       "1"
      ]
     },
     "execution_count": 8,
     "metadata": {},
     "output_type": "execute_result"
    }
   ],
   "source": [
    "count([1,2,3,3,43,1], 2)"
   ]
  },
  {
   "cell_type": "markdown",
   "id": "b16b739c-574e-464d-9f8d-7512e0188484",
   "metadata": {},
   "source": [
    "Key steps:\n",
    "* Establish inputs, outputs. Understand the API.\n",
    "* Can we solve this problem using solutions of smaller problems?\n",
    "* Think about what the recursive call returns, not how it is executed.\n",
    "* Make sure that the input size gets smaller.\n",
    "* Handle the cases when the input size is smallest."
   ]
  },
  {
   "cell_type": "markdown",
   "id": "c7cb9a31-54ec-4e18-81c2-d005285963c2",
   "metadata": {},
   "source": [
    "### Example 2\n",
    "\n",
    "Check if a list is a palindrome.\n",
    "\n",
    "A palindrome is a list that is the same if you read it in reverse.\n",
    "\n",
    "Examples:\n",
    "* [1, 3, 1]\n",
    "* [2, 5, 5, 2]\n",
    "* [10]\n",
    "* []\n"
   ]
  },
  {
   "cell_type": "code",
   "execution_count": 10,
   "id": "38345c38-ef3a-424c-8b4b-a09a05c00244",
   "metadata": {},
   "outputs": [],
   "source": [
    "#\n",
    "# Input: L\n",
    "# Output: True or False\n",
    "#\n",
    "def is_palindrome(L):\n",
    "    pass\n",
    "\n"
   ]
  },
  {
   "cell_type": "markdown",
   "id": "1542bfd7-f6aa-429a-8c2e-a406708f1cf3",
   "metadata": {},
   "source": [
    "Note: Python slicing"
   ]
  },
  {
   "cell_type": "code",
   "execution_count": 17,
   "id": "7b03c54f-c3c5-4f26-80b7-d5500ecbfe4c",
   "metadata": {},
   "outputs": [
    {
     "name": "stdout",
     "output_type": "stream",
     "text": [
      "['h', 'e', 'l', 'l', 'o', ' ', 'w', 'o', 'r', 'l', 'd']\n",
      "['l', 'o', ' ']\n"
     ]
    }
   ],
   "source": [
    "L = list('hello world')\n",
    "print(L)\n",
    "print(L[3:6])"
   ]
  },
  {
   "cell_type": "markdown",
   "id": "cc80323d-5889-466d-a586-314dd2933134",
   "metadata": {},
   "source": [
    "Think about the semantic of checking if a list is a palindrome.\n",
    "\n"
   ]
  },
  {
   "cell_type": "code",
   "execution_count": 18,
   "id": "13427077-4ccb-496e-be96-b0d1e9e88fbb",
   "metadata": {},
   "outputs": [],
   "source": [
    "#\n",
    "# Input: L\n",
    "# Output: True or False\n",
    "#\n",
    "def is_palindrome(L):\n",
    "    if L[0] != L[-1]:\n",
    "        return False\n",
    "    else:\n",
    "        return if_the_middle_part_is_also_a_palindrome\n",
    "    \n",
    "\n",
    "\n"
   ]
  },
  {
   "cell_type": "markdown",
   "id": "ac4eb41a-13ce-4786-b8aa-c022f23204fa",
   "metadata": {},
   "source": [
    "If first character==last character, then L is a palindrome if ______\n",
    "\n",
    "\n",
    "L = [7, .......... ,7]"
   ]
  },
  {
   "cell_type": "code",
   "execution_count": 19,
   "id": "0f43031c-a340-4fe3-a968-d825278ac35c",
   "metadata": {},
   "outputs": [],
   "source": [
    "#\n",
    "# Input: L\n",
    "# Output: True or False\n",
    "#\n",
    "def is_palindrome(L):\n",
    "    if L[0] != L[-1]:\n",
    "        return False\n",
    "    else:\n",
    "        the_middle_part = L[1:-1]\n",
    "        return if_the_middle_part_is_also_a_palindrome\n",
    "    \n",
    "\n"
   ]
  },
  {
   "cell_type": "code",
   "execution_count": 20,
   "id": "0cdbc829-546c-4298-accd-5bec11896f0d",
   "metadata": {},
   "outputs": [
    {
     "data": {
      "text/plain": [
       "[2, 3, 4]"
      ]
     },
     "execution_count": 20,
     "metadata": {},
     "output_type": "execute_result"
    }
   ],
   "source": [
    "L = [1,2,3,4,5]\n",
    "L[1: -1]"
   ]
  },
  {
   "cell_type": "markdown",
   "id": "8b22869e-ddb3-4f4f-b106-6c8195e5886e",
   "metadata": {},
   "source": [
    "How do we check if the_middle_part is a palindrome?  We use the same program that we are creating."
   ]
  },
  {
   "cell_type": "code",
   "execution_count": 21,
   "id": "79c67c68-930a-4568-ac8d-d7c48ce55c3f",
   "metadata": {},
   "outputs": [],
   "source": [
    "#\n",
    "# Input: L\n",
    "# Output: True or False\n",
    "#\n",
    "def is_palindrome(L):\n",
    "    if L[0] != L[-1]:\n",
    "        return False\n",
    "    else:\n",
    "        the_middle_part = L[1:-1]\n",
    "        return is_palindrome( the_middle_part )\n"
   ]
  },
  {
   "cell_type": "markdown",
   "id": "e3116692-667f-4341-9d52-995d20b44e1b",
   "metadata": {},
   "source": [
    "On line 10, if the_middle_part is a palindrome, the output is True.  If not, it's False."
   ]
  },
  {
   "cell_type": "markdown",
   "id": "0bec554a-2b75-4cb9-a768-b2b66f786334",
   "metadata": {},
   "source": [
    "What I am not doing is tracing the recursive call."
   ]
  },
  {
   "cell_type": "markdown",
   "id": "43253cf0-6d1e-4bec-8ab1-5d5f1327e093",
   "metadata": {},
   "source": [
    "But, we have to take care of the case when the input is not reducible.  i.e. you cannot take the middle part of L."
   ]
  },
  {
   "cell_type": "code",
   "execution_count": 25,
   "id": "304d1355-e399-4a39-85fa-092cd5fd9659",
   "metadata": {},
   "outputs": [
    {
     "data": {
      "text/plain": [
       "[]"
      ]
     },
     "execution_count": 25,
     "metadata": {},
     "output_type": "execute_result"
    }
   ],
   "source": [
    "L = []\n",
    "L[1:-1]"
   ]
  },
  {
   "cell_type": "markdown",
   "id": "06691017-bc15-4755-932c-c2b2df7030c4",
   "metadata": {},
   "source": [
    "If len(L) == 1, the middle part is smaller.\n",
    "\n",
    "If however len(L) == 0, the middle part is exactly the same as L."
   ]
  },
  {
   "cell_type": "code",
   "execution_count": 26,
   "id": "3c044423-5fcf-42d8-8923-0486fb0f4bc3",
   "metadata": {},
   "outputs": [],
   "source": [
    "#\n",
    "# Input: L\n",
    "# Output: True or False\n",
    "#\n",
    "def is_palindrome(L):\n",
    "    if L==[]:\n",
    "        return True\n",
    "    \n",
    "    if L[0] != L[-1]:\n",
    "        return False\n",
    "    else:\n",
    "        the_middle_part = L[1:-1]\n",
    "        return is_palindrome( the_middle_part )\n",
    "\n"
   ]
  },
  {
   "cell_type": "code",
   "execution_count": 27,
   "id": "fde89455-e942-4baa-90bb-55c019bf6ea0",
   "metadata": {},
   "outputs": [
    {
     "data": {
      "text/plain": [
       "True"
      ]
     },
     "execution_count": 27,
     "metadata": {},
     "output_type": "execute_result"
    }
   ],
   "source": [
    "is_palindrome([1,1])"
   ]
  },
  {
   "cell_type": "code",
   "execution_count": 28,
   "id": "9277c8f5-7620-47b8-b4fc-04f73ca341aa",
   "metadata": {},
   "outputs": [
    {
     "data": {
      "text/plain": [
       "True"
      ]
     },
     "execution_count": 28,
     "metadata": {},
     "output_type": "execute_result"
    }
   ],
   "source": [
    "is_palindrome([1,3,1])"
   ]
  },
  {
   "cell_type": "code",
   "execution_count": 29,
   "id": "4f0e5f6e-0857-4aa4-b9f9-b9dedcda6d18",
   "metadata": {},
   "outputs": [
    {
     "data": {
      "text/plain": [
       "True"
      ]
     },
     "execution_count": 29,
     "metadata": {},
     "output_type": "execute_result"
    }
   ],
   "source": [
    "is_palindrome([1,2,2,1])"
   ]
  },
  {
   "cell_type": "code",
   "execution_count": 30,
   "id": "a24a77eb-bff0-48df-8d03-26b2509bd9db",
   "metadata": {},
   "outputs": [
    {
     "data": {
      "text/plain": [
       "False"
      ]
     },
     "execution_count": 30,
     "metadata": {},
     "output_type": "execute_result"
    }
   ],
   "source": [
    "is_palindrome([1,3,5,1])"
   ]
  },
  {
   "cell_type": "code",
   "execution_count": 31,
   "id": "7ee70623-1719-4604-9cfc-2ebaeaf7e201",
   "metadata": {},
   "outputs": [
    {
     "data": {
      "text/plain": [
       "False"
      ]
     },
     "execution_count": 31,
     "metadata": {},
     "output_type": "execute_result"
    }
   ],
   "source": [
    "is_palindrome([1,4])"
   ]
  },
  {
   "cell_type": "code",
   "execution_count": null,
   "id": "74fb1785-b826-4756-bb00-676277c3d6b5",
   "metadata": {},
   "outputs": [],
   "source": []
  }
 ],
 "metadata": {
  "kernelspec": {
   "display_name": "Python 3",
   "language": "python",
   "name": "python3"
  },
  "language_info": {
   "codemirror_mode": {
    "name": "ipython",
    "version": 3
   },
   "file_extension": ".py",
   "mimetype": "text/x-python",
   "name": "python",
   "nbconvert_exporter": "python",
   "pygments_lexer": "ipython3",
   "version": "3.8.8"
  }
 },
 "nbformat": 4,
 "nbformat_minor": 5
}
