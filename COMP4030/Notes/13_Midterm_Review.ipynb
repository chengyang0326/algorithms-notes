{
 "cells": [
  {
   "cell_type": "markdown",
   "id": "aa3e29f5-cf9a-49fb-bae6-f132f2b50ef6",
   "metadata": {},
   "source": [
    "# Midterm Review\n",
    "\n",
    "Format, rules:\n",
    "* The exam is in class at the same time.\n",
    "* Download the exam from Canvas, and upload your exam to Canvas.  Don't upload a blank file.\n",
    "    * The exam will be in HTML format.\n",
    "    * Your work can be done in a Jupyter notebook, but you will export it to an HTML file and upload it.  Make sure you upload your work, not the original exam file.\n",
    "* You may look at lecture notes, and course materials (on Canvas).\n",
    "* You may not talk/discuss/ask other people (online/offline).  You may not look at online materials (other than materials from this course).  You may not help anyone else. Cheating rules in a zero for the exam and a report to the department & college."
   ]
  },
  {
   "cell_type": "markdown",
   "id": "5d2f8bfe-e72f-4151-ae8a-6a0f0d7007c8",
   "metadata": {},
   "source": [
    "Concepts\n",
    "* Running time analysis\n",
    "* Figuring out running time equations\n",
    "* Determining complexity of running time equations.\n",
    "* Understanding O, Omega, Theta.  Know how to use the formal definitions to prove complexities.\n",
    "* Understanidng \"subproblems\", \"input size\" and their relations to recursive calls , and recursive designs.\n",
    "\n",
    "Skills\n",
    "* Being able to do repeated substitutions.\n",
    "* Knowing how to estimates, upper bounding, and lower bounding.\n",
    "* Figuring out what to do to determine complexities using the Master's theorem.\n",
    "* Calculating running time for iterative and recursive programs.\n",
    "* Calculating input sizes of recursive calls.\n",
    "* Designing simple recursive strategies.\n",
    "* Translating a recursive strategies from English to Python.\n",
    "* Taking care / solving the smallest cases (\"base cases\" or \"edge cases\") when you can't divide the problem any smaller."
   ]
  },
  {
   "cell_type": "markdown",
   "id": "5e192eba-6bcf-47e7-b51d-40f3a678329a",
   "metadata": {},
   "source": [
    "What do study:\n",
    "* Notebooks\n",
    "* Assignment solutions"
   ]
  },
  {
   "cell_type": "code",
   "execution_count": null,
   "id": "47e89636-91bd-4c57-a7a6-5b0053ef2eec",
   "metadata": {},
   "outputs": [],
   "source": []
  }
 ],
 "metadata": {
  "kernelspec": {
   "display_name": "Python 3",
   "language": "python",
   "name": "python3"
  },
  "language_info": {
   "codemirror_mode": {
    "name": "ipython",
    "version": 3
   },
   "file_extension": ".py",
   "mimetype": "text/x-python",
   "name": "python",
   "nbconvert_exporter": "python",
   "pygments_lexer": "ipython3",
   "version": "3.8.8"
  }
 },
 "nbformat": 4,
 "nbformat_minor": 5
}
