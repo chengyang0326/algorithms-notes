{
 "cells": [
  {
   "cell_type": "markdown",
   "id": "730e762b-34ef-40bc-8111-f86dac59024a",
   "metadata": {},
   "source": [
    "# Recursive vs Iterative Designs\n",
    "\n",
    "We must master the Master's theorem first.\n",
    "\n",
    "Problems:\n",
    "+ Maximum sublist: O(n^2), O(n log n), O(n)\n",
    "+ Integer multiplication\n",
    "\n",
    "Quick review:\n",
    "+ Determining running time equations\n",
    "    + Figure out what T(n) is; n is the size of the input.\n",
    "    + Idea: count the number of steps in each line and add them together\n",
    "    + Identify constant-time calculations (which are the same regardless of n)\n",
    "    + Identify linear-time calculations (c*n).\n",
    "    + A recursive call takes T(k), where k is the input size of of the function call.\n",
    "+ Proving upper bounds, lower bounds, tight bounds.\n",
    "    + Upperbound:  T(n) <= c * f(n).   f(n) is an upperbound of T(n).  Must find a specific number c.\n",
    "    + Bounding technique:  10n^2 + 5 <= 10n^2 + 5n^2 = 15n^2.  We find c to be 15.\n",
    "    + Upperbound is not worst case analysis; lower bound is not best case analysis.\n",
    "    + Upperbound -- at most\n",
    "    + Lowerbound -- at least\n",
    "+ Master's theorem\n",
    "+ Maybe substitutions\n"
   ]
  },
  {
   "cell_type": "markdown",
   "id": "c2cf3045-53b1-4ba9-b5b1-74a92118af84",
   "metadata": {},
   "source": [
    "### Warm-up exercises with Master's theorem"
   ]
  },
  {
   "cell_type": "markdown",
   "id": "5923b8d4-358f-430c-b77b-6101e7cf0b48",
   "metadata": {},
   "source": [
    "$T(n) = n^2 + 4 T({n \\over 2})$\n"
   ]
  },
  {
   "cell_type": "markdown",
   "id": "cc9253a5-46b9-4ee6-b2c5-06910807dff3",
   "metadata": {},
   "source": [
    "* Using the Master's theorem, we can determine the tight bound ($\\Theta$) of T(n)."
   ]
  },
  {
   "cell_type": "markdown",
   "id": "501d26cf",
   "metadata": {},
   "source": [
    "We compare 2 versus $\\log_2 4 = 2$.\n",
    "\n",
    "$T(n) \\in \\Theta(n^2 \\log n)$"
   ]
  },
  {
   "cell_type": "markdown",
   "id": "98940c36",
   "metadata": {},
   "source": [
    "Master theorem:\n",
    "$$T(n) = n^d + a * T({n \\over b})$$"
   ]
  },
  {
   "cell_type": "markdown",
   "id": "e9935b57",
   "metadata": {},
   "source": [
    "To determine the complexity of T, we compare $d$ versus $\\log_b a$."
   ]
  },
  {
   "cell_type": "markdown",
   "id": "1fd3c069",
   "metadata": {},
   "source": [
    "Two cases:\n",
    "\n",
    "1. $T(n) \\in \\Theta(n^{\\max(d, \\log_b a)})$, when $d \\ne \\log_b a$.\n",
    "2. $T(n) \\in \\Theta(n^{\\max(d, \\log_b a)} \\cdot \\log n)$, when $d = \\log_b a$."
   ]
  },
  {
   "cell_type": "markdown",
   "id": "fd75822c",
   "metadata": {},
   "source": [
    "Another example: $T(n) = n^3 + 9*T({n \\over 2})$"
   ]
  },
  {
   "cell_type": "markdown",
   "id": "e237df12",
   "metadata": {},
   "source": [
    "$T(n) \\in \\Theta(???)$"
   ]
  },
  {
   "cell_type": "markdown",
   "id": "8f14ae7e",
   "metadata": {},
   "source": [
    "We compare 3 versus $\\log_2 9$\n",
    "\n",
    "$T(n) \\in \\Theta(n^{\\log_2 9})$"
   ]
  },
  {
   "cell_type": "markdown",
   "id": "974126bf",
   "metadata": {},
   "source": [
    "We don't need a calculator to figure this out."
   ]
  },
  {
   "cell_type": "markdown",
   "id": "c44db6b1",
   "metadata": {},
   "source": [
    "$T(n) = n^5 + 130 * T({n \\over 2})$"
   ]
  },
  {
   "cell_type": "markdown",
   "id": "90d198aa",
   "metadata": {},
   "source": [
    "We must compare 5 verus $\\log_2 130$."
   ]
  },
  {
   "cell_type": "markdown",
   "id": "e67abd3b",
   "metadata": {},
   "source": [
    "We know that $\\log_2 2^k = k$."
   ]
  },
  {
   "cell_type": "markdown",
   "id": "2b90400f",
   "metadata": {},
   "source": [
    "2^3 = 8\n",
    "\n",
    "2^4 = 16\n",
    "\n",
    "2^5 = 32\n",
    "\n",
    "2^6 = 64\n",
    "\n"
   ]
  },
  {
   "cell_type": "markdown",
   "id": "b603ba1a",
   "metadata": {},
   "source": [
    "2^6 = 64 < 130\n",
    "\n",
    "$5 < \\log_2 2^6 = 6 < \\log_2 130$"
   ]
  },
  {
   "cell_type": "markdown",
   "id": "5df1e155",
   "metadata": {},
   "source": [
    "$T(n) \\in \\Theta(n^{\\log_2 130})$"
   ]
  },
  {
   "cell_type": "markdown",
   "id": "44432a70",
   "metadata": {},
   "source": [
    "----"
   ]
  },
  {
   "cell_type": "markdown",
   "id": "94d02f9a",
   "metadata": {},
   "source": [
    "### Max sublist"
   ]
  },
  {
   "cell_type": "markdown",
   "id": "6100c02c",
   "metadata": {},
   "source": [
    "L = [8, -10, 5, 7, 5, -15, 20, -5, 12, -3]\n",
    "\n",
    "We want to find a sublist that gives the largest sum."
   ]
  },
  {
   "cell_type": "markdown",
   "id": "4d2cccbd",
   "metadata": {},
   "source": [
    "A natural approach to solve a problem is first come up with an easy solution, and then try to see if there's a better one."
   ]
  },
  {
   "cell_type": "markdown",
   "id": "06ea0668",
   "metadata": {},
   "source": [
    "A sublist starts from i and ends at j. (i<=j).\n",
    "\n",
    "Knowing this, we can simply iterate through all sublists and keep track of the max sum along the way."
   ]
  },
  {
   "cell_type": "code",
   "execution_count": 23,
   "id": "e27545f5",
   "metadata": {},
   "outputs": [],
   "source": [
    "#\n",
    "# go through all sublists (pairs of (i,j) with i<= j)\n",
    "#\n",
    "def max_sublist_easy(L):\n",
    "    max_sum = L[0]\n",
    "    max_list = [L[0]]\n",
    "    for i in range(0, len(L)):\n",
    "        for j in range(i, len(L)):\n",
    "            sum_ij = sum(L[i: j+1])\n",
    "            if max_sum < sum_ij:\n",
    "                max_sum = sum_ij\n",
    "                max_list = L[i:j+1]\n",
    "    return max_sum, max_list"
   ]
  },
  {
   "cell_type": "code",
   "execution_count": 24,
   "id": "77123533",
   "metadata": {},
   "outputs": [
    {
     "data": {
      "text/plain": [
       "(29, [5, 7, 5, -15, 20, -5, 12])"
      ]
     },
     "execution_count": 24,
     "metadata": {},
     "output_type": "execute_result"
    }
   ],
   "source": [
    "L = [8, -10, 5, 7, 5, -15, 20, -5, 12, -3]\n",
    "max_sublist_easy(L)"
   ]
  },
  {
   "cell_type": "markdown",
   "id": "006eb670",
   "metadata": {},
   "source": [
    "If we initialize max_sum with 0, it is incorrectly initialized.\n",
    "\n",
    "Incorrect initialization is a common logical mistake.\n",
    "\n",
    "max_sum is the sum of one of the sublists of L.  If we initialize it to one of such values, we know that it will correct."
   ]
  },
  {
   "cell_type": "markdown",
   "id": "37f9e9af",
   "metadata": {},
   "source": [
    "Complexity of max_sublist_easy? $T(n) \\le a + b*n^3 \\in O(n^3)$\n",
    "\n",
    "Line 6: exactly n steps.\n",
    "\n",
    "Line 7: at most n steps (or $\\le b_1 * n$)\n",
    "\n",
    "Line 8: at most n steps (or $\\le b_2 * n$)\n",
    "\n"
   ]
  },
  {
   "cell_type": "markdown",
   "id": "a4fc6217",
   "metadata": {},
   "source": [
    "Can we do better than $O(n^3)$?\n",
    "\n",
    "A slightly clever iterative design can solve this in $O(n^2)$.\n",
    "\n",
    "Can we do better than $O(n^2)$?\n",
    "\n",
    "It's hard to go through all sublists in $O(n^2)$ steps.\n",
    "\n"
   ]
  },
  {
   "cell_type": "markdown",
   "id": "d0ddc701",
   "metadata": {},
   "source": [
    "We can do better using a recursive design.  It may look hard, but it should be easy conceptually."
   ]
  },
  {
   "cell_type": "markdown",
   "id": "f7500389",
   "metadata": {},
   "source": [
    "##### A recursive design\n",
    "\n",
    "+ We a list L with n numbers.\n",
    "\n",
    "+ We split it in two halves: left and right.\n",
    "\n",
    "+ We compute the max sum (of sublists) on left.\n",
    "\n",
    "+ We compute the max sum (of sublists) on right.\n",
    "\n",
    "+ "
   ]
  },
  {
   "cell_type": "markdown",
   "id": "255b6b87",
   "metadata": {},
   "source": [
    "L = [10, -20, 10, 5, -50, -10, 20, -5]\n",
    "\n",
    "left = [10, -20, 10, 5]\n",
    "\n",
    "right =  [-50, -10, 20, -5]\n",
    "\n",
    "15 is the max sum of left.  To do this, we use the same procedure (i.e. making a recursive call.)\n",
    "\n",
    "20 is the max sum of right.\n",
    "\n",
    "20 is therefore the max sum of L.\n"
   ]
  },
  {
   "cell_type": "code",
   "execution_count": 18,
   "id": "fa94d923",
   "metadata": {},
   "outputs": [],
   "source": [
    "def max_sum(L):\n",
    "    \n",
    "    left = L[0: len(L)//2]\n",
    "    right = L[len(L)//2 : len(L)]\n",
    "    \n",
    "    max_of_left = max_sum(left)\n",
    "    max_of_right = max_sum(right)\n",
    "    \n",
    "    return max( max_of_left, max_of_right )"
   ]
  },
  {
   "cell_type": "markdown",
   "id": "32600dbd",
   "metadata": {},
   "source": [
    "A few things:\n",
    "1. We still need to solve the case when L cannot be divided in halves.\n",
    "2. Is this logic correct?"
   ]
  },
  {
   "cell_type": "code",
   "execution_count": 25,
   "id": "94519353",
   "metadata": {},
   "outputs": [],
   "source": [
    "def max_sum(L):\n",
    "    if len(L)==1:\n",
    "        return L[0]\n",
    "    \n",
    "    left = L[0: len(L)//2]\n",
    "    right = L[len(L)//2 : len(L)]\n",
    "    \n",
    "    max_of_left = max_sum(left)\n",
    "    max_of_right = max_sum(right)\n",
    "    \n",
    "    return max( max_of_left, max_of_right )"
   ]
  },
  {
   "cell_type": "markdown",
   "id": "3cd3c2e0",
   "metadata": {},
   "source": [
    "We've taken care of the cases when L cannot be divided in halves.\n",
    "\n",
    "Now, is the logic correct?\n",
    "\n",
    "Not entirely correct. We miss the case when the max sublist spans the two halves.\n",
    "\n",
    "There are only 3 cases:\n",
    "+ Max list is entirely in left.\n",
    "+ Max list is entirely in right.\n",
    "+ Max list spans both left and right.\n",
    "\n",
    "If we correctly compute the max sum in all 3 cases, the solve the problem."
   ]
  },
  {
   "cell_type": "markdown",
   "id": "d8318fa7",
   "metadata": {},
   "source": [
    "This seems hard.  Should we go ahead and solve?  Or should we use the \"easy\" solution.  We know we can solve this problem \"easily\" with $O(n^2)$ iterative algorithm."
   ]
  },
  {
   "cell_type": "code",
   "execution_count": 27,
   "id": "35f73aaa",
   "metadata": {},
   "outputs": [],
   "source": [
    "def max_sum(L):\n",
    "    if len(L)==1:\n",
    "        return L[0]\n",
    "    \n",
    "    left = L[0: len(L)//2]\n",
    "    right = L[len(L)//2 : len(L)]\n",
    "    \n",
    "    max_of_left = max_sum(left)\n",
    "    max_of_right = max_sum(right)\n",
    "    third_case = max_of_spanning(L)    # M(n) running time of max_of_spanning\n",
    "    \n",
    "    return max( max_of_left, max_of_right )"
   ]
  },
  {
   "cell_type": "markdown",
   "id": "b3064af6",
   "metadata": {},
   "source": [
    "$T(n) = c*n + M(n) + 2*T({n \\over 2})$\n"
   ]
  },
  {
   "cell_type": "markdown",
   "id": "8da9af9a",
   "metadata": {},
   "source": [
    "if M(n) is $n^2$,  $T(n) = n^2 + 2T({n \\over 2}) \\in \\Theta(n^2)$"
   ]
  },
  {
   "cell_type": "markdown",
   "id": "7b4aa818",
   "metadata": {},
   "source": [
    "If $M(n)$ is $n$, then $T(n) = n + 2T({n \\over 2}) \\in \\Theta(n \\log n)$"
   ]
  },
  {
   "cell_type": "code",
   "execution_count": 33,
   "id": "a498527f",
   "metadata": {},
   "outputs": [
    {
     "name": "stdout",
     "output_type": "stream",
     "text": [
      "100 15.1\n",
      "100100 6026.1\n",
      "200100 11362.6\n",
      "300100 16493.5\n",
      "400100 21499.2\n",
      "500100 26415.8\n",
      "600100 31263.6\n",
      "700100 36055.7\n",
      "800100 40801.0\n",
      "900100 45506.2\n"
     ]
    }
   ],
   "source": [
    "import math\n",
    "for n in range(100, 1000000, 100000):\n",
    "    a = n*n\n",
    "    b = n*math.log2(n)\n",
    "    print(n, round(a/b,1))"
   ]
  },
  {
   "cell_type": "code",
   "execution_count": null,
   "id": "d1e236d1",
   "metadata": {},
   "outputs": [],
   "source": []
  }
 ],
 "metadata": {
  "kernelspec": {
   "display_name": "Python 3 (ipykernel)",
   "language": "python",
   "name": "python3"
  },
  "language_info": {
   "codemirror_mode": {
    "name": "ipython",
    "version": 3
   },
   "file_extension": ".py",
   "mimetype": "text/x-python",
   "name": "python",
   "nbconvert_exporter": "python",
   "pygments_lexer": "ipython3",
   "version": "3.9.12"
  }
 },
 "nbformat": 4,
 "nbformat_minor": 5
}
