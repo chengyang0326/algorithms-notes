{
 "cells": [
  {
   "cell_type": "markdown",
   "id": "9503c307-e587-44be-b503-e7558dfb8366",
   "metadata": {},
   "source": [
    "# Divide and Conquer Strategies (part 2)\n",
    "\n",
    "* Problems:\n",
    "    * Checking subsequence\n",
    "    * Quicksort\n",
    "    * Depth of tree\n"
   ]
  },
  {
   "cell_type": "markdown",
   "id": "ee8a19f5",
   "metadata": {},
   "source": [
    "### Checking if a string is a subsequence of another string"
   ]
  },
  {
   "cell_type": "markdown",
   "id": "048121b7",
   "metadata": {},
   "source": [
    "Input: \"eld\", \"hello world\"\n",
    "\n",
    "Output: True\n",
    "\n",
    "Reason: eld is a subsequence of \"hello world\""
   ]
  },
  {
   "cell_type": "code",
   "execution_count": 1,
   "id": "2cdf5084",
   "metadata": {},
   "outputs": [],
   "source": [
    "#\n",
    "# output: True if s is a subsequence of t\n",
    "#\n",
    "def is_subsequence(s, t):\n",
    "    if s=='':\n",
    "        return True\n",
    "    if t=='':\n",
    "        return False\n",
    "    \n",
    "    if s[-1]==t[-1]:\n",
    "        prefix_s = s[0:-1]\n",
    "        prefix_t = t[0:-1]\n",
    "        return is_subsequence(prefix_s, prefix_t)\n",
    "    else:\n",
    "        prefix_t = t[0:-1]\n",
    "        return is_subsequence(s, prefix_t)\n",
    "    "
   ]
  },
  {
   "cell_type": "code",
   "execution_count": 8,
   "id": "04c24ab6",
   "metadata": {},
   "outputs": [
    {
     "data": {
      "text/plain": [
       "True"
      ]
     },
     "execution_count": 8,
     "metadata": {},
     "output_type": "execute_result"
    }
   ],
   "source": [
    "is_subsequence('helld', 'hello world')"
   ]
  },
  {
   "cell_type": "markdown",
   "id": "999ab92e",
   "metadata": {},
   "source": [
    "The approach/design is recursive.  Solving a problem of size n by solving the same problem of smaller size.\n",
    "\n",
    "Key idea: how to identify a smaller problem."
   ]
  },
  {
   "cell_type": "markdown",
   "id": "a5854411",
   "metadata": {},
   "source": [
    "+ t = hello world\n",
    "+ s = eld\n",
    "\n",
    "Last characters (d) are the same.\n",
    "\n",
    "+ t = ...........d\n",
    "+ s = ......d\n",
    "\n",
    "Last characters (d) are the same, s is a subsequence of t only if the prefix of s is a subsequence of the prefix of t.\n",
    "\n",
    "--\n",
    "\n",
    "Last characters are not the same.\n",
    "\n",
    "+ t = hello world\n",
    "+ s = howl\n",
    "\n",
    "In this case, s is a subsequence of t only if s is a subsequence of prefix of t.\n",
    "\n",
    "\n",
    "t = .............d\n",
    "\n",
    "s = .........l"
   ]
  },
  {
   "cell_type": "markdown",
   "id": "4eecf59a",
   "metadata": {},
   "source": [
    "List slicing is linear time in Python."
   ]
  },
  {
   "cell_type": "code",
   "execution_count": 11,
   "id": "81fa2afd",
   "metadata": {},
   "outputs": [
    {
     "name": "stdout",
     "output_type": "stream",
     "text": [
      "['h', 'e', 'l', 'l', 'o', ' ', 'w', 'o', 'r', 'l', 'd']\n",
      "['l', 'l', 'o', ' ']\n"
     ]
    }
   ],
   "source": [
    "A = list('hello world')\n",
    "B = A[2:6]   # linear time\n",
    "print(A)\n",
    "print(B)"
   ]
  },
  {
   "cell_type": "code",
   "execution_count": 12,
   "id": "aa2cadeb",
   "metadata": {},
   "outputs": [
    {
     "data": {
      "text/plain": [
       "[10, 'l', 'o', ' ']"
      ]
     },
     "execution_count": 12,
     "metadata": {},
     "output_type": "execute_result"
    }
   ],
   "source": [
    "B[0] = 10\n",
    "B"
   ]
  },
  {
   "cell_type": "code",
   "execution_count": 13,
   "id": "88305df0",
   "metadata": {},
   "outputs": [
    {
     "data": {
      "text/plain": [
       "['h', 'e', 'l', 'l', 'o', ' ', 'w', 'o', 'r', 'l', 'd']"
      ]
     },
     "execution_count": 13,
     "metadata": {},
     "output_type": "execute_result"
    }
   ],
   "source": [
    "A"
   ]
  },
  {
   "cell_type": "code",
   "execution_count": 15,
   "id": "7ec8300c",
   "metadata": {},
   "outputs": [
    {
     "name": "stdout",
     "output_type": "stream",
     "text": [
      "['h', 'e', 'l', 'l', 'o', ' ', 'w', 'o', 'r', 'l', 'd']\n"
     ]
    }
   ],
   "source": [
    "C = A   # constant time\n",
    "print(C)"
   ]
  },
  {
   "cell_type": "code",
   "execution_count": 16,
   "id": "e63ec890",
   "metadata": {},
   "outputs": [
    {
     "data": {
      "text/plain": [
       "['h', 'e', 2022, 'l', 'o', ' ', 'w', 'o', 'r', 'l', 'd']"
      ]
     },
     "execution_count": 16,
     "metadata": {},
     "output_type": "execute_result"
    }
   ],
   "source": [
    "C[2] = 2022\n",
    "C"
   ]
  },
  {
   "cell_type": "code",
   "execution_count": 17,
   "id": "eb010163",
   "metadata": {},
   "outputs": [
    {
     "data": {
      "text/plain": [
       "['h', 'e', 2022, 'l', 'o', ' ', 'w', 'o', 'r', 'l', 'd']"
      ]
     },
     "execution_count": 17,
     "metadata": {},
     "output_type": "execute_result"
    }
   ],
   "source": [
    "A"
   ]
  },
  {
   "cell_type": "markdown",
   "id": "d33569c2-72f6-4e8e-a62f-8c35b85990fb",
   "metadata": {
    "tags": []
   },
   "source": [
    "### Binary Trees"
   ]
  },
  {
   "cell_type": "code",
   "execution_count": 23,
   "id": "ed5d3006-2d0b-4ee4-a94b-639719349a6f",
   "metadata": {
    "tags": []
   },
   "outputs": [
    {
     "name": "stdout",
     "output_type": "stream",
     "text": [
      "*\n",
      "\t*\n",
      "\t\t*\n",
      "\t\t*\n",
      "\t\t\t*\n",
      "\t\t\t*\n",
      "\t*\n",
      "\t\t*\n",
      "\t\t\t*\n",
      "\t\t*\n"
     ]
    }
   ],
   "source": [
    "import random\n",
    "\n",
    "class BTree:\n",
    "    def __init__(self, m=None):\n",
    "        if m is None:\n",
    "            m = random.randint(2, 7)\n",
    "        self.left = None\n",
    "        self.right = None\n",
    "        if random.randint(0, m) > 0:\n",
    "            self.left = BTree(m-1)\n",
    "        if random.randint(0, m) > 0:\n",
    "            self.right = BTree(m-1)\n",
    "\n",
    "    def print(self, indents=0):\n",
    "        print('\\t'*indents + '*')\n",
    "        if self.left is not None:\n",
    "            self.left.print(indents+1)\n",
    "        if self.right is not None:\n",
    "            self.right.print(indents+1)\n",
    "\n",
    "a_tree = BTree(3)\n",
    "a_tree.print()"
   ]
  },
  {
   "cell_type": "code",
   "execution_count": 24,
   "id": "259e58dc-0ad0-46a3-a1ec-6b5bcb834bb4",
   "metadata": {},
   "outputs": [],
   "source": [
    "t = BTree(10)"
   ]
  },
  {
   "cell_type": "markdown",
   "id": "79907095",
   "metadata": {},
   "source": [
    "How many nodes does this tree have?"
   ]
  },
  {
   "cell_type": "code",
   "execution_count": 46,
   "id": "26cd7dac",
   "metadata": {},
   "outputs": [],
   "source": [
    "#\n",
    "# Output: the number of nodes in some_tree\n",
    "#\n",
    "def count_nodes(some_tree):\n",
    "    if some_tree is None:\n",
    "        return 0\n",
    "    else:\n",
    "        return 1 + count_nodes(some_tree.left) + count_nodes(some_tree.right)\n"
   ]
  },
  {
   "cell_type": "code",
   "execution_count": 54,
   "id": "86561fc4",
   "metadata": {},
   "outputs": [
    {
     "data": {
      "text/plain": [
       "7"
      ]
     },
     "execution_count": 54,
     "metadata": {},
     "output_type": "execute_result"
    }
   ],
   "source": [
    "t = BTree(4)\n",
    "count_nodes(t)"
   ]
  },
  {
   "cell_type": "code",
   "execution_count": 55,
   "id": "bf4dd6e0",
   "metadata": {},
   "outputs": [
    {
     "name": "stdout",
     "output_type": "stream",
     "text": [
      "*\n",
      "\t*\n",
      "\t\t*\n",
      "\t\t\t*\n",
      "\t\t*\n",
      "\t\t\t*\n",
      "\t\t\t\t*\n"
     ]
    }
   ],
   "source": [
    "t.print()"
   ]
  },
  {
   "cell_type": "markdown",
   "id": "e9fbecbf",
   "metadata": {},
   "source": [
    "### High level design -- another sorting design"
   ]
  },
  {
   "cell_type": "markdown",
   "id": "a93a2ba0",
   "metadata": {},
   "source": []
  },
  {
   "cell_type": "markdown",
   "id": "6e64a0f6",
   "metadata": {},
   "source": [
    "Input: L, e.g. [10, 5, 20, 1, 2, 38, 2, 7]\n",
    "\n",
    "Output: sorted L, [1, 2, 2, 5, 7, 10, 20, 38]\n",
    "\n",
    "Strategy:\n",
    "\n",
    "+ break it down in halves and use the same procedure to sort the halves.\n",
    "\n",
    "L = [10, 5, 20, 1, 2, 38, 2, 7]\n",
    "\n",
    "left = [10, 5, 20, 1]\n",
    "\n",
    "right = [2, 38, 2, 7]\n",
    "\n",
    "Use the same procedure to sort left and right\n",
    "\n",
    "sorted_left = [1, 5, 10, 20]\n",
    "\n",
    "sorted_right = [2, 2, 7, 38]\n",
    "\n",
    "delegate this to another precedure to merge two sorted lists to produce [1, 2, 2, 5, 7, 10, 20, 38].\n",
    "\n",
    "Now the design is complete."
   ]
  },
  {
   "cell_type": "code",
   "execution_count": null,
   "id": "661575ef",
   "metadata": {},
   "outputs": [],
   "source": [
    "def merge_sort(L):\n",
    "    if len(L) <= 1:\n",
    "        return L\n",
    "    left = L[0: len(L)//2]\n",
    "    right = L[len(L)//2 : len(L)]\n",
    "    sorted_left = merge_sort(left)\n",
    "    sorted_right = merge_sort(right)\n",
    "    return merge(sorted_left, sorted_right)\n",
    "\n",
    "def merge(A, B):\n",
    "    # will implement later\n",
    "    pass"
   ]
  }
 ],
 "metadata": {
  "kernelspec": {
   "display_name": "Python 3",
   "language": "python",
   "name": "python3"
  },
  "language_info": {
   "codemirror_mode": {
    "name": "ipython",
    "version": 3
   },
   "file_extension": ".py",
   "mimetype": "text/x-python",
   "name": "python",
   "nbconvert_exporter": "python",
   "pygments_lexer": "ipython3",
   "version": "3.8.8"
  }
 },
 "nbformat": 4,
 "nbformat_minor": 5
}
