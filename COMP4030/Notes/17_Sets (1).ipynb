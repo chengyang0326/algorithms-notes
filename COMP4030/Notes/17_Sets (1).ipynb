{
 "cells": [
  {
   "cell_type": "markdown",
   "id": "25881bab-e45c-42ba-8976-894eeff44e84",
   "metadata": {},
   "source": [
    "# Generate all sets\n",
    "\n",
    "sets are very important.  The solution type of many problems is sets."
   ]
  },
  {
   "cell_type": "markdown",
   "id": "c5cd74a6-eb97-4c39-a075-49f69da9b883",
   "metadata": {},
   "source": [
    "Here are all 8 sets containing up to 3 items (i.e. 0, 1, and 2):\n",
    "\n",
    "+ {}\n",
    "+ {0}\n",
    "+ {1}\n",
    "+ {2}\n",
    "+ {1,2}\n",
    "+ {0,2}\n",
    "+ {0,1}\n",
    "+ {0, 1, 2}\n",
    "\n",
    "How many sets are there containing up to 4 items? 16.\n",
    "\n",
    "We'll \"present\" a set as a tuple/list. A solution is like this: [ * , * , * , * ]\n",
    "\n",
    "solution[0] can contain or not contain 0.  Two possibilities.\n",
    "\n",
    "solution[1] can contain or not contain 1.  Two possibilities.\n",
    "\n",
    "solution[2] can contain or not contain 2.  Two possibilities.\n",
    "\n",
    "solution[3] can contain or not contain 3.  Two possibilities.\n",
    "\n",
    "2 * 2 * 2 * 2 = 16 possibilities."
   ]
  },
  {
   "cell_type": "markdown",
   "id": "15e239b3-4232-4a69-af75-f76fb7645d71",
   "metadata": {},
   "source": [
    "From this, we see that we can represent a set with up to n items (0, 1, ... n-1) as a list of lenght n.\n",
    "\n",
    "solution[i] indicates if item i is in the set.\n",
    "\n",
    "solution is a boolean list of length n.\n",
    "\n",
    "For example, [False, False, True, False] represents the set {2}.\n",
    "\n",
    "For example, [True, False, True, False] represents the set {0, 2}."
   ]
  },
  {
   "cell_type": "markdown",
   "id": "9953254b-6f93-42cc-9a03-e0a11bde6bad",
   "metadata": {},
   "source": [
    "### A key step in backtracking\n",
    "\n",
    "We need to know how to represent solutions.  Most of the time, a solution can be represented as a list, with possible additional contraints.\n",
    "\n",
    "For example: a set is a boolean list.\n"
   ]
  },
  {
   "cell_type": "code",
   "execution_count": 7,
   "id": "950f6177-6adf-454f-80ab-bcb6271410aa",
   "metadata": {},
   "outputs": [],
   "source": [
    "def all_sets(solution, i):\n",
    "    if i==len(solution):\n",
    "        print(set([i for i in range(len(solution)) if solution[i]==True]))\n",
    "    else:\n",
    "        possibilities = [True, False]\n",
    "        for p in possibilities:\n",
    "            solution[i] = p\n",
    "            all_sets(solution, i+1)\n"
   ]
  },
  {
   "cell_type": "markdown",
   "id": "6ac5e84e-534d-4e5d-ab7f-66905698e018",
   "metadata": {},
   "source": [
    "all_sets(solution, i) generates all sets where solution is already configured at indices 0, 1, ..., i-1."
   ]
  },
  {
   "cell_type": "code",
   "execution_count": 11,
   "id": "742f88bd-d67d-468e-ad86-d06a45b4cc30",
   "metadata": {},
   "outputs": [
    {
     "name": "stdout",
     "output_type": "stream",
     "text": [
      "{0, 1, 2}\n",
      "{0, 1}\n",
      "{0, 2}\n",
      "{0}\n",
      "{1, 2}\n",
      "{1}\n",
      "{2}\n",
      "set()\n"
     ]
    }
   ],
   "source": [
    "all_sets([None,None,None], 0)"
   ]
  },
  {
   "cell_type": "code",
   "execution_count": 12,
   "id": "5677af39-e108-4691-ba18-45aeb887c6b4",
   "metadata": {},
   "outputs": [
    {
     "name": "stdout",
     "output_type": "stream",
     "text": [
      "{0, 1, 2}\n",
      "{0, 1}\n",
      "{0, 2}\n",
      "{0}\n"
     ]
    }
   ],
   "source": [
    "# all sets that must contain 0\n",
    "all_sets([True,None,None], 1)"
   ]
  },
  {
   "cell_type": "code",
   "execution_count": null,
   "id": "c6e558b1-30f1-49d6-9187-f031d4279dd6",
   "metadata": {},
   "outputs": [],
   "source": []
  }
 ],
 "metadata": {
  "kernelspec": {
   "display_name": "Python 3 (ipykernel)",
   "language": "python",
   "name": "python3"
  },
  "language_info": {
   "codemirror_mode": {
    "name": "ipython",
    "version": 3
   },
   "file_extension": ".py",
   "mimetype": "text/x-python",
   "name": "python",
   "nbconvert_exporter": "python",
   "pygments_lexer": "ipython3",
   "version": "3.9.12"
  }
 },
 "nbformat": 4,
 "nbformat_minor": 5
}
