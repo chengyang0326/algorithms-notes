{
 "cells": [
  {
   "cell_type": "markdown",
   "id": "15361618-1ea1-4ad4-9df6-b153be60b322",
   "metadata": {},
   "source": [
    "## Running Time Analysis of Linearly Recursive Programs"
   ]
  },
  {
   "cell_type": "markdown",
   "id": "5a9bb802-83ef-45a1-9364-406a9483a1f5",
   "metadata": {},
   "source": [
    "Key ideas in determining running time functions of recursive programs:\n",
    "\n",
    "* Use the running time function T to indicate the running time of recursive calls.\n",
    "\n",
    "* The parameter of T is the input size of the recursive call.\n",
    "\n",
    "* Input size should be reduced.\n",
    "\n",
    "* Use substitution or the Master's theorem to figure the exact equation for T."
   ]
  },
  {
   "cell_type": "markdown",
   "id": "c9b5b9f4-0de4-439d-9038-6def3cea90f2",
   "metadata": {},
   "source": [
    "### Key ideas in thinking about recursive designs\n",
    "\n",
    "* Understand the concept of a subproblem.\n",
    "\n",
    "* See subproblems in a problem.\n",
    "\n",
    "* Try to solve a problem using solutions of subproblems.\n",
    "\n",
    "* Create subproblems: problem reduction\n",
    "\n",
    "* Solve the problem directly when it's not possible to create subproblems.\n"
   ]
  },
  {
   "cell_type": "markdown",
   "id": "83e056f6-bdb9-41e6-8f65-e889dfe2ff50",
   "metadata": {},
   "source": [
    "### Problem Reduction\n",
    "\n",
    "Compare how to create subproblems using iterative versus recursive techniques.\n",
    "\n",
    "**The problem**: is_palindrome -- True if input is a palindrome; False if not.\n",
    "\n",
    "ABBA is a palindrome.\n",
    "\n",
    "Solution design:\n",
    "+ compare first and last items.\n",
    "+ if they are equal, check the middle part."
   ]
  },
  {
   "cell_type": "code",
   "execution_count": 9,
   "id": "576ee366-738a-4e29-ac6a-5e87a69d69f4",
   "metadata": {},
   "outputs": [],
   "source": [
    "## Recursive design\n",
    "#\n",
    "# Input: L, a list of n things.\n",
    "#\n",
    "def is_palindrome(L):\n",
    "    if len(L)<=1:\n",
    "        return True\n",
    "    # if L[0]!=L[-1]:\n",
    "    #     return False\n",
    "    # else:\n",
    "    #     return is_palindrome(L[1 : -1]) \n",
    "    return L[0]==L[-1] and is_palindrome(L[1:-1])"
   ]
  },
  {
   "cell_type": "markdown",
   "id": "08ec3549-edc6-4134-aad0-9c467879e6c6",
   "metadata": {},
   "source": [
    "We reduced a problem of size n, to a subproblem of size n-2.\n",
    "\n",
    "In some way, the recursive design is more \"declarative\".  A list is a panlindrome if first==last and the rest is also a palindrome."
   ]
  },
  {
   "cell_type": "code",
   "execution_count": 7,
   "id": "24f43970-eda3-4635-9f7b-eabdb23cee08",
   "metadata": {},
   "outputs": [],
   "source": [
    "## Iterative design\n",
    "\n",
    "def is_palindrome(L):\n",
    "    first = 0\n",
    "    last = len(L)-1\n",
    "    while first < last:\n",
    "        if L[first]!=L[last]:\n",
    "            return False\n",
    "        else:\n",
    "            first += 1\n",
    "            last -= 1\n",
    "    return True"
   ]
  },
  {
   "cell_type": "markdown",
   "id": "616bb613-2baf-475f-9d9c-7e4e1140835f",
   "metadata": {},
   "source": [
    "The iterative design spells out exactly **how** to solve the problem.  It's \"procedural\"."
   ]
  },
  {
   "cell_type": "code",
   "execution_count": 3,
   "id": "959d072e-f50d-4f0c-9ddf-d9611e38aa97",
   "metadata": {},
   "outputs": [],
   "source": [
    "#### delegation\n",
    "def is_palindrome(L):\n",
    "    return L==list(reversed(L))"
   ]
  },
  {
   "cell_type": "markdown",
   "id": "6719b893-f7da-417f-b073-c4e34cda98ce",
   "metadata": {},
   "source": [
    "### Running time analysis"
   ]
  },
  {
   "cell_type": "code",
   "execution_count": 10,
   "id": "a5a19635-d91f-4e27-a30e-bdda1f8e4c2d",
   "metadata": {},
   "outputs": [],
   "source": [
    "def is_palindrome(L):                        # T(n) =\n",
    "    if len(L)<=1:                            #         constant\n",
    "        return True                          #         constant\n",
    "    if L[0]!=L[-1]:                          #         constant\n",
    "        return False                         #         constant\n",
    "    else:\n",
    "        return is_palindrome(L[1 : -1])      #         T(n-2)"
   ]
  },
  {
   "cell_type": "markdown",
   "id": "062fd8c3-c0b7-4010-98a9-1d91799154f4",
   "metadata": {},
   "source": [
    "First, specify the running time function:\n",
    "\n",
    "T(n) = a + T(n-2)"
   ]
  },
  {
   "cell_type": "markdown",
   "id": "52f61076-33c7-4133-a2e5-3cdec174fde2",
   "metadata": {},
   "source": [
    "Next, we'll figure the exact equation for T.  There are two main techniques.  The first one is call repeated substitution."
   ]
  },
  {
   "cell_type": "markdown",
   "id": "9edd771f-a758-4ba5-871b-a11410cf828e",
   "metadata": {},
   "source": [
    "**Repeated substitution**: we'll repeatedly subsitute T on the right hand side of the equation with T on the left hand side, with appropriate parameters."
   ]
  },
  {
   "cell_type": "markdown",
   "id": "518cf60c-b66d-420f-9f7e-a00aa31d8d2b",
   "metadata": {},
   "source": [
    "T(n) = a + T(n-2)\n",
    "\n",
    "T(n) = a + a + T(n-4)\n",
    "\n",
    "\n",
    "Need to figure what T(n-2) is.\n",
    "\n",
    "To do this, we'll replace n with n-2 in the original equation.\n",
    "\n",
    "T(n) = a + T(n-2)\n",
    "\n",
    "n is a variable; it can be anything.  It can be n-2.\n",
    "\n",
    "T(n-2) = a + T(n-2-2) = a + T(n-4)"
   ]
  },
  {
   "cell_type": "markdown",
   "id": "8cd8607f-6cd4-499c-8a15-9cb8617b8117",
   "metadata": {},
   "source": [
    "T(n) = a + T(n-2)\n",
    "\n",
    "T(n) = 2a + T(n-4)\n",
    "\n",
    "T(n) = 2a + a + T(n-6) = 3a + T(n-6)\n",
    "\n",
    "What is T(n-4)?   \n",
    "\n",
    "If we replace n with n-4 in the original equation, we get this: T(n-4) = a + T(n-6)."
   ]
  },
  {
   "cell_type": "markdown",
   "id": "dd847add-d476-49f4-ac95-5e02f88d1e23",
   "metadata": {},
   "source": [
    "Summary,\n",
    "\n",
    "T(n) = a + T(n-2) = 2a + T(n-4) = 3a + T(n-6) = 4a + T(n-8) = 5a + T(n-10) = ...\n",
    "\n",
    "After n/2 steps of substitutions, T(n) = (n/2) * a + T(n - 2*(n/2)) = (n/2) * a + T(0).\n",
    "\n",
    "T(0) = constant."
   ]
  },
  {
   "cell_type": "markdown",
   "id": "61015b69-7e55-412e-9ba3-79e9c049bf8a",
   "metadata": {},
   "source": [
    "$a*n/2 \\le T(n) = a*n/2 + b \\le (a+b)*n$ for all $n>1$."
   ]
  },
  {
   "cell_type": "markdown",
   "id": "6ed55db4-72bd-4ff6-9e85-41679fc08015",
   "metadata": {},
   "source": [
    "$T(n) \\in \\Theta(n)$"
   ]
  },
  {
   "cell_type": "markdown",
   "id": "308feefa-218c-4093-9a81-f10811c9c936",
   "metadata": {},
   "source": [
    "### Another example"
   ]
  },
  {
   "cell_type": "markdown",
   "id": "6a7d8ecd-2862-48e2-a3b0-68dd3e89dcf1",
   "metadata": {},
   "source": [
    "T(n) = 1 + T(n/2)\n",
    "\n",
    "Find the exact function for T."
   ]
  },
  {
   "cell_type": "markdown",
   "id": "7a7614e4-3761-4882-81ee-6517e786cfb4",
   "metadata": {},
   "source": [
    "Original function: T(n) = 1 + T(n/2)\n",
    "\n",
    "T(n) = 1 + T(n/2)                    = 1 + T(n/2^1)\n",
    "\n",
    "T(n) = 1 + 1 + T(n/4) = 2 + T(n/4)   = 2 + T(n/2^2)\n",
    "\n",
    "T(n) = 2 + 1 + T(n/8) = 3 + T(n/8)   = 3 + T(n/2^3)\n",
    "\n",
    "T(n) = 3 + 1 + T(n/16) = 4 + T(n/16) = 4 + T(n/2^4) \n",
    "\n",
    "After k steps, T(n) = k + T(n/2^k)\n",
    "\n",
    "Scratch space:\n",
    "\n",
    "Replacing n with n/2 in the original function: T(n/2) = 1 + T(n/4)\n",
    "\n",
    "Replacing n with n/4 in the original function: T(n/4) = 1 + T(n/8)\n",
    "\n",
    "Replacing n with n/8 in the original function: T(n/8) = 1 + T(n/16)\n",
    "\n"
   ]
  },
  {
   "cell_type": "markdown",
   "id": "06289446-4e78-46cf-8b7b-0bdcd2e2e7ae",
   "metadata": {},
   "source": [
    "**Key idea**: after a few rounds of substitution, we need to detect the pattern.  And go back to revise the equations so they fit the pattern."
   ]
  },
  {
   "cell_type": "markdown",
   "id": "056f72b4-8522-4c34-8dad-29b756a2d3b9",
   "metadata": {},
   "source": [
    "When will this stop?  This stop when n/2^k = 1."
   ]
  },
  {
   "cell_type": "markdown",
   "id": "e43d3260-a266-4e40-8f23-63aa64811dfe",
   "metadata": {},
   "source": [
    "n/2^k = 1 means n = 2^k.\n",
    "\n",
    "Take log_2 on both sides, we get log_2(n) = k\n"
   ]
  },
  {
   "cell_type": "markdown",
   "id": "528a0ed2-39d6-4008-a543-febef9a92f82",
   "metadata": {},
   "source": [
    "After k steps, T(n) = k + T(n/2^k)\n",
    "\n",
    "After log_2(n), T(n) = log_2(n) + T(1) = log_2(n) + b"
   ]
  },
  {
   "cell_type": "markdown",
   "id": "b6581b84-f904-44f3-8541-10202498ba05",
   "metadata": {},
   "source": [
    "$T(n) \\in \\Theta(\\log n)$"
   ]
  },
  {
   "cell_type": "markdown",
   "id": "38b17f7e-fa69-4a8f-9722-ab648c6fc054",
   "metadata": {},
   "source": [
    "### Exercise\n",
    "\n",
    "T(n) = n + T(n-1)\n",
    "\n",
    "T(n) = n + (n-1) + T(n-2)\n",
    "\n",
    "T(n) = n + (n-1) + (n-2) + T(n-3)\n",
    "\n",
    "T(n) = n + (n-1) + (n-2) + (n-3) + T(n-4)\n",
    "\n",
    "After k steps, T(n) = n + (n-1) + (n-2) + (n-3) + (n-4) + .... + T(n-k)\n",
    "\n",
    "We stop when n-k=0, T(n) = n + (n-1) + (n-2) + ..... + 1 + T(0) = n(n+1)/2 + b\n",
    "\n",
    "\n",
    "Scratch space:\n",
    "\n",
    "Replace n with n-1 in the original equation, we get this: T(n-1) = (n-1) + T(n-2)\n",
    "\n",
    "Replace n with n-2 in the original equation, we get this: T(n-2) = (n-2) + T(n-2-1)\n",
    "\n",
    "Replace n with n-3 in the original equation, we get this: T(n-3) = (n-3) + T(n-3-1)\n",
    "\n",
    "\n",
    "\n",
    "\n",
    "\n",
    "\n",
    "\n"
   ]
  },
  {
   "cell_type": "markdown",
   "id": "c033439b-eccf-4bb4-9a89-04dfb62a4380",
   "metadata": {},
   "source": [
    "$c_1 * n^2 \\le T(n) \\le c_2 * n^2$"
   ]
  },
  {
   "cell_type": "markdown",
   "id": "5979aa0e-b3ba-48d5-97e8-9d085e8b625f",
   "metadata": {},
   "source": [
    "$T(n) \\in \\Theta(n^2)$"
   ]
  },
  {
   "cell_type": "code",
   "execution_count": null,
   "id": "260975fa-2bbe-4164-8c43-b98ec657fe5a",
   "metadata": {},
   "outputs": [],
   "source": []
  }
 ],
 "metadata": {
  "kernelspec": {
   "display_name": "Python 3",
   "language": "python",
   "name": "python3"
  },
  "language_info": {
   "codemirror_mode": {
    "name": "ipython",
    "version": 3
   },
   "file_extension": ".py",
   "mimetype": "text/x-python",
   "name": "python",
   "nbconvert_exporter": "python",
   "pygments_lexer": "ipython3",
   "version": "3.8.8"
  }
 },
 "nbformat": 4,
 "nbformat_minor": 5
}
