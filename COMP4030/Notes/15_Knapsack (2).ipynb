{
 "cells": [
  {
   "cell_type": "markdown",
   "id": "77cf6736-d7a2-4eef-af14-5aaa3997a23d",
   "metadata": {},
   "source": [
    "# Knapsack\n",
    "\n",
    "Concepts\n",
    "+ Understanding the semantics of APIs\n",
    "+ Boolean, finding a solution, finding best solutions."
   ]
  },
  {
   "cell_type": "code",
   "execution_count": null,
   "id": "8607a0d7-11e7-41d0-a2af-0085e4adbeaf",
   "metadata": {},
   "outputs": [],
   "source": []
  },
  {
   "cell_type": "markdown",
   "id": "0a2ac819-9a9a-42ea-804b-02cae0a458f4",
   "metadata": {},
   "source": [
    "### Knapsack\n",
    "\n",
    "Items: { Apple, Orange, Banana, Melon }\n",
    "\n",
    "Weights: { 2, 3, 1, 4 }\n",
    "\n",
    "Profits: { 4, 5, 3, 7 }\n",
    "\n",
    "Knapsack Capacity, C : 5\n",
    "\n",
    "Which items do we select to maximize the profit?\n",
    "\n",
    "We cannot take Apple and Melon. That exceeds the capacity.\n",
    "\n",
    "{Apple, Orange}\n",
    "+ weight = 2+3 = 5\n",
    "+ profit = 4+5 = 9\n",
    "\n",
    "{Banana, Melon}\n",
    "+ weight = 1+4 = 5\n",
    "+ profit = 3+7 = 10\n",
    "\n",
    "{Apple, Banana}\n",
    "+ weight = 2+1 = 3\n",
    "+ profit = 4+3 = 7\n",
    "\n",
    "-----\n",
    "\n",
    "C = 9\n",
    "\n",
    "{Apple, Orange, Melon}\n",
    "+ weight = 2 + 3 + 4 = 9\n",
    "+ profit = 4+5+7 = 16\n",
    "\n",
    "C = 8\n",
    "\n",
    "{Orange, Banana, Melon}\n",
    "+ weight = 3+1+4 = 8\n",
    "+ profit = 5+3+7 = 15\n",
    "\n",
    "\n",
    "C = 7\n",
    "\n",
    "{Apple, Banana, Melon}\n",
    "+ weight = 2+1+4 = 7\n",
    "+ profit = 4+3+7 = 14\n",
    "\n",
    "\n",
    "Items: { Apple, Orange, Banana, Melon }\n",
    "\n",
    "Weights: { 2, 3, 1, 4 }\n",
    "\n",
    "Profits: { 4, 5, 3, 7 }\n"
   ]
  },
  {
   "cell_type": "markdown",
   "id": "1a6e367a-6426-40ee-9b5a-63dcadcec3c3",
   "metadata": {},
   "source": [
    "Here are some approaches to solving this problem:\n",
    "\n",
    "1. Go through all possibile solutions and keep track of the best one.  In backtracking, we'll learn how to do this systematically.\n",
    "\n",
    "2. Consider a sequence of moves in constructing the best solution.  And consider all possibilities in each move."
   ]
  },
  {
   "cell_type": "markdown",
   "id": "2e2c794f-07f5-45df-8f6a-69ee4fd37333",
   "metadata": {},
   "source": [
    "Analysis:\n",
    "\n",
    "+ We need to define an API for the problem: Knapsack(weights, profits, C)\n",
    "+ The solution consists of a sequence of moves, similarly to the problem of making change.\n",
    "+ What item can we take in the first move?\n",
    "+ After the item is taken, the problem should be \"smaller\".  How do we solve the smaller problem?"
   ]
  },
  {
   "cell_type": "markdown",
   "id": "4acdd94d-7757-476a-8c73-abb0be9d51ab",
   "metadata": {},
   "source": [
    "Items: { Apple, Orange, Banana, Melon }\n",
    "\n",
    "weights = [2,3,1,4]\n",
    "\n",
    "profits = [4,5,3,7]\n",
    "\n",
    "capacity = 7\n",
    "\n",
    "\n",
    "In packing the knapsack, we make a sequence of moves.  Each move consist of putting an item into the knapsack.\n",
    "\n",
    "Which item can we pack in the first move?  Any of them.  There're 4 possibilities.  If we make the first move with any of these possibility, we will reduce the capacity. This creates a subproblem.\n",
    "\n",
    "1. Apple.  If we choose to pack Apple in the first move, what's the remaining capacity? C-2 = 7-2 = 5.  Now, we have a profit of 4. And we are faced with the same problem of packing a knapsack with capacity 5, given that we cannot use Apple any more.\n",
    "\n",
    "2. Orange.  If we choose to pack Orange in the first move, what's the remaining capacity? C-2 = 7-3 = 4.  Now, we have a profit of 5. And we are faced with the same problem of packing a knapsack with capacity 4, given that we cannot use Orange any more.\n",
    "\n",
    "3. Banana\n",
    "\n",
    "4. Melon.\n",
    "\n",
    "Here, we need a way (an API) that allows us to restrict the choosing of an item to at most once.\n",
    "\n",
    "One way of solving this is ordering the item and going through that ordering one by one."
   ]
  },
  {
   "cell_type": "markdown",
   "id": "2f3f03f6-926a-44fa-87e4-1c8f6ab877a5",
   "metadata": {
    "jupyter": {
     "source_hidden": true
    },
    "tags": []
   },
   "source": [
    "### Revisit coin changing\n",
    "\n",
    "Given n coin values, *coins*, can we exchange an amount A?\n",
    "\n",
    "The exchange/solution consists of a sequence of coins/moves.\n",
    "\n",
    "We can take the same coin many times."
   ]
  },
  {
   "cell_type": "code",
   "execution_count": 2,
   "id": "5deab008-7f15-4ade-a622-3f1fffad9f14",
   "metadata": {
    "jupyter": {
     "source_hidden": true
    },
    "tags": []
   },
   "outputs": [],
   "source": [
    "def make_change(coins, amount):\n",
    "    if amount==0:\n",
    "        return True\n",
    "    for c in coins:\n",
    "        if amount >= c and make_change(coins, amount - c):\n",
    "            return True\n",
    "    return False"
   ]
  },
  {
   "cell_type": "markdown",
   "id": "683a648c-e119-4fcd-a1eb-ce0df4429ef9",
   "metadata": {},
   "source": [
    "### Defining an API for Knapsack\n",
    "\n",
    "First attempt of an API: Knapsack(weights, profits, C)\n",
    "\n",
    "For our example:\n",
    "\n",
    "Items: { Apple, Orange, Banana, Melon }\n",
    "\n",
    "Knapsack(weights=[2,3,1,4], profits=[4,5,3,7], C=20)\n",
    "\n",
    "Let's suppose that we take the first item (Apple) in the first move.\n",
    "\n",
    "What capacity will we have left and what will be the remaing subproblem?"
   ]
  },
  {
   "cell_type": "code",
   "execution_count": 1,
   "id": "49e86a2a-c64b-4c7d-b923-d154963481ee",
   "metadata": {},
   "outputs": [],
   "source": [
    "def knapsack(weights, profits, C):\n",
    "    for i in range(len(weights)):\n",
    "        p = profits[i]\n",
    "        new_C = C - weights[i]\n",
    "        # this api won't work.\n"
   ]
  },
  {
   "cell_type": "markdown",
   "id": "527daf72-466d-4338-af5d-0ca3a5ea560c",
   "metadata": {},
   "source": [
    "Here's a better API."
   ]
  },
  {
   "cell_type": "code",
   "execution_count": 3,
   "id": "76034585-7829-49ff-a011-63f09851f8d5",
   "metadata": {},
   "outputs": [],
   "source": [
    "def knapsack(weights, profits, C, i):\n",
    "    pass"
   ]
  },
  {
   "cell_type": "markdown",
   "id": "5a71608e-2827-427b-85c2-6a763a2ffb51",
   "metadata": {},
   "source": [
    "This is what this API means:\n",
    "\n",
    "knapsack(weights, profits, C, i) --- the max profit of packing the items 0, 1, ..., i into a knapsack with capacity C.\n",
    "\n"
   ]
  },
  {
   "cell_type": "markdown",
   "id": "bf9de830-4429-444a-b7d5-89a17be59347",
   "metadata": {},
   "source": [
    "Compare this to the original API\n",
    "\n",
    "knapsack(weights, profits, C) -- the max profit of packing n items into a knapsack with capacity C.\n",
    "\n"
   ]
  },
  {
   "cell_type": "markdown",
   "id": "f2d627fc-c040-4321-9f6d-215f6a58fb1b",
   "metadata": {},
   "source": [
    "### Understanding this new API"
   ]
  },
  {
   "cell_type": "markdown",
   "id": "14a161f3-d603-4df6-8023-a03b477035cd",
   "metadata": {},
   "source": [
    "Items: { Apple, Orange, Banana, Melon }\n",
    "\n",
    "weights = [2,3,1,4]\n",
    "\n",
    "profits = [4,5,3,7]\n",
    "\n",
    "knapsack(weights, profits, 7, 0) = 4\n",
    "\n",
    "knapsack(weights, profits, 4, 1) = 5\n",
    "\n",
    "knapsack(weights, profits, 4, 1) --- the max profit of packing the items 0, 1 into a knapsack with capacity 4.\n",
    "\n",
    "knapsack(weights, profits, 5, 2) = 9\n",
    "\n",
    "knapsack(weights, profits, 5, 2) --- the max profit of packing the items 0, 1, 2 into a knapsack with capacity 5.\n",
    "\n",
    "Zach's strategy: \"what combinations giving it the highest value\"\n",
    "\n",
    "Here's a different strategy: \"considering the first move with a focus on item 2, which possibilities can we have?\"\n",
    "+ There are only 2 possibilities we can do with item 2.  We either pack it or we don't.\n",
    "\n",
    "Possibility 1:  packing item 2.   profit of 3, remaining capacity 5-1=4.  How do we find the max profit of packing the remaining items with new capacity 4?  We use the same strategy.  Answer: knapsack(weights, profits, 4, 1).  Our total profit is 3 + knapsack(weights, profits, 4, 1).\n",
    "\n",
    "Possibility 2: not packing item 2.  profit of 0, remaining capacity is 5.  Them, our profit is knapsack(weights, profits, 5, 1).\n",
    "\n",
    "How do we aggregate these answers?  Because we want to find the max packing, we choose the larger one of the two possibilities.\n",
    "\n",
    "In other words,\n",
    "**knapsack(weights, profits, 5, 2) = max(3 + knapsack(weights, profits, 4, 1),  knapsack(weights, profits, 5, 1))**\n",
    "\n",
    "\n"
   ]
  },
  {
   "cell_type": "code",
   "execution_count": 8,
   "id": "5b464d50-d6c3-456b-a022-83a14ee4d5e7",
   "metadata": {},
   "outputs": [],
   "source": [
    "\n",
    "def knapsack(weights, profits, C, i):\n",
    "    if i<0:\n",
    "        return 0\n",
    "    profit_1 = knapsack(weights, profits, C, i-1)\n",
    "    if C < weights[i]:\n",
    "        return profit_1\n",
    "    else:\n",
    "        profit_2 = profits[i] + knapsack(weights, profits, C-weights[i], i-1)\n",
    "        return max(profit_1, profit_2)\n",
    "    \n",
    "    \n",
    "def KNAPSACK(weights, profits, C):\n",
    "    return knapsack(weights, profits, C, len(weights)-1)"
   ]
  },
  {
   "cell_type": "code",
   "execution_count": 7,
   "id": "ffeb1834-3d3c-4f1b-9314-f4a70120095f",
   "metadata": {},
   "outputs": [
    {
     "data": {
      "text/plain": [
       "9"
      ]
     },
     "execution_count": 7,
     "metadata": {},
     "output_type": "execute_result"
    }
   ],
   "source": [
    "knapsack([2,3,1,4], [4,5,3,7], 5, 2)"
   ]
  },
  {
   "cell_type": "code",
   "execution_count": 10,
   "id": "bcb40f41-a08f-452f-8218-3e9bdc23371f",
   "metadata": {},
   "outputs": [
    {
     "data": {
      "text/plain": [
       "10"
      ]
     },
     "execution_count": 10,
     "metadata": {},
     "output_type": "execute_result"
    }
   ],
   "source": [
    "KNAPSACK([2,3,1,4], [4,5,3,7], 5)"
   ]
  },
  {
   "cell_type": "markdown",
   "id": "1da02052-c6cf-47db-85d3-a80d947a4d05",
   "metadata": {},
   "source": [
    "Dynamic programming (this approach) is above considering a sequence of moves to construct a solution.  And at each step/move, we consider all possiblities and adopt the right one."
   ]
  },
  {
   "cell_type": "markdown",
   "id": "4744e802-6821-476f-95ef-f1e26346f1cf",
   "metadata": {},
   "source": [
    "For you to do: review the solution for coin changing and knapsack and learn the difference in two approaches."
   ]
  },
  {
   "cell_type": "markdown",
   "id": "f76eb526-3850-4ebd-9be5-ef0929234626",
   "metadata": {},
   "source": [
    "### Knapsack -- dynamic programming\n",
    "\n",
    "Dynamic programming is about solving a problem using solutions of subproblems.\n",
    "\n",
    "Dynamic programming is about reusing solutions of subproblems.\n",
    "\n",
    "When a problem is not divided into mutually exclusive subproblems, there's a good chance that you can reusing solutions of subproblems.\n",
    "\n",
    "Examples of problems that are divided into mutually exclusive subproblems:\n",
    "+ Merge sort\n",
    "+ Binary search"
   ]
  },
  {
   "cell_type": "code",
   "execution_count": 2,
   "id": "bd73c242-1e17-49e4-aba0-2bfb7098de05",
   "metadata": {},
   "outputs": [],
   "source": [
    "Table = {}\n",
    "\n",
    "def knapsack(weights, profits, C, i):\n",
    "    if (C,i) in Table:\n",
    "        return Table[(C,i)]\n",
    "    \n",
    "    if i<0:\n",
    "        return 0\n",
    "    profit_1 = knapsack(weights, profits, C, i-1)\n",
    "    if C < weights[i]:\n",
    "        Table[(C,i)] = profit_1\n",
    "        return profit_1\n",
    "    else:\n",
    "        profit_2 = profits[i] + knapsack(weights, profits, C-weights[i], i-1)\n",
    "        Table[(C,i)] = max(profit_1, profit_2)\n",
    "        return max(profit_1, profit_2)\n",
    "    \n",
    "    \n",
    "def KNAPSACK(weights, profits, C):\n",
    "    return knapsack(weights, profits, C, len(weights)-1)"
   ]
  },
  {
   "cell_type": "markdown",
   "id": "652f4d11-3617-4e2f-bfb3-cb049fb10836",
   "metadata": {},
   "source": [
    "What's the key of Table? C and i"
   ]
  },
  {
   "cell_type": "code",
   "execution_count": null,
   "id": "f051ff3f-79c0-4c5d-9df5-5b24c8580934",
   "metadata": {},
   "outputs": [],
   "source": []
  }
 ],
 "metadata": {
  "kernelspec": {
   "display_name": "Python 3",
   "language": "python",
   "name": "python3"
  },
  "language_info": {
   "codemirror_mode": {
    "name": "ipython",
    "version": 3
   },
   "file_extension": ".py",
   "mimetype": "text/x-python",
   "name": "python",
   "nbconvert_exporter": "python",
   "pygments_lexer": "ipython3",
   "version": "3.8.8"
  }
 },
 "nbformat": 4,
 "nbformat_minor": 5
}
