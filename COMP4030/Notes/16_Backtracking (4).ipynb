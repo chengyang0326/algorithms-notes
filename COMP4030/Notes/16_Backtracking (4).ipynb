{
 "cells": [
  {
   "cell_type": "markdown",
   "id": "fecffb45-242b-4cf9-974e-6f2913c4728c",
   "metadata": {},
   "source": [
    "# Backtracking\n",
    "\n",
    "Is a systematic approach to enumerate possibilities.\n",
    "\n",
    "+ All k-tuples with n items\n",
    "+ All sets with n items\n",
    "+ All permutations with n items\n",
    "+ All ways of coloring n items with k colors\n",
    "+ All non-attacking positions of n queens on an n-by-n chessboard"
   ]
  },
  {
   "cell_type": "markdown",
   "id": "0a88d9b1-ddf7-4aee-a623-7ec2c4838ae0",
   "metadata": {},
   "source": [
    "Backtracking is very useful. Once you understand the template of backtracking, you can use the same template to solve many different problems."
   ]
  },
  {
   "cell_type": "markdown",
   "id": "4bbbb04d-8744-4bad-805e-6ba2a4f2a82d",
   "metadata": {},
   "source": [
    "### Generate all k-tuples with n items\n",
    "\n",
    "Items: 0, 1, ..., n-1\n",
    "\n",
    "Example: k=2, n=3."
   ]
  },
  {
   "cell_type": "markdown",
   "id": "b552418c-166f-452e-a673-18b5cd75ae5e",
   "metadata": {},
   "source": [
    "Definin the API:\n",
    "\n",
    "solution is a k-tuple, which is a list with k items. An item is a number from 0 to n-1.\n",
    "\n",
    "all_tuples(solution, n, i) -- generate all k-tuples with the first i entries in the tuples have been filled.\n",
    "\n"
   ]
  },
  {
   "cell_type": "code",
   "execution_count": 2,
   "id": "a8f0daf2-4fa5-42fe-84a8-050a6c5e4ddd",
   "metadata": {
    "tags": []
   },
   "outputs": [],
   "source": [
    "def all_tuples(solution, n, i):\n",
    "    if i==len(solution):\n",
    "        print(tuple(solution))\n",
    "    else:\n",
    "        possibilities = range(n)\n",
    "        for possibility in possibilities:\n",
    "            solution[i] = possibility\n",
    "            all_tuples(solution, n, i+1)"
   ]
  },
  {
   "cell_type": "code",
   "execution_count": 3,
   "id": "a8992c93-82cf-4a56-82fe-fca9c961f4df",
   "metadata": {},
   "outputs": [
    {
     "name": "stdout",
     "output_type": "stream",
     "text": [
      "(0, 0, 0)\n",
      "(0, 0, 1)\n",
      "(0, 1, 0)\n",
      "(0, 1, 1)\n",
      "(1, 0, 0)\n",
      "(1, 0, 1)\n",
      "(1, 1, 0)\n",
      "(1, 1, 1)\n"
     ]
    }
   ],
   "source": [
    "all_tuples([None, None, None], 2, 0)"
   ]
  },
  {
   "cell_type": "markdown",
   "id": "d6b6039a-b40a-42e6-9e50-8bbe8e29ba97",
   "metadata": {},
   "source": [
    "2-tuples have 2 slots.\n",
    "\n",
    "Each slot can have one of three items: 0, 1, 2.\n",
    "\n"
   ]
  },
  {
   "cell_type": "markdown",
   "id": "eb427032-d17e-45cb-84a3-d6cf0ac54dc6",
   "metadata": {},
   "source": [
    "This function call generates all 2-tuples with 3 things.\n",
    "\n",
    "```\n",
    "all_tuples([None, None], 3, 0)\n",
    "```\n",
    "\n",
    "The 3rd parameter means that we start the generation of 2-tuples from index 0, or level 0.\n",
    "\n",
    "Backtracking is an incremental way of constructing solutions starting from \"level\" 0.\n"
   ]
  },
  {
   "cell_type": "markdown",
   "id": "57ba4b08-0f26-4e2f-8853-3c1fae48d887",
   "metadata": {},
   "source": [
    "The API:\n",
    "```\n",
    "def all_tuples(solution, n, i):\n",
    "    pass\n",
    "```\n",
    "\n",
    "**all_tuples(solution, n, i) generates (prints) all solutions where levels 0, 1, ..., i-1 have already been \"configured\".**\n",
    "\n",
    "**In other words, all_tuples(solution, n, i) generates (prints) all solutions with the same setting/configuration specified in solution from index 0, 1, ..., i-1.**\n",
    "\n",
    "\n",
    "Our goal: to understand the backtracking template.  Once we understand this, we understand backtracking and how to use it to solve many different problems."
   ]
  },
  {
   "cell_type": "code",
   "execution_count": 1,
   "id": "caeeb8cf-404b-483c-aa97-861332dcc70e",
   "metadata": {},
   "outputs": [],
   "source": [
    "def all_tuples(solution, n, i):\n",
    "    if i==len(solution):\n",
    "        print(tuple(solution))\n",
    "    else:\n",
    "        for possibility in range(n):\n",
    "            solution[i] = possibility\n",
    "            all_tuples(solution, n, i+1)"
   ]
  },
  {
   "cell_type": "code",
   "execution_count": 2,
   "id": "57ab2756-9732-4a1d-ae00-d7ed2a85e33a",
   "metadata": {},
   "outputs": [
    {
     "name": "stdout",
     "output_type": "stream",
     "text": [
      "(0, 0, 0)\n",
      "(0, 0, 1)\n",
      "(0, 1, 0)\n",
      "(0, 1, 1)\n",
      "(1, 0, 0)\n",
      "(1, 0, 1)\n",
      "(1, 1, 0)\n",
      "(1, 1, 1)\n"
     ]
    }
   ],
   "source": [
    "# generate 3-tuples with 2 items (0 and 1)\n",
    "n = 2\n",
    "solution = [None, None, None]\n",
    "all_tuples(solution, n, 0)"
   ]
  },
  {
   "cell_type": "code",
   "execution_count": 3,
   "id": "4d32408b-3bcb-489d-8181-d8d1c5281660",
   "metadata": {},
   "outputs": [
    {
     "name": "stdout",
     "output_type": "stream",
     "text": [
      "(1, 0, 0)\n",
      "(1, 0, 1)\n"
     ]
    }
   ],
   "source": [
    "# generate 3-tuples with 2 items (0 and 1), with the requirement that the first two\n",
    "# items are 1 and 0.  \n",
    "# We have \"configured\" levels 0 and 1.\n",
    "n = 2\n",
    "solution = [1, 0, None]\n",
    "all_tuples(solution, n, 2)"
   ]
  },
  {
   "cell_type": "code",
   "execution_count": 4,
   "id": "16e572fa-8467-4f0b-b0c3-b701741c6518",
   "metadata": {},
   "outputs": [
    {
     "name": "stdout",
     "output_type": "stream",
     "text": [
      "('apple', 0, 0)\n",
      "('apple', 0, 1)\n",
      "('apple', 1, 0)\n",
      "('apple', 1, 1)\n"
     ]
    }
   ],
   "source": [
    "# generate 3-tuples with 2 items (0 and 1), with the requirement that the first item is \"apple\"\n",
    "# We have \"configured\" level 0 with \"apple\"\n",
    "n = 2\n",
    "solution = [\"apple\", None, None]\n",
    "all_tuples(solution, n, 1)"
   ]
  },
  {
   "cell_type": "markdown",
   "id": "57b466dc-60ee-4bcd-bd4b-2383feafc6b2",
   "metadata": {},
   "source": [
    "These are examples of what the API means.\n",
    "\n",
    "To understand backtracking we need to understand this backtracking API."
   ]
  },
  {
   "cell_type": "markdown",
   "id": "9f4bb965-1833-4425-b979-a49de6d37065",
   "metadata": {},
   "source": [
    "The API:\n",
    "```\n",
    "def all_tuples(solution, n, i):\n",
    "    pass\n",
    "```\n",
    "\n",
    "**all_tuples(solution, n, i) generates (prints) all solutions where levels 0, 1, ..., i-1 have already been \"configured\".**"
   ]
  },
  {
   "cell_type": "markdown",
   "id": "556f5dda-ad0c-41e2-b405-db79e5397256",
   "metadata": {},
   "source": [
    "Here's how the backtracking algorithm works:\n",
    "\n",
    "1. If i == len(solution), what does this mean? everything is configured. We are done and nothing else needs to done. The solution is complete.  All we have to do is print it out."
   ]
  },
  {
   "cell_type": "code",
   "execution_count": null,
   "id": "a1fae914-09b4-41ac-972b-f0d2ac886a2e",
   "metadata": {},
   "outputs": [],
   "source": [
    "def all_tuples(solution, n, i):\n",
    "    if i==len(solution):\n",
    "        print(tuple(solution))\n",
    "    else:\n",
    "        pass"
   ]
  },
  {
   "cell_type": "markdown",
   "id": "70d880af-6e97-421d-ac89-39a2708f541f",
   "metadata": {},
   "source": [
    "\n",
    "2. If i < len(solution), then we need to configure the solution at level i.\n",
    "    + How do we configure the solution at level i?  What to we place in solution[i]?\n",
    "    + Answer: any possible thing we can put there. Reason: we want to generate all possible solutions. So we'll place any possible thing that can be placed in solution[i].\n",
    "\n",
    "3. Recursive idea: for each possibility at solution[i], we use the same technique/procedure, to generate all solutions starting from level i+1."
   ]
  },
  {
   "cell_type": "code",
   "execution_count": 7,
   "id": "7883eb6e-8e8c-48ef-9243-8540cbc92468",
   "metadata": {},
   "outputs": [],
   "source": [
    "def all_tuples(solution, n, i):\n",
    "    if i==len(solution):\n",
    "        print(tuple(solution))\n",
    "    else:\n",
    "        for p in range(n):    # we go through all possibilities to configure level i\n",
    "            solution[i] = p\n",
    "            all_tuples(solution, n, i+1)"
   ]
  },
  {
   "cell_type": "code",
   "execution_count": 6,
   "id": "2c32fcb6-b130-4689-915a-8b58b4a6751e",
   "metadata": {},
   "outputs": [
    {
     "name": "stdout",
     "output_type": "stream",
     "text": [
      "(0, 0, 0, 0)\n",
      "(0, 0, 0, 1)\n",
      "(0, 0, 1, 0)\n",
      "(0, 0, 1, 1)\n",
      "(0, 1, 0, 0)\n",
      "(0, 1, 0, 1)\n",
      "(0, 1, 1, 0)\n",
      "(0, 1, 1, 1)\n",
      "(1, 0, 0, 0)\n",
      "(1, 0, 0, 1)\n",
      "(1, 0, 1, 0)\n",
      "(1, 0, 1, 1)\n",
      "(1, 1, 0, 0)\n",
      "(1, 1, 0, 1)\n",
      "(1, 1, 1, 0)\n",
      "(1, 1, 1, 1)\n"
     ]
    }
   ],
   "source": [
    "all_tuples([None, None, None, None], 2, 0)"
   ]
  },
  {
   "cell_type": "markdown",
   "id": "41335356-fc1b-4cf5-a0db-a1852b310097",
   "metadata": {},
   "source": [
    "### Exercise: generate all 3-tuples consisting of apple, banana, orange."
   ]
  },
  {
   "cell_type": "code",
   "execution_count": 13,
   "id": "0868f3c3-5ca4-4656-a8bf-c78ec7a47aaa",
   "metadata": {},
   "outputs": [],
   "source": [
    "def fruits_of_3(solution, i):\n",
    "    if i==len(solution):\n",
    "        print(tuple(solution))\n",
    "    else:\n",
    "        for p in ['apple','banana','orange']:    # we go through all possibilities to configure level i\n",
    "            solution[i] = p\n",
    "            fruits_of_3(solution, i+1)"
   ]
  },
  {
   "cell_type": "markdown",
   "id": "79081e2e-4b27-4550-afae-dbd94455852f",
   "metadata": {},
   "source": [
    "In backtracking, the most important question is: what do we place at level i?  i.e. how to we configure solution[i]?\n"
   ]
  },
  {
   "cell_type": "code",
   "execution_count": 14,
   "id": "0e91af15-a171-4682-b4e4-d5789ad2d277",
   "metadata": {},
   "outputs": [
    {
     "name": "stdout",
     "output_type": "stream",
     "text": [
      "('apple', 'apple', 'apple')\n",
      "('apple', 'apple', 'banana')\n",
      "('apple', 'apple', 'orange')\n",
      "('apple', 'banana', 'apple')\n",
      "('apple', 'banana', 'banana')\n",
      "('apple', 'banana', 'orange')\n",
      "('apple', 'orange', 'apple')\n",
      "('apple', 'orange', 'banana')\n",
      "('apple', 'orange', 'orange')\n",
      "('banana', 'apple', 'apple')\n",
      "('banana', 'apple', 'banana')\n",
      "('banana', 'apple', 'orange')\n",
      "('banana', 'banana', 'apple')\n",
      "('banana', 'banana', 'banana')\n",
      "('banana', 'banana', 'orange')\n",
      "('banana', 'orange', 'apple')\n",
      "('banana', 'orange', 'banana')\n",
      "('banana', 'orange', 'orange')\n",
      "('orange', 'apple', 'apple')\n",
      "('orange', 'apple', 'banana')\n",
      "('orange', 'apple', 'orange')\n",
      "('orange', 'banana', 'apple')\n",
      "('orange', 'banana', 'banana')\n",
      "('orange', 'banana', 'orange')\n",
      "('orange', 'orange', 'apple')\n",
      "('orange', 'orange', 'banana')\n",
      "('orange', 'orange', 'orange')\n"
     ]
    }
   ],
   "source": [
    "fruits_of_3([None, None, None], 0)"
   ]
  },
  {
   "cell_type": "code",
   "execution_count": null,
   "id": "30ecc424-e7df-4e12-b761-6904319521d7",
   "metadata": {},
   "outputs": [],
   "source": []
  },
  {
   "cell_type": "markdown",
   "id": "81d227c8-68d1-411c-9e48-99f356b985e9",
   "metadata": {},
   "source": [
    "### Main idea of backtracking\n",
    "\n",
    "* backtrack(solution, i) generates all solutions where levels 0, 1, ..., i-1 have been complete.\n",
    "\n",
    "* backtrack(solution, i) attempts to try all possibilities for solutions at level i.  \n",
    "\n",
    "* backtrack(solution, i) uses the same strategy to generate all solutions starting at level i+1.  Note: after level i is assigned a possibility, the solution is set for levels 0, 1, ..., i.\n",
    "\n",
    "* backtrack incrementally generates solutions starting at level 0.\n"
   ]
  },
  {
   "cell_type": "code",
   "execution_count": 2,
   "id": "462d9c82-f1cb-4971-a0aa-502dafcc56ab",
   "metadata": {},
   "outputs": [
    {
     "name": "stdout",
     "output_type": "stream",
     "text": [
      "(0, 0, 0)\n",
      "(0, 0, 1)\n",
      "(0, 1, 0)\n",
      "(0, 1, 1)\n",
      "(1, 0, 0)\n",
      "(1, 0, 1)\n",
      "(1, 1, 0)\n",
      "(1, 1, 1)\n",
      "callviz: Rendering in inline in Jupyter Notebook\n"
     ]
    },
    {
     "data": {
      "image/svg+xml": [
       "<?xml version=\"1.0\" encoding=\"UTF-8\" standalone=\"no\"?>\n",
       "<!DOCTYPE svg PUBLIC \"-//W3C//DTD SVG 1.1//EN\"\n",
       " \"http://www.w3.org/Graphics/SVG/1.1/DTD/svg11.dtd\">\n",
       "<!-- Generated by graphviz version 2.47.1 (20210417.1919)\n",
       " -->\n",
       "<!-- Pages: 1 -->\n",
       "<svg width=\"1334pt\" height=\"346pt\"\n",
       " viewBox=\"0.00 0.00 1334.00 346.00\" xmlns=\"http://www.w3.org/2000/svg\" xmlns:xlink=\"http://www.w3.org/1999/xlink\">\n",
       "<g id=\"graph0\" class=\"graph\" transform=\"scale(1 1) rotate(0) translate(4 342)\">\n",
       "<polygon fill=\"white\" stroke=\"transparent\" points=\"-4,4 -4,-342 1330,-342 1330,4 -4,4\"/>\n",
       "<text text-anchor=\"middle\" x=\"663\" y=\"-7.8\" font-family=\"Helvetica,sans-Serif\" font-size=\"14.00\">nodes=15</text>\n",
       "<!-- 140553408149504 -->\n",
       "<g id=\"node1\" class=\"node\">\n",
       "<title>140553408149504</title>\n",
       "<path fill=\"none\" stroke=\"black\" d=\"M519,-293.5C519,-293.5 719,-293.5 719,-293.5 725,-293.5 731,-299.5 731,-305.5 731,-305.5 731,-325.5 731,-325.5 731,-331.5 725,-337.5 719,-337.5 719,-337.5 519,-337.5 519,-337.5 513,-337.5 507,-331.5 507,-325.5 507,-325.5 507,-305.5 507,-305.5 507,-299.5 513,-293.5 519,-293.5\"/>\n",
       "<text text-anchor=\"middle\" x=\"619\" y=\"-323.1\" font-family=\"Helvetica,sans-Serif\" font-size=\"13.00\">all_tuples([None, None, None],2,0)</text>\n",
       "<polyline fill=\"none\" stroke=\"black\" points=\"507,-315.5 731,-315.5 \"/>\n",
       "<text text-anchor=\"middle\" x=\"619\" y=\"-301.1\" font-family=\"Helvetica,sans-Serif\" font-size=\"13.00\">ret: None</text>\n",
       "</g>\n",
       "<!-- 140553422519712 -->\n",
       "<g id=\"node2\" class=\"node\">\n",
       "<title>140553422519712</title>\n",
       "<path fill=\"none\" stroke=\"black\" d=\"M370,-203.5C370,-203.5 546,-203.5 546,-203.5 552,-203.5 558,-209.5 558,-215.5 558,-215.5 558,-235.5 558,-235.5 558,-241.5 552,-247.5 546,-247.5 546,-247.5 370,-247.5 370,-247.5 364,-247.5 358,-241.5 358,-235.5 358,-235.5 358,-215.5 358,-215.5 358,-209.5 364,-203.5 370,-203.5\"/>\n",
       "<text text-anchor=\"middle\" x=\"458\" y=\"-233.1\" font-family=\"Helvetica,sans-Serif\" font-size=\"13.00\">all_tuples([0, None, None],2,1)</text>\n",
       "<polyline fill=\"none\" stroke=\"black\" points=\"358,-225.5 558,-225.5 \"/>\n",
       "<text text-anchor=\"middle\" x=\"458\" y=\"-211.1\" font-family=\"Helvetica,sans-Serif\" font-size=\"13.00\">ret: None</text>\n",
       "</g>\n",
       "<!-- 140553408149504&#45;&gt;140553422519712 -->\n",
       "<g id=\"edge1\" class=\"edge\">\n",
       "<title>140553408149504&#45;&gt;140553422519712</title>\n",
       "<path fill=\"none\" stroke=\"#0d0d0d\" d=\"M580.44,-293.42C557.92,-281.11 529.32,-265.48 505.43,-252.43\"/>\n",
       "<polygon fill=\"#0d0d0d\" stroke=\"#0d0d0d\" points=\"506.98,-249.28 496.53,-247.56 503.62,-255.43 506.98,-249.28\"/>\n",
       "<text text-anchor=\"middle\" x=\"556.5\" y=\"-268.6\" font-family=\"Helvetica,sans-Serif\" font-size=\"8.00\" fill=\"#999999\">1 (⇑7)</text>\n",
       "</g>\n",
       "<!-- 140553413427184 -->\n",
       "<g id=\"node9\" class=\"node\">\n",
       "<title>140553413427184</title>\n",
       "<path fill=\"none\" stroke=\"black\" d=\"M755,-203.5C755,-203.5 881,-203.5 881,-203.5 887,-203.5 893,-209.5 893,-215.5 893,-215.5 893,-235.5 893,-235.5 893,-241.5 887,-247.5 881,-247.5 881,-247.5 755,-247.5 755,-247.5 749,-247.5 743,-241.5 743,-235.5 743,-235.5 743,-215.5 743,-215.5 743,-209.5 749,-203.5 755,-203.5\"/>\n",
       "<text text-anchor=\"middle\" x=\"818\" y=\"-233.1\" font-family=\"Helvetica,sans-Serif\" font-size=\"13.00\">all_tuples([1, 1, 1],2,1)</text>\n",
       "<polyline fill=\"none\" stroke=\"black\" points=\"743,-225.5 893,-225.5 \"/>\n",
       "<text text-anchor=\"middle\" x=\"818\" y=\"-211.1\" font-family=\"Helvetica,sans-Serif\" font-size=\"13.00\">ret: None</text>\n",
       "</g>\n",
       "<!-- 140553408149504&#45;&gt;140553413427184 -->\n",
       "<g id=\"edge2\" class=\"edge\">\n",
       "<title>140553408149504&#45;&gt;140553413427184</title>\n",
       "<path fill=\"none\" stroke=\"#686868\" d=\"M666.67,-293.42C694.99,-280.9 731.09,-264.93 760.93,-251.74\"/>\n",
       "<polygon fill=\"#686868\" stroke=\"#686868\" points=\"762.65,-254.8 770.38,-247.56 759.82,-248.4 762.65,-254.8\"/>\n",
       "<text text-anchor=\"middle\" x=\"739.5\" y=\"-268.6\" font-family=\"Helvetica,sans-Serif\" font-size=\"8.00\" fill=\"#999999\">8 (⇑14)</text>\n",
       "</g>\n",
       "<!-- 140553407948256 -->\n",
       "<g id=\"node3\" class=\"node\">\n",
       "<title>140553407948256</title>\n",
       "<path fill=\"none\" stroke=\"black\" d=\"M167.5,-113.5C167.5,-113.5 318.5,-113.5 318.5,-113.5 324.5,-113.5 330.5,-119.5 330.5,-125.5 330.5,-125.5 330.5,-145.5 330.5,-145.5 330.5,-151.5 324.5,-157.5 318.5,-157.5 318.5,-157.5 167.5,-157.5 167.5,-157.5 161.5,-157.5 155.5,-151.5 155.5,-145.5 155.5,-145.5 155.5,-125.5 155.5,-125.5 155.5,-119.5 161.5,-113.5 167.5,-113.5\"/>\n",
       "<text text-anchor=\"middle\" x=\"243\" y=\"-143.1\" font-family=\"Helvetica,sans-Serif\" font-size=\"13.00\">all_tuples([0, 0, None],2,2)</text>\n",
       "<polyline fill=\"none\" stroke=\"black\" points=\"155.5,-135.5 330.5,-135.5 \"/>\n",
       "<text text-anchor=\"middle\" x=\"243\" y=\"-121.1\" font-family=\"Helvetica,sans-Serif\" font-size=\"13.00\">ret: None</text>\n",
       "</g>\n",
       "<!-- 140553422519712&#45;&gt;140553407948256 -->\n",
       "<g id=\"edge3\" class=\"edge\">\n",
       "<title>140553422519712&#45;&gt;140553407948256</title>\n",
       "<path fill=\"none\" stroke=\"#1a1a1a\" d=\"M406.5,-203.42C375.63,-190.79 336.22,-174.66 303.82,-161.4\"/>\n",
       "<polygon fill=\"#1a1a1a\" stroke=\"#1a1a1a\" points=\"305.03,-158.11 294.45,-157.56 302.38,-164.59 305.03,-158.11\"/>\n",
       "<text text-anchor=\"middle\" x=\"369.5\" y=\"-178.6\" font-family=\"Helvetica,sans-Serif\" font-size=\"8.00\" fill=\"#999999\">2 (⇑3)</text>\n",
       "</g>\n",
       "<!-- 140553413426128 -->\n",
       "<g id=\"node6\" class=\"node\">\n",
       "<title>140553413426128</title>\n",
       "<path fill=\"none\" stroke=\"black\" d=\"M395,-113.5C395,-113.5 521,-113.5 521,-113.5 527,-113.5 533,-119.5 533,-125.5 533,-125.5 533,-145.5 533,-145.5 533,-151.5 527,-157.5 521,-157.5 521,-157.5 395,-157.5 395,-157.5 389,-157.5 383,-151.5 383,-145.5 383,-145.5 383,-125.5 383,-125.5 383,-119.5 389,-113.5 395,-113.5\"/>\n",
       "<text text-anchor=\"middle\" x=\"458\" y=\"-143.1\" font-family=\"Helvetica,sans-Serif\" font-size=\"13.00\">all_tuples([0, 1, 1],2,2)</text>\n",
       "<polyline fill=\"none\" stroke=\"black\" points=\"383,-135.5 533,-135.5 \"/>\n",
       "<text text-anchor=\"middle\" x=\"458\" y=\"-121.1\" font-family=\"Helvetica,sans-Serif\" font-size=\"13.00\">ret: None</text>\n",
       "</g>\n",
       "<!-- 140553422519712&#45;&gt;140553413426128 -->\n",
       "<g id=\"edge4\" class=\"edge\">\n",
       "<title>140553422519712&#45;&gt;140553413426128</title>\n",
       "<path fill=\"none\" stroke=\"#414141\" d=\"M458,-203.2C458,-192.6 458,-179.59 458,-167.89\"/>\n",
       "<polygon fill=\"#414141\" stroke=\"#414141\" points=\"461.5,-167.61 458,-157.61 454.5,-167.61 461.5,-167.61\"/>\n",
       "<text text-anchor=\"middle\" x=\"470.5\" y=\"-178.6\" font-family=\"Helvetica,sans-Serif\" font-size=\"8.00\" fill=\"#999999\">5 (⇑6)</text>\n",
       "</g>\n",
       "<!-- 140553408150032 -->\n",
       "<g id=\"node4\" class=\"node\">\n",
       "<title>140553408150032</title>\n",
       "<path fill=\"none\" stroke=\"black\" d=\"M12,-23.5C12,-23.5 138,-23.5 138,-23.5 144,-23.5 150,-29.5 150,-35.5 150,-35.5 150,-55.5 150,-55.5 150,-61.5 144,-67.5 138,-67.5 138,-67.5 12,-67.5 12,-67.5 6,-67.5 0,-61.5 0,-55.5 0,-55.5 0,-35.5 0,-35.5 0,-29.5 6,-23.5 12,-23.5\"/>\n",
       "<text text-anchor=\"middle\" x=\"75\" y=\"-53.1\" font-family=\"Helvetica,sans-Serif\" font-size=\"13.00\">all_tuples([0, 0, 0],2,3)</text>\n",
       "<polyline fill=\"none\" stroke=\"black\" points=\"0,-45.5 150,-45.5 \"/>\n",
       "<text text-anchor=\"middle\" x=\"75\" y=\"-31.1\" font-family=\"Helvetica,sans-Serif\" font-size=\"13.00\">ret: None</text>\n",
       "</g>\n",
       "<!-- 140553407948256&#45;&gt;140553408150032 -->\n",
       "<g id=\"edge5\" class=\"edge\">\n",
       "<title>140553407948256&#45;&gt;140553408150032</title>\n",
       "<path fill=\"none\" stroke=\"#272727\" d=\"M202.76,-113.42C179.16,-101.06 149.16,-85.35 124.16,-72.25\"/>\n",
       "<polygon fill=\"#272727\" stroke=\"#272727\" points=\"125.69,-69.1 115.2,-67.56 122.44,-75.3 125.69,-69.1\"/>\n",
       "<text text-anchor=\"middle\" x=\"177.5\" y=\"-88.6\" font-family=\"Helvetica,sans-Serif\" font-size=\"8.00\" fill=\"#999999\">3 (⇑1)</text>\n",
       "</g>\n",
       "<!-- 140553413425600 -->\n",
       "<g id=\"node5\" class=\"node\">\n",
       "<title>140553413425600</title>\n",
       "<path fill=\"none\" stroke=\"black\" d=\"M180,-23.5C180,-23.5 306,-23.5 306,-23.5 312,-23.5 318,-29.5 318,-35.5 318,-35.5 318,-55.5 318,-55.5 318,-61.5 312,-67.5 306,-67.5 306,-67.5 180,-67.5 180,-67.5 174,-67.5 168,-61.5 168,-55.5 168,-55.5 168,-35.5 168,-35.5 168,-29.5 174,-23.5 180,-23.5\"/>\n",
       "<text text-anchor=\"middle\" x=\"243\" y=\"-53.1\" font-family=\"Helvetica,sans-Serif\" font-size=\"13.00\">all_tuples([0, 0, 1],2,3)</text>\n",
       "<polyline fill=\"none\" stroke=\"black\" points=\"168,-45.5 318,-45.5 \"/>\n",
       "<text text-anchor=\"middle\" x=\"243\" y=\"-31.1\" font-family=\"Helvetica,sans-Serif\" font-size=\"13.00\">ret: None</text>\n",
       "</g>\n",
       "<!-- 140553407948256&#45;&gt;140553413425600 -->\n",
       "<g id=\"edge6\" class=\"edge\">\n",
       "<title>140553407948256&#45;&gt;140553413425600</title>\n",
       "<path fill=\"none\" stroke=\"#343434\" d=\"M243,-113.2C243,-102.6 243,-89.59 243,-77.89\"/>\n",
       "<polygon fill=\"#343434\" stroke=\"#343434\" points=\"246.5,-77.61 243,-67.61 239.5,-77.61 246.5,-77.61\"/>\n",
       "<text text-anchor=\"middle\" x=\"255.5\" y=\"-88.6\" font-family=\"Helvetica,sans-Serif\" font-size=\"8.00\" fill=\"#999999\">4 (⇑2)</text>\n",
       "</g>\n",
       "<!-- 140553413426656 -->\n",
       "<g id=\"node7\" class=\"node\">\n",
       "<title>140553413426656</title>\n",
       "<path fill=\"none\" stroke=\"black\" d=\"M348,-23.5C348,-23.5 474,-23.5 474,-23.5 480,-23.5 486,-29.5 486,-35.5 486,-35.5 486,-55.5 486,-55.5 486,-61.5 480,-67.5 474,-67.5 474,-67.5 348,-67.5 348,-67.5 342,-67.5 336,-61.5 336,-55.5 336,-55.5 336,-35.5 336,-35.5 336,-29.5 342,-23.5 348,-23.5\"/>\n",
       "<text text-anchor=\"middle\" x=\"411\" y=\"-53.1\" font-family=\"Helvetica,sans-Serif\" font-size=\"13.00\">all_tuples([0, 1, 0],2,3)</text>\n",
       "<polyline fill=\"none\" stroke=\"black\" points=\"336,-45.5 486,-45.5 \"/>\n",
       "<text text-anchor=\"middle\" x=\"411\" y=\"-31.1\" font-family=\"Helvetica,sans-Serif\" font-size=\"13.00\">ret: None</text>\n",
       "</g>\n",
       "<!-- 140553413426128&#45;&gt;140553413426656 -->\n",
       "<g id=\"edge7\" class=\"edge\">\n",
       "<title>140553413426128&#45;&gt;140553413426656</title>\n",
       "<path fill=\"none\" stroke=\"#4e4e4e\" d=\"M446.62,-113.2C440.73,-102.17 433.45,-88.53 427,-76.46\"/>\n",
       "<polygon fill=\"#4e4e4e\" stroke=\"#4e4e4e\" points=\"430.07,-74.78 422.27,-67.61 423.9,-78.08 430.07,-74.78\"/>\n",
       "<text text-anchor=\"middle\" x=\"448.5\" y=\"-88.6\" font-family=\"Helvetica,sans-Serif\" font-size=\"8.00\" fill=\"#999999\">6 (⇑4)</text>\n",
       "</g>\n",
       "<!-- 140553408150560 -->\n",
       "<g id=\"node8\" class=\"node\">\n",
       "<title>140553408150560</title>\n",
       "<path fill=\"none\" stroke=\"black\" d=\"M516,-23.5C516,-23.5 642,-23.5 642,-23.5 648,-23.5 654,-29.5 654,-35.5 654,-35.5 654,-55.5 654,-55.5 654,-61.5 648,-67.5 642,-67.5 642,-67.5 516,-67.5 516,-67.5 510,-67.5 504,-61.5 504,-55.5 504,-55.5 504,-35.5 504,-35.5 504,-29.5 510,-23.5 516,-23.5\"/>\n",
       "<text text-anchor=\"middle\" x=\"579\" y=\"-53.1\" font-family=\"Helvetica,sans-Serif\" font-size=\"13.00\">all_tuples([0, 1, 1],2,3)</text>\n",
       "<polyline fill=\"none\" stroke=\"black\" points=\"504,-45.5 654,-45.5 \"/>\n",
       "<text text-anchor=\"middle\" x=\"579\" y=\"-31.1\" font-family=\"Helvetica,sans-Serif\" font-size=\"13.00\">ret: None</text>\n",
       "</g>\n",
       "<!-- 140553413426128&#45;&gt;140553408150560 -->\n",
       "<g id=\"edge8\" class=\"edge\">\n",
       "<title>140553413426128&#45;&gt;140553408150560</title>\n",
       "<path fill=\"none\" stroke=\"#5b5b5b\" d=\"M486.98,-113.42C503.33,-101.54 523.93,-86.55 541.49,-73.78\"/>\n",
       "<polygon fill=\"#5b5b5b\" stroke=\"#5b5b5b\" points=\"543.81,-76.42 549.83,-67.71 539.69,-70.76 543.81,-76.42\"/>\n",
       "<text text-anchor=\"middle\" x=\"535.5\" y=\"-88.6\" font-family=\"Helvetica,sans-Serif\" font-size=\"8.00\" fill=\"#999999\">7 (⇑5)</text>\n",
       "</g>\n",
       "<!-- 140553359552080 -->\n",
       "<g id=\"node10\" class=\"node\">\n",
       "<title>140553359552080</title>\n",
       "<path fill=\"none\" stroke=\"black\" d=\"M755,-113.5C755,-113.5 881,-113.5 881,-113.5 887,-113.5 893,-119.5 893,-125.5 893,-125.5 893,-145.5 893,-145.5 893,-151.5 887,-157.5 881,-157.5 881,-157.5 755,-157.5 755,-157.5 749,-157.5 743,-151.5 743,-145.5 743,-145.5 743,-125.5 743,-125.5 743,-119.5 749,-113.5 755,-113.5\"/>\n",
       "<text text-anchor=\"middle\" x=\"818\" y=\"-143.1\" font-family=\"Helvetica,sans-Serif\" font-size=\"13.00\">all_tuples([1, 0, 1],2,2)</text>\n",
       "<polyline fill=\"none\" stroke=\"black\" points=\"743,-135.5 893,-135.5 \"/>\n",
       "<text text-anchor=\"middle\" x=\"818\" y=\"-121.1\" font-family=\"Helvetica,sans-Serif\" font-size=\"13.00\">ret: None</text>\n",
       "</g>\n",
       "<!-- 140553413427184&#45;&gt;140553359552080 -->\n",
       "<g id=\"edge9\" class=\"edge\">\n",
       "<title>140553413427184&#45;&gt;140553359552080</title>\n",
       "<path fill=\"none\" stroke=\"#757575\" d=\"M818,-203.2C818,-192.6 818,-179.59 818,-167.89\"/>\n",
       "<polygon fill=\"#757575\" stroke=\"#757575\" points=\"821.5,-167.61 818,-157.61 814.5,-167.61 821.5,-167.61\"/>\n",
       "<text text-anchor=\"middle\" x=\"832.5\" y=\"-178.6\" font-family=\"Helvetica,sans-Serif\" font-size=\"8.00\" fill=\"#999999\">9 (⇑10)</text>\n",
       "</g>\n",
       "<!-- 140553326835072 -->\n",
       "<g id=\"node13\" class=\"node\">\n",
       "<title>140553326835072</title>\n",
       "<path fill=\"none\" stroke=\"black\" d=\"M1020,-113.5C1020,-113.5 1146,-113.5 1146,-113.5 1152,-113.5 1158,-119.5 1158,-125.5 1158,-125.5 1158,-145.5 1158,-145.5 1158,-151.5 1152,-157.5 1146,-157.5 1146,-157.5 1020,-157.5 1020,-157.5 1014,-157.5 1008,-151.5 1008,-145.5 1008,-145.5 1008,-125.5 1008,-125.5 1008,-119.5 1014,-113.5 1020,-113.5\"/>\n",
       "<text text-anchor=\"middle\" x=\"1083\" y=\"-143.1\" font-family=\"Helvetica,sans-Serif\" font-size=\"13.00\">all_tuples([1, 1, 1],2,2)</text>\n",
       "<polyline fill=\"none\" stroke=\"black\" points=\"1008,-135.5 1158,-135.5 \"/>\n",
       "<text text-anchor=\"middle\" x=\"1083\" y=\"-121.1\" font-family=\"Helvetica,sans-Serif\" font-size=\"13.00\">ret: None</text>\n",
       "</g>\n",
       "<!-- 140553413427184&#45;&gt;140553326835072 -->\n",
       "<g id=\"edge10\" class=\"edge\">\n",
       "<title>140553413427184&#45;&gt;140553326835072</title>\n",
       "<path fill=\"none\" stroke=\"#9c9c9c\" d=\"M881.47,-203.42C920.17,-190.57 969.77,-174.1 1010.08,-160.71\"/>\n",
       "<polygon fill=\"#9c9c9c\" stroke=\"#9c9c9c\" points=\"1011.2,-164.03 1019.59,-157.56 1008.99,-157.39 1011.2,-164.03\"/>\n",
       "<text text-anchor=\"middle\" x=\"976\" y=\"-178.6\" font-family=\"Helvetica,sans-Serif\" font-size=\"8.00\" fill=\"#999999\">12 (⇑13)</text>\n",
       "</g>\n",
       "<!-- 140553326834544 -->\n",
       "<g id=\"node11\" class=\"node\">\n",
       "<title>140553326834544</title>\n",
       "<path fill=\"none\" stroke=\"black\" d=\"M684,-23.5C684,-23.5 810,-23.5 810,-23.5 816,-23.5 822,-29.5 822,-35.5 822,-35.5 822,-55.5 822,-55.5 822,-61.5 816,-67.5 810,-67.5 810,-67.5 684,-67.5 684,-67.5 678,-67.5 672,-61.5 672,-55.5 672,-55.5 672,-35.5 672,-35.5 672,-29.5 678,-23.5 684,-23.5\"/>\n",
       "<text text-anchor=\"middle\" x=\"747\" y=\"-53.1\" font-family=\"Helvetica,sans-Serif\" font-size=\"13.00\">all_tuples([1, 0, 0],2,3)</text>\n",
       "<polyline fill=\"none\" stroke=\"black\" points=\"672,-45.5 822,-45.5 \"/>\n",
       "<text text-anchor=\"middle\" x=\"747\" y=\"-31.1\" font-family=\"Helvetica,sans-Serif\" font-size=\"13.00\">ret: None</text>\n",
       "</g>\n",
       "<!-- 140553359552080&#45;&gt;140553326834544 -->\n",
       "<g id=\"edge11\" class=\"edge\">\n",
       "<title>140553359552080&#45;&gt;140553326834544</title>\n",
       "<path fill=\"none\" stroke=\"#828282\" d=\"M800.81,-113.2C791.66,-101.85 780.26,-87.72 770.32,-75.4\"/>\n",
       "<polygon fill=\"#828282\" stroke=\"#828282\" points=\"773.03,-73.19 764.03,-67.61 767.58,-77.59 773.03,-73.19\"/>\n",
       "<text text-anchor=\"middle\" x=\"799.5\" y=\"-88.6\" font-family=\"Helvetica,sans-Serif\" font-size=\"8.00\" fill=\"#999999\">10 (⇑8)</text>\n",
       "</g>\n",
       "<!-- 140553408152080 -->\n",
       "<g id=\"node12\" class=\"node\">\n",
       "<title>140553408152080</title>\n",
       "<path fill=\"none\" stroke=\"black\" d=\"M852,-23.5C852,-23.5 978,-23.5 978,-23.5 984,-23.5 990,-29.5 990,-35.5 990,-35.5 990,-55.5 990,-55.5 990,-61.5 984,-67.5 978,-67.5 978,-67.5 852,-67.5 852,-67.5 846,-67.5 840,-61.5 840,-55.5 840,-55.5 840,-35.5 840,-35.5 840,-29.5 846,-23.5 852,-23.5\"/>\n",
       "<text text-anchor=\"middle\" x=\"915\" y=\"-53.1\" font-family=\"Helvetica,sans-Serif\" font-size=\"13.00\">all_tuples([1, 0, 1],2,3)</text>\n",
       "<polyline fill=\"none\" stroke=\"black\" points=\"840,-45.5 990,-45.5 \"/>\n",
       "<text text-anchor=\"middle\" x=\"915\" y=\"-31.1\" font-family=\"Helvetica,sans-Serif\" font-size=\"13.00\">ret: None</text>\n",
       "</g>\n",
       "<!-- 140553359552080&#45;&gt;140553408152080 -->\n",
       "<g id=\"edge12\" class=\"edge\">\n",
       "<title>140553359552080&#45;&gt;140553408152080</title>\n",
       "<path fill=\"none\" stroke=\"#8f8f8f\" d=\"M841.48,-113.2C854.35,-101.52 870.45,-86.91 884.31,-74.35\"/>\n",
       "<polygon fill=\"#8f8f8f\" stroke=\"#8f8f8f\" points=\"886.68,-76.92 891.74,-67.61 881.98,-71.73 886.68,-76.92\"/>\n",
       "<text text-anchor=\"middle\" x=\"884.5\" y=\"-88.6\" font-family=\"Helvetica,sans-Serif\" font-size=\"8.00\" fill=\"#999999\">11 (⇑9)</text>\n",
       "</g>\n",
       "<!-- 140553422553792 -->\n",
       "<g id=\"node14\" class=\"node\">\n",
       "<title>140553422553792</title>\n",
       "<path fill=\"none\" stroke=\"black\" d=\"M1020,-23.5C1020,-23.5 1146,-23.5 1146,-23.5 1152,-23.5 1158,-29.5 1158,-35.5 1158,-35.5 1158,-55.5 1158,-55.5 1158,-61.5 1152,-67.5 1146,-67.5 1146,-67.5 1020,-67.5 1020,-67.5 1014,-67.5 1008,-61.5 1008,-55.5 1008,-55.5 1008,-35.5 1008,-35.5 1008,-29.5 1014,-23.5 1020,-23.5\"/>\n",
       "<text text-anchor=\"middle\" x=\"1083\" y=\"-53.1\" font-family=\"Helvetica,sans-Serif\" font-size=\"13.00\">all_tuples([1, 1, 0],2,3)</text>\n",
       "<polyline fill=\"none\" stroke=\"black\" points=\"1008,-45.5 1158,-45.5 \"/>\n",
       "<text text-anchor=\"middle\" x=\"1083\" y=\"-31.1\" font-family=\"Helvetica,sans-Serif\" font-size=\"13.00\">ret: None</text>\n",
       "</g>\n",
       "<!-- 140553326835072&#45;&gt;140553422553792 -->\n",
       "<g id=\"edge13\" class=\"edge\">\n",
       "<title>140553326835072&#45;&gt;140553422553792</title>\n",
       "<path fill=\"none\" stroke=\"#a9a9a9\" d=\"M1083,-113.2C1083,-102.6 1083,-89.59 1083,-77.89\"/>\n",
       "<polygon fill=\"#a9a9a9\" stroke=\"#a9a9a9\" points=\"1086.5,-77.61 1083,-67.61 1079.5,-77.61 1086.5,-77.61\"/>\n",
       "<text text-anchor=\"middle\" x=\"1100\" y=\"-88.6\" font-family=\"Helvetica,sans-Serif\" font-size=\"8.00\" fill=\"#999999\">13 (⇑11)</text>\n",
       "</g>\n",
       "<!-- 140553408152608 -->\n",
       "<g id=\"node15\" class=\"node\">\n",
       "<title>140553408152608</title>\n",
       "<path fill=\"none\" stroke=\"black\" d=\"M1188,-23.5C1188,-23.5 1314,-23.5 1314,-23.5 1320,-23.5 1326,-29.5 1326,-35.5 1326,-35.5 1326,-55.5 1326,-55.5 1326,-61.5 1320,-67.5 1314,-67.5 1314,-67.5 1188,-67.5 1188,-67.5 1182,-67.5 1176,-61.5 1176,-55.5 1176,-55.5 1176,-35.5 1176,-35.5 1176,-29.5 1182,-23.5 1188,-23.5\"/>\n",
       "<text text-anchor=\"middle\" x=\"1251\" y=\"-53.1\" font-family=\"Helvetica,sans-Serif\" font-size=\"13.00\">all_tuples([1, 1, 1],2,3)</text>\n",
       "<polyline fill=\"none\" stroke=\"black\" points=\"1176,-45.5 1326,-45.5 \"/>\n",
       "<text text-anchor=\"middle\" x=\"1251\" y=\"-31.1\" font-family=\"Helvetica,sans-Serif\" font-size=\"13.00\">ret: None</text>\n",
       "</g>\n",
       "<!-- 140553326835072&#45;&gt;140553408152608 -->\n",
       "<g id=\"edge14\" class=\"edge\">\n",
       "<title>140553326835072&#45;&gt;140553408152608</title>\n",
       "<path fill=\"none\" stroke=\"#b6b6b6\" d=\"M1123.24,-113.42C1146.84,-101.06 1176.84,-85.35 1201.84,-72.25\"/>\n",
       "<polygon fill=\"#b6b6b6\" stroke=\"#b6b6b6\" points=\"1203.56,-75.3 1210.8,-67.56 1200.31,-69.1 1203.56,-75.3\"/>\n",
       "<text text-anchor=\"middle\" x=\"1190\" y=\"-88.6\" font-family=\"Helvetica,sans-Serif\" font-size=\"8.00\" fill=\"#999999\">14 (⇑12)</text>\n",
       "</g>\n",
       "</g>\n",
       "</svg>\n"
      ],
      "text/plain": [
       "<graphviz.graphs.Digraph at 0x7fd5250e6e80>"
      ]
     },
     "execution_count": 2,
     "metadata": {},
     "output_type": "execute_result"
    }
   ],
   "source": [
    "from rcviz import viz\n",
    "\n",
    "@viz()\n",
    "def all_tuples(solution, n, i):\n",
    "    if i==len(solution):\n",
    "        print(tuple(solution))\n",
    "    else:\n",
    "        possibilities = range(n)\n",
    "        for possibility in possibilities:\n",
    "            solution[i] = possibility\n",
    "            all_tuples(solution, n, i+1)\n",
    "            \n",
    "all_tuples([None, None, None], 2, 0)\n",
    "viz.render()"
   ]
  },
  {
   "cell_type": "code",
   "execution_count": null,
   "id": "f8e5efbc-5588-4945-a5ac-a7cc8b2b8a1b",
   "metadata": {},
   "outputs": [],
   "source": []
  }
 ],
 "metadata": {
  "kernelspec": {
   "display_name": "Python 3 (ipykernel)",
   "language": "python",
   "name": "python3"
  },
  "language_info": {
   "codemirror_mode": {
    "name": "ipython",
    "version": 3
   },
   "file_extension": ".py",
   "mimetype": "text/x-python",
   "name": "python",
   "nbconvert_exporter": "python",
   "pygments_lexer": "ipython3",
   "version": "3.9.12"
  }
 },
 "nbformat": 4,
 "nbformat_minor": 5
}
