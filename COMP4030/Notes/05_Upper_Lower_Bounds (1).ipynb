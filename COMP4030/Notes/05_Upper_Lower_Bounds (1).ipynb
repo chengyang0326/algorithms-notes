{
 "cells": [
  {
   "cell_type": "markdown",
   "id": "167aa8e5-896f-4a64-996e-ff81af120bdf",
   "metadata": {},
   "source": [
    "# Upper and Lower Bounds of Running Time"
   ]
  },
  {
   "cell_type": "markdown",
   "id": "c7891e06-35db-4683-b21c-1cf3ee874574",
   "metadata": {},
   "source": [
    "There are three main measures of complexity:\n",
    "\n",
    "+ O -- upper bounds\n",
    "\n",
    "+ Omega ($\\Omega$) -- lower bounds\n",
    "\n",
    "+ Theta ($\\Theta$)  -- tight bounds"
   ]
  },
  {
   "cell_type": "markdown",
   "id": "4c4966c4-a681-4a7b-a1a6-887cfc672c32",
   "metadata": {},
   "source": [
    "Key ideas:\n",
    "\n",
    "+ Complexity describes a set of running time functions.\n",
    "\n",
    "+ Additive and multiplicative differences make no difference in complexity.\n",
    "\n",
    "+ Upper bounds and lower bounds can be very useful when tight bounds are hard to determine."
   ]
  },
  {
   "cell_type": "markdown",
   "id": "33afe817-e9fe-4932-befb-21a71b299420",
   "metadata": {},
   "source": [
    "### Understanding Upper Bounds and O"
   ]
  },
  {
   "cell_type": "code",
   "execution_count": 1,
   "id": "e2e7b00b-d813-46f8-b89a-71de55584230",
   "metadata": {},
   "outputs": [],
   "source": [
    "# input: a list of number\n",
    "def prog1(L):\n",
    "    s = 0\n",
    "    for i in range(len(L)):\n",
    "        s = L[i]*L[i] + 1\n",
    "        print(i, y)\n",
    "        s = L[i]**2 - 10*len(L)\n",
    "    s = s*5 + 10\n",
    "    s = s*s / 7\n",
    "    return s"
   ]
  },
  {
   "cell_type": "markdown",
   "id": "e6bd3e0a-b740-46bf-b700-ada8b0951506",
   "metadata": {},
   "source": [
    "What is the running time of prog1?\n",
    "\n",
    "+ $O(n)$ - It's true that $T(n) \\in O(n)$.\n",
    "\n",
    "+ $O(n^2)$ - It's true that $T(n) \\in O(n^2)$."
   ]
  },
  {
   "cell_type": "markdown",
   "id": "2c8159e8-276a-474f-bba6-eb4765981072",
   "metadata": {},
   "source": [
    "How do we say things?"
   ]
  },
  {
   "cell_type": "markdown",
   "id": "381ac755-5102-4fb8-9c20-f80c8b185f9d",
   "metadata": {},
   "source": [
    "Correct ways to describe the running time, $T(n)$, of prog1:\n",
    "\n",
    "+ $T(n) = a*n + b$\n",
    "\n",
    "+ $T(n)$ is in $O(n)$\n",
    "\n",
    "+ $T(n) \\in O(n)$\n"
   ]
  },
  {
   "cell_type": "markdown",
   "id": "7274d762-758b-4981-b4e9-26c0c8e1a3d6",
   "metadata": {},
   "source": [
    "Here's an incorrect way: $T(n)$ is $O(n)$."
   ]
  },
  {
   "cell_type": "markdown",
   "id": "145efe28-76b3-4d5d-966e-3804f1e21ad9",
   "metadata": {},
   "source": [
    "Important concept: $O(n)$ is a set of running time functions that are upper bounds of $n$."
   ]
  },
  {
   "cell_type": "markdown",
   "id": "098e494f-c16a-4e8c-85ea-81b22a26e91e",
   "metadata": {},
   "source": [
    "$T(n) \\in O(n)$ means $T(n)$, the running time of the program takes at most an order of $n$ steps."
   ]
  },
  {
   "cell_type": "markdown",
   "id": "117d4b55-e8eb-4945-a8fc-32d3442a2fc5",
   "metadata": {},
   "source": [
    "$T(n) \\in O(n^2)$ means $T(n)$, the running time of the program takes at most an order of $n^2$ steps."
   ]
  },
  {
   "cell_type": "markdown",
   "id": "4f57e85e-9a28-404c-9513-aafcc210545c",
   "metadata": {},
   "source": [
    "$T(n) \\in O(n^5)$ means $T(n)$, the running time of the program takes at most an order of $n^5$ steps."
   ]
  },
  {
   "cell_type": "markdown",
   "id": "8304def6-e278-497d-92e5-ba4e7e0a66db",
   "metadata": {},
   "source": [
    "### An example:"
   ]
  },
  {
   "cell_type": "code",
   "execution_count": 12,
   "id": "69c5f0e6-4e52-4bf2-ad1d-8f0039852544",
   "metadata": {},
   "outputs": [],
   "source": [
    "# input: L, a list of numbers\n",
    "def prog2(L):\n",
    "    for i in range(0, len(L)):\n",
    "        for j in range(0, len(L)):\n",
    "            print('i={}, j={}'.format(i,j))\n",
    "    "
   ]
  },
  {
   "cell_type": "code",
   "execution_count": 15,
   "id": "664e8690-5cb7-4f66-b601-8e609869a3b8",
   "metadata": {},
   "outputs": [
    {
     "name": "stdout",
     "output_type": "stream",
     "text": [
      "i=0, j=0\n",
      "i=0, j=1\n",
      "i=0, j=2\n",
      "i=1, j=0\n",
      "i=1, j=1\n",
      "i=1, j=2\n",
      "i=2, j=0\n",
      "i=2, j=1\n",
      "i=2, j=2\n"
     ]
    }
   ],
   "source": [
    "prog2(['a','b','c'])"
   ]
  },
  {
   "cell_type": "markdown",
   "id": "78579b4a-8120-48e0-8814-ce494e89054e",
   "metadata": {},
   "source": [
    "$T(n) = a*n^2 + b \\in O(n^2)$\n"
   ]
  },
  {
   "cell_type": "markdown",
   "id": "4c8dd972-9bd7-4111-99ac-70e9e2e3c740",
   "metadata": {},
   "source": [
    "What we are saying is that prog2 takes at most order of $n^2$ steps."
   ]
  },
  {
   "cell_type": "code",
   "execution_count": 16,
   "id": "d3cc87c1-71f0-49de-9630-c0a3557b549d",
   "metadata": {},
   "outputs": [],
   "source": [
    "# input: L, a list of numbers\n",
    "def prog3(L):\n",
    "    for i in range(0, len(L)):\n",
    "        for j in range(i+1, len(L)):\n",
    "            print('i={}, j={}'.format(i,j))\n",
    "    "
   ]
  },
  {
   "cell_type": "code",
   "execution_count": 1,
   "id": "83024a64-2d12-4055-8913-2efa2d05534b",
   "metadata": {},
   "outputs": [],
   "source": [
    "# prog3(['a','b','c','d'])"
   ]
  },
  {
   "cell_type": "markdown",
   "id": "3e3270d3-4f19-4952-b28a-7939e9ecee98",
   "metadata": {},
   "source": [
    "$T(n) = a*n + b$  ???\n",
    "\n",
    "$T(n) \\in O(n^2)$ ???\n",
    "\n",
    "$T(n) \\in O(n)$ ???"
   ]
  },
  {
   "cell_type": "markdown",
   "id": "1b9a209b-8728-4d93-8174-f1e78aed7e66",
   "metadata": {},
   "source": [
    "prog3 takes fewer steps than prog2, referring to line 4.\n",
    "\n",
    "On line 4 of each program, prog2 takes $n$ steps.  This gives us: $T(n) = a*n*n + b$\n",
    "\n",
    "\n",
    "On line 4 of each program, prog3 takes at most $n$ steps.  This gives us: $T(n) \\le a*n*n + b$.  This is a mathematical way of saying $T(n)$ takes at most order or $n^2$ steps.\n"
   ]
  },
  {
   "cell_type": "markdown",
   "id": "51cf4162-3c6d-4fa6-9191-a17ed29cc83a",
   "metadata": {},
   "source": [
    "This means $T(n) \\in O(n^2)$."
   ]
  },
  {
   "cell_type": "markdown",
   "id": "18ab723a-3e17-4208-aff9-a3ebb09461f2",
   "metadata": {},
   "source": [
    "9/1/2022"
   ]
  },
  {
   "cell_type": "markdown",
   "id": "44092b8d-5b84-4567-815c-19698fe57f0a",
   "metadata": {},
   "source": [
    "When we say that $T(n) \\in O(n^2)$, it means that $T(n)$ takes at most order of $n^2$ steps.\n",
    "\n",
    "This means $O$ is a measure of upper bounds.  And that can be very useful.\n"
   ]
  },
  {
   "cell_type": "markdown",
   "id": "e16af644-d6b8-4e6d-8bd9-33d7cb38e040",
   "metadata": {},
   "source": [
    "### Mathematical definition of O"
   ]
  },
  {
   "cell_type": "markdown",
   "id": "28d079f2-6183-4a14-ab30-682d8a7eef8a",
   "metadata": {},
   "source": [
    "$T(n) \\in O(f(n))$ if $T(n) \\le c * f(n)$, for some number $c$ and for large values of $n$."
   ]
  },
  {
   "cell_type": "markdown",
   "id": "c3dc7b54-e557-4be3-8c38-32b3963e3bb6",
   "metadata": {},
   "source": [
    "Examples:\n",
    "\n",
    "+ $T(n) \\in O(n)$ means $T(n) \\le c * n$ for some number $c$ (for large values of $n$).\n",
    "\n",
    "+ $T(n) \\in O(n^2)$ means $T(n) \\le c * n^2$ for some number $c$ (for large values of $n$).\n",
    "\n"
   ]
  },
  {
   "cell_type": "markdown",
   "id": "7b4e3cb5-4784-4f46-ade8-0b29ae2f0307",
   "metadata": {},
   "source": [
    "### Deriving Complexity From Running Time Equations"
   ]
  },
  {
   "cell_type": "markdown",
   "id": "7e90908a-7961-4d42-a217-6183d2ace37c",
   "metadata": {},
   "source": [
    "Ex 1:  show that $10n + 5 \\in O(n)$."
   ]
  },
  {
   "cell_type": "markdown",
   "id": "a7ecc54b-5405-4680-aa50-c8b2482d412b",
   "metadata": {},
   "source": [
    "Intuitive explanation: \"Look for the dominant term and ignore the constant\"."
   ]
  },
  {
   "cell_type": "markdown",
   "id": "ba65a803-af3b-4c51-a23c-cdf4bd0c88cc",
   "metadata": {},
   "source": [
    "Using definition:\n",
    "\n",
    "* $10n + 5 \\le 10n + 5n$,  for all values of $n > 1$.\n",
    "* $10n + 5 \\le 15n$, for all values of $n > 1$.  We determine $c$ to be 15.  This satisfies the definition. Therefore, $10n + 5 \\in O(n)$."
   ]
  },
  {
   "cell_type": "markdown",
   "id": "542fc731-13af-49c7-8473-24165d0edd10",
   "metadata": {},
   "source": [
    "So, to determine if $T(n) \\in O(n)$, we must determine a number $c$, such that $T(n) \\le c * n$, for all large values of $n$."
   ]
  },
  {
   "cell_type": "markdown",
   "id": "3414ddee-ce9b-4ad4-91d4-054c6a951dd4",
   "metadata": {},
   "source": [
    "---\n",
    "\n",
    "Ex 2: show that $5n^2 + 3n^3 + 2 \\in O(n^3)$."
   ]
  },
  {
   "cell_type": "markdown",
   "id": "863c8dc0-682e-4b5e-9a9d-d8900e15df24",
   "metadata": {},
   "source": [
    "So, to determine if $5n^2 + 3n^3 + 2  \\in O(n^3)$, we must determine a number $c$, such that $5n^2 + 3n^3 + 2  \\le c * n^3$, for all large values of $n$."
   ]
  },
  {
   "cell_type": "markdown",
   "id": "ac93f6dc-1d47-4627-9cbb-fce91566e90e",
   "metadata": {},
   "source": [
    "$5n^2 + 3n^3 + 2 \\le 5n^3 + 3n^3 + 2n^3 = 10n^3$, for all values of $n > 1$."
   ]
  },
  {
   "cell_type": "markdown",
   "id": "938e95f5-3688-4507-9e8a-e13c432545b0",
   "metadata": {},
   "source": [
    "Therefore, with $c = 10$, we show that $5n^2 + 3n^3 + 2n^3 \\in O(n^3)$"
   ]
  },
  {
   "cell_type": "markdown",
   "id": "6f3c6b39-8185-4804-a520-939f61d5fd42",
   "metadata": {},
   "source": [
    "---\n",
    "\n",
    "Ex3:  Show that $5n^2 + 3n^3 + 2 \\in O(n^4)$."
   ]
  },
  {
   "cell_type": "markdown",
   "id": "59a40325-a092-49e3-8e8f-5d56dbc2f681",
   "metadata": {},
   "source": [
    "Intuitively, $n^3 \\le n^4$.  So if $n^3$ is an upperbound of $T(n)$, then $n^4$ is also an upper bound of $T(n)$."
   ]
  },
  {
   "cell_type": "markdown",
   "id": "de1dcfaf-d169-45f9-b297-9c40c84256c5",
   "metadata": {},
   "source": [
    "Mathematically, $5n^2 + 3n^3 + 2 \\le 5n^4 + 3n^4 + 2n^4 = 10n^4$, for all $n>1$."
   ]
  },
  {
   "cell_type": "markdown",
   "id": "5163bddd-fa1d-4fab-802c-c3141117f94f",
   "metadata": {},
   "source": [
    "With $c=10$, we show that $5n^2 + 3n^3 + 2 \\in O(n^4)$."
   ]
  },
  {
   "cell_type": "markdown",
   "id": "9462e4ea-2e7e-40dd-9d02-f275c93598ba",
   "metadata": {},
   "source": [
    "---\n",
    "\n",
    "Ex4: Suppose that \n",
    "\n",
    "* $T_1$ is the running time of algo1, and $T_2$ is the running time of algo2.\n",
    "\n",
    "* $T_1(n) \\in O(n^2)$ and $T_2(n) \\in O(n^3)$.\n",
    "\n",
    "Is algo1 faster than algo2? "
   ]
  },
  {
   "cell_type": "markdown",
   "id": "88186215-6175-4082-b224-ba872c1db150",
   "metadata": {},
   "source": [
    "We don't have enough information to answer this question."
   ]
  },
  {
   "cell_type": "markdown",
   "id": "6af9f306-6dd3-4bfd-9d23-b7391cbf385b",
   "metadata": {},
   "source": [
    "---\n",
    "\n",
    "Ex5: Is $O$ a measure of worst case running time?\n"
   ]
  },
  {
   "cell_type": "markdown",
   "id": "b48bbdc4-71da-49e0-bdfb-2c8b872c4f08",
   "metadata": {},
   "source": [
    "$O$ is a measure complexity.\n",
    "\n",
    "We can measure running time complexity or memory complexity or other complexity."
   ]
  },
  {
   "cell_type": "markdown",
   "id": "edd38b0c-9854-43c2-88c9-26079f364097",
   "metadata": {},
   "source": [
    "$O$ can measure best-case, average-case, or worst-case complexity."
   ]
  },
  {
   "cell_type": "markdown",
   "id": "76e719cc-9374-4fc1-b0b1-1de99f66e54e",
   "metadata": {},
   "source": [
    "Most of the time, we are interested in worst-case complexity because\n",
    "\n",
    "1. Best-case complexity is too optimistic.  For example: best-case of complexity of finding an element in a list is $O(1)$.\n",
    "    * Worst-case complexity of finding an element in a list is $O(n)$.\n",
    "    \n",
    "\n",
    "2. Average-case complexity is usually hard, even though it's more meaningful."
   ]
  },
  {
   "cell_type": "markdown",
   "id": "cf696a8f-7238-499f-a634-daf00fab86dc",
   "metadata": {},
   "source": [
    "---\n",
    "\n",
    "ex6: $5n^3 - 100 \\in O(n^2)$ because when $n=2$, $5n^3 - 100 = -60 \\le 4$."
   ]
  },
  {
   "cell_type": "code",
   "execution_count": 2,
   "id": "c448c11d-4f93-48d5-b586-86e3d1ab568c",
   "metadata": {},
   "outputs": [
    {
     "data": {
      "text/plain": [
       "-60"
      ]
     },
     "execution_count": 2,
     "metadata": {},
     "output_type": "execute_result"
    }
   ],
   "source": [
    "5*2**3 - 100"
   ]
  },
  {
   "cell_type": "markdown",
   "id": "342882c0-af07-4899-8409-713a0f5f6b15",
   "metadata": {},
   "source": [
    "Is this reasoning correct?"
   ]
  },
  {
   "cell_type": "markdown",
   "id": "d4add353-1d96-43d4-ac0f-b950bac43c84",
   "metadata": {},
   "source": [
    "Intuitive understanding gives us some trouble here."
   ]
  },
  {
   "cell_type": "markdown",
   "id": "697ffb21-ee8c-4f08-ae90-642b21d8efa4",
   "metadata": {},
   "source": [
    "Mathematically, is it possible that $5n^3 - 100 \\le c * n^2$ for all large values?"
   ]
  },
  {
   "cell_type": "markdown",
   "id": "cb64eaad-9c8a-4d6d-96eb-eb976a2cf477",
   "metadata": {},
   "source": [
    "Algebraically, if divide both sides by $n^3$, we get this:"
   ]
  },
  {
   "cell_type": "markdown",
   "id": "05619866-43b4-4fbf-8042-f69c68c2a3f6",
   "metadata": {},
   "source": [
    "$5 - 100 / n^3 \\le c / n$"
   ]
  },
  {
   "cell_type": "markdown",
   "id": "03fc72e6-aceb-4de2-ab42-9695f88dc663",
   "metadata": {},
   "source": [
    "When $n$ is very large, this is not possible.\n",
    "\n",
    "<img width=\"50%\" src=\"https://i.imgur.com/eI2toeF.png\">"
   ]
  },
  {
   "cell_type": "markdown",
   "id": "50c5069e-172f-4689-bfb2-59e41a75ab67",
   "metadata": {},
   "source": [
    "Complexity is important for large values of $n$."
   ]
  },
  {
   "cell_type": "markdown",
   "id": "de72eef6-2092-4e95-bd81-876da7efec7b",
   "metadata": {},
   "source": [
    "### Lower Bound: $\\Omega$"
   ]
  },
  {
   "cell_type": "markdown",
   "id": "f7f141d6-027f-4ed9-8426-7a62ea55eb1b",
   "metadata": {},
   "source": [
    "We say that $T(n) \\in \\Omega(f(n))$ if $T(n) \\ge c * f(n)$, for some number $c$ for large values of $n$."
   ]
  },
  {
   "cell_type": "markdown",
   "id": "d7dea427-8b7c-4739-b5be-b43df9ce8c22",
   "metadata": {},
   "source": [
    "Ex1: $T(n) \\in \\Omega(n^2)$ means:\n",
    "\n",
    "1. There's number $c$ (e.g. 21) such that $T(n) \\ge c * n^2$ for large values of $n$.\n",
    "2. Intuitively, $T(n)$ -- the running time of the program -- takes at least order of $n^2$ steps."
   ]
  },
  {
   "cell_type": "markdown",
   "id": "b391bd45-77aa-450c-8844-f8775ff9dce4",
   "metadata": {},
   "source": [
    "---\n",
    "Ex2: The running time of prog3 is in $O(n^2)$ and is in $\\Omega(n)$.\n",
    "\n",
    "$T(n) \\in O(n^2)$ and $T(n) \\in \\Omega(n)$."
   ]
  },
  {
   "cell_type": "code",
   "execution_count": 3,
   "id": "cc84f02b-2cc3-4118-b4e9-5151f1c5c4a4",
   "metadata": {},
   "outputs": [],
   "source": [
    "# input: L, a list of numbers\n",
    "def prog3(L):\n",
    "    for i in range(0, len(L)):\n",
    "        for j in range(i+1, len(L)):\n",
    "            print('i={}, j={}'.format(i,j))\n",
    "    "
   ]
  },
  {
   "cell_type": "markdown",
   "id": "7292e430-438c-4a38-a9a6-c0638a1bd340",
   "metadata": {},
   "source": [
    "### Tight Bound: $\\Theta$"
   ]
  },
  {
   "cell_type": "markdown",
   "id": "ede3f9e9-7ccf-4981-af22-6eec552231f5",
   "metadata": {},
   "source": [
    "$T(n) \\in \\Theta(f(n))$ if $T(n) \\in O(f(n))$ and $T(n) \\in \\Omega(f(n))$"
   ]
  },
  {
   "cell_type": "markdown",
   "id": "59cb0212-4865-4106-96ca-149de671cbc3",
   "metadata": {},
   "source": [
    "Ex1:  \n",
    "\n",
    "* $2n^2 + 10 \\le 12n^2$ for all $n>1$. It is in $O(n^2)$"
   ]
  },
  {
   "cell_type": "markdown",
   "id": "fd3f169c-e57f-486d-b7b9-e1c61248d32a",
   "metadata": {},
   "source": [
    "* $2n^2 + 10 \\ge 1n^2$ for all $n>1$.  It is in $\\Omega(n^2)$."
   ]
  },
  {
   "cell_type": "markdown",
   "id": "1f534e98-cfd2-42a3-8569-c8bdaa1c0a22",
   "metadata": {},
   "source": [
    "Therefore, $2n^2 + 10 \\in \\Theta(n^2)$"
   ]
  },
  {
   "cell_type": "code",
   "execution_count": null,
   "id": "4559e63a-9f58-4cc4-a7b1-5d0e72da5548",
   "metadata": {},
   "outputs": [],
   "source": []
  }
 ],
 "metadata": {
  "kernelspec": {
   "display_name": "Python 3",
   "language": "python",
   "name": "python3"
  },
  "language_info": {
   "codemirror_mode": {
    "name": "ipython",
    "version": 3
   },
   "file_extension": ".py",
   "mimetype": "text/x-python",
   "name": "python",
   "nbconvert_exporter": "python",
   "pygments_lexer": "ipython3",
   "version": "3.8.8"
  }
 },
 "nbformat": 4,
 "nbformat_minor": 5
}
