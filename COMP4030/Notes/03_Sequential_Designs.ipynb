{
 "cells": [
  {
   "cell_type": "markdown",
   "id": "7a2e0497-baa7-409c-a517-424584293908",
   "metadata": {},
   "source": [
    "# Sequential Designs\n",
    "\n",
    "+ Loops\n",
    "+ Filtering, Accumulating\n",
    "+ Running time\n",
    "+ Nested loops\n"
   ]
  },
  {
   "cell_type": "markdown",
   "id": "e44eb511-41f3-42ad-92a5-d24823d4ca04",
   "metadata": {},
   "source": [
    "Generate a list of random numbers."
   ]
  },
  {
   "cell_type": "code",
   "execution_count": 14,
   "id": "22380d8d-f17e-4020-90e2-72e0a78553fd",
   "metadata": {},
   "outputs": [],
   "source": [
    "#\n",
    "# input: n, smallest, largest\n",
    "# output: a list of n random numbers between smallest and largest\n",
    "#\n",
    "import random\n",
    "def gen_numbers(n, smallest, largest):\n",
    "    numbers = []\n",
    "    for i in range(n):\n",
    "        numbers.append(random.randint(smallest, largest))\n",
    "    return numbers\n",
    "\n",
    "def gen_numbers(n, smallest, largest):\n",
    "    return [ random.randint(smallest, largest) for i in range(n) ]"
   ]
  },
  {
   "cell_type": "markdown",
   "id": "991ac70b-0848-42cc-830c-1a622054a9ae",
   "metadata": {},
   "source": [
    "A function/method/procedure has inputs, outputs, side effects.\n",
    "\n",
    "The side effects are on the inputs and global variables.\n",
    "\n",
    "A computational problem has something unique: an input size.\n",
    "\n",
    "Why do we need to know about input sizes?\n",
    "\n",
    "The efficiency (running time, memory resources) is a function of input size.\n",
    "\n",
    "Typically, the larger the input is, the more resources (time/memory) the function needs."
   ]
  },
  {
   "cell_type": "code",
   "execution_count": 18,
   "id": "e035a275-ff63-4b91-a5b8-b411440d3401",
   "metadata": {},
   "outputs": [
    {
     "name": "stdout",
     "output_type": "stream",
     "text": [
      "[41, 50, 15, 91, 89, 73, 72, 63, 88, 14, 76, 36, 41, 71, 45, 66, 99, 35, 37, 19, 9, 95, 41, 30, 6, 51, 97, 43, 97, 77, 16, 55, 88, 45, 16, 8, 66, 94, 70, 8, 6, 52, 45, 23, 5, 21, 42, 51, 70, 58, 50, 8, 72, 31, 55, 76, 56, 83, 9, 32, 81, 20, 28, 34, 62, 69, 68, 32, 18, 1, 50, 79, 82, 64, 81, 53, 4, 81, 90, 33, 8, 60, 50, 54, 27, 68, 81, 35, 44, 36, 59, 31, 5, 27, 56, 30, 53, 30, 32, 5]\n"
     ]
    }
   ],
   "source": [
    "A = gen_numbers(100, 1, 100)\n",
    "print(A)"
   ]
  },
  {
   "cell_type": "markdown",
   "id": "82f56f93-3187-4d6e-accc-04327ee416fe",
   "metadata": {},
   "source": [
    "Exercise: select all even numbers from a list of numbers."
   ]
  },
  {
   "cell_type": "code",
   "execution_count": 22,
   "id": "d3c83afc-30ab-4c14-a15c-747ae15e35bc",
   "metadata": {},
   "outputs": [],
   "source": [
    "def is_even(y):\n",
    "    return y%2==0\n",
    "\n",
    "def select_even_numbers(numbers):\n",
    "    output_list = []\n",
    "    for x in numbers:\n",
    "        if x%2==0:\n",
    "            output_list.append(x)\n",
    "    return output_list\n"
   ]
  },
  {
   "cell_type": "markdown",
   "id": "38df7b3a-313a-4da2-ac83-4641fb248f45",
   "metadata": {},
   "source": [
    "Explain your strategy:\n",
    "+ Took a list of numbers, read through the list of numbers; if the element % 2==0, append it to the return list.\n",
    "\n",
    "+ Look at each number in the input list, if it's even, append it to the output list."
   ]
  },
  {
   "cell_type": "code",
   "execution_count": 24,
   "id": "9c29c991-8344-4eb4-a9b4-73723e4833ba",
   "metadata": {},
   "outputs": [
    {
     "name": "stdout",
     "output_type": "stream",
     "text": [
      "[60, 16, 62, 38, 64, 56, 46, 6, 58, 32, 68, 64, 98, 96, 20, 82, 12, 34, 68]\n"
     ]
    }
   ],
   "source": [
    "numbers = gen_numbers(40, 1, 100)\n",
    "print(select_even_numbers(numbers))"
   ]
  },
  {
   "cell_type": "markdown",
   "id": "54137a8e-80b0-4e48-9cba-a1156c94bd29",
   "metadata": {},
   "source": [
    "Here's how to do this with list comprehension."
   ]
  },
  {
   "cell_type": "code",
   "execution_count": 51,
   "id": "5d68c463-83b0-48f4-8a57-228209cdf16c",
   "metadata": {},
   "outputs": [],
   "source": [
    "def select_even_numbers(numbers):\n",
    "    return [ x for x in numbers if x%2==0 ]"
   ]
  },
  {
   "cell_type": "code",
   "execution_count": 52,
   "id": "2f631529-40c8-469a-a1e9-f2ca66f4958a",
   "metadata": {},
   "outputs": [
    {
     "name": "stdout",
     "output_type": "stream",
     "text": [
      "[41, 74, 30, 68, 7, 68, 62, 15, 65, 4]\n"
     ]
    }
   ],
   "source": [
    "numbers = gen_numbers(10, 1, 100)\n",
    "print(numbers)"
   ]
  },
  {
   "cell_type": "code",
   "execution_count": 30,
   "id": "27f8e16e-a9cd-4aad-9699-b73aff795fbd",
   "metadata": {},
   "outputs": [
    {
     "name": "stdout",
     "output_type": "stream",
     "text": [
      "[34, 48, 56, 66, 82]\n"
     ]
    }
   ],
   "source": [
    "print(select_even_numbers(numbers))"
   ]
  },
  {
   "cell_type": "markdown",
   "id": "1caff07a-caff-47b7-8cd0-80d39b24dbf0",
   "metadata": {},
   "source": [
    "Programming styles/paradigms\n",
    "+ Procedural - computation is specified steps by steps.  You specify how to do it.\n",
    "\n",
    "+ Declarative - You tell what the solution is.\n",
    "\n",
    "+ Event-driven - (in webapps)"
   ]
  },
  {
   "cell_type": "markdown",
   "id": "107b2795-04c0-4a76-99c2-c9e08041e937",
   "metadata": {},
   "source": [
    "2-min exercise: select a list of numbers that are greater than 20 and divisible by 5."
   ]
  },
  {
   "cell_type": "code",
   "execution_count": 32,
   "id": "3d2a095d-8e11-47b4-8678-fd18b43b041d",
   "metadata": {},
   "outputs": [],
   "source": [
    "def my_select(numbers):\n",
    "    output = []\n",
    "    for x in numbers:\n",
    "        if x>20 and x%5==0:\n",
    "            output.append(x)\n",
    "    return output\n"
   ]
  },
  {
   "cell_type": "code",
   "execution_count": 36,
   "id": "37fceaa3-6a94-48bd-ac82-e40eb92f9515",
   "metadata": {},
   "outputs": [
    {
     "name": "stdout",
     "output_type": "stream",
     "text": [
      "[57, 93, 61, 10, 86, 15, 18, 90, 27, 64, 82, 20, 39, 82, 17, 75, 2, 74, 58, 4, 94, 3, 76, 99, 38, 8, 97, 3, 53, 38, 84, 92, 93, 54, 12, 43, 54, 66, 98, 42, 40, 46, 38, 91, 14, 11, 31, 88, 35, 81]\n"
     ]
    }
   ],
   "source": [
    "numbers = gen_numbers(50, 1, 100)\n",
    "print(numbers)"
   ]
  },
  {
   "cell_type": "code",
   "execution_count": 37,
   "id": "456f3f23-6235-4b57-a42f-ee5afb41aa97",
   "metadata": {},
   "outputs": [
    {
     "data": {
      "text/plain": [
       "[90, 75, 40, 35]"
      ]
     },
     "execution_count": 37,
     "metadata": {},
     "output_type": "execute_result"
    }
   ],
   "source": [
    "my_select(numbers)"
   ]
  },
  {
   "cell_type": "code",
   "execution_count": 39,
   "id": "83947a5d-79ec-42bd-8a81-598eee0a34a8",
   "metadata": {},
   "outputs": [],
   "source": [
    "def my_select(numbers):\n",
    "    return [ x for x in numbers if x>20 and x%5==0 ]"
   ]
  },
  {
   "cell_type": "code",
   "execution_count": 40,
   "id": "ce97cf50-5818-4a58-b0c0-281330a2f82b",
   "metadata": {},
   "outputs": [
    {
     "data": {
      "text/plain": [
       "[90, 75, 40, 35]"
      ]
     },
     "execution_count": 40,
     "metadata": {},
     "output_type": "execute_result"
    }
   ],
   "source": [
    "my_select(numbers)"
   ]
  },
  {
   "cell_type": "markdown",
   "id": "2f395ba7-0a50-4bc6-a9d2-8c10d36d5245",
   "metadata": {},
   "source": [
    "Here's a more general approach."
   ]
  },
  {
   "cell_type": "code",
   "execution_count": 41,
   "id": "5a4eedd5-d523-4b1d-b211-60ea4e247a16",
   "metadata": {},
   "outputs": [],
   "source": [
    "def my_select(numbers, condition):\n",
    "    return [ x for x in numbers if condition(x) ]"
   ]
  },
  {
   "cell_type": "markdown",
   "id": "10bfbafe-97e3-4e69-8bfe-b8274e303563",
   "metadata": {},
   "source": [
    "\"condition\" is a boolean function."
   ]
  },
  {
   "cell_type": "code",
   "execution_count": 42,
   "id": "a1dfc9f2-095f-4e95-8c5a-319914ceecdc",
   "metadata": {},
   "outputs": [],
   "source": [
    "def is_even(x):\n",
    "    return x%2==0"
   ]
  },
  {
   "cell_type": "code",
   "execution_count": 44,
   "id": "2309c66a-075b-492d-9f43-45454358db37",
   "metadata": {},
   "outputs": [
    {
     "name": "stdout",
     "output_type": "stream",
     "text": [
      "[10, 86, 18, 90, 64, 82, 20, 82, 2, 74, 58, 4, 94, 76, 38, 8, 38, 84, 92, 54, 12, 54, 66, 98, 42, 40, 46, 38, 14, 88]\n"
     ]
    }
   ],
   "source": [
    "print(my_select(numbers, is_even))"
   ]
  },
  {
   "cell_type": "code",
   "execution_count": 45,
   "id": "bd210ef3-19f9-4cd3-89dc-36566a9c24e8",
   "metadata": {},
   "outputs": [
    {
     "name": "stdout",
     "output_type": "stream",
     "text": [
      "[90, 75, 40, 35]\n"
     ]
    }
   ],
   "source": [
    "def is_gt_20_div_5(x):\n",
    "    return x>20 and x%5==0\n",
    "\n",
    "print(my_select(numbers, is_gt_20_div_5))"
   ]
  },
  {
   "cell_type": "markdown",
   "id": "0f7a952a-1fca-47ee-97eb-9565e03bad93",
   "metadata": {},
   "source": [
    "Selecting numbers divisible by 7."
   ]
  },
  {
   "cell_type": "code",
   "execution_count": 46,
   "id": "46a2c505-ee14-48a7-9457-26fbdeb5988d",
   "metadata": {},
   "outputs": [
    {
     "data": {
      "text/plain": [
       "[84, 98, 42, 91, 14, 35]"
      ]
     },
     "execution_count": 46,
     "metadata": {},
     "output_type": "execute_result"
    }
   ],
   "source": [
    "my_select(numbers, lambda x: x%7==0)"
   ]
  },
  {
   "cell_type": "markdown",
   "id": "116d1cc2-9f34-41b5-959a-f7943f9ad918",
   "metadata": {},
   "source": [
    "lambda is a nameless function.\n",
    "\n",
    "These two things are the same:\n",
    "```\n",
    "def square(x):\n",
    "    return x*x\n",
    "```\n",
    "\n",
    "```\n",
    "square = lambda x: x*x\n",
    "```"
   ]
  },
  {
   "cell_type": "markdown",
   "id": "6b9a09eb-a565-4464-9e2f-fa37ece79d2c",
   "metadata": {},
   "source": [
    "### Running time of sequential functions"
   ]
  },
  {
   "cell_type": "code",
   "execution_count": 47,
   "id": "be870b5b-930f-4e4d-9e38-077725a7c041",
   "metadata": {},
   "outputs": [],
   "source": [
    "import random\n",
    "def gen_numbers(n, smallest, largest):\n",
    "    numbers = []\n",
    "    for i in range(n):\n",
    "        numbers.append(random.randint(smallest, largest))\n",
    "    return numbers"
   ]
  },
  {
   "cell_type": "markdown",
   "id": "2fe15bfe-74f5-4b0a-ab63-db3df5308b1c",
   "metadata": {},
   "source": [
    "What is the running time of gen_numbers?\n",
    "\n",
    "+ O(n)\n",
    "+ Takes how ever long it is.\n",
    "\n",
    "O(n) means\n",
    "+ linear correlation between inputsize and running time.\n",
    "+ the program accesses memory approximately n times.\n",
    "+ a representation of how the program scales with n.\n",
    "\n",
    "Not exactly."
   ]
  },
  {
   "cell_type": "markdown",
   "id": "1fe8cb4b-95ba-4830-8593-409613aac851",
   "metadata": {},
   "source": [
    "When we describe running times (r.t) of algorithms/programs:\n",
    "+ The r.t. are relative.  \n",
    "    + They are not in raw time (e.g. seconds).\n",
    "    + They are insensitive to constant-factor differences.\n",
    "    \n",
    "+ They are functions of input size."
   ]
  },
  {
   "cell_type": "code",
   "execution_count": null,
   "id": "d3d989d4-4e99-45c7-ac88-a2e102a339d4",
   "metadata": {},
   "outputs": [],
   "source": []
  }
 ],
 "metadata": {
  "kernelspec": {
   "display_name": "Python 3",
   "language": "python",
   "name": "python3"
  },
  "language_info": {
   "codemirror_mode": {
    "name": "ipython",
    "version": 3
   },
   "file_extension": ".py",
   "mimetype": "text/x-python",
   "name": "python",
   "nbconvert_exporter": "python",
   "pygments_lexer": "ipython3",
   "version": "3.8.8"
  }
 },
 "nbformat": 4,
 "nbformat_minor": 5
}
