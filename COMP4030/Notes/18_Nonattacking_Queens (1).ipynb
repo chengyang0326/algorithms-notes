{
 "cells": [
  {
   "cell_type": "markdown",
   "id": "4d52cf23-9644-4d3c-a2e9-4b91f9a86ac1",
   "metadata": {},
   "source": [
    "# Non-attacking chess pieces\n",
    "\n",
    "In this exercise, we'll need to generate all chess-board configurations where rooks don't attack each other.\n",
    "\n",
    "In chess, a rook can attack anything that is in its vertical or horizontal paths.\n",
    "\n",
    "In this exercise, we have an n-by-n chess board (n is the input), and we need to calculate all configurations of placing n rooks on this board so that they do not attack each other.\n",
    "\n",
    "Ref: https://en.wikipedia.org/wiki/Rook_polynomial"
   ]
  },
  {
   "cell_type": "markdown",
   "id": "85003476-6061-4361-9797-e7c019fe16c4",
   "metadata": {},
   "source": [
    "#### representation of configurations\n",
    "\n",
    "A configuration can be represented as a list.\n",
    "\n",
    "How do we represent this configuration? https://en.wikipedia.org/wiki/Rook_polynomial\n",
    "\n",
    "solution[0] stores the column of the rook that is on row 0.\n",
    "\n",
    "solution[1] stores the column of the rook that is on row 1.\n",
    "\n",
    "and so on.\n",
    "\n",
    "solution = [ 6, 4, 1, 5, 2, 7, 0, 3 ]\n",
    "\n",
    "solution[i] stores the column of the rook that should be placed on row i.\n",
    "\n",
    "**Our job is to figure out what to place on row i.**\n"
   ]
  },
  {
   "cell_type": "code",
   "execution_count": 1,
   "id": "8cb885b2-7b3d-492a-a7f9-5d05d5d3fb0a",
   "metadata": {},
   "outputs": [],
   "source": [
    "def all_rooks(solution, i):\n",
    "    if i==len(solution):\n",
    "        print(solution)\n",
    "    else:\n",
    "        # what are the possibilities we can configure solution[i]?\n",
    "        # remember, solution[i] is the column of the rook placed on row i\n",
    "        # so, after we have placed rooks on rows 0, 1, ..., i-1, which column can we place on row i?\n",
    "        \n",
    "        # list comprehension:\n",
    "        # possibilities = [ x for in range(len(solution)) if x not in solution[0:i] ]\n",
    "        \n",
    "        # or long, hard way:\n",
    "        possibilities = []\n",
    "        for x in range(len(solution)):\n",
    "            if x not in solution[0:i]:\n",
    "                possibilities.append(x)\n",
    "                \n",
    "        for p in possibilities:        # for each possibility\n",
    "            solution[i] = p            #     configure solution[i] with that possibility\n",
    "            all_rooks(solution, i+1)   #     use the same procedure to generate all solutions \n",
    "                                       #         starting from level i+1"
   ]
  },
  {
   "cell_type": "code",
   "execution_count": 4,
   "id": "8456a395-cb21-4352-b244-beb885dfb680",
   "metadata": {},
   "outputs": [
    {
     "name": "stdout",
     "output_type": "stream",
     "text": [
      "[0, 1, 2, 3]\n",
      "[0, 1, 3, 2]\n",
      "[0, 2, 1, 3]\n",
      "[0, 2, 3, 1]\n",
      "[0, 3, 1, 2]\n",
      "[0, 3, 2, 1]\n",
      "[1, 0, 2, 3]\n",
      "[1, 0, 3, 2]\n",
      "[1, 2, 0, 3]\n",
      "[1, 2, 3, 0]\n",
      "[1, 3, 0, 2]\n",
      "[1, 3, 2, 0]\n",
      "[2, 0, 1, 3]\n",
      "[2, 0, 3, 1]\n",
      "[2, 1, 0, 3]\n",
      "[2, 1, 3, 0]\n",
      "[2, 3, 0, 1]\n",
      "[2, 3, 1, 0]\n",
      "[3, 0, 1, 2]\n",
      "[3, 0, 2, 1]\n",
      "[3, 1, 0, 2]\n",
      "[3, 1, 2, 0]\n",
      "[3, 2, 0, 1]\n",
      "[3, 2, 1, 0]\n"
     ]
    }
   ],
   "source": [
    "all_rooks([None]*4, 0)"
   ]
  },
  {
   "cell_type": "markdown",
   "id": "0324372b-8a9f-4049-9ca9-f3b2e5df12a1",
   "metadata": {},
   "source": [
    "### Key ideas of the backtracking algorithm/template\n",
    "\n",
    "1. We need to know how to represent solutions.  So far, we're able to represent sets, tuples, chess configurations using a list of things.\n",
    "    + In sets, solution is a list of booleans.  Solution[i] is True if item i is in the set/solution.\n",
    "\n",
    "2. Understanding the semantic of the backtracking API.  \n",
    "    + backtrack(solution, i) is the essential API.  It means that (a) solution[0], solution[1], ..., solution[i-1] have been set/configured. It also means that backtrack(solution, i) needs to generate all solutions given this partial configuration.\n",
    "\n",
    "3. When i == len(solution), a solution has been completely generated. We can print it out or do whatever processing we need for a specific application.\n",
    "\n",
    "3. When i < len(solution), we still need to generate all solutions with this partial configuration.  How do we do this?  We go through all *possibilities* that can be configured for solution[i].  With each possibility, we use the same strategy to generate all solutions starting from index i+1.\n",
    "\n"
   ]
  },
  {
   "cell_type": "code",
   "execution_count": 1,
   "id": "16a9e549-400c-433e-8f29-30962d05fa6c",
   "metadata": {},
   "outputs": [],
   "source": [
    "def all_rooks(solution, i):\n",
    "    if i==len(solution):\n",
    "        print(solution)\n",
    "    else:\n",
    "        possibilities = get_possibilities(solution, i)\n",
    "        for p in possibilities:        # for each possibility\n",
    "            solution[i] = p            #     configure solution[i] with that possibility\n",
    "            all_rooks(solution, i+1)   #     use the same procedure to generate all solutions \n",
    "                                       #         starting from level i+1\n",
    "                \n",
    "def get_possibilities(solution, i):\n",
    "    possibilities = []\n",
    "    for x in range(len(solution)): # x runs from 0 to len(solution)-1\n",
    "        if x not in solution[0:i]: # no rook was placed in the columns of previously placed rooks.\n",
    "            possibilities.append(x)\n",
    "    return possibilities"
   ]
  },
  {
   "cell_type": "code",
   "execution_count": 4,
   "id": "ffea761e-9a51-4a24-95b6-64f0caa5ce75",
   "metadata": {},
   "outputs": [
    {
     "name": "stdout",
     "output_type": "stream",
     "text": [
      "[0, 1, 2, 3]\n",
      "[0, 1, 3, 2]\n",
      "[0, 2, 1, 3]\n",
      "[0, 2, 3, 1]\n",
      "[0, 3, 1, 2]\n",
      "[0, 3, 2, 1]\n",
      "[1, 0, 2, 3]\n",
      "[1, 0, 3, 2]\n",
      "[1, 2, 0, 3]\n",
      "[1, 2, 3, 0]\n",
      "[1, 3, 0, 2]\n",
      "[1, 3, 2, 0]\n",
      "[2, 0, 1, 3]\n",
      "[2, 0, 3, 1]\n",
      "[2, 1, 0, 3]\n",
      "[2, 1, 3, 0]\n",
      "[2, 3, 0, 1]\n",
      "[2, 3, 1, 0]\n",
      "[3, 0, 1, 2]\n",
      "[3, 0, 2, 1]\n",
      "[3, 1, 0, 2]\n",
      "[3, 1, 2, 0]\n",
      "[3, 2, 0, 1]\n",
      "[3, 2, 1, 0]\n"
     ]
    }
   ],
   "source": [
    "all_rooks([None,None,None,None], 0)"
   ]
  },
  {
   "cell_type": "markdown",
   "id": "fb9d37dc-a289-4939-b010-2e273e5d1385",
   "metadata": {},
   "source": [
    "The configuration [2, 0, 1] looks like this:\n",
    "```\n",
    "      0    1    2\n",
    "0               R\n",
    "1     R\n",
    "2          R\n",
    "```\n",
    "\n",
    "The configuration [2, 1, 0, 3] looks like this:\n",
    "```\n",
    "    0   1   2   3\n",
    "0           R\n",
    "1       R\n",
    "2   R\n",
    "3               R\n",
    "```\n"
   ]
  },
  {
   "cell_type": "markdown",
   "id": "6418c2a0-5693-479f-948a-5c4a089b5993",
   "metadata": {},
   "source": [
    "### Non-attacking queens\n",
    "\n",
    "We are interested in generating all configurations on an n-by-n chessboard.  Each configuration is a place of n queens that don't attack each other.\n",
    "\n",
    "solution = [1,, ]\n",
    "\n",
    "```\n",
    "    0  1  2  3    (col)\n",
    "0      Q\n",
    "1            \n",
    "2   \n",
    "3         \n",
    "\n",
    "\n",
    "col = 0\n",
    "\n",
    "```\n"
   ]
  },
  {
   "cell_type": "code",
   "execution_count": 10,
   "id": "1ae3d3ae-6236-49e8-bf32-e7d63555d070",
   "metadata": {},
   "outputs": [],
   "source": [
    "def all_queens(solution, i):\n",
    "    if i==len(solution):\n",
    "        print(solution)\n",
    "    else:\n",
    "        possibilities = get_possibilities(solution, i)\n",
    "        for p in possibilities:        # for each possibility\n",
    "            solution[i] = p            #     configure solution[i] with that possibility\n",
    "            all_queens(solution, i+1)  #     use the same procedure to generate all solutions \n",
    "                                       #        starting from level i+1\n",
    "                \n",
    "def get_possibilities(solution, i):\n",
    "    possibilities = []\n",
    "    for col in range(len(solution)):  # col runs from 0 to len(solution)-1\n",
    "        if col not in solution[0:i]:  # no Q was placed in the columns of previously placed Q.\n",
    "            no_diag = True\n",
    "            for j in range(i):        # go thru all previously placed Q's to make sure none is in the diag\n",
    "                if i-j == abs(col - solution[j]):\n",
    "                    no_diag = False\n",
    "            if no_diag:\n",
    "                possibilities.append(col)\n",
    "    return possibilities"
   ]
  },
  {
   "cell_type": "code",
   "execution_count": 13,
   "id": "b713f39f-41f0-4eb1-94cb-7eeec0ef0139",
   "metadata": {},
   "outputs": [
    {
     "name": "stdout",
     "output_type": "stream",
     "text": [
      "[1, 3, 0, 2]\n",
      "[2, 0, 3, 1]\n"
     ]
    }
   ],
   "source": [
    "all_queens([None, None, None, None], 0)"
   ]
  },
  {
   "cell_type": "markdown",
   "id": "abe36593-3a10-46d6-8d8b-1a85e3d9aef4",
   "metadata": {},
   "source": [
    "solution [1, 3, 0, 2]\n",
    "```\n",
    "   0  1  2  3\n",
    "0     Q\n",
    "1           Q\n",
    "2  Q\n",
    "3        Q\n",
    "```\n",
    "\n",
    "solution [2, 0, 3, 1]\n",
    "```\n",
    "   0  1  2  3\n",
    "0        Q\n",
    "1  Q\n",
    "2           Q\n",
    "3     Q\n",
    "```"
   ]
  },
  {
   "cell_type": "code",
   "execution_count": 14,
   "id": "a0ac2e4f-6cdd-4a88-bc51-b43be4372429",
   "metadata": {},
   "outputs": [
    {
     "name": "stdout",
     "output_type": "stream",
     "text": [
      "[0, 2, 4, 1, 3]\n",
      "[0, 3, 1, 4, 2]\n",
      "[1, 3, 0, 2, 4]\n",
      "[1, 4, 2, 0, 3]\n",
      "[2, 0, 3, 1, 4]\n",
      "[2, 4, 1, 3, 0]\n",
      "[3, 0, 2, 4, 1]\n",
      "[3, 1, 4, 2, 0]\n",
      "[4, 1, 3, 0, 2]\n",
      "[4, 2, 0, 3, 1]\n"
     ]
    }
   ],
   "source": [
    "all_queens([None]*5, 0)"
   ]
  },
  {
   "cell_type": "markdown",
   "id": "8a1bc636-e9f0-432d-a048-dd7659602f34",
   "metadata": {},
   "source": [
    "solution [2, 0, 3, 1, 4]\n",
    "```\n",
    "    0   1   2   3   4\n",
    "0           Q\n",
    "\n",
    "1  Q\n",
    "\n",
    "2               Q\n",
    "\n",
    "3       Q\n",
    "\n",
    "4                   Q\n",
    "```"
   ]
  },
  {
   "cell_type": "code",
   "execution_count": null,
   "id": "e7564401-3d57-40c8-822c-2c49ac5269cd",
   "metadata": {},
   "outputs": [],
   "source": []
  }
 ],
 "metadata": {
  "kernelspec": {
   "display_name": "Python 3 (ipykernel)",
   "language": "python",
   "name": "python3"
  },
  "language_info": {
   "codemirror_mode": {
    "name": "ipython",
    "version": 3
   },
   "file_extension": ".py",
   "mimetype": "text/x-python",
   "name": "python",
   "nbconvert_exporter": "python",
   "pygments_lexer": "ipython3",
   "version": "3.9.12"
  }
 },
 "nbformat": 4,
 "nbformat_minor": 5
}
