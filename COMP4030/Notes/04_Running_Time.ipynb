{
 "cells": [
  {
   "cell_type": "markdown",
   "id": "4b947958-a425-4ba5-a56b-4b158097e89a",
   "metadata": {},
   "source": [
    "# Running Time Functions and Complexity\n"
   ]
  },
  {
   "cell_type": "markdown",
   "id": "eab6bef3-bec8-4874-8191-fb3e892d3d43",
   "metadata": {},
   "source": [
    "Key ideas:\n",
    "\n",
    "+ A running time function of a program is a function of the program's input size.\n",
    "\n",
    "+ Running time complexity, e.g. $\\Theta(n)$, is a set of running time functions.\n",
    "\n",
    "+ Running time complexity is not exact.  It describes magnitudes.\n",
    "\n",
    "+ Running time complexity describes the magnitudes of growth.\n",
    "\n",
    "+ An \"additive\" difference makes no difference in complexity.\n",
    "\n",
    "+ A \"multiplicative\" difference makes no difference in complexity.\n",
    "\n"
   ]
  },
  {
   "cell_type": "markdown",
   "id": "ba818620-7863-4794-92a1-77548cf34d48",
   "metadata": {},
   "source": [
    "An example:"
   ]
  },
  {
   "cell_type": "code",
   "execution_count": 1,
   "id": "0ebe5a6b-098d-4b5a-9a7c-865b66339aa3",
   "metadata": {},
   "outputs": [],
   "source": [
    "import random\n",
    "def gen_numbers(n, smallest, largest):\n",
    "    numbers = []\n",
    "    for i in range(n):\n",
    "        numbers.append(random.randint(smallest, largest))\n",
    "    return numbers\n"
   ]
  },
  {
   "cell_type": "markdown",
   "id": "6a640686-eb8d-4682-a5ec-fc420915d939",
   "metadata": {},
   "source": [
    "#### An example of a running time function\n",
    "\n",
    "Suppose we have this function:\n",
    "```\n",
    "def my_prog(L):\n",
    "    for x in L:\n",
    "        print(x)\n",
    "        print(x)\n",
    "        print(x)\n",
    "        print(x)\n",
    "        print(x)\n",
    "    return 0\n",
    "```\n",
    "\n",
    "$T(n) = 5*n + 1$, which counts the number of steps of the program.\n",
    "\n",
    "$n$ is the number of items in the input list, for example, of the program."
   ]
  },
  {
   "cell_type": "markdown",
   "id": "9fe06c40-b78b-4a34-a1d7-30bcbbcadefb",
   "metadata": {},
   "source": [
    "Counting the number of steps a program takes frees us from the underlying architecture."
   ]
  },
  {
   "cell_type": "markdown",
   "id": "ce6c86ad-f6d0-4703-91ac-fbe59ef2b866",
   "metadata": {},
   "source": [
    "$T(n)$ is the number of steps the program takes when the input size is $n$.\n",
    "\n",
    "Often, we say $T(n)$ is the running time of the program when the input size is $n$."
   ]
  },
  {
   "cell_type": "markdown",
   "id": "06616caf-3eb4-4776-8ce9-446f0d0e0dbc",
   "metadata": {},
   "source": [
    "What is $T(7)$?  "
   ]
  },
  {
   "cell_type": "markdown",
   "id": "9ee5d86c-fe7b-46ed-a853-4c0027653b6b",
   "metadata": {},
   "source": [
    "$T(7)$ is 36.\n",
    "\n",
    "$T(7)$ is the running time of the program when the input size is 7."
   ]
  },
  {
   "cell_type": "markdown",
   "id": "ca8c6845-deaf-471f-9111-810cce563258",
   "metadata": {},
   "source": [
    "### Another example"
   ]
  },
  {
   "cell_type": "code",
   "execution_count": 2,
   "id": "6f93f551-aceb-4665-876c-d3d9d754186f",
   "metadata": {},
   "outputs": [],
   "source": [
    "# input: a list of number\n",
    "def prog2(L):\n",
    "    s = 0\n",
    "    for i in range(len(L)):\n",
    "        s = L[i]*L[i] + 1\n",
    "        print(i, y)\n",
    "    s = s*5 + 10\n",
    "    return s"
   ]
  },
  {
   "cell_type": "markdown",
   "id": "156df6f5-ed5f-4a19-a898-b03fc30dab07",
   "metadata": {},
   "source": [
    "What is the running time function of prog2?"
   ]
  },
  {
   "cell_type": "markdown",
   "id": "bb8b9790-0421-4702-b5fe-fa83615c2c20",
   "metadata": {},
   "source": [
    "T(n) = 2n + 2"
   ]
  },
  {
   "cell_type": "markdown",
   "id": "d42b70fe-a09e-4a4b-8c5a-689e1d46c3e3",
   "metadata": {},
   "source": [
    "T(n) = 5n + 3"
   ]
  },
  {
   "cell_type": "markdown",
   "id": "ebd4d232-d13c-4067-9367-31a3b7d11b40",
   "metadata": {},
   "source": [
    "Counting steps is tedious.\n",
    "\n",
    "A step is not equal a step.  An addition is faster than a multiplication.  Accessing memory is even slower.\n"
   ]
  },
  {
   "cell_type": "markdown",
   "id": "f71c309c-bfd0-4034-a800-7689ed2c8e4e",
   "metadata": {},
   "source": [
    "If we want to count steps accurately/exactly, then we need to go back the underlying architecture.  This is not what we want."
   ]
  },
  {
   "cell_type": "markdown",
   "id": "8d8d6340-9cb9-4281-bb86-c35b9c2a4112",
   "metadata": {},
   "source": [
    "We need a way to free ourselves from counting steps exactly, while still describing the running time of a program meaningfully."
   ]
  },
  {
   "cell_type": "markdown",
   "id": "ee70b4d7-3e06-44ed-ab90-249604d41f98",
   "metadata": {},
   "source": [
    "**A solution**: use abstract constants to describe the number of steps.\n",
    "\n",
    "$T(n) = a*n + b$, where $a$ and $b$ are two numbers, which depend on a specific underlying architecture."
   ]
  },
  {
   "cell_type": "markdown",
   "id": "0dc36ca2-de26-4ed7-9db4-26f3e28d2956",
   "metadata": {},
   "source": [
    "So, if the input list has 25 items, $T(25) = 25a + b$."
   ]
  },
  {
   "cell_type": "markdown",
   "id": "25450a1f-9f8f-42f4-8657-7126423145c1",
   "metadata": {},
   "source": [
    "$T(n)$ grows linearly as a function of $n$."
   ]
  },
  {
   "cell_type": "markdown",
   "id": "0de8279f-94ac-47d2-9a09-e718cc140aa6",
   "metadata": {},
   "source": [
    "### Another example"
   ]
  },
  {
   "cell_type": "code",
   "execution_count": 2,
   "id": "22ef2872-4674-4580-a1b9-54fb08fa8c1f",
   "metadata": {},
   "outputs": [],
   "source": [
    "# input: a list of number\n",
    "def prog3(L):\n",
    "    s = 0\n",
    "    for i in range(len(L)):\n",
    "        s = L[i]*L[i] + 1\n",
    "        print(i, y)\n",
    "        s = L[i]**2 - 10*len(L)\n",
    "    s = s*5 + 10\n",
    "    s = s*s / 7\n",
    "    return s"
   ]
  },
  {
   "cell_type": "markdown",
   "id": "e8e21d23-cf41-4eaa-864e-6be2847774b8",
   "metadata": {},
   "source": [
    "prog3 is more complex than prog2.  But the running time function is pretty much the same."
   ]
  },
  {
   "cell_type": "markdown",
   "id": "7496bfeb-4876-45f3-b361-f9aab709b342",
   "metadata": {},
   "source": [
    "Lines 5,6,7 take the same amount of steps, regardless of $n$."
   ]
  },
  {
   "cell_type": "markdown",
   "id": "0ce5706d-13b0-4fb5-96d1-630334625147",
   "metadata": {},
   "source": [
    "Similarly, lines 3, 8, 9 take the same of amount of steps, regardless of $n$."
   ]
  },
  {
   "cell_type": "markdown",
   "id": "05b25e34-2cfb-4d94-8524-86381016de9d",
   "metadata": {},
   "source": [
    "$T(n) = c*n + d$"
   ]
  },
  {
   "cell_type": "markdown",
   "id": "2d748594-e783-43ea-997d-b199c47671bc",
   "metadata": {},
   "source": [
    "Comparing the running times of prog2 and prog3, we see that prog3 does more things. This means $c > a$ and $d > b$.\n",
    "\n",
    "prog3 is a slower.  But they both grow linearly as a function of $n$.\n",
    "\n",
    "In the analysis of running time, we say they are essentially the same."
   ]
  },
  {
   "cell_type": "markdown",
   "id": "1da6e40f-a554-4b54-bb8d-ea5adbca1433",
   "metadata": {},
   "source": [
    "We say that prog2 and prog3 have the same running time complexity."
   ]
  },
  {
   "cell_type": "markdown",
   "id": "02307b19-16c7-4049-aa42-e45970eb0aae",
   "metadata": {},
   "source": [
    "**Summary**:\n",
    "1. Running time functions are mathematical functions of input size.\n",
    "2. Two different running time functions may have the same complexity.\n",
    "3. Running time complexity measures magnitudes of growth."
   ]
  },
  {
   "cell_type": "markdown",
   "id": "5ccbdbe4-f335-4096-afbb-61068395e2ad",
   "metadata": {},
   "source": [
    "So, a running time complexity, e.g. $O(n)$ or $\\Theta(n^2)$, consists of many running time functions."
   ]
  },
  {
   "cell_type": "markdown",
   "id": "f698bfe1-36e0-4d3b-b8d4-b2fb86a36d9f",
   "metadata": {},
   "source": [
    "In analyzing prog2, we found that $T(n) = a*n + b$, where $a$ and $b$ are two numbers that depend on the architecture."
   ]
  },
  {
   "cell_type": "markdown",
   "id": "87df7944-4b54-4100-95e2-00d19addbab6",
   "metadata": {},
   "source": [
    "We used $a$ and $b$ to describe the constant computation that is too tedious to count exactly."
   ]
  },
  {
   "cell_type": "code",
   "execution_count": null,
   "id": "4f169acf-9f12-49ba-afc2-d558c95f8237",
   "metadata": {},
   "outputs": [],
   "source": []
  }
 ],
 "metadata": {
  "kernelspec": {
   "display_name": "Python 3",
   "language": "python",
   "name": "python3"
  },
  "language_info": {
   "codemirror_mode": {
    "name": "ipython",
    "version": 3
   },
   "file_extension": ".py",
   "mimetype": "text/x-python",
   "name": "python",
   "nbconvert_exporter": "python",
   "pygments_lexer": "ipython3",
   "version": "3.8.8"
  }
 },
 "nbformat": 4,
 "nbformat_minor": 5
}
