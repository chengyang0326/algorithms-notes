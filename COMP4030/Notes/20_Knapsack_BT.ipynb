{
 "cells": [
  {
   "cell_type": "markdown",
   "id": "b97788fa-1284-4a31-9d4c-dc12c92c2002",
   "metadata": {},
   "source": [
    "# Revisiting Knapsack\n",
    "\n",
    "Items: { Apple, Orange, Banana, Melon }\n",
    "\n",
    "Weights: { 2, 3, 1, 4 }\n",
    "\n",
    "Profits: { 4, 5, 3, 7 }\n",
    "\n",
    "Knapsack Capacity, C : 5\n",
    "\n",
    "Which items do we select to maximize the profit?\n",
    "\n",
    "{Apple, Orange}\n",
    "+ weight = 2+3 = 5\n",
    "+ profit = 4+5 = 9\n",
    "\n",
    "{Banana, Melon}\n",
    "+ weight = 1+4 = 5\n",
    "+ profit = 3+7 = 10\n",
    "\n",
    "{Apple, Banana}\n",
    "+ weight = 2+1 = 3\n",
    "+ profit = 4+3 = 7"
   ]
  },
  {
   "cell_type": "code",
   "execution_count": 2,
   "id": "5b7c26d7-f4f2-4c4f-9e35-a47f8faadff4",
   "metadata": {},
   "outputs": [],
   "source": [
    "\n",
    "def knapsack(weights, profits, C, i):\n",
    "    if i<0:\n",
    "        return 0\n",
    "    profit_1 = knapsack(weights, profits, C, i-1)\n",
    "    if C < weights[i]:\n",
    "        return profit_1\n",
    "    else:\n",
    "        profit_2 = profits[i] + knapsack(weights, profits, C-weights[i], i-1)\n",
    "        return max(profit_1, profit_2)\n",
    "    \n",
    "    \n",
    "def KNAPSACK(weights, profits, C):\n",
    "    return knapsack(weights, profits, C, len(weights)-1)"
   ]
  },
  {
   "cell_type": "markdown",
   "id": "023b2866-1ab9-439b-b516-6faebc7a3a7a",
   "metadata": {},
   "source": [
    "#### Understanding the API\n",
    "\n",
    "**knapsack(weights, profits, C, i)** --- the max profit of packing the items 0, 1, ..., i into a knapsack with capacity C.\n",
    "\n",
    "There are only 2 possibilities we can do with item i.  We either pack it or we don't.\n"
   ]
  },
  {
   "cell_type": "markdown",
   "id": "033aef69-5979-48d0-b433-cf5a477a2113",
   "metadata": {},
   "source": [
    "### Using backtracking to find all knapsack solutions"
   ]
  },
  {
   "cell_type": "code",
   "execution_count": null,
   "id": "cc57464d-2ef6-49e5-b312-5fec7278d550",
   "metadata": {},
   "outputs": [],
   "source": []
  }
 ],
 "metadata": {
  "kernelspec": {
   "display_name": "Python 3",
   "language": "python",
   "name": "python3"
  },
  "language_info": {
   "codemirror_mode": {
    "name": "ipython",
    "version": 3
   },
   "file_extension": ".py",
   "mimetype": "text/x-python",
   "name": "python",
   "nbconvert_exporter": "python",
   "pygments_lexer": "ipython3",
   "version": "3.8.8"
  }
 },
 "nbformat": 4,
 "nbformat_minor": 5
}
